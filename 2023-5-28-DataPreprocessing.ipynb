{
 "cells": [
  {
   "cell_type": "code",
   "execution_count": 1,
   "id": "1d5be534",
   "metadata": {
    "ExecuteTime": {
     "end_time": "2023-05-28T11:22:34.639692Z",
     "start_time": "2023-05-28T11:22:33.680871Z"
    }
   },
   "outputs": [],
   "source": [
    "import os\n",
    "import pandas as pd\n",
    "import numpy as np\n",
    "from tqdm.notebook import tqdm, tnrange\n",
    "import matplotlib.pyplot as plt\n",
    "import time\n",
    "import seaborn as sns\n",
    "tqdm.pandas()"
   ]
  },
  {
   "cell_type": "code",
   "execution_count": 2,
   "id": "c4540fd8",
   "metadata": {
    "ExecuteTime": {
     "end_time": "2023-05-27T13:49:04.817330Z",
     "start_time": "2023-05-27T13:49:04.812965Z"
    }
   },
   "outputs": [],
   "source": [
    "#读取目录下所有数据文件的名字（不带文件格式后缀）  \n",
    "#Read the names of all data files in the directory (without the file format suffix)\n",
    "def get_pkl_file_name(dir_path):\n",
    "    file_list = []\n",
    "    for file in os.listdir(dir_path):\n",
    "        if file.endswith(\"pkl\"):\n",
    "            file_list.append(file[:-4])\n",
    "    print('pkl文件的数量为:{}'.format(len(file_list)))\n",
    "    return sorted(file_list)"
   ]
  },
  {
   "attachments": {},
   "cell_type": "markdown",
   "id": "f4dd1788",
   "metadata": {},
   "source": [
    "# 非GPS数据的缺失值处理 Missing value processing for non-GPS data\n",
    "非GPS数据指的是三个运动传感器的数据(加速度计、陀螺仪、磁力计)   \n",
    "Non-GPS datas refer to datas from the three motion sensors (accelerometer, gyroscope, magnetometer)"
   ]
  },
  {
   "attachments": {},
   "cell_type": "markdown",
   "id": "2b9059ef",
   "metadata": {},
   "source": [
    "## 训练集数据处理\n",
    "### 查看缺失情况"
   ]
  },
  {
   "cell_type": "code",
   "execution_count": 3,
   "id": "d3858608",
   "metadata": {
    "ExecuteTime": {
     "end_time": "2023-05-27T07:39:29.126575Z",
     "start_time": "2023-05-27T07:39:29.123081Z"
    }
   },
   "outputs": [
    {
     "name": "stdout",
     "output_type": "stream",
     "text": [
      "pkl文件的数量为:28\n"
     ]
    }
   ],
   "source": [
    "file_dir=\"../SHL2023/data_pkl\"\n",
    "names=get_pkl_file_name(file_dir)"
   ]
  },
  {
   "cell_type": "code",
   "execution_count": null,
   "id": "33aed8b1",
   "metadata": {
    "ExecuteTime": {
     "end_time": "2023-05-17T11:19:32.253720Z",
     "start_time": "2023-05-17T11:12:22.226560Z"
    }
   },
   "outputs": [],
   "source": [
    "for name in tqdm(names):\n",
    "    print('------------------Loading {} ------------------'.format(name + '.pkl'))\n",
    "    df = pd.read_pickle(file_dir + '/' + name + '.pkl')\n",
    "    print(df.isnull().sum())"
   ]
  },
  {
   "attachments": {},
   "cell_type": "markdown",
   "id": "4db8a3f7",
   "metadata": {},
   "source": [
    "bag、hand、hips的三个运动传感器数据均出现缺失（torso的数据没有出现缺失值），但缺失值最多不超过200个，而且大多为集中分布，故对这些缺失值做<span class=\"mark\">线性插补</span>"
   ]
  },
  {
   "attachments": {},
   "cell_type": "markdown",
   "id": "dbd8446d",
   "metadata": {},
   "source": [
    "### 处理缺失值"
   ]
  },
  {
   "cell_type": "code",
   "execution_count": 32,
   "id": "f268b1de",
   "metadata": {
    "ExecuteTime": {
     "end_time": "2023-05-27T07:23:21.206746Z",
     "start_time": "2023-05-27T07:23:21.203601Z"
    }
   },
   "outputs": [],
   "source": [
    "missing_list=['bag_acc_full.pkl','bag_gyr_full.pkl','bag_mag_full.pkl',\n",
    "              'hand_acc_full.pkl','hand_gyr_full.pkl','hand_mag_full.pkl',\n",
    "              'hips_acc_full.pkl','hips_gyr_full.pkl','hips_mag_full.pkl']"
   ]
  },
  {
   "cell_type": "code",
   "execution_count": 33,
   "id": "a0454322",
   "metadata": {
    "ExecuteTime": {
     "end_time": "2023-05-27T07:34:55.917984Z",
     "start_time": "2023-05-27T07:25:57.690378Z"
    }
   },
   "outputs": [
    {
     "data": {
      "application/vnd.jupyter.widget-view+json": {
       "model_id": "a27373e5116242d5afe4537643251bb6",
       "version_major": 2,
       "version_minor": 0
      },
      "text/plain": [
       "  0%|          | 0/9 [00:00<?, ?it/s]"
      ]
     },
     "metadata": {},
     "output_type": "display_data"
    },
    {
     "name": "stdout",
     "output_type": "stream",
     "text": [
      "------------------Loading bag_acc_full.pkl ------------------\n",
      "Missing value has been processed!\n",
      "\n",
      "------------------Loading bag_gyr_full.pkl ------------------\n",
      "Missing value has been processed!\n",
      "\n",
      "------------------Loading bag_mag_full.pkl ------------------\n",
      "Missing value has been processed!\n",
      "\n",
      "------------------Loading hand_acc_full.pkl ------------------\n",
      "Missing value has been processed!\n",
      "\n",
      "------------------Loading hand_gyr_full.pkl ------------------\n",
      "Missing value has been processed!\n",
      "\n",
      "------------------Loading hand_mag_full.pkl ------------------\n",
      "Missing value has been processed!\n",
      "\n",
      "------------------Loading hips_acc_full.pkl ------------------\n",
      "Missing value has been processed!\n",
      "\n",
      "------------------Loading hips_gyr_full.pkl ------------------\n",
      "Missing value has been processed!\n",
      "\n",
      "------------------Loading hips_mag_full.pkl ------------------\n",
      "Missing value has been processed!\n",
      "\n"
     ]
    }
   ],
   "source": [
    "for name in tqdm(missing_list):\n",
    "    print('------------------Loading {} ------------------'.format(name))\n",
    "    df = pd.read_pickle(file_dir + '/' + name)\n",
    "    df.interpolate(method='linear',inplace=True)\n",
    "    df.to_pickle(\"../SHL2023/data_processed/train/\"+name[:-9]+'.pkl')\n",
    "    print('Missing value has been processed!\\n')"
   ]
  },
  {
   "attachments": {},
   "cell_type": "markdown",
   "id": "4ddade4e",
   "metadata": {},
   "source": [
    "剩下没有缺失值的文件可以手动移动至新的文件夹中（我们选择的方法是放到最后再操作）。"
   ]
  },
  {
   "attachments": {},
   "cell_type": "markdown",
   "id": "ef8a59c0",
   "metadata": {
    "ExecuteTime": {
     "end_time": "2023-05-17T13:10:46.133149Z",
     "start_time": "2023-05-17T13:10:46.129129Z"
    }
   },
   "source": [
    "## 测试集数据处理"
   ]
  },
  {
   "cell_type": "code",
   "execution_count": 37,
   "id": "1c606fb7",
   "metadata": {
    "ExecuteTime": {
     "end_time": "2023-05-27T07:39:51.660027Z",
     "start_time": "2023-05-27T07:39:51.656468Z"
    }
   },
   "outputs": [
    {
     "name": "stdout",
     "output_type": "stream",
     "text": [
      "pkl文件的数量为:28\n"
     ]
    }
   ],
   "source": [
    "file_dir=\"../SHL2023/data_validate_pkl/\"\n",
    "names=get_pkl_file_name(file_dir)"
   ]
  },
  {
   "cell_type": "code",
   "execution_count": 38,
   "id": "4c58f2e8",
   "metadata": {
    "ExecuteTime": {
     "end_time": "2023-05-27T07:40:02.798420Z",
     "start_time": "2023-05-27T07:39:52.163006Z"
    }
   },
   "outputs": [
    {
     "data": {
      "application/vnd.jupyter.widget-view+json": {
       "model_id": "7ec3801d9ee24770846f36aa642c6c9f",
       "version_major": 2,
       "version_minor": 0
      },
      "text/plain": [
       "  0%|          | 0/28 [00:00<?, ?it/s]"
      ]
     },
     "metadata": {},
     "output_type": "display_data"
    },
    {
     "name": "stdout",
     "output_type": "stream",
     "text": [
      "------------------Loading bag_acc_full.pkl ------------------\n",
      "time     0\n",
      "Acc_x    0\n",
      "Acc_y    0\n",
      "Acc_z    0\n",
      "dtype: int64\n",
      "------------------Loading bag_gps_detail_full.pkl ------------------\n",
      "time         0\n",
      "id           0\n",
      "snr          0\n",
      "azimuth      0\n",
      "elevation    0\n",
      "dtype: int64\n",
      "------------------Loading bag_gps_full.pkl ------------------\n",
      "time      0\n",
      "number    0\n",
      "dtype: int64\n",
      "------------------Loading bag_gyr_full.pkl ------------------\n",
      "time     0\n",
      "Gyr_x    0\n",
      "Gyr_y    0\n",
      "Gyr_z    0\n",
      "dtype: int64\n",
      "------------------Loading bag_label_full.pkl ------------------\n",
      "time     0\n",
      "label    0\n",
      "dtype: int64\n",
      "------------------Loading bag_loc_full.pkl ------------------\n",
      "time         0\n",
      "accuracy     0\n",
      "latitude     0\n",
      "longitude    0\n",
      "altitude     0\n",
      "dtype: int64\n",
      "------------------Loading bag_mag_full.pkl ------------------\n",
      "time     0\n",
      "Mag_x    0\n",
      "Mag_y    0\n",
      "Mag_z    0\n",
      "dtype: int64\n",
      "------------------Loading hand_acc_full.pkl ------------------\n",
      "time     0\n",
      "Acc_x    0\n",
      "Acc_y    0\n",
      "Acc_z    0\n",
      "dtype: int64\n",
      "------------------Loading hand_gps_detail_full.pkl ------------------\n",
      "time         0\n",
      "id           0\n",
      "snr          0\n",
      "azimuth      0\n",
      "elevation    0\n",
      "dtype: int64\n",
      "------------------Loading hand_gps_full.pkl ------------------\n",
      "time      0\n",
      "number    0\n",
      "dtype: int64\n",
      "------------------Loading hand_gyr_full.pkl ------------------\n",
      "time     0\n",
      "Gyr_x    0\n",
      "Gyr_y    0\n",
      "Gyr_z    0\n",
      "dtype: int64\n",
      "------------------Loading hand_label_full.pkl ------------------\n",
      "time     0\n",
      "label    0\n",
      "dtype: int64\n",
      "------------------Loading hand_loc_full.pkl ------------------\n",
      "time         0\n",
      "accuracy     0\n",
      "latitude     0\n",
      "longitude    0\n",
      "altitude     0\n",
      "dtype: int64\n",
      "------------------Loading hand_mag_full.pkl ------------------\n",
      "time     0\n",
      "Mag_x    0\n",
      "Mag_y    0\n",
      "Mag_z    0\n",
      "dtype: int64\n",
      "------------------Loading hips_acc_full.pkl ------------------\n",
      "time     0\n",
      "Acc_x    0\n",
      "Acc_y    0\n",
      "Acc_z    0\n",
      "dtype: int64\n",
      "------------------Loading hips_gps_detail_full.pkl ------------------\n",
      "time         0\n",
      "id           0\n",
      "snr          0\n",
      "azimuth      0\n",
      "elevation    0\n",
      "dtype: int64\n",
      "------------------Loading hips_gps_full.pkl ------------------\n",
      "time      0\n",
      "number    0\n",
      "dtype: int64\n",
      "------------------Loading hips_gyr_full.pkl ------------------\n",
      "time     0\n",
      "Gyr_x    0\n",
      "Gyr_y    0\n",
      "Gyr_z    0\n",
      "dtype: int64\n",
      "------------------Loading hips_label_full.pkl ------------------\n",
      "time     0\n",
      "label    0\n",
      "dtype: int64\n",
      "------------------Loading hips_loc_full.pkl ------------------\n",
      "time         0\n",
      "accuracy     0\n",
      "latitude     0\n",
      "longitude    0\n",
      "altitude     0\n",
      "dtype: int64\n",
      "------------------Loading hips_mag_full.pkl ------------------\n",
      "time     0\n",
      "Mag_x    0\n",
      "Mag_y    0\n",
      "Mag_z    0\n",
      "dtype: int64\n",
      "------------------Loading torso_acc_full.pkl ------------------\n",
      "time     0\n",
      "Acc_x    0\n",
      "Acc_y    0\n",
      "Acc_z    0\n",
      "dtype: int64\n",
      "------------------Loading torso_gps_detail_full.pkl ------------------\n",
      "time         0\n",
      "id           0\n",
      "snr          0\n",
      "azimuth      0\n",
      "elevation    0\n",
      "dtype: int64\n",
      "------------------Loading torso_gps_full.pkl ------------------\n",
      "time      0\n",
      "number    0\n",
      "dtype: int64\n",
      "------------------Loading torso_gyr_full.pkl ------------------\n",
      "time     0\n",
      "Gyr_x    0\n",
      "Gyr_y    0\n",
      "Gyr_z    0\n",
      "dtype: int64\n",
      "------------------Loading torso_label_full.pkl ------------------\n",
      "time     0\n",
      "label    0\n",
      "dtype: int64\n",
      "------------------Loading torso_loc_full.pkl ------------------\n",
      "time         0\n",
      "accuracy     0\n",
      "latitude     0\n",
      "longitude    0\n",
      "altitude     0\n",
      "dtype: int64\n",
      "------------------Loading torso_mag_full.pkl ------------------\n",
      "time     0\n",
      "Mag_x    0\n",
      "Mag_y    0\n",
      "Mag_z    0\n",
      "dtype: int64\n"
     ]
    }
   ],
   "source": [
    "for name in tqdm(names):\n",
    "    print('------------------Loading {} ------------------'.format(name + '.pkl'))\n",
    "    df = pd.read_pickle(file_dir + '/' + name + '.pkl')\n",
    "    print(df.isnull().sum())"
   ]
  },
  {
   "attachments": {},
   "cell_type": "markdown",
   "id": "833b1c84",
   "metadata": {},
   "source": [
    "<span class=\"mark\">完全无缺失。</span>"
   ]
  },
  {
   "attachments": {},
   "cell_type": "markdown",
   "id": "806958e9",
   "metadata": {},
   "source": [
    "## 测试集"
   ]
  },
  {
   "cell_type": "code",
   "execution_count": 4,
   "id": "38ddf91b",
   "metadata": {},
   "outputs": [
    {
     "name": "stdout",
     "output_type": "stream",
     "text": [
      "pkl文件的数量为:7\n"
     ]
    }
   ],
   "source": [
    "file_dir=\"../SHL2023/data_test/\"\n",
    "names=get_pkl_file_name(file_dir)"
   ]
  },
  {
   "cell_type": "code",
   "execution_count": 5,
   "id": "0770ac36",
   "metadata": {},
   "outputs": [
    {
     "data": {
      "application/vnd.jupyter.widget-view+json": {
       "model_id": "2472567f5c304f43adb00f008f0a50f2",
       "version_major": 2,
       "version_minor": 0
      },
      "text/plain": [
       "  0%|          | 0/7 [00:00<?, ?it/s]"
      ]
     },
     "metadata": {},
     "output_type": "display_data"
    },
    {
     "name": "stdout",
     "output_type": "stream",
     "text": [
      "------------------Loading test_acc.pkl ------------------\n",
      "time     0\n",
      "Acc_x    0\n",
      "Acc_y    0\n",
      "Acc_z    0\n",
      "dtype: int64\n",
      "------------------Loading test_gps.pkl ------------------\n",
      "time      0\n",
      "number    0\n",
      "dtype: int64\n",
      "------------------Loading test_gps_detail.pkl ------------------\n",
      "time         0\n",
      "id           0\n",
      "snr          0\n",
      "azimuth      0\n",
      "elevation    0\n",
      "dtype: int64\n",
      "------------------Loading test_gyr.pkl ------------------\n",
      "time     0\n",
      "Gyr_x    0\n",
      "Gyr_y    0\n",
      "Gyr_z    0\n",
      "dtype: int64\n",
      "------------------Loading test_label_idx.pkl ------------------\n",
      "Time    0\n",
      "dtype: int64\n",
      "------------------Loading test_loc.pkl ------------------\n",
      "time         0\n",
      "accuracy     0\n",
      "latitude     0\n",
      "longitude    0\n",
      "altitude     0\n",
      "dtype: int64\n",
      "------------------Loading test_mag.pkl ------------------\n",
      "time     0\n",
      "Mag_x    0\n",
      "Mag_y    0\n",
      "Mag_z    0\n",
      "dtype: int64\n"
     ]
    }
   ],
   "source": [
    "for name in tqdm(names):\n",
    "    print('------------------Loading {} ------------------'.format(name + '.pkl'))\n",
    "    df = pd.read_pickle(file_dir + '/' + name + '.pkl')\n",
    "    print(df.isnull().sum())"
   ]
  },
  {
   "attachments": {},
   "cell_type": "markdown",
   "id": "a61cb888",
   "metadata": {},
   "source": [
    "# 对于数据集时间戳跳跃的研究 Research on timestamp jumping of datasets\n",
    "## 训练集情况\n",
    "### 一般趋势"
   ]
  },
  {
   "cell_type": "code",
   "execution_count": 25,
   "id": "cd3fd64b",
   "metadata": {
    "ExecuteTime": {
     "end_time": "2023-05-17T14:33:09.193553Z",
     "start_time": "2023-05-17T14:33:09.190921Z"
    }
   },
   "outputs": [],
   "source": [
    "test_list = [\n",
    "    'bag_acc_full.pkl',\n",
    "    'bag_gps_full.pkl',\n",
    "    'bag_loc_full.pkl',    \n",
    "]"
   ]
  },
  {
   "cell_type": "code",
   "execution_count": 29,
   "id": "56f16919",
   "metadata": {
    "ExecuteTime": {
     "end_time": "2023-05-17T14:47:39.994950Z",
     "start_time": "2023-05-17T14:47:13.347673Z"
    }
   },
   "outputs": [
    {
     "data": {
      "text/plain": [
       "<AxesSubplot:ylabel='time1'>"
      ]
     },
     "execution_count": 29,
     "metadata": {},
     "output_type": "execute_result"
    },
    {
     "data": {
      "image/png": "[encoded data removed]",
      "text/plain": [
       "<Figure size 432x288 with 1 Axes>"
      ]
     },
     "metadata": {
      "needs_background": "light"
     },
     "output_type": "display_data"
    }
   ],
   "source": [
    "df = pd.read_pickle('/home/dengjiebi/SHL2023/data_pkl/bag_acc_full.pkl')\n",
    "df['time1']=df['time']-df['time'][0]\n",
    "df_time = df.loc[np.arange(0,len(df),1000),'time1']\n",
    "sns.lineplot(data=df_time)"
   ]
  },
  {
   "cell_type": "code",
   "execution_count": 30,
   "id": "8ce6c7e2",
   "metadata": {
    "ExecuteTime": {
     "end_time": "2023-05-17T14:47:40.476411Z",
     "start_time": "2023-05-17T14:47:39.996990Z"
    }
   },
   "outputs": [
    {
     "data": {
      "text/plain": [
       "<AxesSubplot:ylabel='time1'>"
      ]
     },
     "execution_count": 30,
     "metadata": {},
     "output_type": "execute_result"
    },
    {
     "data": {
      "image/png": "[encoded data removed]",
      "text/plain": [
       "<Figure size 432x288 with 1 Axes>"
      ]
     },
     "metadata": {
      "needs_background": "light"
     },
     "output_type": "display_data"
    }
   ],
   "source": [
    "df = pd.read_pickle('/home/dengjiebi/SHL2023/data_pkl/bag_gps_full.pkl')\n",
    "df['time1']=df['time']-df['time'][0]\n",
    "df_time = df.loc[np.arange(0,len(df),1000),'time1']\n",
    "sns.lineplot(data=df_time)"
   ]
  },
  {
   "cell_type": "code",
   "execution_count": 31,
   "id": "dfe3c0e7",
   "metadata": {
    "ExecuteTime": {
     "end_time": "2023-05-17T14:47:40.796866Z",
     "start_time": "2023-05-17T14:47:40.478476Z"
    }
   },
   "outputs": [
    {
     "data": {
      "text/plain": [
       "<AxesSubplot:ylabel='time1'>"
      ]
     },
     "execution_count": 31,
     "metadata": {},
     "output_type": "execute_result"
    },
    {
     "data": {
      "image/png": "[encoded data removed]",
      "text/plain": [
       "<Figure size 432x288 with 1 Axes>"
      ]
     },
     "metadata": {
      "needs_background": "light"
     },
     "output_type": "display_data"
    }
   ],
   "source": [
    "df = pd.read_pickle('/home/dengjiebi/SHL2023/data_pkl/bag_loc_full.pkl')\n",
    "df['time1']=df['time']-df['time'][0]\n",
    "df_time = df.loc[np.arange(0,len(df),1000),'time1']\n",
    "sns.lineplot(data=df_time)"
   ]
  },
  {
   "attachments": {},
   "cell_type": "markdown",
   "id": "2d57d1d1",
   "metadata": {
    "ExecuteTime": {
     "end_time": "2023-05-17T14:46:46.534509Z",
     "start_time": "2023-05-17T14:46:46.530767Z"
    }
   },
   "source": [
    "可以发现三个数据集的时间戳跳跃的趋势是相似的。"
   ]
  },
  {
   "cell_type": "code",
   "execution_count": 5,
   "id": "ff11acfb",
   "metadata": {
    "ExecuteTime": {
     "end_time": "2023-05-18T05:35:28.776633Z",
     "start_time": "2023-05-18T05:34:59.287840Z"
    }
   },
   "outputs": [
    {
     "data": {
      "text/plain": [
       "count    9.110000e+02\n",
       "mean     8.623221e+06\n",
       "std      6.647591e+07\n",
       "min      6.000000e+01\n",
       "25%      4.521000e+04\n",
       "50%      1.644500e+05\n",
       "75%      4.797350e+05\n",
       "max      1.730050e+09\n",
       "Name: time_diff, dtype: float64"
      ]
     },
     "execution_count": 5,
     "metadata": {},
     "output_type": "execute_result"
    }
   ],
   "source": [
    "df = pd.read_pickle('/home/dengjiebi/SHL2023/data_pkl/bag_acc_full.pkl')\n",
    "df['time_diff']=df['time'].diff()\n",
    "df.loc[df['time_diff']!=10,'time_diff'].describe()"
   ]
  },
  {
   "attachments": {},
   "cell_type": "markdown",
   "id": "ac8253df",
   "metadata": {
    "ExecuteTime": {
     "end_time": "2023-05-17T15:10:34.558741Z",
     "start_time": "2023-05-17T15:10:34.554979Z"
    }
   },
   "source": [
    "统计bag_acc_full.pkl文件中的时间戳跳跃，一共出现了911次时间戳跳跃，平均跳跃时间为8623秒（2.4小时），最大跳跃时间为1730050秒（20天）。   "
   ]
  },
  {
   "attachments": {},
   "cell_type": "markdown",
   "id": "443d0846",
   "metadata": {},
   "source": [
    "由于大部分训练集中时间戳的跳跃呈现出单调递增的趋势，我们并不需要对这些训练集的数据做特殊处理。但是两个GPS数据集出现了时间戳倒退的现象，分别属于bag和torso。我们的解决方法是<span class=\"mark\">删除掉时间倒退点前后一部分的时间戳并重新计算删除这些点的时间戳（使用线性插补）</span>。由于处理GPS数据的时间戳时会涉及到多个文件的修改，我们把这个问题放到<span class=\"mark\">第三部分</span>解决。"
   ]
  },
  {
   "attachments": {},
   "cell_type": "markdown",
   "id": "1cd2cff3",
   "metadata": {},
   "source": [
    "## 验证集情况\n",
    "### 一般趋势\n",
    "与训练集不同的是，验证集中出现了大幅度的时间戳跳跃，其中包括两段时间戳倒退。大幅度的时间变化意味着跳跃前后的数据的关联性不强，因此我们<span class=\"mark\">可以通过排序使得时间戳单调递增，而不影响数据的前后关联性</span>。"
   ]
  },
  {
   "cell_type": "code",
   "execution_count": 15,
   "id": "80da505d",
   "metadata": {
    "ExecuteTime": {
     "end_time": "2023-05-22T10:06:00.648806Z",
     "start_time": "2023-05-22T10:05:50.931869Z"
    }
   },
   "outputs": [
    {
     "data": {
      "text/plain": [
       "<AxesSubplot:ylabel='time1'>"
      ]
     },
     "execution_count": 15,
     "metadata": {},
     "output_type": "execute_result"
    },
    {
     "data": {
      "image/png": "[encoded data removed]",
      "text/plain": [
       "<Figure size 432x288 with 1 Axes>"
      ]
     },
     "metadata": {
      "needs_background": "light"
     },
     "output_type": "display_data"
    }
   ],
   "source": [
    "df = pd.read_pickle('/home/dengjiebi/SHL2023/data_validate_pkl/bag_acc_full.pkl')\n",
    "df['time1']=df['time']-df['time'][0]\n",
    "df_time = df.loc[np.arange(0,len(df),1000),'time1']\n",
    "sns.lineplot(data=df_time)"
   ]
  },
  {
   "attachments": {},
   "cell_type": "markdown",
   "id": "acb03f69",
   "metadata": {},
   "source": [
    "图像说明有几处跳跃的时间段"
   ]
  },
  {
   "cell_type": "code",
   "execution_count": 19,
   "id": "95f10232",
   "metadata": {
    "ExecuteTime": {
     "end_time": "2023-05-22T13:56:26.617102Z",
     "start_time": "2023-05-22T13:56:15.178871Z"
    }
   },
   "outputs": [
    {
     "data": {
      "text/html": [
       "<div>\n",
       "<style scoped>\n",
       "    .dataframe tbody tr th:only-of-type {\n",
       "        vertical-align: middle;\n",
       "    }\n",
       "\n",
       "    .dataframe tbody tr th {\n",
       "        vertical-align: top;\n",
       "    }\n",
       "\n",
       "    .dataframe thead th {\n",
       "        text-align: right;\n",
       "    }\n",
       "</style>\n",
       "<table border=\"1\" class=\"dataframe\">\n",
       "  <thead>\n",
       "    <tr style=\"text-align: right;\">\n",
       "      <th></th>\n",
       "      <th>time</th>\n",
       "      <th>Acc_x</th>\n",
       "      <th>Acc_y</th>\n",
       "      <th>Acc_z</th>\n",
       "      <th>time1</th>\n",
       "    </tr>\n",
       "  </thead>\n",
       "  <tbody>\n",
       "    <tr>\n",
       "      <th>965602</th>\n",
       "      <td>1497441905080</td>\n",
       "      <td>8.881789</td>\n",
       "      <td>-1.543911</td>\n",
       "      <td>4.158379</td>\n",
       "      <td>14413320</td>\n",
       "    </tr>\n",
       "    <tr>\n",
       "      <th>965603</th>\n",
       "      <td>1497441905090</td>\n",
       "      <td>8.892779</td>\n",
       "      <td>-1.549406</td>\n",
       "      <td>4.165911</td>\n",
       "      <td>14413330</td>\n",
       "    </tr>\n",
       "    <tr>\n",
       "      <th>965604</th>\n",
       "      <td>1497441905100</td>\n",
       "      <td>8.875656</td>\n",
       "      <td>-1.541866</td>\n",
       "      <td>4.165911</td>\n",
       "      <td>14413340</td>\n",
       "    </tr>\n",
       "    <tr>\n",
       "      <th>965605</th>\n",
       "      <td>1497441905110</td>\n",
       "      <td>8.859980</td>\n",
       "      <td>-1.541866</td>\n",
       "      <td>4.161839</td>\n",
       "      <td>14413350</td>\n",
       "    </tr>\n",
       "    <tr>\n",
       "      <th>965606</th>\n",
       "      <td>1497441905120</td>\n",
       "      <td>8.827774</td>\n",
       "      <td>-1.541866</td>\n",
       "      <td>4.150840</td>\n",
       "      <td>14413360</td>\n",
       "    </tr>\n",
       "    <tr>\n",
       "      <th>...</th>\n",
       "      <td>...</td>\n",
       "      <td>...</td>\n",
       "      <td>...</td>\n",
       "      <td>...</td>\n",
       "      <td>...</td>\n",
       "    </tr>\n",
       "    <tr>\n",
       "      <th>14207159</th>\n",
       "      <td>1497458871280</td>\n",
       "      <td>-9.613882</td>\n",
       "      <td>-0.620714</td>\n",
       "      <td>-2.450021</td>\n",
       "      <td>31379520</td>\n",
       "    </tr>\n",
       "    <tr>\n",
       "      <th>14207160</th>\n",
       "      <td>1497458871290</td>\n",
       "      <td>-9.517580</td>\n",
       "      <td>-0.612916</td>\n",
       "      <td>-2.428977</td>\n",
       "      <td>31379530</td>\n",
       "    </tr>\n",
       "    <tr>\n",
       "      <th>14207161</th>\n",
       "      <td>1497458871300</td>\n",
       "      <td>-9.719059</td>\n",
       "      <td>-0.654774</td>\n",
       "      <td>-2.455213</td>\n",
       "      <td>31379540</td>\n",
       "    </tr>\n",
       "    <tr>\n",
       "      <th>14207162</th>\n",
       "      <td>1497458871310</td>\n",
       "      <td>-9.734292</td>\n",
       "      <td>-0.698279</td>\n",
       "      <td>-2.428962</td>\n",
       "      <td>31379550</td>\n",
       "    </tr>\n",
       "    <tr>\n",
       "      <th>14207163</th>\n",
       "      <td>1497458871320</td>\n",
       "      <td>-9.766686</td>\n",
       "      <td>-0.687757</td>\n",
       "      <td>-2.469159</td>\n",
       "      <td>31379560</td>\n",
       "    </tr>\n",
       "  </tbody>\n",
       "</table>\n",
       "<p>3011760 rows × 5 columns</p>\n",
       "</div>"
      ],
      "text/plain": [
       "                   time     Acc_x     Acc_y     Acc_z     time1\n",
       "965602    1497441905080  8.881789 -1.543911  4.158379  14413320\n",
       "965603    1497441905090  8.892779 -1.549406  4.165911  14413330\n",
       "965604    1497441905100  8.875656 -1.541866  4.165911  14413340\n",
       "965605    1497441905110  8.859980 -1.541866  4.161839  14413350\n",
       "965606    1497441905120  8.827774 -1.541866  4.150840  14413360\n",
       "...                 ...       ...       ...       ...       ...\n",
       "14207159  1497458871280 -9.613882 -0.620714 -2.450021  31379520\n",
       "14207160  1497458871290 -9.517580 -0.612916 -2.428977  31379530\n",
       "14207161  1497458871300 -9.719059 -0.654774 -2.455213  31379540\n",
       "14207162  1497458871310 -9.734292 -0.698279 -2.428962  31379550\n",
       "14207163  1497458871320 -9.766686 -0.687757 -2.469159  31379560\n",
       "\n",
       "[3011760 rows x 5 columns]"
      ]
     },
     "execution_count": 19,
     "metadata": {},
     "output_type": "execute_result"
    }
   ],
   "source": [
    "df[df[[\"time\"]].duplicated(keep=False)]"
   ]
  },
  {
   "attachments": {},
   "cell_type": "markdown",
   "id": "a7f4f92e",
   "metadata": {},
   "source": [
    "更加特殊的是，从上表我们可以发现时间戳有大面积的重复（也就是第一段和最后一段）。<span class=\"mark\">第一段和最后一段肯定是属于不同用户的</span>。在时间戳上若要有所区分，应当在某一段加上一个延迟使得时间戳不重复。"
   ]
  },
  {
   "attachments": {},
   "cell_type": "markdown",
   "id": "4f1a825a",
   "metadata": {
    "ExecuteTime": {
     "end_time": "2023-05-27T08:16:50.012300Z",
     "start_time": "2023-05-27T08:16:50.008115Z"
    }
   },
   "source": [
    "### 特殊处理\n",
    "我们要进行两步处理：  \n",
    "+ 给最后一段数据的时间戳加上一天的延迟(86400000 ms)，使其与第一段数据区分开，且不会使其与其他段数据的时间戳出现重合现象。  \n",
    "+ 将所有数据段按时间戳升序排列。"
   ]
  },
  {
   "cell_type": "code",
   "execution_count": 55,
   "id": "6850cc90",
   "metadata": {
    "ExecuteTime": {
     "end_time": "2023-05-27T09:20:55.808167Z",
     "start_time": "2023-05-27T09:20:55.804529Z"
    },
    "scrolled": false
   },
   "outputs": [
    {
     "name": "stdout",
     "output_type": "stream",
     "text": [
      "pkl文件的数量为:28\n"
     ]
    }
   ],
   "source": [
    "file_dir=\"../SHL2023/data_validate_pkl/\"\n",
    "names=get_pkl_file_name(file_dir)"
   ]
  },
  {
   "cell_type": "code",
   "execution_count": 20,
   "id": "cb8f1b70",
   "metadata": {
    "ExecuteTime": {
     "end_time": "2023-05-26T14:42:24.633215Z",
     "start_time": "2023-05-26T14:42:06.344487Z"
    }
   },
   "outputs": [
    {
     "data": {
      "application/vnd.jupyter.widget-view+json": {
       "model_id": "0918186cba1141e6925787199f0cd223",
       "version_major": 2,
       "version_minor": 0
      },
      "text/plain": [
       "  0%|          | 0/28 [00:00<?, ?it/s]"
      ]
     },
     "metadata": {},
     "output_type": "display_data"
    },
    {
     "name": "stdout",
     "output_type": "stream",
     "text": [
      "------------------Loading bag_acc_full.pkl ------------------\n",
      "                   time      Acc_x     Acc_y     Acc_z     time_diff\n",
      "7443460   1499074032540 -12.572803 -0.352122  2.688949 -1.316001e+09\n",
      "12540654  1497441905080  -9.559037  0.679953  1.599327 -2.018922e+09\n",
      "------------------Loading bag_gps_detail_full.pkl ------------------\n",
      "                  time  id   snr  azimuth  elevation     time_diff\n",
      "1086195  1499073594062  24   7.0    138.0       24.0 -1.316967e+09\n",
      "1617147  1497441319478   2  13.0     53.0       29.0 -2.021450e+09\n",
      "------------------Loading bag_gps_full.pkl ------------------\n",
      "                 time  number     time_diff\n",
      "88158   1499073561117       0 -1.317000e+09\n",
      "147720  1497441319478       2 -2.021450e+09\n",
      "------------------Loading bag_gyr_full.pkl ------------------\n",
      "                   time     Gyr_x     Gyr_y     Gyr_z     time_diff\n",
      "7443460   1499074032540  0.392760 -0.314559  0.169403 -1.316001e+09\n",
      "12540654  1497441905080  0.228025 -0.077242 -0.017270 -2.018922e+09\n",
      "------------------Loading bag_label_full.pkl ------------------\n",
      "                   time  label     time_diff\n",
      "7443460   1499074032540      2 -1.316001e+09\n",
      "12540654  1497441905080      2 -2.018922e+09\n",
      "------------------Loading bag_loc_full.pkl ------------------\n",
      "                 time  accuracy   latitude  longitude   altitude     time_diff\n",
      "71296   1499074023112     200.0  50.874312   0.012695  63.688756 -1.316538e+09\n",
      "104962  1497441464526     192.0  50.874469   0.012336  19.839042 -2.021305e+09\n",
      "------------------Loading bag_mag_full.pkl ------------------\n",
      "                   time     Mag_x      Mag_y      Mag_z     time_diff\n",
      "7443460   1499074032540  31.53589  12.000000  19.434872 -1.316001e+09\n",
      "12540654  1497441905080  38.93750 -20.186756 -19.463541 -2.018922e+09\n",
      "------------------Loading hand_acc_full.pkl ------------------\n",
      "                   time      Acc_x     Acc_y     Acc_z     time_diff\n",
      "7443460   1499074032540 -11.019485 -0.413310  3.320787 -1.316001e+09\n",
      "12540654  1497441905080  -5.764349  2.111577  7.682159 -2.018922e+09\n",
      "------------------Loading hand_gps_detail_full.pkl ------------------\n",
      "                  time  id   snr  azimuth  elevation     time_diff\n",
      "1141764  1499073563553  12  22.0     72.0       49.0 -1.316997e+09\n",
      "1859053  1497441324363   2  10.0     53.0       29.0 -2.021444e+09\n",
      "------------------Loading hand_gps_full.pkl ------------------\n",
      "                 time  number     time_diff\n",
      "93378   1499073560581       0 -1.317000e+09\n",
      "160844  1497441318346       0 -2.021450e+09\n",
      "------------------Loading hand_gyr_full.pkl ------------------\n",
      "                   time     Gyr_x     Gyr_y    Gyr_z     time_diff\n",
      "7443460   1499074032540  0.894839 -0.337246  0.92234 -1.316001e+09\n",
      "12540654  1497441905080  0.092777  0.331263 -0.21859 -2.018922e+09\n",
      "------------------Loading hand_label_full.pkl ------------------\n",
      "                   time  label     time_diff\n",
      "7443460   1499074032540      2 -1.316001e+09\n",
      "12540654  1497441905080      2 -2.018922e+09\n",
      "------------------Loading hand_loc_full.pkl ------------------\n",
      "                 time  accuracy   latitude  longitude    altitude  \\\n",
      "77035   1499073641596     400.0  50.873606   0.012660  168.537137   \n",
      "120178  1497441864432      48.0  50.874306   0.013374   47.275469   \n",
      "\n",
      "           time_diff  \n",
      "77035  -1.316919e+09  \n",
      "120178 -2.020732e+09  \n",
      "------------------Loading hand_mag_full.pkl ------------------\n",
      "                   time      Mag_x     Mag_y      Mag_z     time_diff\n",
      "7443460   1499074032540  28.469765 -1.702198  28.928296 -1.316001e+09\n",
      "12540654  1497441905080  34.874089  9.022352 -32.561589 -2.018922e+09\n",
      "------------------Loading hips_acc_full.pkl ------------------\n",
      "                   time     Acc_x      Acc_y     Acc_z     time_diff\n",
      "7443460   1499074032540 -4.462792 -13.477004 -0.863745 -1.316001e+09\n",
      "12540654  1497441905080  0.555052   9.577411 -0.583984 -2.018922e+09\n",
      "------------------Loading hips_gps_detail_full.pkl ------------------\n",
      "                  time  id   snr  azimuth  elevation     time_diff\n",
      "954790   1499073564460  12  20.0     72.0       49.0 -1.316997e+09\n",
      "1327647  1497441328969  25  12.0     89.0       58.0 -2.021440e+09\n",
      "------------------Loading hips_gps_full.pkl ------------------\n",
      "                 time  number     time_diff\n",
      "87650   1499073561519       0 -1.317000e+09\n",
      "142131  1497441318950       0 -2.021450e+09\n",
      "------------------Loading hips_gyr_full.pkl ------------------\n",
      "                   time     Gyr_x     Gyr_y     Gyr_z     time_diff\n",
      "7443460   1499074032540 -0.699520 -1.412321 -0.424551 -1.316001e+09\n",
      "12540654  1497441905080  0.017543 -0.162315 -0.027661 -2.018922e+09\n",
      "------------------Loading hips_label_full.pkl ------------------\n",
      "                   time  label     time_diff\n",
      "7443460   1499074032540      2 -1.316001e+09\n",
      "12540654  1497441905080      2 -2.018922e+09\n",
      "------------------Loading hips_loc_full.pkl ------------------\n",
      "                time  accuracy   latitude  longitude    altitude     time_diff\n",
      "64709  1499074347529      48.0  50.872004   0.011439   15.976576 -1.316213e+09\n",
      "88793  1497441884020     400.0  50.874774   0.013019  142.944408 -2.020612e+09\n",
      "------------------Loading hips_mag_full.pkl ------------------\n",
      "                   time      Mag_x      Mag_y    Mag_z     time_diff\n",
      "7443460   1499074032540 -28.812500  30.125000  8.25143 -1.316001e+09\n",
      "12540654  1497441905080 -20.391231 -40.710634  8.75000 -2.018922e+09\n",
      "------------------Loading torso_acc_full.pkl ------------------\n",
      "                   time      Acc_x     Acc_y     Acc_z     time_diff\n",
      "7443460   1499074032540 -11.582810  0.550280  1.869550 -1.316001e+09\n",
      "12540654  1497441905080  -9.634268 -0.536301 -1.691677 -2.018922e+09\n",
      "------------------Loading torso_gps_detail_full.pkl ------------------\n",
      "                  time  id   snr  azimuth  elevation     time_diff\n",
      "1010912  1499073574018  12  10.0     72.0       49.0 -1.316987e+09\n",
      "1440487  1497441318723   2  19.0     53.0       29.0 -2.021450e+09\n",
      "------------------Loading torso_gps_full.pkl ------------------\n",
      "                 time  number     time_diff\n",
      "87932   1499073563050       0 -1.316998e+09\n",
      "140834  1497441318723       2 -2.021450e+09\n",
      "------------------Loading torso_gyr_full.pkl ------------------\n",
      "                   time     Gyr_x     Gyr_y     Gyr_z     time_diff\n",
      "7443460   1499074032540 -0.081388 -0.511057  0.435081 -1.316001e+09\n",
      "12540654  1497441905080  0.210844  0.064045  0.040896 -2.018922e+09\n",
      "------------------Loading torso_label_full.pkl ------------------\n",
      "                   time  label     time_diff\n",
      "7443460   1499074032540      2 -1.316001e+09\n",
      "12540654  1497441905080      2 -2.018922e+09\n",
      "------------------Loading torso_loc_full.pkl ------------------\n",
      "                time  accuracy   latitude  longitude    altitude     time_diff\n",
      "68442  1499074082066      96.0  50.873701   0.012663  104.321374 -1.316478e+09\n",
      "96184  1497442030779      64.0  50.874420   0.014033   53.772343 -2.020437e+09\n",
      "------------------Loading torso_mag_full.pkl ------------------\n",
      "                   time      Mag_x      Mag_y      Mag_z     time_diff\n",
      "7443460   1499074032540 -22.230407 -60.614799   2.845370 -1.316001e+09\n",
      "12540654  1497441905080  33.326967  15.562500  13.127602 -2.018922e+09\n"
     ]
    }
   ],
   "source": [
    "#查看时间戳倒退情况\n",
    "for name in tqdm(names):\n",
    "    print('------------------Loading {} ------------------'.format(name + '.pkl'))\n",
    "    df = pd.read_pickle(file_dir + '/' + name + '.pkl')\n",
    "    df['time_diff']=df['time'].diff()\n",
    "    print(df[df['time_diff']<0])"
   ]
  },
  {
   "attachments": {},
   "cell_type": "markdown",
   "id": "3f0cc0d8",
   "metadata": {},
   "source": [
    "在更为精准的运动传感器上，可以发现两次时间戳倒退的时间点是完全一致的，这给了我们对验证集所有数据操作的信心。"
   ]
  },
  {
   "cell_type": "code",
   "execution_count": 56,
   "id": "8ad6294e",
   "metadata": {
    "ExecuteTime": {
     "end_time": "2023-05-27T09:32:35.086174Z",
     "start_time": "2023-05-27T09:21:19.496434Z"
    }
   },
   "outputs": [
    {
     "data": {
      "application/vnd.jupyter.widget-view+json": {
       "model_id": "448cbb9682154e0ca87b2fc6118d762e",
       "version_major": 2,
       "version_minor": 0
      },
      "text/plain": [
       "  0%|          | 0/28 [00:00<?, ?it/s]"
      ]
     },
     "metadata": {},
     "output_type": "display_data"
    },
    {
     "name": "stdout",
     "output_type": "stream",
     "text": [
      "------------------Loading bag_acc_full.pkl ------------------\n",
      "\n",
      "原始数据点有0处重复\n",
      "\n",
      "有1505880处时间戳重复\n",
      "\n",
      "第二次时间戳倒退的时间点为第12540654项数据\n",
      "\n",
      "倒退的时间点为：1497441905080\n",
      "处理后有0处时间戳重复\n",
      "\n",
      "------------------Loading bag_gps_detail_full.pkl ------------------\n",
      "\n",
      "原始数据点有22处重复\n",
      "\n",
      "有1705124处时间戳重复\n",
      "\n",
      "第二次时间戳倒退的时间点为第1617147项数据\n",
      "\n",
      "倒退的时间点为：1497441319478\n",
      "处理后有1705098处时间戳重复\n",
      "\n",
      "------------------Loading bag_gps_full.pkl ------------------\n",
      "\n",
      "原始数据点有3处重复\n",
      "\n",
      "有28处时间戳重复\n",
      "\n",
      "第二次时间戳倒退的时间点为第147720项数据\n",
      "\n",
      "倒退的时间点为：1497441319478\n",
      "处理后有2处时间戳重复\n",
      "\n",
      "------------------Loading bag_gyr_full.pkl ------------------\n",
      "\n",
      "原始数据点有2处重复\n",
      "\n",
      "有1505880处时间戳重复\n",
      "\n",
      "第二次时间戳倒退的时间点为第12540654项数据\n",
      "\n",
      "倒退的时间点为：1497441905080\n",
      "处理后有0处时间戳重复\n",
      "\n",
      "------------------Loading bag_label_full.pkl ------------------\n",
      "\n",
      "原始数据点有397629处重复\n",
      "\n",
      "有1505880处时间戳重复\n",
      "\n",
      "第二次时间戳倒退的时间点为第12540654项数据\n",
      "\n",
      "倒退的时间点为：1497441905080\n",
      "处理后有0处时间戳重复\n",
      "\n",
      "------------------Loading bag_loc_full.pkl ------------------\n",
      "\n",
      "原始数据点有0处重复\n",
      "\n",
      "有20处时间戳重复\n",
      "\n",
      "第二次时间戳倒退的时间点为第104962项数据\n",
      "\n",
      "倒退的时间点为：1497441464526\n",
      "处理后有0处时间戳重复\n",
      "\n",
      "------------------Loading bag_mag_full.pkl ------------------\n",
      "\n",
      "原始数据点有0处重复\n",
      "\n",
      "有1505880处时间戳重复\n",
      "\n",
      "第二次时间戳倒退的时间点为第12540654项数据\n",
      "\n",
      "倒退的时间点为：1497441905080\n",
      "处理后有0处时间戳重复\n",
      "\n",
      "------------------Loading hand_acc_full.pkl ------------------\n",
      "\n",
      "原始数据点有0处重复\n",
      "\n",
      "有1505880处时间戳重复\n",
      "\n",
      "第二次时间戳倒退的时间点为第12540654项数据\n",
      "\n",
      "倒退的时间点为：1497441905080\n",
      "处理后有0处时间戳重复\n",
      "\n",
      "------------------Loading hand_gps_detail_full.pkl ------------------\n",
      "\n",
      "原始数据点有56处重复\n",
      "\n",
      "有1987830处时间戳重复\n",
      "\n",
      "第二次时间戳倒退的时间点为第1859053项数据\n",
      "\n",
      "倒退的时间点为：1497441324363\n",
      "处理后有1987585处时间戳重复\n",
      "\n",
      "------------------Loading hand_gps_full.pkl ------------------\n",
      "\n",
      "原始数据点有45处重复\n",
      "\n",
      "有246处时间戳重复\n",
      "\n",
      "第二次时间戳倒退的时间点为第160844项数据\n",
      "\n",
      "倒退的时间点为：1497441318346\n",
      "处理后有1处时间戳重复\n",
      "\n",
      "------------------Loading hand_gyr_full.pkl ------------------\n",
      "\n",
      "原始数据点有0处重复\n",
      "\n",
      "有1505880处时间戳重复\n",
      "\n",
      "第二次时间戳倒退的时间点为第12540654项数据\n",
      "\n",
      "倒退的时间点为：1497441905080\n",
      "处理后有0处时间戳重复\n",
      "\n",
      "------------------Loading hand_label_full.pkl ------------------\n",
      "\n",
      "原始数据点有397629处重复\n",
      "\n",
      "有1505880处时间戳重复\n",
      "\n",
      "第二次时间戳倒退的时间点为第12540654项数据\n",
      "\n",
      "倒退的时间点为：1497441905080\n",
      "处理后有0处时间戳重复\n",
      "\n",
      "------------------Loading hand_loc_full.pkl ------------------\n",
      "\n",
      "原始数据点有0处重复\n",
      "\n",
      "有12处时间戳重复\n",
      "\n",
      "第二次时间戳倒退的时间点为第120178项数据\n",
      "\n",
      "倒退的时间点为：1497441864432\n",
      "处理后有4处时间戳重复\n",
      "\n",
      "------------------Loading hand_mag_full.pkl ------------------\n",
      "\n",
      "原始数据点有0处重复\n",
      "\n",
      "有1505880处时间戳重复\n",
      "\n",
      "第二次时间戳倒退的时间点为第12540654项数据\n",
      "\n",
      "倒退的时间点为：1497441905080\n",
      "处理后有0处时间戳重复\n",
      "\n",
      "------------------Loading hips_acc_full.pkl ------------------\n",
      "\n",
      "原始数据点有0处重复\n",
      "\n",
      "有1505880处时间戳重复\n",
      "\n",
      "第二次时间戳倒退的时间点为第12540654项数据\n",
      "\n",
      "倒退的时间点为：1497441905080\n",
      "处理后有0处时间戳重复\n",
      "\n",
      "------------------Loading hips_gps_detail_full.pkl ------------------\n",
      "\n",
      "原始数据点有11处重复\n",
      "\n",
      "有1391229处时间戳重复\n",
      "\n",
      "第二次时间戳倒退的时间点为第1327647项数据\n",
      "\n",
      "倒退的时间点为：1497441328969\n",
      "处理后有1391229处时间戳重复\n",
      "\n",
      "------------------Loading hips_gps_full.pkl ------------------\n",
      "\n",
      "原始数据点有2处重复\n",
      "\n",
      "有15处时间戳重复\n",
      "\n",
      "第二次时间戳倒退的时间点为第142131项数据\n",
      "\n",
      "倒退的时间点为：1497441318950\n",
      "处理后有2处时间戳重复\n",
      "\n",
      "------------------Loading hips_gyr_full.pkl ------------------\n",
      "\n",
      "原始数据点有0处重复\n",
      "\n",
      "有1505880处时间戳重复\n",
      "\n",
      "第二次时间戳倒退的时间点为第12540654项数据\n",
      "\n",
      "倒退的时间点为：1497441905080\n",
      "处理后有0处时间戳重复\n",
      "\n",
      "------------------Loading hips_label_full.pkl ------------------\n",
      "\n",
      "原始数据点有397629处重复\n",
      "\n",
      "有1505880处时间戳重复\n",
      "\n",
      "第二次时间戳倒退的时间点为第12540654项数据\n",
      "\n",
      "倒退的时间点为：1497441905080\n",
      "处理后有0处时间戳重复\n",
      "\n",
      "------------------Loading hips_loc_full.pkl ------------------\n",
      "\n",
      "原始数据点有0处重复\n",
      "\n",
      "有22处时间戳重复\n",
      "\n",
      "第二次时间戳倒退的时间点为第88793项数据\n",
      "\n",
      "倒退的时间点为：1497441884020\n",
      "处理后有8处时间戳重复\n",
      "\n",
      "------------------Loading hips_mag_full.pkl ------------------\n",
      "\n",
      "原始数据点有0处重复\n",
      "\n",
      "有1505880处时间戳重复\n",
      "\n",
      "第二次时间戳倒退的时间点为第12540654项数据\n",
      "\n",
      "倒退的时间点为：1497441905080\n",
      "处理后有0处时间戳重复\n",
      "\n",
      "------------------Loading torso_acc_full.pkl ------------------\n",
      "\n",
      "原始数据点有0处重复\n",
      "\n",
      "有1505880处时间戳重复\n",
      "\n",
      "第二次时间戳倒退的时间点为第12540654项数据\n",
      "\n",
      "倒退的时间点为：1497441905080\n",
      "处理后有0处时间戳重复\n",
      "\n",
      "------------------Loading torso_gps_detail_full.pkl ------------------\n",
      "\n",
      "原始数据点有22处重复\n",
      "\n",
      "有1498291处时间戳重复\n",
      "\n",
      "第二次时间戳倒退的时间点为第1440487项数据\n",
      "\n",
      "倒退的时间点为：1497441318723\n",
      "处理后有1498183处时间戳重复\n",
      "\n",
      "------------------Loading torso_gps_full.pkl ------------------\n",
      "\n",
      "原始数据点有14处重复\n",
      "\n",
      "有110处时间戳重复\n",
      "\n",
      "第二次时间戳倒退的时间点为第140834项数据\n",
      "\n",
      "倒退的时间点为：1497441318723\n",
      "处理后有2处时间戳重复\n",
      "\n",
      "------------------Loading torso_gyr_full.pkl ------------------\n",
      "\n",
      "原始数据点有0处重复\n",
      "\n",
      "有1505880处时间戳重复\n",
      "\n",
      "第二次时间戳倒退的时间点为第12540654项数据\n",
      "\n",
      "倒退的时间点为：1497441905080\n",
      "处理后有0处时间戳重复\n",
      "\n",
      "------------------Loading torso_label_full.pkl ------------------\n",
      "\n",
      "原始数据点有397629处重复\n",
      "\n",
      "有1505880处时间戳重复\n",
      "\n",
      "第二次时间戳倒退的时间点为第12540654项数据\n",
      "\n",
      "倒退的时间点为：1497441905080\n",
      "处理后有0处时间戳重复\n",
      "\n",
      "------------------Loading torso_loc_full.pkl ------------------\n",
      "\n",
      "原始数据点有0处重复\n",
      "\n",
      "有5处时间戳重复\n",
      "\n",
      "第二次时间戳倒退的时间点为第96184项数据\n",
      "\n",
      "倒退的时间点为：1497442030779\n",
      "处理后有1处时间戳重复\n",
      "\n",
      "------------------Loading torso_mag_full.pkl ------------------\n",
      "\n",
      "原始数据点有0处重复\n",
      "\n",
      "有1505880处时间戳重复\n",
      "\n",
      "第二次时间戳倒退的时间点为第12540654项数据\n",
      "\n",
      "倒退的时间点为：1497441905080\n",
      "处理后有0处时间戳重复\n",
      "\n"
     ]
    }
   ],
   "source": [
    "#加上延迟并排序\n",
    "for name in tqdm(names):\n",
    "    print('------------------Loading {} ------------------\\n'.format(name + '.pkl'))\n",
    "    df = pd.read_pickle(file_dir + '/' + name + '.pkl')\n",
    "    is_duplicated = df.duplicated().sum()\n",
    "    print('原始数据点有{}处重复\\n'.format(is_duplicated))\n",
    "    is_duplicated = df.duplicated(subset='time').sum()\n",
    "    print('有{}处时间戳重复\\n'.format(is_duplicated))\n",
    "\n",
    "    df['time_diff'] = df['time'].diff()\n",
    "    index_df = df[df['time_diff'] < 0].index[1]\n",
    "    print('第二次时间戳倒退的时间点为第{}项数据\\n'.format(index_df))\n",
    "    print('倒退的时间点为：{}'.format(df['time'][index_df]))\n",
    "    df.loc[index_df:, 'time'] += 2 * 86400000  # 1 day = 86400 s = 86400000 ms\n",
    "\n",
    "    is_duplicated = df.duplicated(subset='time').sum()\n",
    "    print('处理后有{}处时间戳重复\\n'.format(is_duplicated))\n",
    "\n",
    "\n",
    "    df.sort_values('time', inplace=True, ignore_index=True)\n",
    "    df.drop(labels='time_diff', axis=1, inplace=True)\n",
    "    df.reset_index(inplace=True,drop=True)\n",
    "    df.to_pickle('../SHL2023/data_processed/validate/' + name + '.pkl')"
   ]
  },
  {
   "cell_type": "code",
   "execution_count": 46,
   "id": "08cbe23e",
   "metadata": {
    "ExecuteTime": {
     "end_time": "2023-05-27T09:06:47.095379Z",
     "start_time": "2023-05-27T09:06:18.517788Z"
    }
   },
   "outputs": [
    {
     "name": "stdout",
     "output_type": "stream",
     "text": [
      "pkl文件的数量为:28\n"
     ]
    },
    {
     "data": {
      "application/vnd.jupyter.widget-view+json": {
       "model_id": "13fe714da2b64bf3b09c757959de05db",
       "version_major": 2,
       "version_minor": 0
      },
      "text/plain": [
       "  0%|          | 0/28 [00:00<?, ?it/s]"
      ]
     },
     "metadata": {},
     "output_type": "display_data"
    },
    {
     "name": "stdout",
     "output_type": "stream",
     "text": [
      "------------------Loading bag_acc_full.pkl ------------------\n"
     ]
    },
    {
     "data": {
      "image/png": "[encoded data removed]",
      "text/plain": [
       "<Figure size 432x288 with 1 Axes>"
      ]
     },
     "metadata": {
      "needs_background": "light"
     },
     "output_type": "display_data"
    },
    {
     "name": "stdout",
     "output_type": "stream",
     "text": [
      "------------------Loading bag_gps_detail_full.pkl ------------------\n"
     ]
    },
    {
     "data": {
      "image/png": "[encoded data removed]",
      "text/plain": [
       "<Figure size 432x288 with 1 Axes>"
      ]
     },
     "metadata": {
      "needs_background": "light"
     },
     "output_type": "display_data"
    },
    {
     "name": "stdout",
     "output_type": "stream",
     "text": [
      "------------------Loading bag_gps_full.pkl ------------------\n"
     ]
    },
    {
     "data": {
      "image/png": "[encoded data removed]",
      "text/plain": [
       "<Figure size 432x288 with 1 Axes>"
      ]
     },
     "metadata": {
      "needs_background": "light"
     },
     "output_type": "display_data"
    },
    {
     "name": "stdout",
     "output_type": "stream",
     "text": [
      "------------------Loading bag_gyr_full.pkl ------------------\n"
     ]
    },
    {
     "data": {
      "image/png": "[encoded data removed]",
      "text/plain": [
       "<Figure size 432x288 with 1 Axes>"
      ]
     },
     "metadata": {
      "needs_background": "light"
     },
     "output_type": "display_data"
    },
    {
     "name": "stdout",
     "output_type": "stream",
     "text": [
      "------------------Loading bag_label_full.pkl ------------------\n"
     ]
    },
    {
     "data": {
      "image/png": "[encoded data removed]",
      "text/plain": [
       "<Figure size 432x288 with 1 Axes>"
      ]
     },
     "metadata": {
      "needs_background": "light"
     },
     "output_type": "display_data"
    },
    {
     "name": "stdout",
     "output_type": "stream",
     "text": [
      "------------------Loading bag_loc_full.pkl ------------------\n"
     ]
    },
    {
     "data": {
      "image/png": "[encoded data removed]",
      "text/plain": [
       "<Figure size 432x288 with 1 Axes>"
      ]
     },
     "metadata": {
      "needs_background": "light"
     },
     "output_type": "display_data"
    },
    {
     "name": "stdout",
     "output_type": "stream",
     "text": [
      "------------------Loading bag_mag_full.pkl ------------------\n"
     ]
    },
    {
     "data": {
      "image/png": "[encoded data removed]",
      "text/plain": [
       "<Figure size 432x288 with 1 Axes>"
      ]
     },
     "metadata": {
      "needs_background": "light"
     },
     "output_type": "display_data"
    },
    {
     "name": "stdout",
     "output_type": "stream",
     "text": [
      "------------------Loading hand_acc_full.pkl ------------------\n"
     ]
    },
    {
     "data": {
      "image/png": "[encoded data removed]",
      "text/plain": [
       "<Figure size 432x288 with 1 Axes>"
      ]
     },
     "metadata": {
      "needs_background": "light"
     },
     "output_type": "display_data"
    },
    {
     "name": "stdout",
     "output_type": "stream",
     "text": [
      "------------------Loading hand_gps_detail_full.pkl ------------------\n"
     ]
    },
    {
     "data": {
      "image/png": "[encoded data removed]",
      "text/plain": [
       "<Figure size 432x288 with 1 Axes>"
      ]
     },
     "metadata": {
      "needs_background": "light"
     },
     "output_type": "display_data"
    },
    {
     "name": "stdout",
     "output_type": "stream",
     "text": [
      "------------------Loading hand_gps_full.pkl ------------------\n"
     ]
    },
    {
     "data": {
      "image/png": "[encoded data removed]",
      "text/plain": [
       "<Figure size 432x288 with 1 Axes>"
      ]
     },
     "metadata": {
      "needs_background": "light"
     },
     "output_type": "display_data"
    },
    {
     "name": "stdout",
     "output_type": "stream",
     "text": [
      "------------------Loading hand_gyr_full.pkl ------------------\n"
     ]
    },
    {
     "data": {
      "image/png": "[encoded data removed]",
      "text/plain": [
       "<Figure size 432x288 with 1 Axes>"
      ]
     },
     "metadata": {
      "needs_background": "light"
     },
     "output_type": "display_data"
    },
    {
     "name": "stdout",
     "output_type": "stream",
     "text": [
      "------------------Loading hand_label_full.pkl ------------------\n"
     ]
    },
    {
     "data": {
      "image/png": "[encoded data removed]",
      "text/plain": [
       "<Figure size 432x288 with 1 Axes>"
      ]
     },
     "metadata": {
      "needs_background": "light"
     },
     "output_type": "display_data"
    },
    {
     "name": "stdout",
     "output_type": "stream",
     "text": [
      "------------------Loading hand_loc_full.pkl ------------------\n"
     ]
    },
    {
     "data": {
      "image/png": "[encoded data removed]",
      "text/plain": [
       "<Figure size 432x288 with 1 Axes>"
      ]
     },
     "metadata": {
      "needs_background": "light"
     },
     "output_type": "display_data"
    },
    {
     "name": "stdout",
     "output_type": "stream",
     "text": [
      "------------------Loading hand_mag_full.pkl ------------------\n"
     ]
    },
    {
     "data": {
      "image/png": "[encoded data removed]",
      "text/plain": [
       "<Figure size 432x288 with 1 Axes>"
      ]
     },
     "metadata": {
      "needs_background": "light"
     },
     "output_type": "display_data"
    },
    {
     "name": "stdout",
     "output_type": "stream",
     "text": [
      "------------------Loading hips_acc_full.pkl ------------------\n"
     ]
    },
    {
     "data": {
      "image/png": "[encoded data removed]",
      "text/plain": [
       "<Figure size 432x288 with 1 Axes>"
      ]
     },
     "metadata": {
      "needs_background": "light"
     },
     "output_type": "display_data"
    },
    {
     "name": "stdout",
     "output_type": "stream",
     "text": [
      "------------------Loading hips_gps_detail_full.pkl ------------------\n"
     ]
    },
    {
     "data": {
      "image/png": "[encoded data removed]",
      "text/plain": [
       "<Figure size 432x288 with 1 Axes>"
      ]
     },
     "metadata": {
      "needs_background": "light"
     },
     "output_type": "display_data"
    },
    {
     "name": "stdout",
     "output_type": "stream",
     "text": [
      "------------------Loading hips_gps_full.pkl ------------------\n"
     ]
    },
    {
     "data": {
      "image/png": "[encoded data removed]",
      "text/plain": [
       "<Figure size 432x288 with 1 Axes>"
      ]
     },
     "metadata": {
      "needs_background": "light"
     },
     "output_type": "display_data"
    },
    {
     "name": "stdout",
     "output_type": "stream",
     "text": [
      "------------------Loading hips_gyr_full.pkl ------------------\n"
     ]
    },
    {
     "data": {
      "image/png": "[encoded data removed]",
      "text/plain": [
       "<Figure size 432x288 with 1 Axes>"
      ]
     },
     "metadata": {
      "needs_background": "light"
     },
     "output_type": "display_data"
    },
    {
     "name": "stdout",
     "output_type": "stream",
     "text": [
      "------------------Loading hips_label_full.pkl ------------------\n"
     ]
    },
    {
     "data": {
      "image/png": "[encoded data removed]",
      "text/plain": [
       "<Figure size 432x288 with 1 Axes>"
      ]
     },
     "metadata": {
      "needs_background": "light"
     },
     "output_type": "display_data"
    },
    {
     "name": "stdout",
     "output_type": "stream",
     "text": [
      "------------------Loading hips_loc_full.pkl ------------------\n"
     ]
    },
    {
     "data": {
      "image/png": "[encoded data removed]",
      "text/plain": [
       "<Figure size 432x288 with 1 Axes>"
      ]
     },
     "metadata": {
      "needs_background": "light"
     },
     "output_type": "display_data"
    },
    {
     "name": "stdout",
     "output_type": "stream",
     "text": [
      "------------------Loading hips_mag_full.pkl ------------------\n"
     ]
    },
    {
     "data": {
      "image/png": "[encoded data removed]",
      "text/plain": [
       "<Figure size 432x288 with 1 Axes>"
      ]
     },
     "metadata": {
      "needs_background": "light"
     },
     "output_type": "display_data"
    },
    {
     "name": "stdout",
     "output_type": "stream",
     "text": [
      "------------------Loading torso_acc_full.pkl ------------------\n"
     ]
    },
    {
     "data": {
      "image/png": "[encoded data removed]",
      "text/plain": [
       "<Figure size 432x288 with 1 Axes>"
      ]
     },
     "metadata": {
      "needs_background": "light"
     },
     "output_type": "display_data"
    },
    {
     "name": "stdout",
     "output_type": "stream",
     "text": [
      "------------------Loading torso_gps_detail_full.pkl ------------------\n"
     ]
    },
    {
     "data": {
      "image/png": "[encoded data removed]",
      "text/plain": [
       "<Figure size 432x288 with 1 Axes>"
      ]
     },
     "metadata": {
      "needs_background": "light"
     },
     "output_type": "display_data"
    },
    {
     "name": "stdout",
     "output_type": "stream",
     "text": [
      "------------------Loading torso_gps_full.pkl ------------------\n"
     ]
    },
    {
     "data": {
      "image/png": "[encoded data removed]",
      "text/plain": [
       "<Figure size 432x288 with 1 Axes>"
      ]
     },
     "metadata": {
      "needs_background": "light"
     },
     "output_type": "display_data"
    },
    {
     "name": "stdout",
     "output_type": "stream",
     "text": [
      "------------------Loading torso_gyr_full.pkl ------------------\n"
     ]
    },
    {
     "data": {
      "image/png": "[encoded data removed]",
      "text/plain": [
       "<Figure size 432x288 with 1 Axes>"
      ]
     },
     "metadata": {
      "needs_background": "light"
     },
     "output_type": "display_data"
    },
    {
     "name": "stdout",
     "output_type": "stream",
     "text": [
      "------------------Loading torso_label_full.pkl ------------------\n"
     ]
    },
    {
     "data": {
      "image/png": "[encoded data removed]",
      "text/plain": [
       "<Figure size 432x288 with 1 Axes>"
      ]
     },
     "metadata": {
      "needs_background": "light"
     },
     "output_type": "display_data"
    },
    {
     "name": "stdout",
     "output_type": "stream",
     "text": [
      "------------------Loading torso_loc_full.pkl ------------------\n"
     ]
    },
    {
     "data": {
      "image/png": "[encoded data removed]",
      "text/plain": [
       "<Figure size 432x288 with 1 Axes>"
      ]
     },
     "metadata": {
      "needs_background": "light"
     },
     "output_type": "display_data"
    },
    {
     "name": "stdout",
     "output_type": "stream",
     "text": [
      "------------------Loading torso_mag_full.pkl ------------------\n"
     ]
    },
    {
     "data": {
      "image/png": "[encoded data removed]",
      "text/plain": [
       "<Figure size 432x288 with 1 Axes>"
      ]
     },
     "metadata": {
      "needs_background": "light"
     },
     "output_type": "display_data"
    }
   ],
   "source": [
    "file_dir=\"../SHL2023/data_processed/validate/\"\n",
    "names=get_pkl_file_name(file_dir)\n",
    "\n",
    "#查看处理后时间戳排序情况\n",
    "for name in tqdm(names):\n",
    "    print('------------------Loading {} ------------------'.format(name + '.pkl'))\n",
    "    df_time=df['time']-df['time'][0]\n",
    "    df_time = df_time[np.arange(0,len(df_time),1000)]\n",
    "    sns.lineplot(data=df_time)\n",
    "    plt.show()"
   ]
  },
  {
   "attachments": {},
   "cell_type": "markdown",
   "id": "5698cba4",
   "metadata": {},
   "source": [
    "操作之后发现<span class=\"mark\">非GPS数据的时间戳不再出现重复现象</span>，说明我们的操作是有效的。同时我们发现在GPS数据上出现了少量重复现象，我们将在第四部分解决。下面我们将对GPS数据进行初步的处理。"
   ]
  },
  {
   "attachments": {},
   "cell_type": "markdown",
   "id": "6eb3db4a",
   "metadata": {},
   "source": [
    "## 测试集情况"
   ]
  },
  {
   "cell_type": "code",
   "execution_count": 6,
   "id": "4ee8579b",
   "metadata": {},
   "outputs": [
    {
     "name": "stdout",
     "output_type": "stream",
     "text": [
      "pkl文件的数量为:7\n"
     ]
    },
    {
     "data": {
      "application/vnd.jupyter.widget-view+json": {
       "model_id": "ef612967dae441f3a864a1585698ecfd",
       "version_major": 2,
       "version_minor": 0
      },
      "text/plain": [
       "  0%|          | 0/7 [00:00<?, ?it/s]"
      ]
     },
     "metadata": {},
     "output_type": "display_data"
    },
    {
     "name": "stdout",
     "output_type": "stream",
     "text": [
      "------------------Loading test_acc.pkl ------------------\n"
     ]
    },
    {
     "data": {
      "image/png": "[encoded data removed]",
      "text/plain": [
       "<Figure size 432x288 with 1 Axes>"
      ]
     },
     "metadata": {
      "needs_background": "light"
     },
     "output_type": "display_data"
    },
    {
     "name": "stdout",
     "output_type": "stream",
     "text": [
      "------------------Loading test_gps.pkl ------------------\n"
     ]
    },
    {
     "data": {
      "image/png": "[encoded data removed]",
      "text/plain": [
       "<Figure size 432x288 with 1 Axes>"
      ]
     },
     "metadata": {
      "needs_background": "light"
     },
     "output_type": "display_data"
    },
    {
     "name": "stdout",
     "output_type": "stream",
     "text": [
      "------------------Loading test_gps_detail.pkl ------------------\n"
     ]
    },
    {
     "data": {
      "image/png": "[encoded data removed]",
      "text/plain": [
       "<Figure size 432x288 with 1 Axes>"
      ]
     },
     "metadata": {
      "needs_background": "light"
     },
     "output_type": "display_data"
    },
    {
     "name": "stdout",
     "output_type": "stream",
     "text": [
      "------------------Loading test_gyr.pkl ------------------\n"
     ]
    },
    {
     "data": {
      "image/png": "[encoded data removed]",
      "text/plain": [
       "<Figure size 432x288 with 1 Axes>"
      ]
     },
     "metadata": {
      "needs_background": "light"
     },
     "output_type": "display_data"
    },
    {
     "name": "stdout",
     "output_type": "stream",
     "text": [
      "------------------Loading test_label_idx.pkl ------------------\n"
     ]
    },
    {
     "data": {
      "image/png": "[encoded data removed]",
      "text/plain": [
       "<Figure size 432x288 with 1 Axes>"
      ]
     },
     "metadata": {
      "needs_background": "light"
     },
     "output_type": "display_data"
    },
    {
     "name": "stdout",
     "output_type": "stream",
     "text": [
      "------------------Loading test_loc.pkl ------------------\n"
     ]
    },
    {
     "data": {
      "image/png": "[encoded data removed]",
      "text/plain": [
       "<Figure size 432x288 with 1 Axes>"
      ]
     },
     "metadata": {
      "needs_background": "light"
     },
     "output_type": "display_data"
    },
    {
     "name": "stdout",
     "output_type": "stream",
     "text": [
      "------------------Loading test_mag.pkl ------------------\n"
     ]
    },
    {
     "data": {
      "image/png": "[encoded data removed]",
      "text/plain": [
       "<Figure size 432x288 with 1 Axes>"
      ]
     },
     "metadata": {
      "needs_background": "light"
     },
     "output_type": "display_data"
    }
   ],
   "source": [
    "file_dir=\"../SHL2023/data_test/\"\n",
    "names=get_pkl_file_name(file_dir)\n",
    "\n",
    "#查看处理后时间戳排序情况\n",
    "for name in tqdm(names):\n",
    "    print('------------------Loading {} ------------------'.format(name + '.pkl'))\n",
    "    df_time=df['time']-df['time'][0]\n",
    "    df_time = df_time[np.arange(0,len(df_time),1000)]\n",
    "    sns.lineplot(data=df_time)\n",
    "    plt.show()"
   ]
  },
  {
   "attachments": {},
   "cell_type": "markdown",
   "id": "895793b0",
   "metadata": {},
   "source": [
    "# GPS卫星数据处理 GPS satellite data processing\n",
    "由于卫星数量发生变化时会引起特征的增加，我们只保留卫星数量以及各个卫星信噪比的特征"
   ]
  },
  {
   "attachments": {},
   "cell_type": "markdown",
   "id": "f9e0d1ab",
   "metadata": {},
   "source": [
    "## 编写函数与测试"
   ]
  },
  {
   "cell_type": "code",
   "execution_count": 9,
   "id": "5bee700e",
   "metadata": {
    "ExecuteTime": {
     "end_time": "2023-05-27T04:54:25.197225Z",
     "start_time": "2023-05-27T04:54:25.191723Z"
    }
   },
   "outputs": [],
   "source": [
    "def merge_GPS(df1,df2):\n",
    "    \"\"\"\n",
    "    merge GPS data and GPS detailed data.\n",
    "\n",
    "    Parameters:\n",
    "        df1 - GPS data\n",
    "        df2 - GPS detailed data\n",
    "\n",
    "    Returns:\n",
    "        The dataframe obtained by merging data 1 and data 2\n",
    "    \"\"\"\n",
    "    #特征计算\n",
    "    group_df2 = df2.groupby('time')['snr'].agg([np.mean, np.std, np.max, np.min])\n",
    "    group_df2.fillna(0,inplace=True)#当数据量为1时，pandas自带的.std()方法计算标准差时会用float类型的nan来表示。我们用0代替NaN。\n",
    "    group_df2.reset_index(inplace=True)\n",
    "    \n",
    "    #数据集合并\n",
    "    df=pd.merge(df1,group_df2,on='time',how='left')\n",
    "    df.fillna(0,inplace=True)#这里出现缺失值的原因是卫星数量为0时没有卫星相关的信息。此时的信息应当是全为0。\n",
    "    df.rename(columns={'mean':'snr_mean','std':'snr_std','amax':'snr_max','amin':'snr_min'},inplace=True)\n",
    "    return df"
   ]
  },
  {
   "cell_type": "code",
   "execution_count": 5,
   "id": "ff75d4da",
   "metadata": {
    "ExecuteTime": {
     "end_time": "2023-05-24T12:39:01.885443Z",
     "start_time": "2023-05-24T12:39:00.813567Z"
    }
   },
   "outputs": [
    {
     "data": {
      "text/html": [
       "<div>\n",
       "<style scoped>\n",
       "    .dataframe tbody tr th:only-of-type {\n",
       "        vertical-align: middle;\n",
       "    }\n",
       "\n",
       "    .dataframe tbody tr th {\n",
       "        vertical-align: top;\n",
       "    }\n",
       "\n",
       "    .dataframe thead th {\n",
       "        text-align: right;\n",
       "    }\n",
       "</style>\n",
       "<table border=\"1\" class=\"dataframe\">\n",
       "  <thead>\n",
       "    <tr style=\"text-align: right;\">\n",
       "      <th></th>\n",
       "      <th>time</th>\n",
       "      <th>number</th>\n",
       "      <th>snr_mean</th>\n",
       "      <th>snr_std</th>\n",
       "      <th>snr_max</th>\n",
       "      <th>snr_min</th>\n",
       "    </tr>\n",
       "  </thead>\n",
       "  <tbody>\n",
       "    <tr>\n",
       "      <th>0</th>\n",
       "      <td>1497426495922</td>\n",
       "      <td>0</td>\n",
       "      <td>0.0</td>\n",
       "      <td>0.000000</td>\n",
       "      <td>0.0</td>\n",
       "      <td>0.0</td>\n",
       "    </tr>\n",
       "    <tr>\n",
       "      <th>1</th>\n",
       "      <td>1497426496876</td>\n",
       "      <td>0</td>\n",
       "      <td>0.0</td>\n",
       "      <td>0.000000</td>\n",
       "      <td>0.0</td>\n",
       "      <td>0.0</td>\n",
       "    </tr>\n",
       "    <tr>\n",
       "      <th>2</th>\n",
       "      <td>1497426496912</td>\n",
       "      <td>1</td>\n",
       "      <td>31.0</td>\n",
       "      <td>0.000000</td>\n",
       "      <td>31.0</td>\n",
       "      <td>31.0</td>\n",
       "    </tr>\n",
       "    <tr>\n",
       "      <th>3</th>\n",
       "      <td>1497426497889</td>\n",
       "      <td>2</td>\n",
       "      <td>29.5</td>\n",
       "      <td>2.121320</td>\n",
       "      <td>31.0</td>\n",
       "      <td>28.0</td>\n",
       "    </tr>\n",
       "    <tr>\n",
       "      <th>4</th>\n",
       "      <td>1497426498887</td>\n",
       "      <td>2</td>\n",
       "      <td>30.5</td>\n",
       "      <td>3.535534</td>\n",
       "      <td>33.0</td>\n",
       "      <td>28.0</td>\n",
       "    </tr>\n",
       "  </tbody>\n",
       "</table>\n",
       "</div>"
      ],
      "text/plain": [
       "            time  number  snr_mean   snr_std  snr_max  snr_min\n",
       "0  1497426495922       0       0.0  0.000000      0.0      0.0\n",
       "1  1497426496876       0       0.0  0.000000      0.0      0.0\n",
       "2  1497426496912       1      31.0  0.000000     31.0     31.0\n",
       "3  1497426497889       2      29.5  2.121320     31.0     28.0\n",
       "4  1497426498887       2      30.5  3.535534     33.0     28.0"
      ]
     },
     "execution_count": 5,
     "metadata": {},
     "output_type": "execute_result"
    }
   ],
   "source": [
    "df1 = pd.read_pickle('/home/dengjiebi/SHL2023/data_validate_pkl/hand_gps_full.pkl')\n",
    "df2 = pd.read_pickle('/home/dengjiebi/SHL2023/data_validate_pkl/hand_gps_detail_full.pkl')\n",
    "df=merge_GPS(df1,df2)\n",
    "df.head()"
   ]
  },
  {
   "attachments": {},
   "cell_type": "markdown",
   "id": "5bf054f8",
   "metadata": {},
   "source": [
    "## 训练集处理"
   ]
  },
  {
   "cell_type": "code",
   "execution_count": 47,
   "id": "45fdae1e",
   "metadata": {
    "ExecuteTime": {
     "end_time": "2023-05-27T09:09:15.329872Z",
     "start_time": "2023-05-27T09:08:39.858942Z"
    }
   },
   "outputs": [
    {
     "name": "stdout",
     "output_type": "stream",
     "text": [
      "__________Loading__________\n",
      "数据转化完成，用时 10.45484185218811s\n",
      "__________Loading__________\n",
      "数据转化完成，用时 8.94190263748169s\n",
      "__________Loading__________\n",
      "数据转化完成，用时 7.820101261138916s\n",
      "__________Loading__________\n",
      "数据转化完成，用时 8.24677324295044s\n"
     ]
    }
   ],
   "source": [
    "#训练集\n",
    "file_dir = \"../SHL2023/data_pkl/\"\n",
    "df1_list = ['hand_gps_full.pkl', 'torso_gps_full.pkl', 'bag_gps_full.pkl','hips_gps_full.pkl']\n",
    "df2_list = ['hand_gps_detail_full.pkl', 'torso_gps_detail_full.pkl','bag_gps_detail_full.pkl', 'hips_gps_detail_full.pkl']\n",
    "df_list = ['hand_gps.pkl', 'torso_gps.pkl', 'bag_gps.pkl', 'hips_gps.pkl']\n",
    "\n",
    "for i in range(4):\n",
    "    start = time.time()\n",
    "    print('__________Loading__________')\n",
    "    df1 = pd.read_pickle(file_dir + df1_list[i])\n",
    "    df2 = pd.read_pickle(file_dir + df2_list[i])\n",
    "    df = merge_GPS(df1, df2)\n",
    "    df.to_pickle(\"../SHL2023/data_processed/train/\" + df_list[i])\n",
    "    end = time.time()\n",
    "    print(\"数据转化完成，用时 {}s\".format(end - start))"
   ]
  },
  {
   "attachments": {},
   "cell_type": "markdown",
   "id": "f2b3479c",
   "metadata": {},
   "source": [
    "接下来我们处理一下训练集中两个GPS数据的时间戳倒退情况。"
   ]
  },
  {
   "cell_type": "code",
   "execution_count": 107,
   "id": "9ac737fd",
   "metadata": {
    "ExecuteTime": {
     "end_time": "2023-05-27T10:35:15.501421Z",
     "start_time": "2023-05-27T10:35:15.381579Z"
    },
    "scrolled": true
   },
   "outputs": [
    {
     "data": {
      "text/html": [
       "<div>\n",
       "<style scoped>\n",
       "    .dataframe tbody tr th:only-of-type {\n",
       "        vertical-align: middle;\n",
       "    }\n",
       "\n",
       "    .dataframe tbody tr th {\n",
       "        vertical-align: top;\n",
       "    }\n",
       "\n",
       "    .dataframe thead th {\n",
       "        text-align: right;\n",
       "    }\n",
       "</style>\n",
       "<table border=\"1\" class=\"dataframe\">\n",
       "  <thead>\n",
       "    <tr style=\"text-align: right;\">\n",
       "      <th></th>\n",
       "      <th>time</th>\n",
       "      <th>number</th>\n",
       "      <th>snr_mean</th>\n",
       "      <th>snr_std</th>\n",
       "      <th>snr_max</th>\n",
       "      <th>snr_min</th>\n",
       "      <th>time_diff</th>\n",
       "    </tr>\n",
       "  </thead>\n",
       "  <tbody>\n",
       "    <tr>\n",
       "      <th>594953</th>\n",
       "      <td>1495331989102</td>\n",
       "      <td>12</td>\n",
       "      <td>19.583333</td>\n",
       "      <td>8.458007</td>\n",
       "      <td>38.0</td>\n",
       "      <td>9.0</td>\n",
       "      <td>-294.0</td>\n",
       "    </tr>\n",
       "  </tbody>\n",
       "</table>\n",
       "</div>"
      ],
      "text/plain": [
       "                 time  number   snr_mean   snr_std  snr_max  snr_min  \\\n",
       "594953  1495331989102      12  19.583333  8.458007     38.0      9.0   \n",
       "\n",
       "        time_diff  \n",
       "594953     -294.0  "
      ]
     },
     "execution_count": 107,
     "metadata": {},
     "output_type": "execute_result"
    }
   ],
   "source": [
    "#bag部位的GPS数据集\n",
    "df1 = pd.read_pickle('../SHL2023/data_processed/train/bag_gps.pkl')\n",
    "df1['time_diff']=df1['time'].diff()\n",
    "df1[df1['time_diff']<0]"
   ]
  },
  {
   "cell_type": "code",
   "execution_count": 108,
   "id": "f82de2b9",
   "metadata": {
    "ExecuteTime": {
     "end_time": "2023-05-27T10:35:20.779461Z",
     "start_time": "2023-05-27T10:35:20.764526Z"
    },
    "scrolled": true
   },
   "outputs": [
    {
     "data": {
      "text/html": [
       "<div>\n",
       "<style scoped>\n",
       "    .dataframe tbody tr th:only-of-type {\n",
       "        vertical-align: middle;\n",
       "    }\n",
       "\n",
       "    .dataframe tbody tr th {\n",
       "        vertical-align: top;\n",
       "    }\n",
       "\n",
       "    .dataframe thead th {\n",
       "        text-align: right;\n",
       "    }\n",
       "</style>\n",
       "<table border=\"1\" class=\"dataframe\">\n",
       "  <thead>\n",
       "    <tr style=\"text-align: right;\">\n",
       "      <th></th>\n",
       "      <th>time</th>\n",
       "      <th>number</th>\n",
       "      <th>snr_mean</th>\n",
       "      <th>snr_std</th>\n",
       "      <th>snr_max</th>\n",
       "      <th>snr_min</th>\n",
       "      <th>time_diff</th>\n",
       "    </tr>\n",
       "  </thead>\n",
       "  <tbody>\n",
       "    <tr>\n",
       "      <th>594950</th>\n",
       "      <td>1495331987393</td>\n",
       "      <td>11</td>\n",
       "      <td>21.090909</td>\n",
       "      <td>8.745908</td>\n",
       "      <td>39.0</td>\n",
       "      <td>10.0</td>\n",
       "      <td>996.0</td>\n",
       "    </tr>\n",
       "    <tr>\n",
       "      <th>594951</th>\n",
       "      <td>1495331988402</td>\n",
       "      <td>10</td>\n",
       "      <td>22.000000</td>\n",
       "      <td>8.326664</td>\n",
       "      <td>39.0</td>\n",
       "      <td>11.0</td>\n",
       "      <td>1009.0</td>\n",
       "    </tr>\n",
       "    <tr>\n",
       "      <th>594952</th>\n",
       "      <td>1495331989396</td>\n",
       "      <td>11</td>\n",
       "      <td>20.818182</td>\n",
       "      <td>8.483138</td>\n",
       "      <td>39.0</td>\n",
       "      <td>11.0</td>\n",
       "      <td>994.0</td>\n",
       "    </tr>\n",
       "    <tr>\n",
       "      <th>594953</th>\n",
       "      <td>1495331989102</td>\n",
       "      <td>12</td>\n",
       "      <td>19.583333</td>\n",
       "      <td>8.458007</td>\n",
       "      <td>38.0</td>\n",
       "      <td>9.0</td>\n",
       "      <td>-294.0</td>\n",
       "    </tr>\n",
       "    <tr>\n",
       "      <th>594954</th>\n",
       "      <td>1495331990135</td>\n",
       "      <td>12</td>\n",
       "      <td>19.750000</td>\n",
       "      <td>8.465169</td>\n",
       "      <td>38.0</td>\n",
       "      <td>9.0</td>\n",
       "      <td>1033.0</td>\n",
       "    </tr>\n",
       "    <tr>\n",
       "      <th>594955</th>\n",
       "      <td>1495331991107</td>\n",
       "      <td>13</td>\n",
       "      <td>19.230769</td>\n",
       "      <td>8.417777</td>\n",
       "      <td>37.0</td>\n",
       "      <td>9.0</td>\n",
       "      <td>972.0</td>\n",
       "    </tr>\n",
       "    <tr>\n",
       "      <th>594956</th>\n",
       "      <td>1495331992125</td>\n",
       "      <td>12</td>\n",
       "      <td>20.750000</td>\n",
       "      <td>7.472678</td>\n",
       "      <td>37.0</td>\n",
       "      <td>11.0</td>\n",
       "      <td>1018.0</td>\n",
       "    </tr>\n",
       "    <tr>\n",
       "      <th>594957</th>\n",
       "      <td>1495331993105</td>\n",
       "      <td>13</td>\n",
       "      <td>19.846154</td>\n",
       "      <td>7.548136</td>\n",
       "      <td>37.0</td>\n",
       "      <td>9.0</td>\n",
       "      <td>980.0</td>\n",
       "    </tr>\n",
       "    <tr>\n",
       "      <th>594958</th>\n",
       "      <td>1495331994098</td>\n",
       "      <td>14</td>\n",
       "      <td>19.642857</td>\n",
       "      <td>8.176958</td>\n",
       "      <td>38.0</td>\n",
       "      <td>8.0</td>\n",
       "      <td>993.0</td>\n",
       "    </tr>\n",
       "    <tr>\n",
       "      <th>594959</th>\n",
       "      <td>1495331995101</td>\n",
       "      <td>15</td>\n",
       "      <td>19.133333</td>\n",
       "      <td>8.339807</td>\n",
       "      <td>38.0</td>\n",
       "      <td>9.0</td>\n",
       "      <td>1003.0</td>\n",
       "    </tr>\n",
       "    <tr>\n",
       "      <th>594960</th>\n",
       "      <td>1495331996109</td>\n",
       "      <td>14</td>\n",
       "      <td>19.785714</td>\n",
       "      <td>8.285098</td>\n",
       "      <td>38.0</td>\n",
       "      <td>9.0</td>\n",
       "      <td>1008.0</td>\n",
       "    </tr>\n",
       "  </tbody>\n",
       "</table>\n",
       "</div>"
      ],
      "text/plain": [
       "                 time  number   snr_mean   snr_std  snr_max  snr_min  \\\n",
       "594950  1495331987393      11  21.090909  8.745908     39.0     10.0   \n",
       "594951  1495331988402      10  22.000000  8.326664     39.0     11.0   \n",
       "594952  1495331989396      11  20.818182  8.483138     39.0     11.0   \n",
       "594953  1495331989102      12  19.583333  8.458007     38.0      9.0   \n",
       "594954  1495331990135      12  19.750000  8.465169     38.0      9.0   \n",
       "594955  1495331991107      13  19.230769  8.417777     37.0      9.0   \n",
       "594956  1495331992125      12  20.750000  7.472678     37.0     11.0   \n",
       "594957  1495331993105      13  19.846154  7.548136     37.0      9.0   \n",
       "594958  1495331994098      14  19.642857  8.176958     38.0      8.0   \n",
       "594959  1495331995101      15  19.133333  8.339807     38.0      9.0   \n",
       "594960  1495331996109      14  19.785714  8.285098     38.0      9.0   \n",
       "\n",
       "        time_diff  \n",
       "594950      996.0  \n",
       "594951     1009.0  \n",
       "594952      994.0  \n",
       "594953     -294.0  \n",
       "594954     1033.0  \n",
       "594955      972.0  \n",
       "594956     1018.0  \n",
       "594957      980.0  \n",
       "594958      993.0  \n",
       "594959     1003.0  \n",
       "594960     1008.0  "
      ]
     },
     "execution_count": 108,
     "metadata": {},
     "output_type": "execute_result"
    }
   ],
   "source": [
    "df1.loc[594950:594960]"
   ]
  },
  {
   "attachments": {},
   "cell_type": "markdown",
   "id": "1fa0de30",
   "metadata": {},
   "source": [
    "该数据集时间倒退时卫星信息状态良好，所以解决的方法是根据前后时间戳数据重新计算该点时间戳数据"
   ]
  },
  {
   "cell_type": "code",
   "execution_count": 109,
   "id": "3f764f6a",
   "metadata": {
    "ExecuteTime": {
     "end_time": "2023-05-27T10:35:26.328039Z",
     "start_time": "2023-05-27T10:35:26.299841Z"
    }
   },
   "outputs": [
    {
     "data": {
      "text/html": [
       "<div>\n",
       "<style scoped>\n",
       "    .dataframe tbody tr th:only-of-type {\n",
       "        vertical-align: middle;\n",
       "    }\n",
       "\n",
       "    .dataframe tbody tr th {\n",
       "        vertical-align: top;\n",
       "    }\n",
       "\n",
       "    .dataframe thead th {\n",
       "        text-align: right;\n",
       "    }\n",
       "</style>\n",
       "<table border=\"1\" class=\"dataframe\">\n",
       "  <thead>\n",
       "    <tr style=\"text-align: right;\">\n",
       "      <th></th>\n",
       "      <th>time</th>\n",
       "      <th>number</th>\n",
       "      <th>snr_mean</th>\n",
       "      <th>snr_std</th>\n",
       "      <th>snr_max</th>\n",
       "      <th>snr_min</th>\n",
       "      <th>time_diff</th>\n",
       "    </tr>\n",
       "  </thead>\n",
       "  <tbody>\n",
       "    <tr>\n",
       "      <th>594950</th>\n",
       "      <td>1495331987393</td>\n",
       "      <td>11</td>\n",
       "      <td>21.090909</td>\n",
       "      <td>8.745908</td>\n",
       "      <td>39.0</td>\n",
       "      <td>10.0</td>\n",
       "      <td>996.0</td>\n",
       "    </tr>\n",
       "    <tr>\n",
       "      <th>594951</th>\n",
       "      <td>1495331988402</td>\n",
       "      <td>10</td>\n",
       "      <td>22.000000</td>\n",
       "      <td>8.326664</td>\n",
       "      <td>39.0</td>\n",
       "      <td>11.0</td>\n",
       "      <td>1009.0</td>\n",
       "    </tr>\n",
       "    <tr>\n",
       "      <th>594952</th>\n",
       "      <td>1495331989396</td>\n",
       "      <td>11</td>\n",
       "      <td>20.818182</td>\n",
       "      <td>8.483138</td>\n",
       "      <td>39.0</td>\n",
       "      <td>11.0</td>\n",
       "      <td>994.0</td>\n",
       "    </tr>\n",
       "    <tr>\n",
       "      <th>594953</th>\n",
       "      <td>1495331989766</td>\n",
       "      <td>12</td>\n",
       "      <td>19.583333</td>\n",
       "      <td>8.458007</td>\n",
       "      <td>38.0</td>\n",
       "      <td>9.0</td>\n",
       "      <td>370.0</td>\n",
       "    </tr>\n",
       "    <tr>\n",
       "      <th>594954</th>\n",
       "      <td>1495331990135</td>\n",
       "      <td>12</td>\n",
       "      <td>19.750000</td>\n",
       "      <td>8.465169</td>\n",
       "      <td>38.0</td>\n",
       "      <td>9.0</td>\n",
       "      <td>369.0</td>\n",
       "    </tr>\n",
       "    <tr>\n",
       "      <th>594955</th>\n",
       "      <td>1495331991107</td>\n",
       "      <td>13</td>\n",
       "      <td>19.230769</td>\n",
       "      <td>8.417777</td>\n",
       "      <td>37.0</td>\n",
       "      <td>9.0</td>\n",
       "      <td>972.0</td>\n",
       "    </tr>\n",
       "    <tr>\n",
       "      <th>594956</th>\n",
       "      <td>1495331992125</td>\n",
       "      <td>12</td>\n",
       "      <td>20.750000</td>\n",
       "      <td>7.472678</td>\n",
       "      <td>37.0</td>\n",
       "      <td>11.0</td>\n",
       "      <td>1018.0</td>\n",
       "    </tr>\n",
       "    <tr>\n",
       "      <th>594957</th>\n",
       "      <td>1495331993105</td>\n",
       "      <td>13</td>\n",
       "      <td>19.846154</td>\n",
       "      <td>7.548136</td>\n",
       "      <td>37.0</td>\n",
       "      <td>9.0</td>\n",
       "      <td>980.0</td>\n",
       "    </tr>\n",
       "    <tr>\n",
       "      <th>594958</th>\n",
       "      <td>1495331994098</td>\n",
       "      <td>14</td>\n",
       "      <td>19.642857</td>\n",
       "      <td>8.176958</td>\n",
       "      <td>38.0</td>\n",
       "      <td>8.0</td>\n",
       "      <td>993.0</td>\n",
       "    </tr>\n",
       "    <tr>\n",
       "      <th>594959</th>\n",
       "      <td>1495331995101</td>\n",
       "      <td>15</td>\n",
       "      <td>19.133333</td>\n",
       "      <td>8.339807</td>\n",
       "      <td>38.0</td>\n",
       "      <td>9.0</td>\n",
       "      <td>1003.0</td>\n",
       "    </tr>\n",
       "    <tr>\n",
       "      <th>594960</th>\n",
       "      <td>1495331996109</td>\n",
       "      <td>14</td>\n",
       "      <td>19.785714</td>\n",
       "      <td>8.285098</td>\n",
       "      <td>38.0</td>\n",
       "      <td>9.0</td>\n",
       "      <td>1008.0</td>\n",
       "    </tr>\n",
       "  </tbody>\n",
       "</table>\n",
       "</div>"
      ],
      "text/plain": [
       "                 time  number   snr_mean   snr_std  snr_max  snr_min  \\\n",
       "594950  1495331987393      11  21.090909  8.745908     39.0     10.0   \n",
       "594951  1495331988402      10  22.000000  8.326664     39.0     11.0   \n",
       "594952  1495331989396      11  20.818182  8.483138     39.0     11.0   \n",
       "594953  1495331989766      12  19.583333  8.458007     38.0      9.0   \n",
       "594954  1495331990135      12  19.750000  8.465169     38.0      9.0   \n",
       "594955  1495331991107      13  19.230769  8.417777     37.0      9.0   \n",
       "594956  1495331992125      12  20.750000  7.472678     37.0     11.0   \n",
       "594957  1495331993105      13  19.846154  7.548136     37.0      9.0   \n",
       "594958  1495331994098      14  19.642857  8.176958     38.0      8.0   \n",
       "594959  1495331995101      15  19.133333  8.339807     38.0      9.0   \n",
       "594960  1495331996109      14  19.785714  8.285098     38.0      9.0   \n",
       "\n",
       "        time_diff  \n",
       "594950      996.0  \n",
       "594951     1009.0  \n",
       "594952      994.0  \n",
       "594953      370.0  \n",
       "594954      369.0  \n",
       "594955      972.0  \n",
       "594956     1018.0  \n",
       "594957      980.0  \n",
       "594958      993.0  \n",
       "594959     1003.0  \n",
       "594960     1008.0  "
      ]
     },
     "execution_count": 109,
     "metadata": {},
     "output_type": "execute_result"
    }
   ],
   "source": [
    "df1.loc[594953,'time']=round((df1['time'][594954]+df1['time'][594952])/2)\n",
    "df1['time_diff']=df1['time'].diff()\n",
    "df1.loc[594950:594960]"
   ]
  },
  {
   "cell_type": "code",
   "execution_count": 110,
   "id": "01f72d40",
   "metadata": {
    "ExecuteTime": {
     "end_time": "2023-05-27T10:35:39.786142Z",
     "start_time": "2023-05-27T10:35:39.342476Z"
    }
   },
   "outputs": [],
   "source": [
    "df1.drop(labels='time_diff', axis=1, inplace=True)\n",
    "df1.to_pickle('../SHL2023/data_processed/train/bag_gps.pkl')"
   ]
  },
  {
   "cell_type": "code",
   "execution_count": 111,
   "id": "55b0894e",
   "metadata": {
    "ExecuteTime": {
     "end_time": "2023-05-27T10:35:52.924898Z",
     "start_time": "2023-05-27T10:35:52.798388Z"
    }
   },
   "outputs": [
    {
     "data": {
      "text/html": [
       "<div>\n",
       "<style scoped>\n",
       "    .dataframe tbody tr th:only-of-type {\n",
       "        vertical-align: middle;\n",
       "    }\n",
       "\n",
       "    .dataframe tbody tr th {\n",
       "        vertical-align: top;\n",
       "    }\n",
       "\n",
       "    .dataframe thead th {\n",
       "        text-align: right;\n",
       "    }\n",
       "</style>\n",
       "<table border=\"1\" class=\"dataframe\">\n",
       "  <thead>\n",
       "    <tr style=\"text-align: right;\">\n",
       "      <th></th>\n",
       "      <th>time</th>\n",
       "      <th>number</th>\n",
       "      <th>snr_mean</th>\n",
       "      <th>snr_std</th>\n",
       "      <th>snr_max</th>\n",
       "      <th>snr_min</th>\n",
       "      <th>time_diff</th>\n",
       "    </tr>\n",
       "  </thead>\n",
       "  <tbody>\n",
       "  </tbody>\n",
       "</table>\n",
       "</div>"
      ],
      "text/plain": [
       "Empty DataFrame\n",
       "Columns: [time, number, snr_mean, snr_std, snr_max, snr_min, time_diff]\n",
       "Index: []"
      ]
     },
     "execution_count": 111,
     "metadata": {},
     "output_type": "execute_result"
    }
   ],
   "source": [
    "#torso部位的GPS数据集\n",
    "df2 = pd.read_pickle('../SHL2023/data_processed/train/torso_gps.pkl')\n",
    "df2['time_diff']=df2['time'].diff()\n",
    "df2[df2['time_diff']<0]"
   ]
  },
  {
   "cell_type": "code",
   "execution_count": 59,
   "id": "97d9cdba",
   "metadata": {
    "ExecuteTime": {
     "end_time": "2023-05-27T09:43:47.754954Z",
     "start_time": "2023-05-27T09:43:47.739570Z"
    }
   },
   "outputs": [
    {
     "data": {
      "text/html": [
       "<div>\n",
       "<style scoped>\n",
       "    .dataframe tbody tr th:only-of-type {\n",
       "        vertical-align: middle;\n",
       "    }\n",
       "\n",
       "    .dataframe tbody tr th {\n",
       "        vertical-align: top;\n",
       "    }\n",
       "\n",
       "    .dataframe thead th {\n",
       "        text-align: right;\n",
       "    }\n",
       "</style>\n",
       "<table border=\"1\" class=\"dataframe\">\n",
       "  <thead>\n",
       "    <tr style=\"text-align: right;\">\n",
       "      <th></th>\n",
       "      <th>time</th>\n",
       "      <th>number</th>\n",
       "      <th>snr_mean</th>\n",
       "      <th>snr_std</th>\n",
       "      <th>snr_max</th>\n",
       "      <th>snr_min</th>\n",
       "      <th>time_diff</th>\n",
       "    </tr>\n",
       "  </thead>\n",
       "  <tbody>\n",
       "    <tr>\n",
       "      <th>74544</th>\n",
       "      <td>1490697239073</td>\n",
       "      <td>0</td>\n",
       "      <td>0.0</td>\n",
       "      <td>0.0</td>\n",
       "      <td>0.0</td>\n",
       "      <td>0.0</td>\n",
       "      <td>1006.0</td>\n",
       "    </tr>\n",
       "    <tr>\n",
       "      <th>74545</th>\n",
       "      <td>1490697240063</td>\n",
       "      <td>0</td>\n",
       "      <td>0.0</td>\n",
       "      <td>0.0</td>\n",
       "      <td>0.0</td>\n",
       "      <td>0.0</td>\n",
       "      <td>990.0</td>\n",
       "    </tr>\n",
       "    <tr>\n",
       "      <th>74546</th>\n",
       "      <td>1490697241064</td>\n",
       "      <td>0</td>\n",
       "      <td>0.0</td>\n",
       "      <td>0.0</td>\n",
       "      <td>0.0</td>\n",
       "      <td>0.0</td>\n",
       "      <td>1001.0</td>\n",
       "    </tr>\n",
       "    <tr>\n",
       "      <th>74547</th>\n",
       "      <td>1490697242067</td>\n",
       "      <td>0</td>\n",
       "      <td>0.0</td>\n",
       "      <td>0.0</td>\n",
       "      <td>0.0</td>\n",
       "      <td>0.0</td>\n",
       "      <td>1003.0</td>\n",
       "    </tr>\n",
       "    <tr>\n",
       "      <th>74548</th>\n",
       "      <td>1490697243067</td>\n",
       "      <td>0</td>\n",
       "      <td>0.0</td>\n",
       "      <td>0.0</td>\n",
       "      <td>0.0</td>\n",
       "      <td>0.0</td>\n",
       "      <td>1000.0</td>\n",
       "    </tr>\n",
       "    <tr>\n",
       "      <th>74549</th>\n",
       "      <td>1490697240730</td>\n",
       "      <td>0</td>\n",
       "      <td>0.0</td>\n",
       "      <td>0.0</td>\n",
       "      <td>0.0</td>\n",
       "      <td>0.0</td>\n",
       "      <td>-2337.0</td>\n",
       "    </tr>\n",
       "    <tr>\n",
       "      <th>74550</th>\n",
       "      <td>1490697241720</td>\n",
       "      <td>0</td>\n",
       "      <td>0.0</td>\n",
       "      <td>0.0</td>\n",
       "      <td>0.0</td>\n",
       "      <td>0.0</td>\n",
       "      <td>990.0</td>\n",
       "    </tr>\n",
       "    <tr>\n",
       "      <th>74551</th>\n",
       "      <td>1490697242719</td>\n",
       "      <td>0</td>\n",
       "      <td>0.0</td>\n",
       "      <td>0.0</td>\n",
       "      <td>0.0</td>\n",
       "      <td>0.0</td>\n",
       "      <td>999.0</td>\n",
       "    </tr>\n",
       "    <tr>\n",
       "      <th>74552</th>\n",
       "      <td>1490697243725</td>\n",
       "      <td>0</td>\n",
       "      <td>0.0</td>\n",
       "      <td>0.0</td>\n",
       "      <td>0.0</td>\n",
       "      <td>0.0</td>\n",
       "      <td>1006.0</td>\n",
       "    </tr>\n",
       "    <tr>\n",
       "      <th>74553</th>\n",
       "      <td>1490697244720</td>\n",
       "      <td>0</td>\n",
       "      <td>0.0</td>\n",
       "      <td>0.0</td>\n",
       "      <td>0.0</td>\n",
       "      <td>0.0</td>\n",
       "      <td>995.0</td>\n",
       "    </tr>\n",
       "    <tr>\n",
       "      <th>74554</th>\n",
       "      <td>1490697245726</td>\n",
       "      <td>0</td>\n",
       "      <td>0.0</td>\n",
       "      <td>0.0</td>\n",
       "      <td>0.0</td>\n",
       "      <td>0.0</td>\n",
       "      <td>1006.0</td>\n",
       "    </tr>\n",
       "  </tbody>\n",
       "</table>\n",
       "</div>"
      ],
      "text/plain": [
       "                time  number  snr_mean  snr_std  snr_max  snr_min  time_diff\n",
       "74544  1490697239073       0       0.0      0.0      0.0      0.0     1006.0\n",
       "74545  1490697240063       0       0.0      0.0      0.0      0.0      990.0\n",
       "74546  1490697241064       0       0.0      0.0      0.0      0.0     1001.0\n",
       "74547  1490697242067       0       0.0      0.0      0.0      0.0     1003.0\n",
       "74548  1490697243067       0       0.0      0.0      0.0      0.0     1000.0\n",
       "74549  1490697240730       0       0.0      0.0      0.0      0.0    -2337.0\n",
       "74550  1490697241720       0       0.0      0.0      0.0      0.0      990.0\n",
       "74551  1490697242719       0       0.0      0.0      0.0      0.0      999.0\n",
       "74552  1490697243725       0       0.0      0.0      0.0      0.0     1006.0\n",
       "74553  1490697244720       0       0.0      0.0      0.0      0.0      995.0\n",
       "74554  1490697245726       0       0.0      0.0      0.0      0.0     1006.0"
      ]
     },
     "execution_count": 59,
     "metadata": {},
     "output_type": "execute_result"
    }
   ],
   "source": [
    "df2.loc[74544:74554]"
   ]
  },
  {
   "attachments": {},
   "cell_type": "markdown",
   "id": "cb40e0ff",
   "metadata": {},
   "source": [
    "注意到出现倒退前后的GPS数据不能接收到卫星信息，所以出现倒退的原因是因为无卫星信号导致的估算出错。解决方法是根据有卫星信号的时刻重新估算时间戳。（本质上没有影响）"
   ]
  },
  {
   "cell_type": "code",
   "execution_count": 60,
   "id": "147fa795",
   "metadata": {
    "ExecuteTime": {
     "end_time": "2023-05-27T09:44:01.870484Z",
     "start_time": "2023-05-27T09:44:01.812624Z"
    }
   },
   "outputs": [
    {
     "data": {
      "text/html": [
       "<div>\n",
       "<style scoped>\n",
       "    .dataframe tbody tr th:only-of-type {\n",
       "        vertical-align: middle;\n",
       "    }\n",
       "\n",
       "    .dataframe tbody tr th {\n",
       "        vertical-align: top;\n",
       "    }\n",
       "\n",
       "    .dataframe thead th {\n",
       "        text-align: right;\n",
       "    }\n",
       "</style>\n",
       "<table border=\"1\" class=\"dataframe\">\n",
       "  <thead>\n",
       "    <tr style=\"text-align: right;\">\n",
       "      <th></th>\n",
       "      <th>time</th>\n",
       "      <th>number</th>\n",
       "      <th>snr_mean</th>\n",
       "      <th>snr_std</th>\n",
       "      <th>snr_max</th>\n",
       "      <th>snr_min</th>\n",
       "      <th>time_diff</th>\n",
       "    </tr>\n",
       "  </thead>\n",
       "  <tbody>\n",
       "    <tr>\n",
       "      <th>74421</th>\n",
       "      <td>1490697116080</td>\n",
       "      <td>1</td>\n",
       "      <td>9.000000</td>\n",
       "      <td>0.000000</td>\n",
       "      <td>9.0</td>\n",
       "      <td>9.0</td>\n",
       "      <td>1000.0</td>\n",
       "    </tr>\n",
       "    <tr>\n",
       "      <th>74426</th>\n",
       "      <td>1490697121084</td>\n",
       "      <td>1</td>\n",
       "      <td>10.000000</td>\n",
       "      <td>0.000000</td>\n",
       "      <td>10.0</td>\n",
       "      <td>10.0</td>\n",
       "      <td>1000.0</td>\n",
       "    </tr>\n",
       "    <tr>\n",
       "      <th>74427</th>\n",
       "      <td>1490697122082</td>\n",
       "      <td>1</td>\n",
       "      <td>10.000000</td>\n",
       "      <td>0.000000</td>\n",
       "      <td>10.0</td>\n",
       "      <td>10.0</td>\n",
       "      <td>998.0</td>\n",
       "    </tr>\n",
       "    <tr>\n",
       "      <th>74864</th>\n",
       "      <td>1490698464449</td>\n",
       "      <td>1</td>\n",
       "      <td>10.000000</td>\n",
       "      <td>0.000000</td>\n",
       "      <td>10.0</td>\n",
       "      <td>10.0</td>\n",
       "      <td>1015.0</td>\n",
       "    </tr>\n",
       "    <tr>\n",
       "      <th>74865</th>\n",
       "      <td>1490698465453</td>\n",
       "      <td>2</td>\n",
       "      <td>21.000000</td>\n",
       "      <td>5.656854</td>\n",
       "      <td>25.0</td>\n",
       "      <td>17.0</td>\n",
       "      <td>1004.0</td>\n",
       "    </tr>\n",
       "    <tr>\n",
       "      <th>...</th>\n",
       "      <td>...</td>\n",
       "      <td>...</td>\n",
       "      <td>...</td>\n",
       "      <td>...</td>\n",
       "      <td>...</td>\n",
       "      <td>...</td>\n",
       "      <td>...</td>\n",
       "    </tr>\n",
       "    <tr>\n",
       "      <th>74996</th>\n",
       "      <td>1490698595843</td>\n",
       "      <td>11</td>\n",
       "      <td>19.000000</td>\n",
       "      <td>3.898718</td>\n",
       "      <td>23.0</td>\n",
       "      <td>9.0</td>\n",
       "      <td>997.0</td>\n",
       "    </tr>\n",
       "    <tr>\n",
       "      <th>74997</th>\n",
       "      <td>1490698596837</td>\n",
       "      <td>11</td>\n",
       "      <td>19.090909</td>\n",
       "      <td>4.036200</td>\n",
       "      <td>23.0</td>\n",
       "      <td>9.0</td>\n",
       "      <td>994.0</td>\n",
       "    </tr>\n",
       "    <tr>\n",
       "      <th>74998</th>\n",
       "      <td>1490698597848</td>\n",
       "      <td>12</td>\n",
       "      <td>18.416667</td>\n",
       "      <td>4.699291</td>\n",
       "      <td>24.0</td>\n",
       "      <td>9.0</td>\n",
       "      <td>1011.0</td>\n",
       "    </tr>\n",
       "    <tr>\n",
       "      <th>74999</th>\n",
       "      <td>1490698598844</td>\n",
       "      <td>13</td>\n",
       "      <td>17.923077</td>\n",
       "      <td>5.106557</td>\n",
       "      <td>24.0</td>\n",
       "      <td>9.0</td>\n",
       "      <td>996.0</td>\n",
       "    </tr>\n",
       "    <tr>\n",
       "      <th>75000</th>\n",
       "      <td>1490698599844</td>\n",
       "      <td>13</td>\n",
       "      <td>17.923077</td>\n",
       "      <td>5.090212</td>\n",
       "      <td>25.0</td>\n",
       "      <td>9.0</td>\n",
       "      <td>1000.0</td>\n",
       "    </tr>\n",
       "  </tbody>\n",
       "</table>\n",
       "<p>140 rows × 7 columns</p>\n",
       "</div>"
      ],
      "text/plain": [
       "                time  number   snr_mean   snr_std  snr_max  snr_min  time_diff\n",
       "74421  1490697116080       1   9.000000  0.000000      9.0      9.0     1000.0\n",
       "74426  1490697121084       1  10.000000  0.000000     10.0     10.0     1000.0\n",
       "74427  1490697122082       1  10.000000  0.000000     10.0     10.0      998.0\n",
       "74864  1490698464449       1  10.000000  0.000000     10.0     10.0     1015.0\n",
       "74865  1490698465453       2  21.000000  5.656854     25.0     17.0     1004.0\n",
       "...              ...     ...        ...       ...      ...      ...        ...\n",
       "74996  1490698595843      11  19.000000  3.898718     23.0      9.0      997.0\n",
       "74997  1490698596837      11  19.090909  4.036200     23.0      9.0      994.0\n",
       "74998  1490698597848      12  18.416667  4.699291     24.0      9.0     1011.0\n",
       "74999  1490698598844      13  17.923077  5.106557     24.0      9.0      996.0\n",
       "75000  1490698599844      13  17.923077  5.090212     25.0      9.0     1000.0\n",
       "\n",
       "[140 rows x 7 columns]"
      ]
     },
     "execution_count": 60,
     "metadata": {},
     "output_type": "execute_result"
    }
   ],
   "source": [
    "df2_1=df2.loc[df2['number']!=0]\n",
    "df2_1.loc[74000:75000]"
   ]
  },
  {
   "attachments": {},
   "cell_type": "markdown",
   "id": "bca56c66",
   "metadata": {},
   "source": [
    "由上图可以得知倒退时间戳前后重新拥有卫星信息的的数据分别为第74427项和第74864项"
   ]
  },
  {
   "cell_type": "code",
   "execution_count": 61,
   "id": "a5b8b76f",
   "metadata": {
    "ExecuteTime": {
     "end_time": "2023-05-27T09:44:29.465102Z",
     "start_time": "2023-05-27T09:44:29.460629Z"
    }
   },
   "outputs": [
    {
     "data": {
      "text/plain": [
       "3071.7780320366132"
      ]
     },
     "execution_count": 61,
     "metadata": {},
     "output_type": "execute_result"
    }
   ],
   "source": [
    "#计算线性插值每一项的跳跃\n",
    "idx_diff=74864-74427\n",
    "time_diff=1490698464449-1490697122082\n",
    "step=time_diff/(idx_diff)\n",
    "step"
   ]
  },
  {
   "cell_type": "code",
   "execution_count": 62,
   "id": "c688f55a",
   "metadata": {
    "ExecuteTime": {
     "end_time": "2023-05-27T09:44:38.335737Z",
     "start_time": "2023-05-27T09:44:38.332023Z"
    }
   },
   "outputs": [],
   "source": [
    "time=[]\n",
    "tmp=1490697122082\n",
    "for i in range(74428,74864):\n",
    "    tmp+=step\n",
    "    time.append(round(tmp))"
   ]
  },
  {
   "cell_type": "code",
   "execution_count": 63,
   "id": "efb5b4fb",
   "metadata": {
    "ExecuteTime": {
     "end_time": "2023-05-27T09:44:58.061084Z",
     "start_time": "2023-05-27T09:44:58.028986Z"
    }
   },
   "outputs": [
    {
     "data": {
      "text/html": [
       "<div>\n",
       "<style scoped>\n",
       "    .dataframe tbody tr th:only-of-type {\n",
       "        vertical-align: middle;\n",
       "    }\n",
       "\n",
       "    .dataframe tbody tr th {\n",
       "        vertical-align: top;\n",
       "    }\n",
       "\n",
       "    .dataframe thead th {\n",
       "        text-align: right;\n",
       "    }\n",
       "</style>\n",
       "<table border=\"1\" class=\"dataframe\">\n",
       "  <thead>\n",
       "    <tr style=\"text-align: right;\">\n",
       "      <th></th>\n",
       "      <th>time</th>\n",
       "      <th>number</th>\n",
       "      <th>snr_mean</th>\n",
       "      <th>snr_std</th>\n",
       "      <th>snr_max</th>\n",
       "      <th>snr_min</th>\n",
       "      <th>time_diff</th>\n",
       "    </tr>\n",
       "  </thead>\n",
       "  <tbody>\n",
       "    <tr>\n",
       "      <th>74544</th>\n",
       "      <td>1490697481480</td>\n",
       "      <td>0</td>\n",
       "      <td>0.0</td>\n",
       "      <td>0.0</td>\n",
       "      <td>0.0</td>\n",
       "      <td>0.0</td>\n",
       "      <td>3072.0</td>\n",
       "    </tr>\n",
       "    <tr>\n",
       "      <th>74545</th>\n",
       "      <td>1490697484552</td>\n",
       "      <td>0</td>\n",
       "      <td>0.0</td>\n",
       "      <td>0.0</td>\n",
       "      <td>0.0</td>\n",
       "      <td>0.0</td>\n",
       "      <td>3072.0</td>\n",
       "    </tr>\n",
       "    <tr>\n",
       "      <th>74546</th>\n",
       "      <td>1490697487624</td>\n",
       "      <td>0</td>\n",
       "      <td>0.0</td>\n",
       "      <td>0.0</td>\n",
       "      <td>0.0</td>\n",
       "      <td>0.0</td>\n",
       "      <td>3072.0</td>\n",
       "    </tr>\n",
       "    <tr>\n",
       "      <th>74547</th>\n",
       "      <td>1490697490695</td>\n",
       "      <td>0</td>\n",
       "      <td>0.0</td>\n",
       "      <td>0.0</td>\n",
       "      <td>0.0</td>\n",
       "      <td>0.0</td>\n",
       "      <td>3071.0</td>\n",
       "    </tr>\n",
       "    <tr>\n",
       "      <th>74548</th>\n",
       "      <td>1490697493767</td>\n",
       "      <td>0</td>\n",
       "      <td>0.0</td>\n",
       "      <td>0.0</td>\n",
       "      <td>0.0</td>\n",
       "      <td>0.0</td>\n",
       "      <td>3072.0</td>\n",
       "    </tr>\n",
       "    <tr>\n",
       "      <th>74549</th>\n",
       "      <td>1490697496839</td>\n",
       "      <td>0</td>\n",
       "      <td>0.0</td>\n",
       "      <td>0.0</td>\n",
       "      <td>0.0</td>\n",
       "      <td>0.0</td>\n",
       "      <td>3072.0</td>\n",
       "    </tr>\n",
       "    <tr>\n",
       "      <th>74550</th>\n",
       "      <td>1490697499911</td>\n",
       "      <td>0</td>\n",
       "      <td>0.0</td>\n",
       "      <td>0.0</td>\n",
       "      <td>0.0</td>\n",
       "      <td>0.0</td>\n",
       "      <td>3072.0</td>\n",
       "    </tr>\n",
       "    <tr>\n",
       "      <th>74551</th>\n",
       "      <td>1490697502982</td>\n",
       "      <td>0</td>\n",
       "      <td>0.0</td>\n",
       "      <td>0.0</td>\n",
       "      <td>0.0</td>\n",
       "      <td>0.0</td>\n",
       "      <td>3071.0</td>\n",
       "    </tr>\n",
       "    <tr>\n",
       "      <th>74552</th>\n",
       "      <td>1490697506054</td>\n",
       "      <td>0</td>\n",
       "      <td>0.0</td>\n",
       "      <td>0.0</td>\n",
       "      <td>0.0</td>\n",
       "      <td>0.0</td>\n",
       "      <td>3072.0</td>\n",
       "    </tr>\n",
       "    <tr>\n",
       "      <th>74553</th>\n",
       "      <td>1490697509126</td>\n",
       "      <td>0</td>\n",
       "      <td>0.0</td>\n",
       "      <td>0.0</td>\n",
       "      <td>0.0</td>\n",
       "      <td>0.0</td>\n",
       "      <td>3072.0</td>\n",
       "    </tr>\n",
       "    <tr>\n",
       "      <th>74554</th>\n",
       "      <td>1490697512198</td>\n",
       "      <td>0</td>\n",
       "      <td>0.0</td>\n",
       "      <td>0.0</td>\n",
       "      <td>0.0</td>\n",
       "      <td>0.0</td>\n",
       "      <td>3072.0</td>\n",
       "    </tr>\n",
       "  </tbody>\n",
       "</table>\n",
       "</div>"
      ],
      "text/plain": [
       "                time  number  snr_mean  snr_std  snr_max  snr_min  time_diff\n",
       "74544  1490697481480       0       0.0      0.0      0.0      0.0     3072.0\n",
       "74545  1490697484552       0       0.0      0.0      0.0      0.0     3072.0\n",
       "74546  1490697487624       0       0.0      0.0      0.0      0.0     3072.0\n",
       "74547  1490697490695       0       0.0      0.0      0.0      0.0     3071.0\n",
       "74548  1490697493767       0       0.0      0.0      0.0      0.0     3072.0\n",
       "74549  1490697496839       0       0.0      0.0      0.0      0.0     3072.0\n",
       "74550  1490697499911       0       0.0      0.0      0.0      0.0     3072.0\n",
       "74551  1490697502982       0       0.0      0.0      0.0      0.0     3071.0\n",
       "74552  1490697506054       0       0.0      0.0      0.0      0.0     3072.0\n",
       "74553  1490697509126       0       0.0      0.0      0.0      0.0     3072.0\n",
       "74554  1490697512198       0       0.0      0.0      0.0      0.0     3072.0"
      ]
     },
     "execution_count": 63,
     "metadata": {},
     "output_type": "execute_result"
    }
   ],
   "source": [
    "df2.loc[74428:74863,'time']=time\n",
    "df2['time_diff']=df2['time'].diff()\n",
    "df2.loc[74544:74554]"
   ]
  },
  {
   "cell_type": "code",
   "execution_count": 64,
   "id": "2b512165",
   "metadata": {
    "ExecuteTime": {
     "end_time": "2023-05-27T09:45:13.236163Z",
     "start_time": "2023-05-27T09:45:12.788670Z"
    }
   },
   "outputs": [],
   "source": [
    "df2.drop(labels='time_diff', axis=1, inplace=True)\n",
    "df2.to_pickle('../SHL2023/data_processed/train/torso_gps.pkl')"
   ]
  },
  {
   "attachments": {},
   "cell_type": "markdown",
   "id": "55c23cdb",
   "metadata": {},
   "source": [
    "## 验证集"
   ]
  },
  {
   "cell_type": "code",
   "execution_count": 72,
   "id": "b481d782",
   "metadata": {
    "ExecuteTime": {
     "end_time": "2023-05-27T09:57:25.502590Z",
     "start_time": "2023-05-27T09:57:24.538519Z"
    }
   },
   "outputs": [
    {
     "name": "stdout",
     "output_type": "stream",
     "text": [
      "__________Loading__________\n",
      "数据转化完成，用时 0.2974724769592285s\n",
      "__________Loading__________\n",
      "数据转化完成，用时 0.21510672569274902s\n",
      "__________Loading__________\n",
      "数据转化完成，用时 0.23590445518493652s\n",
      "__________Loading__________\n",
      "数据转化完成，用时 0.20918035507202148s\n"
     ]
    }
   ],
   "source": [
    "#验证集\n",
    "file_dir = \"../SHL2023/data_processed/validate/\"\n",
    "df1_list = ['hand_gps_full.pkl', 'torso_gps_full.pkl', 'bag_gps_full.pkl','hips_gps_full.pkl']\n",
    "df2_list = ['hand_gps_detail_full.pkl', 'torso_gps_detail_full.pkl','bag_gps_detail_full.pkl', 'hips_gps_detail_full.pkl']\n",
    "df_list = ['hand_gps.pkl', 'torso_gps.pkl', 'bag_gps.pkl', 'hips_gps.pkl']\n",
    "\n",
    "for i in range(4):\n",
    "    start = time.time()\n",
    "    print('__________Loading__________')\n",
    "    df1 = pd.read_pickle(file_dir + df1_list[i])\n",
    "    df2 = pd.read_pickle(file_dir + df2_list[i])\n",
    "    df = merge_GPS(df1, df2)\n",
    "    df.to_pickle(\"../SHL2023/data_processed/validate/\" + df_list[i])\n",
    "    end = time.time()\n",
    "    print(\"数据转化完成，用时 {}s\".format(end - start))"
   ]
  },
  {
   "attachments": {},
   "cell_type": "markdown",
   "id": "08538fd7",
   "metadata": {},
   "source": [
    "## 测试集"
   ]
  },
  {
   "cell_type": "code",
   "execution_count": 10,
   "id": "ab2e8f71",
   "metadata": {},
   "outputs": [
    {
     "data": {
      "text/html": [
       "<div>\n",
       "<style scoped>\n",
       "    .dataframe tbody tr th:only-of-type {\n",
       "        vertical-align: middle;\n",
       "    }\n",
       "\n",
       "    .dataframe tbody tr th {\n",
       "        vertical-align: top;\n",
       "    }\n",
       "\n",
       "    .dataframe thead th {\n",
       "        text-align: right;\n",
       "    }\n",
       "</style>\n",
       "<table border=\"1\" class=\"dataframe\">\n",
       "  <thead>\n",
       "    <tr style=\"text-align: right;\">\n",
       "      <th></th>\n",
       "      <th>time</th>\n",
       "      <th>number</th>\n",
       "      <th>snr_mean</th>\n",
       "      <th>snr_std</th>\n",
       "      <th>snr_max</th>\n",
       "      <th>snr_min</th>\n",
       "    </tr>\n",
       "  </thead>\n",
       "  <tbody>\n",
       "    <tr>\n",
       "      <th>0</th>\n",
       "      <td>2497349206420</td>\n",
       "      <td>0</td>\n",
       "      <td>0.0</td>\n",
       "      <td>0.0</td>\n",
       "      <td>0.0</td>\n",
       "      <td>0.0</td>\n",
       "    </tr>\n",
       "    <tr>\n",
       "      <th>1</th>\n",
       "      <td>2497349207381</td>\n",
       "      <td>0</td>\n",
       "      <td>0.0</td>\n",
       "      <td>0.0</td>\n",
       "      <td>0.0</td>\n",
       "      <td>0.0</td>\n",
       "    </tr>\n",
       "    <tr>\n",
       "      <th>2</th>\n",
       "      <td>2497349208373</td>\n",
       "      <td>0</td>\n",
       "      <td>0.0</td>\n",
       "      <td>0.0</td>\n",
       "      <td>0.0</td>\n",
       "      <td>0.0</td>\n",
       "    </tr>\n",
       "    <tr>\n",
       "      <th>3</th>\n",
       "      <td>2497349209367</td>\n",
       "      <td>0</td>\n",
       "      <td>0.0</td>\n",
       "      <td>0.0</td>\n",
       "      <td>0.0</td>\n",
       "      <td>0.0</td>\n",
       "    </tr>\n",
       "    <tr>\n",
       "      <th>4</th>\n",
       "      <td>2497349210383</td>\n",
       "      <td>0</td>\n",
       "      <td>0.0</td>\n",
       "      <td>0.0</td>\n",
       "      <td>0.0</td>\n",
       "      <td>0.0</td>\n",
       "    </tr>\n",
       "  </tbody>\n",
       "</table>\n",
       "</div>"
      ],
      "text/plain": [
       "            time  number  snr_mean  snr_std  snr_max  snr_min\n",
       "0  2497349206420       0       0.0      0.0      0.0      0.0\n",
       "1  2497349207381       0       0.0      0.0      0.0      0.0\n",
       "2  2497349208373       0       0.0      0.0      0.0      0.0\n",
       "3  2497349209367       0       0.0      0.0      0.0      0.0\n",
       "4  2497349210383       0       0.0      0.0      0.0      0.0"
      ]
     },
     "execution_count": 10,
     "metadata": {},
     "output_type": "execute_result"
    }
   ],
   "source": [
    "df1 = pd.read_pickle('/home/dengjiebi/SHL2023/data_test/test_gps.pkl')\n",
    "df2 = pd.read_pickle('/home/dengjiebi/SHL2023/data_test/test_gps_detail.pkl')\n",
    "df=merge_GPS(df1,df2)\n",
    "df.head()"
   ]
  },
  {
   "cell_type": "code",
   "execution_count": 11,
   "id": "ffb5267a",
   "metadata": {},
   "outputs": [
    {
     "data": {
      "text/html": [
       "<div>\n",
       "<style scoped>\n",
       "    .dataframe tbody tr th:only-of-type {\n",
       "        vertical-align: middle;\n",
       "    }\n",
       "\n",
       "    .dataframe tbody tr th {\n",
       "        vertical-align: top;\n",
       "    }\n",
       "\n",
       "    .dataframe thead th {\n",
       "        text-align: right;\n",
       "    }\n",
       "</style>\n",
       "<table border=\"1\" class=\"dataframe\">\n",
       "  <thead>\n",
       "    <tr style=\"text-align: right;\">\n",
       "      <th></th>\n",
       "      <th>time</th>\n",
       "      <th>number</th>\n",
       "      <th>snr_mean</th>\n",
       "      <th>snr_std</th>\n",
       "      <th>snr_max</th>\n",
       "      <th>snr_min</th>\n",
       "    </tr>\n",
       "  </thead>\n",
       "  <tbody>\n",
       "  </tbody>\n",
       "</table>\n",
       "</div>"
      ],
      "text/plain": [
       "Empty DataFrame\n",
       "Columns: [time, number, snr_mean, snr_std, snr_max, snr_min]\n",
       "Index: []"
      ]
     },
     "execution_count": 11,
     "metadata": {},
     "output_type": "execute_result"
    }
   ],
   "source": [
    "time_diff=df['time'].diff()\n",
    "df[time_diff<0]"
   ]
  },
  {
   "attachments": {},
   "cell_type": "markdown",
   "id": "10695e4a",
   "metadata": {},
   "source": [
    "没有倒退现象"
   ]
  },
  {
   "cell_type": "code",
   "execution_count": 13,
   "id": "e5d2286a",
   "metadata": {},
   "outputs": [
    {
     "data": {
      "text/plain": [
       "time        0\n",
       "number      0\n",
       "snr_mean    0\n",
       "snr_std     0\n",
       "snr_max     0\n",
       "snr_min     0\n",
       "dtype: int64"
      ]
     },
     "execution_count": 13,
     "metadata": {},
     "output_type": "execute_result"
    }
   ],
   "source": [
    "df.isnull().sum()"
   ]
  },
  {
   "cell_type": "code",
   "execution_count": 22,
   "id": "9a817598",
   "metadata": {},
   "outputs": [
    {
     "data": {
      "text/html": [
       "<div>\n",
       "<style scoped>\n",
       "    .dataframe tbody tr th:only-of-type {\n",
       "        vertical-align: middle;\n",
       "    }\n",
       "\n",
       "    .dataframe tbody tr th {\n",
       "        vertical-align: top;\n",
       "    }\n",
       "\n",
       "    .dataframe thead th {\n",
       "        text-align: right;\n",
       "    }\n",
       "</style>\n",
       "<table border=\"1\" class=\"dataframe\">\n",
       "  <thead>\n",
       "    <tr style=\"text-align: right;\">\n",
       "      <th></th>\n",
       "      <th>time</th>\n",
       "      <th>number</th>\n",
       "      <th>snr_mean</th>\n",
       "      <th>snr_std</th>\n",
       "      <th>snr_max</th>\n",
       "      <th>snr_min</th>\n",
       "    </tr>\n",
       "  </thead>\n",
       "  <tbody>\n",
       "    <tr>\n",
       "      <th>217099</th>\n",
       "      <td>3498212860837</td>\n",
       "      <td>5</td>\n",
       "      <td>33.8</td>\n",
       "      <td>5.940445</td>\n",
       "      <td>39.0</td>\n",
       "      <td>23.0</td>\n",
       "    </tr>\n",
       "    <tr>\n",
       "      <th>217100</th>\n",
       "      <td>3498212860837</td>\n",
       "      <td>5</td>\n",
       "      <td>33.8</td>\n",
       "      <td>5.940445</td>\n",
       "      <td>39.0</td>\n",
       "      <td>23.0</td>\n",
       "    </tr>\n",
       "    <tr>\n",
       "      <th>316200</th>\n",
       "      <td>3498813378279</td>\n",
       "      <td>6</td>\n",
       "      <td>28.0</td>\n",
       "      <td>4.390071</td>\n",
       "      <td>37.0</td>\n",
       "      <td>24.0</td>\n",
       "    </tr>\n",
       "    <tr>\n",
       "      <th>316201</th>\n",
       "      <td>3498813378279</td>\n",
       "      <td>6</td>\n",
       "      <td>28.0</td>\n",
       "      <td>4.390071</td>\n",
       "      <td>37.0</td>\n",
       "      <td>24.0</td>\n",
       "    </tr>\n",
       "    <tr>\n",
       "      <th>465301</th>\n",
       "      <td>3500021056726</td>\n",
       "      <td>5</td>\n",
       "      <td>17.2</td>\n",
       "      <td>4.289522</td>\n",
       "      <td>25.0</td>\n",
       "      <td>14.0</td>\n",
       "    </tr>\n",
       "    <tr>\n",
       "      <th>465302</th>\n",
       "      <td>3500021056726</td>\n",
       "      <td>5</td>\n",
       "      <td>17.2</td>\n",
       "      <td>4.289522</td>\n",
       "      <td>25.0</td>\n",
       "      <td>14.0</td>\n",
       "    </tr>\n",
       "  </tbody>\n",
       "</table>\n",
       "</div>"
      ],
      "text/plain": [
       "                 time  number  snr_mean   snr_std  snr_max  snr_min\n",
       "217099  3498212860837       5      33.8  5.940445     39.0     23.0\n",
       "217100  3498212860837       5      33.8  5.940445     39.0     23.0\n",
       "316200  3498813378279       6      28.0  4.390071     37.0     24.0\n",
       "316201  3498813378279       6      28.0  4.390071     37.0     24.0\n",
       "465301  3500021056726       5      17.2  4.289522     25.0     14.0\n",
       "465302  3500021056726       5      17.2  4.289522     25.0     14.0"
      ]
     },
     "execution_count": 22,
     "metadata": {},
     "output_type": "execute_result"
    }
   ],
   "source": [
    "df[df.duplicated(keep=False)]"
   ]
  },
  {
   "attachments": {},
   "cell_type": "markdown",
   "id": "4db562f4",
   "metadata": {},
   "source": [
    "出现部分重复值，需要删除。"
   ]
  },
  {
   "cell_type": "code",
   "execution_count": 23,
   "id": "891a2872",
   "metadata": {},
   "outputs": [],
   "source": [
    "df.drop_duplicates(inplace=True,ignore_index=True)"
   ]
  },
  {
   "cell_type": "code",
   "execution_count": 25,
   "id": "71a25486",
   "metadata": {},
   "outputs": [],
   "source": [
    "df.to_pickle('/home/dengjiebi/SHL2023/data_GPS/test_gps.pkl')"
   ]
  },
  {
   "attachments": {},
   "cell_type": "markdown",
   "id": "380a9f86",
   "metadata": {},
   "source": [
    "# 重复值处理 Duplicate value processing\n",
    "重复值出现在验证集中的GPS数据中，处理方法是删除。"
   ]
  },
  {
   "cell_type": "code",
   "execution_count": 65,
   "id": "ae8136a9",
   "metadata": {
    "ExecuteTime": {
     "end_time": "2023-05-27T09:47:40.368675Z",
     "start_time": "2023-05-27T09:47:40.364889Z"
    }
   },
   "outputs": [
    {
     "name": "stdout",
     "output_type": "stream",
     "text": [
      "pkl文件的数量为:32\n"
     ]
    }
   ],
   "source": [
    "file_dir=\"../SHL2023/data_processed/validate/\"\n",
    "names=get_pkl_file_name(file_dir)"
   ]
  },
  {
   "cell_type": "code",
   "execution_count": 66,
   "id": "68289725",
   "metadata": {
    "ExecuteTime": {
     "end_time": "2023-05-27T09:54:24.759704Z",
     "start_time": "2023-05-27T09:47:42.679020Z"
    }
   },
   "outputs": [
    {
     "data": {
      "application/vnd.jupyter.widget-view+json": {
       "model_id": "c5c59888af99475898ded9738370e8e2",
       "version_major": 2,
       "version_minor": 0
      },
      "text/plain": [
       "  0%|          | 0/32 [00:00<?, ?it/s]"
      ]
     },
     "metadata": {},
     "output_type": "display_data"
    },
    {
     "name": "stdout",
     "output_type": "stream",
     "text": [
      "------------------Loading bag_acc_full.pkl ------------------\n",
      "\n",
      "数据点有0处重复\n",
      "\n",
      "------------------Loading bag_gps.pkl ------------------\n",
      "\n",
      "数据点有0处重复\n",
      "\n",
      "------------------Loading bag_gps_detail_full.pkl ------------------\n",
      "\n",
      "数据点有19处重复\n",
      "\n",
      "------------------Loading bag_gps_full.pkl ------------------\n",
      "\n",
      "数据点有2处重复\n",
      "\n",
      "------------------Loading bag_gyr_full.pkl ------------------\n",
      "\n",
      "数据点有0处重复\n",
      "\n",
      "------------------Loading bag_label_full.pkl ------------------\n",
      "\n",
      "数据点有0处重复\n",
      "\n",
      "------------------Loading bag_loc_full.pkl ------------------\n",
      "\n",
      "数据点有0处重复\n",
      "\n",
      "------------------Loading bag_mag_full.pkl ------------------\n",
      "\n",
      "数据点有0处重复\n",
      "\n",
      "------------------Loading hand_acc_full.pkl ------------------\n",
      "\n",
      "数据点有0处重复\n",
      "\n",
      "------------------Loading hand_gps.pkl ------------------\n",
      "\n",
      "数据点有0处重复\n",
      "\n",
      "------------------Loading hand_gps_detail_full.pkl ------------------\n",
      "\n",
      "数据点有6处重复\n",
      "\n",
      "------------------Loading hand_gps_full.pkl ------------------\n",
      "\n",
      "数据点有1处重复\n",
      "\n",
      "------------------Loading hand_gyr_full.pkl ------------------\n",
      "\n",
      "数据点有0处重复\n",
      "\n",
      "------------------Loading hand_label_full.pkl ------------------\n",
      "\n",
      "数据点有0处重复\n",
      "\n",
      "------------------Loading hand_loc_full.pkl ------------------\n",
      "\n",
      "数据点有0处重复\n",
      "\n",
      "------------------Loading hand_mag_full.pkl ------------------\n",
      "\n",
      "数据点有0处重复\n",
      "\n",
      "------------------Loading hips_acc_full.pkl ------------------\n",
      "\n",
      "数据点有0处重复\n",
      "\n",
      "------------------Loading hips_gps.pkl ------------------\n",
      "\n",
      "数据点有0处重复\n",
      "\n",
      "------------------Loading hips_gps_detail_full.pkl ------------------\n",
      "\n",
      "数据点有11处重复\n",
      "\n",
      "------------------Loading hips_gps_full.pkl ------------------\n",
      "\n",
      "数据点有2处重复\n",
      "\n",
      "------------------Loading hips_gyr_full.pkl ------------------\n",
      "\n",
      "数据点有0处重复\n",
      "\n",
      "------------------Loading hips_label_full.pkl ------------------\n",
      "\n",
      "数据点有0处重复\n",
      "\n",
      "------------------Loading hips_loc_full.pkl ------------------\n",
      "\n",
      "数据点有0处重复\n",
      "\n",
      "------------------Loading hips_mag_full.pkl ------------------\n",
      "\n",
      "数据点有0处重复\n",
      "\n",
      "------------------Loading torso_acc_full.pkl ------------------\n",
      "\n",
      "数据点有0处重复\n",
      "\n",
      "------------------Loading torso_gps.pkl ------------------\n",
      "\n",
      "数据点有0处重复\n",
      "\n",
      "------------------Loading torso_gps_detail_full.pkl ------------------\n",
      "\n",
      "数据点有10处重复\n",
      "\n",
      "------------------Loading torso_gps_full.pkl ------------------\n",
      "\n",
      "数据点有2处重复\n",
      "\n",
      "------------------Loading torso_gyr_full.pkl ------------------\n",
      "\n",
      "数据点有0处重复\n",
      "\n",
      "------------------Loading torso_label_full.pkl ------------------\n",
      "\n",
      "数据点有0处重复\n",
      "\n",
      "------------------Loading torso_loc_full.pkl ------------------\n",
      "\n",
      "数据点有0处重复\n",
      "\n",
      "------------------Loading torso_mag_full.pkl ------------------\n",
      "\n",
      "数据点有0处重复\n",
      "\n"
     ]
    }
   ],
   "source": [
    "for name in tqdm(names):\n",
    "    print('------------------Loading {} ------------------\\n'.format(name + '.pkl'))\n",
    "    df = pd.read_pickle(file_dir + '/' + name + '.pkl')\n",
    "    is_duplicated = df.duplicated().sum()\n",
    "    print('数据点有{}处重复\\n'.format(is_duplicated))"
   ]
  },
  {
   "attachments": {},
   "cell_type": "markdown",
   "id": "d0b7d004",
   "metadata": {},
   "source": [
    "由于gps文件由gps_detail_full文件和gps_full文件合并而来，只需要处理gps文件的重复值。"
   ]
  },
  {
   "cell_type": "code",
   "execution_count": 78,
   "id": "cc47a59c",
   "metadata": {
    "ExecuteTime": {
     "end_time": "2023-05-27T10:00:56.516292Z",
     "start_time": "2023-05-27T10:00:56.477738Z"
    }
   },
   "outputs": [
    {
     "data": {
      "text/html": [
       "<div>\n",
       "<style scoped>\n",
       "    .dataframe tbody tr th:only-of-type {\n",
       "        vertical-align: middle;\n",
       "    }\n",
       "\n",
       "    .dataframe tbody tr th {\n",
       "        vertical-align: top;\n",
       "    }\n",
       "\n",
       "    .dataframe thead th {\n",
       "        text-align: right;\n",
       "    }\n",
       "</style>\n",
       "<table border=\"1\" class=\"dataframe\">\n",
       "  <thead>\n",
       "    <tr style=\"text-align: right;\">\n",
       "      <th></th>\n",
       "      <th>time</th>\n",
       "      <th>number</th>\n",
       "      <th>snr_mean</th>\n",
       "      <th>snr_std</th>\n",
       "      <th>snr_max</th>\n",
       "      <th>snr_min</th>\n",
       "    </tr>\n",
       "  </thead>\n",
       "  <tbody>\n",
       "  </tbody>\n",
       "</table>\n",
       "</div>"
      ],
      "text/plain": [
       "Empty DataFrame\n",
       "Columns: [time, number, snr_mean, snr_std, snr_max, snr_min]\n",
       "Index: []"
      ]
     },
     "execution_count": 78,
     "metadata": {},
     "output_type": "execute_result"
    }
   ],
   "source": [
    "df = pd.read_pickle('../SHL2023/data_processed/validate/bag_gps.pkl')\n",
    "df[df.duplicated(subset='time',keep=False)]"
   ]
  },
  {
   "cell_type": "code",
   "execution_count": 77,
   "id": "2e5fbeb3",
   "metadata": {
    "ExecuteTime": {
     "end_time": "2023-05-27T10:00:51.815106Z",
     "start_time": "2023-05-27T10:00:51.726189Z"
    }
   },
   "outputs": [],
   "source": [
    "df.drop_duplicates(inplace=True,ignore_index=True)\n",
    "df.to_pickle('../SHL2023/data_processed/validate/bag_gps.pkl')"
   ]
  },
  {
   "cell_type": "code",
   "execution_count": 79,
   "id": "435a0939",
   "metadata": {
    "ExecuteTime": {
     "end_time": "2023-05-27T10:01:16.364530Z",
     "start_time": "2023-05-27T10:01:16.322694Z"
    }
   },
   "outputs": [
    {
     "data": {
      "text/html": [
       "<div>\n",
       "<style scoped>\n",
       "    .dataframe tbody tr th:only-of-type {\n",
       "        vertical-align: middle;\n",
       "    }\n",
       "\n",
       "    .dataframe tbody tr th {\n",
       "        vertical-align: top;\n",
       "    }\n",
       "\n",
       "    .dataframe thead th {\n",
       "        text-align: right;\n",
       "    }\n",
       "</style>\n",
       "<table border=\"1\" class=\"dataframe\">\n",
       "  <thead>\n",
       "    <tr style=\"text-align: right;\">\n",
       "      <th></th>\n",
       "      <th>time</th>\n",
       "      <th>number</th>\n",
       "      <th>snr_mean</th>\n",
       "      <th>snr_std</th>\n",
       "      <th>snr_max</th>\n",
       "      <th>snr_min</th>\n",
       "    </tr>\n",
       "  </thead>\n",
       "  <tbody>\n",
       "    <tr>\n",
       "      <th>82216</th>\n",
       "      <td>1499424739910</td>\n",
       "      <td>6</td>\n",
       "      <td>34.833333</td>\n",
       "      <td>2.855086</td>\n",
       "      <td>37.0</td>\n",
       "      <td>29.0</td>\n",
       "    </tr>\n",
       "    <tr>\n",
       "      <th>82217</th>\n",
       "      <td>1499424739910</td>\n",
       "      <td>6</td>\n",
       "      <td>34.833333</td>\n",
       "      <td>2.855086</td>\n",
       "      <td>37.0</td>\n",
       "      <td>29.0</td>\n",
       "    </tr>\n",
       "  </tbody>\n",
       "</table>\n",
       "</div>"
      ],
      "text/plain": [
       "                time  number   snr_mean   snr_std  snr_max  snr_min\n",
       "82216  1499424739910       6  34.833333  2.855086     37.0     29.0\n",
       "82217  1499424739910       6  34.833333  2.855086     37.0     29.0"
      ]
     },
     "execution_count": 79,
     "metadata": {},
     "output_type": "execute_result"
    }
   ],
   "source": [
    "df = pd.read_pickle('../SHL2023/data_processed/validate/hand_gps.pkl')\n",
    "df[df.duplicated(subset='time',keep=False)]"
   ]
  },
  {
   "cell_type": "code",
   "execution_count": 80,
   "id": "8af5ae02",
   "metadata": {
    "ExecuteTime": {
     "end_time": "2023-05-27T10:01:29.860079Z",
     "start_time": "2023-05-27T10:01:29.754547Z"
    }
   },
   "outputs": [],
   "source": [
    "df.drop_duplicates(inplace=True,ignore_index=True)\n",
    "df.to_pickle('../SHL2023/data_processed/validate/hand_gps.pkl')"
   ]
  },
  {
   "cell_type": "code",
   "execution_count": 81,
   "id": "7d163b85",
   "metadata": {
    "ExecuteTime": {
     "end_time": "2023-05-27T10:01:44.850417Z",
     "start_time": "2023-05-27T10:01:44.798501Z"
    }
   },
   "outputs": [
    {
     "data": {
      "text/html": [
       "<div>\n",
       "<style scoped>\n",
       "    .dataframe tbody tr th:only-of-type {\n",
       "        vertical-align: middle;\n",
       "    }\n",
       "\n",
       "    .dataframe tbody tr th {\n",
       "        vertical-align: top;\n",
       "    }\n",
       "\n",
       "    .dataframe thead th {\n",
       "        text-align: right;\n",
       "    }\n",
       "</style>\n",
       "<table border=\"1\" class=\"dataframe\">\n",
       "  <thead>\n",
       "    <tr style=\"text-align: right;\">\n",
       "      <th></th>\n",
       "      <th>time</th>\n",
       "      <th>number</th>\n",
       "      <th>snr_mean</th>\n",
       "      <th>snr_std</th>\n",
       "      <th>snr_max</th>\n",
       "      <th>snr_min</th>\n",
       "    </tr>\n",
       "  </thead>\n",
       "  <tbody>\n",
       "    <tr>\n",
       "      <th>8</th>\n",
       "      <td>1497426503558</td>\n",
       "      <td>6</td>\n",
       "      <td>23.833333</td>\n",
       "      <td>7.171070</td>\n",
       "      <td>37.0</td>\n",
       "      <td>16.0</td>\n",
       "    </tr>\n",
       "    <tr>\n",
       "      <th>9</th>\n",
       "      <td>1497426503558</td>\n",
       "      <td>6</td>\n",
       "      <td>23.833333</td>\n",
       "      <td>7.171070</td>\n",
       "      <td>37.0</td>\n",
       "      <td>16.0</td>\n",
       "    </tr>\n",
       "    <tr>\n",
       "      <th>32607</th>\n",
       "      <td>1497614684055</td>\n",
       "      <td>5</td>\n",
       "      <td>28.000000</td>\n",
       "      <td>3.464102</td>\n",
       "      <td>32.0</td>\n",
       "      <td>22.0</td>\n",
       "    </tr>\n",
       "    <tr>\n",
       "      <th>32608</th>\n",
       "      <td>1497614684055</td>\n",
       "      <td>5</td>\n",
       "      <td>28.000000</td>\n",
       "      <td>3.464102</td>\n",
       "      <td>32.0</td>\n",
       "      <td>22.0</td>\n",
       "    </tr>\n",
       "  </tbody>\n",
       "</table>\n",
       "</div>"
      ],
      "text/plain": [
       "                time  number   snr_mean   snr_std  snr_max  snr_min\n",
       "8      1497426503558       6  23.833333  7.171070     37.0     16.0\n",
       "9      1497426503558       6  23.833333  7.171070     37.0     16.0\n",
       "32607  1497614684055       5  28.000000  3.464102     32.0     22.0\n",
       "32608  1497614684055       5  28.000000  3.464102     32.0     22.0"
      ]
     },
     "execution_count": 81,
     "metadata": {},
     "output_type": "execute_result"
    }
   ],
   "source": [
    "df = pd.read_pickle('../SHL2023/data_processed/validate/hips_gps.pkl')\n",
    "df[df.duplicated(subset='time',keep=False)]"
   ]
  },
  {
   "cell_type": "code",
   "execution_count": 82,
   "id": "8658481a",
   "metadata": {
    "ExecuteTime": {
     "end_time": "2023-05-27T10:02:05.438853Z",
     "start_time": "2023-05-27T10:02:05.377978Z"
    }
   },
   "outputs": [],
   "source": [
    "df.drop_duplicates(inplace=True,ignore_index=True)\n",
    "df.to_pickle('../SHL2023/data_processed/validate/hips_gps.pkl')"
   ]
  },
  {
   "cell_type": "code",
   "execution_count": 83,
   "id": "3365ebff",
   "metadata": {
    "ExecuteTime": {
     "end_time": "2023-05-27T10:02:17.318487Z",
     "start_time": "2023-05-27T10:02:17.271989Z"
    }
   },
   "outputs": [
    {
     "data": {
      "text/html": [
       "<div>\n",
       "<style scoped>\n",
       "    .dataframe tbody tr th:only-of-type {\n",
       "        vertical-align: middle;\n",
       "    }\n",
       "\n",
       "    .dataframe tbody tr th {\n",
       "        vertical-align: top;\n",
       "    }\n",
       "\n",
       "    .dataframe thead th {\n",
       "        text-align: right;\n",
       "    }\n",
       "</style>\n",
       "<table border=\"1\" class=\"dataframe\">\n",
       "  <thead>\n",
       "    <tr style=\"text-align: right;\">\n",
       "      <th></th>\n",
       "      <th>time</th>\n",
       "      <th>number</th>\n",
       "      <th>snr_mean</th>\n",
       "      <th>snr_std</th>\n",
       "      <th>snr_max</th>\n",
       "      <th>snr_min</th>\n",
       "    </tr>\n",
       "  </thead>\n",
       "  <tbody>\n",
       "    <tr>\n",
       "      <th>64209</th>\n",
       "      <td>1499097612291</td>\n",
       "      <td>5</td>\n",
       "      <td>22.0</td>\n",
       "      <td>3.711843</td>\n",
       "      <td>27.0</td>\n",
       "      <td>16.0</td>\n",
       "    </tr>\n",
       "    <tr>\n",
       "      <th>64210</th>\n",
       "      <td>1499097612291</td>\n",
       "      <td>5</td>\n",
       "      <td>22.0</td>\n",
       "      <td>3.711843</td>\n",
       "      <td>27.0</td>\n",
       "      <td>16.0</td>\n",
       "    </tr>\n",
       "    <tr>\n",
       "      <th>82630</th>\n",
       "      <td>1499443759640</td>\n",
       "      <td>5</td>\n",
       "      <td>21.8</td>\n",
       "      <td>7.405704</td>\n",
       "      <td>29.0</td>\n",
       "      <td>9.0</td>\n",
       "    </tr>\n",
       "    <tr>\n",
       "      <th>82631</th>\n",
       "      <td>1499443759640</td>\n",
       "      <td>5</td>\n",
       "      <td>21.8</td>\n",
       "      <td>7.405704</td>\n",
       "      <td>29.0</td>\n",
       "      <td>9.0</td>\n",
       "    </tr>\n",
       "  </tbody>\n",
       "</table>\n",
       "</div>"
      ],
      "text/plain": [
       "                time  number  snr_mean   snr_std  snr_max  snr_min\n",
       "64209  1499097612291       5      22.0  3.711843     27.0     16.0\n",
       "64210  1499097612291       5      22.0  3.711843     27.0     16.0\n",
       "82630  1499443759640       5      21.8  7.405704     29.0      9.0\n",
       "82631  1499443759640       5      21.8  7.405704     29.0      9.0"
      ]
     },
     "execution_count": 83,
     "metadata": {},
     "output_type": "execute_result"
    }
   ],
   "source": [
    "df = pd.read_pickle('../SHL2023/data_processed/validate/torso_gps.pkl')\n",
    "df[df.duplicated(subset='time',keep=False)]"
   ]
  },
  {
   "cell_type": "code",
   "execution_count": 84,
   "id": "1347cd7c",
   "metadata": {
    "ExecuteTime": {
     "end_time": "2023-05-27T10:02:33.218462Z",
     "start_time": "2023-05-27T10:02:33.122932Z"
    }
   },
   "outputs": [],
   "source": [
    "df.drop_duplicates(inplace=True,ignore_index=True)\n",
    "df.to_pickle('../SHL2023/data_processed/validate/torso_gps.pkl')"
   ]
  },
  {
   "attachments": {},
   "cell_type": "markdown",
   "id": "8a0c6860",
   "metadata": {},
   "source": [
    "# 时间同步 Time synchronization\n",
    "+ 在一定的时间公差内对齐GPS数据和位置数据，得到新的数据集A\n",
    "+ 尝试将数据集A与运动传感器的时间戳进行对齐，缺失值标记为GPS信号丢失（创建一个新的特征）\n",
    "+ 对形成的新的数据集中的缺失值进行插补"
   ]
  },
  {
   "attachments": {},
   "cell_type": "markdown",
   "id": "616e1ea7",
   "metadata": {},
   "source": [
    "## 训练集"
   ]
  },
  {
   "cell_type": "code",
   "execution_count": 3,
   "id": "97570862",
   "metadata": {
    "ExecuteTime": {
     "end_time": "2023-05-28T11:23:23.228453Z",
     "start_time": "2023-05-28T11:22:52.905799Z"
    }
   },
   "outputs": [],
   "source": [
    "#读取运动传感器的时间戳序列,后续训练集的合并中可以通用。\n",
    "datetime=pd.read_pickle('/home/ossdata/dengjiebi/data_tiny/train/bag_acc.pkl')\n",
    "datetime=pd.to_datetime(datetime['time'], unit=\"ms\")"
   ]
  },
  {
   "cell_type": "code",
   "execution_count": 4,
   "id": "74390123",
   "metadata": {},
   "outputs": [
    {
     "data": {
      "text/plain": [
       "0          2017-03-25 08:46:22.760\n",
       "100        2017-03-25 08:46:23.760\n",
       "200        2017-03-25 08:46:24.760\n",
       "300        2017-03-25 08:46:25.760\n",
       "400        2017-03-25 08:46:26.760\n",
       "                     ...          \n",
       "98052000   2017-07-05 15:17:28.080\n",
       "98052100   2017-07-05 15:17:29.080\n",
       "98052200   2017-07-05 15:17:30.080\n",
       "98052300   2017-07-05 15:17:31.080\n",
       "98052400   2017-07-05 15:17:32.080\n",
       "Name: time, Length: 980525, dtype: datetime64[ns]"
      ]
     },
     "execution_count": 4,
     "metadata": {},
     "output_type": "execute_result"
    }
   ],
   "source": [
    "datetime"
   ]
  },
  {
   "attachments": {},
   "cell_type": "markdown",
   "id": "bbe516b9",
   "metadata": {},
   "source": [
    "### bag"
   ]
  },
  {
   "cell_type": "code",
   "execution_count": null,
   "id": "206f2d8a",
   "metadata": {
    "ExecuteTime": {
     "end_time": "2023-05-28T09:15:12.144542Z",
     "start_time": "2023-05-28T09:15:11.393896Z"
    }
   },
   "outputs": [],
   "source": [
    "df1=pd.read_pickle('../SHL2023/data_processed/train/bag_gps.pkl')\n",
    "df2=pd.read_pickle('../SHL2023/data_pkl/bag_loc_full.pkl')\n",
    "datetime1=pd.to_datetime(df1['time'], unit=\"ms\")\n",
    "df1['time']=datetime1\n",
    "datetime2=pd.to_datetime(df2['time'], unit=\"ms\")\n",
    "df2['time']=datetime2"
   ]
  },
  {
   "cell_type": "code",
   "execution_count": 3,
   "id": "187cd333",
   "metadata": {
    "ExecuteTime": {
     "end_time": "2023-05-27T14:29:20.362396Z",
     "start_time": "2023-05-27T14:29:19.437188Z"
    }
   },
   "outputs": [],
   "source": [
    "missing_ratio=[]\n",
    "time_delay=['100ms','200ms','500ms','1s','3s','5s','10s']\n",
    "for delay in time_delay:\n",
    "    df=pd.merge_asof(df1,df2,on='time', tolerance=pd.Timedelta(delay),direction='nearest')\n",
    "    missing_ratio.append(df['accuracy'].isnull().sum()/len(df))"
   ]
  },
  {
   "cell_type": "code",
   "execution_count": 4,
   "id": "0a503f7d",
   "metadata": {
    "ExecuteTime": {
     "end_time": "2023-05-27T14:29:21.244377Z",
     "start_time": "2023-05-27T14:29:21.000471Z"
    }
   },
   "outputs": [
    {
     "data": {
      "image/png": "[encoded data removed]",
      "text/plain": [
       "<Figure size 432x360 with 1 Axes>"
      ]
     },
     "metadata": {},
     "output_type": "display_data"
    }
   ],
   "source": [
    "sns.set_theme(style=\"whitegrid\")\n",
    "plt.figure(figsize=(6,5))\n",
    "sns.barplot(x=time_delay, y=missing_ratio, palette=\"deep\")\n",
    "plt.xlabel('tolerance')\n",
    "plt.ylabel('missing ratio')\n",
    "plt.title('Proportion of missing values after merging data frames')\n",
    "plt.show()"
   ]
  },
  {
   "attachments": {},
   "cell_type": "markdown",
   "id": "9a84c985",
   "metadata": {},
   "source": [
    "不同容许时间下的合并后数据集缺失值不同，根据上图我们选择容许公差为1秒，此时合并后数据缺失比例为20%左右。"
   ]
  },
  {
   "cell_type": "code",
   "execution_count": 5,
   "id": "7126c826",
   "metadata": {
    "ExecuteTime": {
     "end_time": "2023-05-27T14:29:23.126783Z",
     "start_time": "2023-05-27T14:29:22.999326Z"
    }
   },
   "outputs": [],
   "source": [
    "#容许公差为1s，方向为'nearest'\n",
    "df=pd.merge_asof(df1,df2,on='time', tolerance=pd.Timedelta(\"1s\"),direction='nearest')"
   ]
  },
  {
   "cell_type": "code",
   "execution_count": 6,
   "id": "58d387ef",
   "metadata": {
    "ExecuteTime": {
     "end_time": "2023-05-27T14:29:24.440377Z",
     "start_time": "2023-05-27T14:29:24.416050Z"
    }
   },
   "outputs": [
    {
     "data": {
      "text/html": [
       "<div>\n",
       "<style scoped>\n",
       "    .dataframe tbody tr th:only-of-type {\n",
       "        vertical-align: middle;\n",
       "    }\n",
       "\n",
       "    .dataframe tbody tr th {\n",
       "        vertical-align: top;\n",
       "    }\n",
       "\n",
       "    .dataframe thead th {\n",
       "        text-align: right;\n",
       "    }\n",
       "</style>\n",
       "<table border=\"1\" class=\"dataframe\">\n",
       "  <thead>\n",
       "    <tr style=\"text-align: right;\">\n",
       "      <th></th>\n",
       "      <th>time</th>\n",
       "      <th>number</th>\n",
       "      <th>snr_mean</th>\n",
       "      <th>snr_std</th>\n",
       "      <th>snr_max</th>\n",
       "      <th>snr_min</th>\n",
       "      <th>accuracy</th>\n",
       "      <th>latitude</th>\n",
       "      <th>longitude</th>\n",
       "      <th>altitude</th>\n",
       "    </tr>\n",
       "  </thead>\n",
       "  <tbody>\n",
       "    <tr>\n",
       "      <th>0</th>\n",
       "      <td>2017-03-25 08:36:12.836</td>\n",
       "      <td>4</td>\n",
       "      <td>21.000000</td>\n",
       "      <td>3.559026</td>\n",
       "      <td>24.0</td>\n",
       "      <td>17.0</td>\n",
       "      <td>NaN</td>\n",
       "      <td>NaN</td>\n",
       "      <td>NaN</td>\n",
       "      <td>NaN</td>\n",
       "    </tr>\n",
       "    <tr>\n",
       "      <th>1</th>\n",
       "      <td>2017-03-25 08:36:13.834</td>\n",
       "      <td>4</td>\n",
       "      <td>20.750000</td>\n",
       "      <td>3.304038</td>\n",
       "      <td>24.0</td>\n",
       "      <td>17.0</td>\n",
       "      <td>NaN</td>\n",
       "      <td>NaN</td>\n",
       "      <td>NaN</td>\n",
       "      <td>NaN</td>\n",
       "    </tr>\n",
       "    <tr>\n",
       "      <th>2</th>\n",
       "      <td>2017-03-25 08:36:14.835</td>\n",
       "      <td>4</td>\n",
       "      <td>21.250000</td>\n",
       "      <td>2.629956</td>\n",
       "      <td>24.0</td>\n",
       "      <td>19.0</td>\n",
       "      <td>NaN</td>\n",
       "      <td>NaN</td>\n",
       "      <td>NaN</td>\n",
       "      <td>NaN</td>\n",
       "    </tr>\n",
       "    <tr>\n",
       "      <th>3</th>\n",
       "      <td>2017-03-25 08:36:15.833</td>\n",
       "      <td>4</td>\n",
       "      <td>21.250000</td>\n",
       "      <td>2.629956</td>\n",
       "      <td>24.0</td>\n",
       "      <td>19.0</td>\n",
       "      <td>NaN</td>\n",
       "      <td>NaN</td>\n",
       "      <td>NaN</td>\n",
       "      <td>NaN</td>\n",
       "    </tr>\n",
       "    <tr>\n",
       "      <th>4</th>\n",
       "      <td>2017-03-25 08:36:16.823</td>\n",
       "      <td>4</td>\n",
       "      <td>20.750000</td>\n",
       "      <td>3.201562</td>\n",
       "      <td>24.0</td>\n",
       "      <td>18.0</td>\n",
       "      <td>NaN</td>\n",
       "      <td>NaN</td>\n",
       "      <td>NaN</td>\n",
       "      <td>NaN</td>\n",
       "    </tr>\n",
       "    <tr>\n",
       "      <th>5</th>\n",
       "      <td>2017-03-25 08:36:17.829</td>\n",
       "      <td>4</td>\n",
       "      <td>20.750000</td>\n",
       "      <td>3.201562</td>\n",
       "      <td>24.0</td>\n",
       "      <td>18.0</td>\n",
       "      <td>NaN</td>\n",
       "      <td>NaN</td>\n",
       "      <td>NaN</td>\n",
       "      <td>NaN</td>\n",
       "    </tr>\n",
       "    <tr>\n",
       "      <th>6</th>\n",
       "      <td>2017-03-25 08:36:18.831</td>\n",
       "      <td>4</td>\n",
       "      <td>20.750000</td>\n",
       "      <td>3.201562</td>\n",
       "      <td>24.0</td>\n",
       "      <td>18.0</td>\n",
       "      <td>NaN</td>\n",
       "      <td>NaN</td>\n",
       "      <td>NaN</td>\n",
       "      <td>NaN</td>\n",
       "    </tr>\n",
       "    <tr>\n",
       "      <th>7</th>\n",
       "      <td>2017-03-25 08:36:19.826</td>\n",
       "      <td>4</td>\n",
       "      <td>21.000000</td>\n",
       "      <td>2.943920</td>\n",
       "      <td>24.0</td>\n",
       "      <td>18.0</td>\n",
       "      <td>NaN</td>\n",
       "      <td>NaN</td>\n",
       "      <td>NaN</td>\n",
       "      <td>NaN</td>\n",
       "    </tr>\n",
       "    <tr>\n",
       "      <th>8</th>\n",
       "      <td>2017-03-25 08:36:20.828</td>\n",
       "      <td>4</td>\n",
       "      <td>21.000000</td>\n",
       "      <td>2.943920</td>\n",
       "      <td>24.0</td>\n",
       "      <td>18.0</td>\n",
       "      <td>NaN</td>\n",
       "      <td>NaN</td>\n",
       "      <td>NaN</td>\n",
       "      <td>NaN</td>\n",
       "    </tr>\n",
       "    <tr>\n",
       "      <th>9</th>\n",
       "      <td>2017-03-25 08:36:21.838</td>\n",
       "      <td>5</td>\n",
       "      <td>19.200000</td>\n",
       "      <td>4.438468</td>\n",
       "      <td>24.0</td>\n",
       "      <td>13.0</td>\n",
       "      <td>NaN</td>\n",
       "      <td>NaN</td>\n",
       "      <td>NaN</td>\n",
       "      <td>NaN</td>\n",
       "    </tr>\n",
       "    <tr>\n",
       "      <th>10</th>\n",
       "      <td>2017-03-25 08:36:22.894</td>\n",
       "      <td>5</td>\n",
       "      <td>19.400000</td>\n",
       "      <td>4.669047</td>\n",
       "      <td>24.0</td>\n",
       "      <td>13.0</td>\n",
       "      <td>192.0</td>\n",
       "      <td>50.846979</td>\n",
       "      <td>-0.133330</td>\n",
       "      <td>180.745860</td>\n",
       "    </tr>\n",
       "    <tr>\n",
       "      <th>11</th>\n",
       "      <td>2017-03-25 08:36:22.895</td>\n",
       "      <td>5</td>\n",
       "      <td>19.400000</td>\n",
       "      <td>4.669047</td>\n",
       "      <td>24.0</td>\n",
       "      <td>13.0</td>\n",
       "      <td>192.0</td>\n",
       "      <td>50.846979</td>\n",
       "      <td>-0.133330</td>\n",
       "      <td>180.745860</td>\n",
       "    </tr>\n",
       "    <tr>\n",
       "      <th>12</th>\n",
       "      <td>2017-03-25 08:36:23.833</td>\n",
       "      <td>5</td>\n",
       "      <td>19.400000</td>\n",
       "      <td>4.669047</td>\n",
       "      <td>24.0</td>\n",
       "      <td>13.0</td>\n",
       "      <td>96.0</td>\n",
       "      <td>50.846809</td>\n",
       "      <td>-0.133374</td>\n",
       "      <td>170.959194</td>\n",
       "    </tr>\n",
       "    <tr>\n",
       "      <th>13</th>\n",
       "      <td>2017-03-25 08:36:24.833</td>\n",
       "      <td>5</td>\n",
       "      <td>19.200000</td>\n",
       "      <td>4.438468</td>\n",
       "      <td>24.0</td>\n",
       "      <td>13.0</td>\n",
       "      <td>96.0</td>\n",
       "      <td>50.846809</td>\n",
       "      <td>-0.133374</td>\n",
       "      <td>170.959194</td>\n",
       "    </tr>\n",
       "    <tr>\n",
       "      <th>14</th>\n",
       "      <td>2017-03-25 08:36:25.935</td>\n",
       "      <td>7</td>\n",
       "      <td>18.571429</td>\n",
       "      <td>4.466809</td>\n",
       "      <td>24.0</td>\n",
       "      <td>12.0</td>\n",
       "      <td>32.0</td>\n",
       "      <td>50.846967</td>\n",
       "      <td>-0.133334</td>\n",
       "      <td>169.264688</td>\n",
       "    </tr>\n",
       "    <tr>\n",
       "      <th>15</th>\n",
       "      <td>2017-03-25 08:36:27.152</td>\n",
       "      <td>8</td>\n",
       "      <td>17.250000</td>\n",
       "      <td>5.922114</td>\n",
       "      <td>24.0</td>\n",
       "      <td>7.0</td>\n",
       "      <td>32.0</td>\n",
       "      <td>50.846951</td>\n",
       "      <td>-0.133339</td>\n",
       "      <td>167.985402</td>\n",
       "    </tr>\n",
       "    <tr>\n",
       "      <th>16</th>\n",
       "      <td>2017-03-25 08:36:28.180</td>\n",
       "      <td>11</td>\n",
       "      <td>15.000000</td>\n",
       "      <td>6.723095</td>\n",
       "      <td>24.0</td>\n",
       "      <td>7.0</td>\n",
       "      <td>32.0</td>\n",
       "      <td>50.846923</td>\n",
       "      <td>-0.133348</td>\n",
       "      <td>164.570635</td>\n",
       "    </tr>\n",
       "    <tr>\n",
       "      <th>17</th>\n",
       "      <td>2017-03-25 08:36:29.187</td>\n",
       "      <td>9</td>\n",
       "      <td>16.666667</td>\n",
       "      <td>6.264982</td>\n",
       "      <td>24.0</td>\n",
       "      <td>8.0</td>\n",
       "      <td>32.0</td>\n",
       "      <td>50.846892</td>\n",
       "      <td>-0.133358</td>\n",
       "      <td>163.507790</td>\n",
       "    </tr>\n",
       "    <tr>\n",
       "      <th>18</th>\n",
       "      <td>2017-03-25 08:36:30.188</td>\n",
       "      <td>9</td>\n",
       "      <td>16.888889</td>\n",
       "      <td>6.392270</td>\n",
       "      <td>25.0</td>\n",
       "      <td>8.0</td>\n",
       "      <td>24.0</td>\n",
       "      <td>50.846866</td>\n",
       "      <td>-0.133366</td>\n",
       "      <td>162.001254</td>\n",
       "    </tr>\n",
       "    <tr>\n",
       "      <th>19</th>\n",
       "      <td>2017-03-25 08:36:31.168</td>\n",
       "      <td>9</td>\n",
       "      <td>16.666667</td>\n",
       "      <td>6.480741</td>\n",
       "      <td>25.0</td>\n",
       "      <td>8.0</td>\n",
       "      <td>24.0</td>\n",
       "      <td>50.846843</td>\n",
       "      <td>-0.133374</td>\n",
       "      <td>160.339256</td>\n",
       "    </tr>\n",
       "  </tbody>\n",
       "</table>\n",
       "</div>"
      ],
      "text/plain": [
       "                      time  number   snr_mean   snr_std  snr_max  snr_min  \\\n",
       "0  2017-03-25 08:36:12.836       4  21.000000  3.559026     24.0     17.0   \n",
       "1  2017-03-25 08:36:13.834       4  20.750000  3.304038     24.0     17.0   \n",
       "2  2017-03-25 08:36:14.835       4  21.250000  2.629956     24.0     19.0   \n",
       "3  2017-03-25 08:36:15.833       4  21.250000  2.629956     24.0     19.0   \n",
       "4  2017-03-25 08:36:16.823       4  20.750000  3.201562     24.0     18.0   \n",
       "5  2017-03-25 08:36:17.829       4  20.750000  3.201562     24.0     18.0   \n",
       "6  2017-03-25 08:36:18.831       4  20.750000  3.201562     24.0     18.0   \n",
       "7  2017-03-25 08:36:19.826       4  21.000000  2.943920     24.0     18.0   \n",
       "8  2017-03-25 08:36:20.828       4  21.000000  2.943920     24.0     18.0   \n",
       "9  2017-03-25 08:36:21.838       5  19.200000  4.438468     24.0     13.0   \n",
       "10 2017-03-25 08:36:22.894       5  19.400000  4.669047     24.0     13.0   \n",
       "11 2017-03-25 08:36:22.895       5  19.400000  4.669047     24.0     13.0   \n",
       "12 2017-03-25 08:36:23.833       5  19.400000  4.669047     24.0     13.0   \n",
       "13 2017-03-25 08:36:24.833       5  19.200000  4.438468     24.0     13.0   \n",
       "14 2017-03-25 08:36:25.935       7  18.571429  4.466809     24.0     12.0   \n",
       "15 2017-03-25 08:36:27.152       8  17.250000  5.922114     24.0      7.0   \n",
       "16 2017-03-25 08:36:28.180      11  15.000000  6.723095     24.0      7.0   \n",
       "17 2017-03-25 08:36:29.187       9  16.666667  6.264982     24.0      8.0   \n",
       "18 2017-03-25 08:36:30.188       9  16.888889  6.392270     25.0      8.0   \n",
       "19 2017-03-25 08:36:31.168       9  16.666667  6.480741     25.0      8.0   \n",
       "\n",
       "    accuracy   latitude  longitude    altitude  \n",
       "0        NaN        NaN        NaN         NaN  \n",
       "1        NaN        NaN        NaN         NaN  \n",
       "2        NaN        NaN        NaN         NaN  \n",
       "3        NaN        NaN        NaN         NaN  \n",
       "4        NaN        NaN        NaN         NaN  \n",
       "5        NaN        NaN        NaN         NaN  \n",
       "6        NaN        NaN        NaN         NaN  \n",
       "7        NaN        NaN        NaN         NaN  \n",
       "8        NaN        NaN        NaN         NaN  \n",
       "9        NaN        NaN        NaN         NaN  \n",
       "10     192.0  50.846979  -0.133330  180.745860  \n",
       "11     192.0  50.846979  -0.133330  180.745860  \n",
       "12      96.0  50.846809  -0.133374  170.959194  \n",
       "13      96.0  50.846809  -0.133374  170.959194  \n",
       "14      32.0  50.846967  -0.133334  169.264688  \n",
       "15      32.0  50.846951  -0.133339  167.985402  \n",
       "16      32.0  50.846923  -0.133348  164.570635  \n",
       "17      32.0  50.846892  -0.133358  163.507790  \n",
       "18      24.0  50.846866  -0.133366  162.001254  \n",
       "19      24.0  50.846843  -0.133374  160.339256  "
      ]
     },
     "execution_count": 6,
     "metadata": {},
     "output_type": "execute_result"
    }
   ],
   "source": [
    "df.head(20)"
   ]
  },
  {
   "cell_type": "code",
   "execution_count": 9,
   "id": "b6d9a74e",
   "metadata": {
    "ExecuteTime": {
     "end_time": "2023-05-27T14:32:24.992010Z",
     "start_time": "2023-05-27T14:30:46.096449Z"
    }
   },
   "outputs": [],
   "source": [
    "df_full=pd.merge_asof(datetime,df,on='time', tolerance=pd.Timedelta(\"1s\"),direction='nearest')"
   ]
  },
  {
   "cell_type": "code",
   "execution_count": 10,
   "id": "07030e24",
   "metadata": {
    "ExecuteTime": {
     "end_time": "2023-05-27T14:32:27.668435Z",
     "start_time": "2023-05-27T14:32:24.995041Z"
    }
   },
   "outputs": [
    {
     "data": {
      "text/plain": [
       "0.29277849266736233"
      ]
     },
     "execution_count": 10,
     "metadata": {},
     "output_type": "execute_result"
    }
   ],
   "source": [
    "df_full['accuracy'].isnull().sum()/len(df_full)"
   ]
  },
  {
   "cell_type": "code",
   "execution_count": 11,
   "id": "75a2371d",
   "metadata": {
    "ExecuteTime": {
     "end_time": "2023-05-27T14:32:28.253634Z",
     "start_time": "2023-05-27T14:32:27.671421Z"
    }
   },
   "outputs": [
    {
     "data": {
      "text/plain": [
       "0.1582558610118394"
      ]
     },
     "execution_count": 11,
     "metadata": {},
     "output_type": "execute_result"
    }
   ],
   "source": [
    "df_full['number'].isnull().sum()/len(df_full)"
   ]
  },
  {
   "attachments": {},
   "cell_type": "markdown",
   "id": "7bc26a98",
   "metadata": {},
   "source": [
    "<span class=\"mark\">采取容许公差为1秒时，运动传感器与GPS对齐后缺失值占比上升到0.3左右</span>，采取容许公差为5秒时缺失值占比同样上升到0.3左右，最终就采取采取容许公差为1秒。  \n",
    "后面根据时间索引进行插值。"
   ]
  },
  {
   "cell_type": "code",
   "execution_count": 12,
   "id": "832a58ca",
   "metadata": {
    "ExecuteTime": {
     "end_time": "2023-05-27T14:34:07.810446Z",
     "start_time": "2023-05-27T14:32:28.255547Z"
    }
   },
   "outputs": [],
   "source": [
    "#缺失值标记为GPS信号丢失（创建一个新的特征）\n",
    "df_full['is_GPS_exist']=1\n",
    "df_full.loc[df_full['accuracy'].isnull(),'is_GPS_exist']=0"
   ]
  },
  {
   "cell_type": "code",
   "execution_count": 13,
   "id": "b29f36fd",
   "metadata": {
    "ExecuteTime": {
     "end_time": "2023-05-27T14:34:07.851788Z",
     "start_time": "2023-05-27T14:34:07.812366Z"
    }
   },
   "outputs": [],
   "source": [
    "df_full.set_index('time',inplace=True)"
   ]
  },
  {
   "cell_type": "code",
   "execution_count": 14,
   "id": "8a01afe4",
   "metadata": {
    "ExecuteTime": {
     "end_time": "2023-05-27T14:41:34.961409Z",
     "start_time": "2023-05-27T14:34:07.853804Z"
    }
   },
   "outputs": [],
   "source": [
    "df_full.interpolate(method='time',inplace=True)"
   ]
  },
  {
   "cell_type": "code",
   "execution_count": 15,
   "id": "f968d758",
   "metadata": {
    "ExecuteTime": {
     "end_time": "2023-05-27T14:41:43.160812Z",
     "start_time": "2023-05-27T14:41:34.965242Z"
    }
   },
   "outputs": [],
   "source": [
    "df_full.reset_index(inplace=True)"
   ]
  },
  {
   "cell_type": "code",
   "execution_count": 16,
   "id": "5629eb3c",
   "metadata": {
    "ExecuteTime": {
     "end_time": "2023-05-27T14:41:43.180340Z",
     "start_time": "2023-05-27T14:41:43.163262Z"
    }
   },
   "outputs": [
    {
     "data": {
      "text/html": [
       "<div>\n",
       "<style scoped>\n",
       "    .dataframe tbody tr th:only-of-type {\n",
       "        vertical-align: middle;\n",
       "    }\n",
       "\n",
       "    .dataframe tbody tr th {\n",
       "        vertical-align: top;\n",
       "    }\n",
       "\n",
       "    .dataframe thead th {\n",
       "        text-align: right;\n",
       "    }\n",
       "</style>\n",
       "<table border=\"1\" class=\"dataframe\">\n",
       "  <thead>\n",
       "    <tr style=\"text-align: right;\">\n",
       "      <th></th>\n",
       "      <th>time</th>\n",
       "      <th>number</th>\n",
       "      <th>snr_mean</th>\n",
       "      <th>snr_std</th>\n",
       "      <th>snr_max</th>\n",
       "      <th>snr_min</th>\n",
       "      <th>accuracy</th>\n",
       "      <th>latitude</th>\n",
       "      <th>longitude</th>\n",
       "      <th>altitude</th>\n",
       "      <th>is_GPS_exist</th>\n",
       "    </tr>\n",
       "  </thead>\n",
       "  <tbody>\n",
       "    <tr>\n",
       "      <th>0</th>\n",
       "      <td>2017-03-25 08:46:22.760</td>\n",
       "      <td>12.0</td>\n",
       "      <td>22.75</td>\n",
       "      <td>7.955844</td>\n",
       "      <td>36.0</td>\n",
       "      <td>12.0</td>\n",
       "      <td>16.0</td>\n",
       "      <td>50.846879</td>\n",
       "      <td>-0.133339</td>\n",
       "      <td>132.073816</td>\n",
       "      <td>1</td>\n",
       "    </tr>\n",
       "    <tr>\n",
       "      <th>1</th>\n",
       "      <td>2017-03-25 08:46:22.770</td>\n",
       "      <td>12.0</td>\n",
       "      <td>22.75</td>\n",
       "      <td>7.955844</td>\n",
       "      <td>36.0</td>\n",
       "      <td>12.0</td>\n",
       "      <td>16.0</td>\n",
       "      <td>50.846879</td>\n",
       "      <td>-0.133339</td>\n",
       "      <td>132.073816</td>\n",
       "      <td>1</td>\n",
       "    </tr>\n",
       "    <tr>\n",
       "      <th>2</th>\n",
       "      <td>2017-03-25 08:46:22.780</td>\n",
       "      <td>12.0</td>\n",
       "      <td>22.75</td>\n",
       "      <td>7.955844</td>\n",
       "      <td>36.0</td>\n",
       "      <td>12.0</td>\n",
       "      <td>16.0</td>\n",
       "      <td>50.846879</td>\n",
       "      <td>-0.133339</td>\n",
       "      <td>132.073816</td>\n",
       "      <td>1</td>\n",
       "    </tr>\n",
       "    <tr>\n",
       "      <th>3</th>\n",
       "      <td>2017-03-25 08:46:22.790</td>\n",
       "      <td>12.0</td>\n",
       "      <td>22.75</td>\n",
       "      <td>7.955844</td>\n",
       "      <td>36.0</td>\n",
       "      <td>12.0</td>\n",
       "      <td>16.0</td>\n",
       "      <td>50.846879</td>\n",
       "      <td>-0.133339</td>\n",
       "      <td>132.073816</td>\n",
       "      <td>1</td>\n",
       "    </tr>\n",
       "    <tr>\n",
       "      <th>4</th>\n",
       "      <td>2017-03-25 08:46:22.800</td>\n",
       "      <td>12.0</td>\n",
       "      <td>22.75</td>\n",
       "      <td>7.955844</td>\n",
       "      <td>36.0</td>\n",
       "      <td>12.0</td>\n",
       "      <td>16.0</td>\n",
       "      <td>50.846879</td>\n",
       "      <td>-0.133339</td>\n",
       "      <td>132.073816</td>\n",
       "      <td>1</td>\n",
       "    </tr>\n",
       "  </tbody>\n",
       "</table>\n",
       "</div>"
      ],
      "text/plain": [
       "                     time  number  snr_mean   snr_std  snr_max  snr_min  \\\n",
       "0 2017-03-25 08:46:22.760    12.0     22.75  7.955844     36.0     12.0   \n",
       "1 2017-03-25 08:46:22.770    12.0     22.75  7.955844     36.0     12.0   \n",
       "2 2017-03-25 08:46:22.780    12.0     22.75  7.955844     36.0     12.0   \n",
       "3 2017-03-25 08:46:22.790    12.0     22.75  7.955844     36.0     12.0   \n",
       "4 2017-03-25 08:46:22.800    12.0     22.75  7.955844     36.0     12.0   \n",
       "\n",
       "   accuracy   latitude  longitude    altitude  is_GPS_exist  \n",
       "0      16.0  50.846879  -0.133339  132.073816             1  \n",
       "1      16.0  50.846879  -0.133339  132.073816             1  \n",
       "2      16.0  50.846879  -0.133339  132.073816             1  \n",
       "3      16.0  50.846879  -0.133339  132.073816             1  \n",
       "4      16.0  50.846879  -0.133339  132.073816             1  "
      ]
     },
     "execution_count": 16,
     "metadata": {},
     "output_type": "execute_result"
    }
   ],
   "source": [
    "df_full.head(5)"
   ]
  },
  {
   "cell_type": "code",
   "execution_count": 17,
   "id": "ba6dbd1a",
   "metadata": {
    "ExecuteTime": {
     "end_time": "2023-05-27T14:42:05.282974Z",
     "start_time": "2023-05-27T14:41:43.260893Z"
    }
   },
   "outputs": [
    {
     "data": {
      "text/plain": [
       "time            0\n",
       "number          0\n",
       "snr_mean        0\n",
       "snr_std         0\n",
       "snr_max         0\n",
       "snr_min         0\n",
       "accuracy        0\n",
       "latitude        0\n",
       "longitude       0\n",
       "altitude        0\n",
       "is_GPS_exist    0\n",
       "dtype: int64"
      ]
     },
     "execution_count": 17,
     "metadata": {},
     "output_type": "execute_result"
    }
   ],
   "source": [
    "df_full.isnull().sum()"
   ]
  },
  {
   "cell_type": "code",
   "execution_count": 18,
   "id": "5e5dfdaf",
   "metadata": {
    "ExecuteTime": {
     "end_time": "2023-05-27T14:43:12.105146Z",
     "start_time": "2023-05-27T14:42:07.176312Z"
    }
   },
   "outputs": [],
   "source": [
    "df_full.to_pickle('../SHL2023/data_processed/train/bag_gps_and_loc.pkl')"
   ]
  },
  {
   "attachments": {},
   "cell_type": "markdown",
   "id": "aea2b035",
   "metadata": {},
   "source": [
    "### hand"
   ]
  },
  {
   "cell_type": "code",
   "execution_count": 30,
   "id": "07b4e583",
   "metadata": {
    "ExecuteTime": {
     "end_time": "2023-05-27T15:00:45.723063Z",
     "start_time": "2023-05-27T15:00:44.786639Z"
    }
   },
   "outputs": [],
   "source": [
    "df1=pd.read_pickle('../SHL2023/data_processed/train/hand_gps.pkl')\n",
    "df2=pd.read_pickle('../SHL2023/data_pkl/hand_loc_full.pkl')\n",
    "datetime1=pd.to_datetime(df1['time'], unit=\"ms\")\n",
    "df1['time']=datetime1\n",
    "datetime2=pd.to_datetime(df2['time'], unit=\"ms\")\n",
    "df2['time']=datetime2"
   ]
  },
  {
   "cell_type": "code",
   "execution_count": 31,
   "id": "1f45de31",
   "metadata": {
    "ExecuteTime": {
     "end_time": "2023-05-27T15:00:52.476524Z",
     "start_time": "2023-05-27T15:00:51.288870Z"
    }
   },
   "outputs": [],
   "source": [
    "missing_ratio=[]\n",
    "time_delay=['100ms','200ms','500ms','1s','3s','5s','10s']\n",
    "for delay in time_delay:\n",
    "    df=pd.merge_asof(df1,df2,on='time', tolerance=pd.Timedelta(delay),direction='nearest')\n",
    "    missing_ratio.append(df['accuracy'].isnull().sum()/len(df))"
   ]
  },
  {
   "cell_type": "code",
   "execution_count": 32,
   "id": "21818969",
   "metadata": {
    "ExecuteTime": {
     "end_time": "2023-05-27T15:00:52.728670Z",
     "start_time": "2023-05-27T15:00:52.479611Z"
    }
   },
   "outputs": [
    {
     "data": {
      "image/png": "[encoded data removed]",
      "text/plain": [
       "<Figure size 432x360 with 1 Axes>"
      ]
     },
     "metadata": {},
     "output_type": "display_data"
    }
   ],
   "source": [
    "sns.set_theme(style=\"whitegrid\")\n",
    "plt.figure(figsize=(6,5))\n",
    "sns.barplot(x=time_delay, y=missing_ratio, palette=\"deep\")\n",
    "plt.xlabel('tolerance')\n",
    "plt.ylabel('missing ratio')\n",
    "plt.title('Proportion of missing values after merging data frames')\n",
    "plt.show()"
   ]
  },
  {
   "cell_type": "code",
   "execution_count": 33,
   "id": "52bfc5f0",
   "metadata": {
    "ExecuteTime": {
     "end_time": "2023-05-27T15:00:55.018882Z",
     "start_time": "2023-05-27T15:00:54.821749Z"
    }
   },
   "outputs": [],
   "source": [
    "#容许公差为1s，方向为'nearest'\n",
    "df=pd.merge_asof(df1,df2,on='time', tolerance=pd.Timedelta(\"1s\"),direction='nearest')"
   ]
  },
  {
   "cell_type": "code",
   "execution_count": 34,
   "id": "f2c321ed",
   "metadata": {
    "ExecuteTime": {
     "end_time": "2023-05-27T15:01:59.430268Z",
     "start_time": "2023-05-27T15:00:59.868446Z"
    }
   },
   "outputs": [],
   "source": [
    "df_full=pd.merge_asof(datetime,df,on='time', tolerance=pd.Timedelta(\"1s\"),direction='nearest')"
   ]
  },
  {
   "cell_type": "code",
   "execution_count": 35,
   "id": "3d4df711",
   "metadata": {
    "ExecuteTime": {
     "end_time": "2023-05-27T15:02:48.844609Z",
     "start_time": "2023-05-27T15:02:48.605473Z"
    }
   },
   "outputs": [
    {
     "data": {
      "text/plain": [
       "0.19138494037241582"
      ]
     },
     "execution_count": 35,
     "metadata": {},
     "output_type": "execute_result"
    }
   ],
   "source": [
    "df_full['accuracy'].isnull().sum()/len(df_full)"
   ]
  },
  {
   "cell_type": "code",
   "execution_count": 36,
   "id": "a5cc7d60",
   "metadata": {
    "ExecuteTime": {
     "end_time": "2023-05-27T15:02:50.205424Z",
     "start_time": "2023-05-27T15:02:49.821757Z"
    }
   },
   "outputs": [
    {
     "data": {
      "text/plain": [
       "0.007588572147487042"
      ]
     },
     "execution_count": 36,
     "metadata": {},
     "output_type": "execute_result"
    }
   ],
   "source": [
    "df_full['number'].isnull().sum()/len(df_full)"
   ]
  },
  {
   "cell_type": "code",
   "execution_count": 38,
   "id": "12e71053",
   "metadata": {
    "ExecuteTime": {
     "end_time": "2023-05-27T15:09:33.989773Z",
     "start_time": "2023-05-27T15:03:07.846926Z"
    }
   },
   "outputs": [
    {
     "data": {
      "text/html": [
       "<div>\n",
       "<style scoped>\n",
       "    .dataframe tbody tr th:only-of-type {\n",
       "        vertical-align: middle;\n",
       "    }\n",
       "\n",
       "    .dataframe tbody tr th {\n",
       "        vertical-align: top;\n",
       "    }\n",
       "\n",
       "    .dataframe thead th {\n",
       "        text-align: right;\n",
       "    }\n",
       "</style>\n",
       "<table border=\"1\" class=\"dataframe\">\n",
       "  <thead>\n",
       "    <tr style=\"text-align: right;\">\n",
       "      <th></th>\n",
       "      <th>time</th>\n",
       "      <th>number</th>\n",
       "      <th>snr_mean</th>\n",
       "      <th>snr_std</th>\n",
       "      <th>snr_max</th>\n",
       "      <th>snr_min</th>\n",
       "      <th>accuracy</th>\n",
       "      <th>latitude</th>\n",
       "      <th>longitude</th>\n",
       "      <th>altitude</th>\n",
       "      <th>is_GPS_exist</th>\n",
       "    </tr>\n",
       "  </thead>\n",
       "  <tbody>\n",
       "    <tr>\n",
       "      <th>0</th>\n",
       "      <td>2017-03-25 08:46:22.760</td>\n",
       "      <td>7.0</td>\n",
       "      <td>31.0</td>\n",
       "      <td>7.187953</td>\n",
       "      <td>41.0</td>\n",
       "      <td>24.0</td>\n",
       "      <td>64.0</td>\n",
       "      <td>50.84686</td>\n",
       "      <td>-0.133593</td>\n",
       "      <td>191.368652</td>\n",
       "      <td>1</td>\n",
       "    </tr>\n",
       "    <tr>\n",
       "      <th>1</th>\n",
       "      <td>2017-03-25 08:46:22.770</td>\n",
       "      <td>7.0</td>\n",
       "      <td>31.0</td>\n",
       "      <td>7.187953</td>\n",
       "      <td>41.0</td>\n",
       "      <td>24.0</td>\n",
       "      <td>64.0</td>\n",
       "      <td>50.84686</td>\n",
       "      <td>-0.133593</td>\n",
       "      <td>191.368652</td>\n",
       "      <td>1</td>\n",
       "    </tr>\n",
       "    <tr>\n",
       "      <th>2</th>\n",
       "      <td>2017-03-25 08:46:22.780</td>\n",
       "      <td>7.0</td>\n",
       "      <td>31.0</td>\n",
       "      <td>7.187953</td>\n",
       "      <td>41.0</td>\n",
       "      <td>24.0</td>\n",
       "      <td>64.0</td>\n",
       "      <td>50.84686</td>\n",
       "      <td>-0.133593</td>\n",
       "      <td>191.368652</td>\n",
       "      <td>1</td>\n",
       "    </tr>\n",
       "    <tr>\n",
       "      <th>3</th>\n",
       "      <td>2017-03-25 08:46:22.790</td>\n",
       "      <td>7.0</td>\n",
       "      <td>31.0</td>\n",
       "      <td>7.187953</td>\n",
       "      <td>41.0</td>\n",
       "      <td>24.0</td>\n",
       "      <td>64.0</td>\n",
       "      <td>50.84686</td>\n",
       "      <td>-0.133593</td>\n",
       "      <td>191.368652</td>\n",
       "      <td>1</td>\n",
       "    </tr>\n",
       "    <tr>\n",
       "      <th>4</th>\n",
       "      <td>2017-03-25 08:46:22.800</td>\n",
       "      <td>7.0</td>\n",
       "      <td>31.0</td>\n",
       "      <td>7.187953</td>\n",
       "      <td>41.0</td>\n",
       "      <td>24.0</td>\n",
       "      <td>64.0</td>\n",
       "      <td>50.84686</td>\n",
       "      <td>-0.133593</td>\n",
       "      <td>191.368652</td>\n",
       "      <td>1</td>\n",
       "    </tr>\n",
       "  </tbody>\n",
       "</table>\n",
       "</div>"
      ],
      "text/plain": [
       "                     time  number  snr_mean   snr_std  snr_max  snr_min  \\\n",
       "0 2017-03-25 08:46:22.760     7.0      31.0  7.187953     41.0     24.0   \n",
       "1 2017-03-25 08:46:22.770     7.0      31.0  7.187953     41.0     24.0   \n",
       "2 2017-03-25 08:46:22.780     7.0      31.0  7.187953     41.0     24.0   \n",
       "3 2017-03-25 08:46:22.790     7.0      31.0  7.187953     41.0     24.0   \n",
       "4 2017-03-25 08:46:22.800     7.0      31.0  7.187953     41.0     24.0   \n",
       "\n",
       "   accuracy  latitude  longitude    altitude  is_GPS_exist  \n",
       "0      64.0  50.84686  -0.133593  191.368652             1  \n",
       "1      64.0  50.84686  -0.133593  191.368652             1  \n",
       "2      64.0  50.84686  -0.133593  191.368652             1  \n",
       "3      64.0  50.84686  -0.133593  191.368652             1  \n",
       "4      64.0  50.84686  -0.133593  191.368652             1  "
      ]
     },
     "execution_count": 38,
     "metadata": {},
     "output_type": "execute_result"
    }
   ],
   "source": [
    "#缺失值标记为GPS信号丢失（创建一个新的特征）\n",
    "df_full['is_GPS_exist']=1\n",
    "df_full.loc[df_full['accuracy'].isnull(),'is_GPS_exist']=0\n",
    "\n",
    "df_full.set_index('time',inplace=True)\n",
    "df_full.interpolate(method='time',inplace=True)\n",
    "df_full.reset_index(inplace=True)\n",
    "df_full.head(5)"
   ]
  },
  {
   "cell_type": "code",
   "execution_count": 39,
   "id": "7552fec1",
   "metadata": {
    "ExecuteTime": {
     "end_time": "2023-05-27T15:10:04.332460Z",
     "start_time": "2023-05-27T15:09:33.991800Z"
    }
   },
   "outputs": [
    {
     "data": {
      "text/plain": [
       "time            0\n",
       "number          0\n",
       "snr_mean        0\n",
       "snr_std         0\n",
       "snr_max         0\n",
       "snr_min         0\n",
       "accuracy        0\n",
       "latitude        0\n",
       "longitude       0\n",
       "altitude        0\n",
       "is_GPS_exist    0\n",
       "dtype: int64"
      ]
     },
     "execution_count": 39,
     "metadata": {},
     "output_type": "execute_result"
    }
   ],
   "source": [
    "df_full.isnull().sum()"
   ]
  },
  {
   "cell_type": "code",
   "execution_count": 40,
   "id": "42b7f715",
   "metadata": {
    "ExecuteTime": {
     "end_time": "2023-05-27T15:11:07.819639Z",
     "start_time": "2023-05-27T15:10:04.334753Z"
    }
   },
   "outputs": [],
   "source": [
    "df_full.to_pickle('../SHL2023/data_processed/train/hand_gps_and_loc.pkl')"
   ]
  },
  {
   "attachments": {},
   "cell_type": "markdown",
   "id": "b7c6019c",
   "metadata": {},
   "source": [
    "### hips"
   ]
  },
  {
   "cell_type": "code",
   "execution_count": 2,
   "id": "bb541f94",
   "metadata": {
    "ExecuteTime": {
     "end_time": "2023-05-28T11:22:43.114436Z",
     "start_time": "2023-05-28T11:22:42.368064Z"
    }
   },
   "outputs": [],
   "source": [
    "df1=pd.read_pickle('../SHL2023/data_processed/train/hips_gps.pkl')\n",
    "df2=pd.read_pickle('../SHL2023/data_pkl/hips_loc_full.pkl')\n",
    "datetime1=pd.to_datetime(df1['time'], unit=\"ms\")\n",
    "df1['time']=datetime1\n",
    "datetime2=pd.to_datetime(df2['time'], unit=\"ms\")\n",
    "df2['time']=datetime2"
   ]
  },
  {
   "cell_type": "code",
   "execution_count": 3,
   "id": "04304292",
   "metadata": {
    "ExecuteTime": {
     "end_time": "2023-05-28T11:22:45.237145Z",
     "start_time": "2023-05-28T11:22:44.085908Z"
    }
   },
   "outputs": [
    {
     "data": {
      "image/png": "[encoded data removed]",
      "text/plain": [
       "<Figure size 432x360 with 1 Axes>"
      ]
     },
     "metadata": {},
     "output_type": "display_data"
    }
   ],
   "source": [
    "missing_ratio=[]\n",
    "time_delay=['100ms','200ms','500ms','1s','3s','5s','10s']\n",
    "for delay in time_delay:\n",
    "    df=pd.merge_asof(df1,df2,on='time', tolerance=pd.Timedelta(delay),direction='nearest')\n",
    "    missing_ratio.append(df['accuracy'].isnull().sum()/len(df))\n",
    "    \n",
    "sns.set_theme(style=\"whitegrid\")\n",
    "plt.figure(figsize=(6,5))\n",
    "sns.barplot(x=time_delay, y=missing_ratio, palette=\"deep\")\n",
    "plt.xlabel('tolerance')\n",
    "plt.ylabel('missing ratio')\n",
    "plt.title('Proportion of missing values after merging data frames')\n",
    "plt.show()"
   ]
  },
  {
   "cell_type": "code",
   "execution_count": 6,
   "id": "094199f9",
   "metadata": {
    "ExecuteTime": {
     "end_time": "2023-05-28T11:23:37.070893Z",
     "start_time": "2023-05-28T11:23:27.422068Z"
    }
   },
   "outputs": [],
   "source": [
    "#容许公差为1s，方向为'nearest'\n",
    "df=pd.merge_asof(df1,df2,on='time', tolerance=pd.Timedelta(\"1s\"),direction='nearest')\n",
    "df_full=pd.merge_asof(datetime,df,on='time', tolerance=pd.Timedelta(\"1s\"),direction='nearest')"
   ]
  },
  {
   "cell_type": "code",
   "execution_count": 6,
   "id": "fdf5356d",
   "metadata": {
    "ExecuteTime": {
     "end_time": "2023-05-28T09:40:08.708441Z",
     "start_time": "2023-05-28T09:40:08.221449Z"
    }
   },
   "outputs": [
    {
     "name": "stdout",
     "output_type": "stream",
     "text": [
      "accuracy的缺失值占比为:0.3189936286948826\n",
      "\n",
      "number的缺失值占比为:0.08915732416566735\n",
      "\n"
     ]
    }
   ],
   "source": [
    "print('accuracy的缺失值占比为:{}\\n'.format(df_full['accuracy'].isnull().sum()/len(df_full)))\n",
    "print('number的缺失值占比为:{}\\n'.format(df_full['number'].isnull().sum()/len(df_full)))"
   ]
  },
  {
   "cell_type": "code",
   "execution_count": 7,
   "id": "c0bd1d52",
   "metadata": {
    "ExecuteTime": {
     "end_time": "2023-05-28T11:25:19.975829Z",
     "start_time": "2023-05-28T11:23:37.073049Z"
    }
   },
   "outputs": [
    {
     "data": {
      "text/html": [
       "<div>\n",
       "<style scoped>\n",
       "    .dataframe tbody tr th:only-of-type {\n",
       "        vertical-align: middle;\n",
       "    }\n",
       "\n",
       "    .dataframe tbody tr th {\n",
       "        vertical-align: top;\n",
       "    }\n",
       "\n",
       "    .dataframe thead th {\n",
       "        text-align: right;\n",
       "    }\n",
       "</style>\n",
       "<table border=\"1\" class=\"dataframe\">\n",
       "  <thead>\n",
       "    <tr style=\"text-align: right;\">\n",
       "      <th></th>\n",
       "      <th>time</th>\n",
       "      <th>number</th>\n",
       "      <th>snr_mean</th>\n",
       "      <th>snr_std</th>\n",
       "      <th>snr_max</th>\n",
       "      <th>snr_min</th>\n",
       "      <th>accuracy</th>\n",
       "      <th>latitude</th>\n",
       "      <th>longitude</th>\n",
       "      <th>altitude</th>\n",
       "      <th>is_GPS_exist</th>\n",
       "    </tr>\n",
       "  </thead>\n",
       "  <tbody>\n",
       "    <tr>\n",
       "      <th>0</th>\n",
       "      <td>2017-03-25 08:46:22.760</td>\n",
       "      <td>4.0</td>\n",
       "      <td>22.5</td>\n",
       "      <td>5.686241</td>\n",
       "      <td>29.0</td>\n",
       "      <td>16.0</td>\n",
       "      <td>NaN</td>\n",
       "      <td>NaN</td>\n",
       "      <td>NaN</td>\n",
       "      <td>NaN</td>\n",
       "      <td>0</td>\n",
       "    </tr>\n",
       "    <tr>\n",
       "      <th>1</th>\n",
       "      <td>2017-03-25 08:46:22.770</td>\n",
       "      <td>4.0</td>\n",
       "      <td>22.5</td>\n",
       "      <td>5.686241</td>\n",
       "      <td>29.0</td>\n",
       "      <td>16.0</td>\n",
       "      <td>NaN</td>\n",
       "      <td>NaN</td>\n",
       "      <td>NaN</td>\n",
       "      <td>NaN</td>\n",
       "      <td>0</td>\n",
       "    </tr>\n",
       "    <tr>\n",
       "      <th>2</th>\n",
       "      <td>2017-03-25 08:46:22.780</td>\n",
       "      <td>4.0</td>\n",
       "      <td>22.5</td>\n",
       "      <td>5.686241</td>\n",
       "      <td>29.0</td>\n",
       "      <td>16.0</td>\n",
       "      <td>NaN</td>\n",
       "      <td>NaN</td>\n",
       "      <td>NaN</td>\n",
       "      <td>NaN</td>\n",
       "      <td>0</td>\n",
       "    </tr>\n",
       "    <tr>\n",
       "      <th>3</th>\n",
       "      <td>2017-03-25 08:46:22.790</td>\n",
       "      <td>4.0</td>\n",
       "      <td>22.5</td>\n",
       "      <td>5.686241</td>\n",
       "      <td>29.0</td>\n",
       "      <td>16.0</td>\n",
       "      <td>NaN</td>\n",
       "      <td>NaN</td>\n",
       "      <td>NaN</td>\n",
       "      <td>NaN</td>\n",
       "      <td>0</td>\n",
       "    </tr>\n",
       "    <tr>\n",
       "      <th>4</th>\n",
       "      <td>2017-03-25 08:46:22.800</td>\n",
       "      <td>4.0</td>\n",
       "      <td>22.5</td>\n",
       "      <td>5.686241</td>\n",
       "      <td>29.0</td>\n",
       "      <td>16.0</td>\n",
       "      <td>NaN</td>\n",
       "      <td>NaN</td>\n",
       "      <td>NaN</td>\n",
       "      <td>NaN</td>\n",
       "      <td>0</td>\n",
       "    </tr>\n",
       "  </tbody>\n",
       "</table>\n",
       "</div>"
      ],
      "text/plain": [
       "                     time  number  snr_mean   snr_std  snr_max  snr_min  \\\n",
       "0 2017-03-25 08:46:22.760     4.0      22.5  5.686241     29.0     16.0   \n",
       "1 2017-03-25 08:46:22.770     4.0      22.5  5.686241     29.0     16.0   \n",
       "2 2017-03-25 08:46:22.780     4.0      22.5  5.686241     29.0     16.0   \n",
       "3 2017-03-25 08:46:22.790     4.0      22.5  5.686241     29.0     16.0   \n",
       "4 2017-03-25 08:46:22.800     4.0      22.5  5.686241     29.0     16.0   \n",
       "\n",
       "   accuracy  latitude  longitude  altitude  is_GPS_exist  \n",
       "0       NaN       NaN        NaN       NaN             0  \n",
       "1       NaN       NaN        NaN       NaN             0  \n",
       "2       NaN       NaN        NaN       NaN             0  \n",
       "3       NaN       NaN        NaN       NaN             0  \n",
       "4       NaN       NaN        NaN       NaN             0  "
      ]
     },
     "execution_count": 7,
     "metadata": {},
     "output_type": "execute_result"
    }
   ],
   "source": [
    "#缺失值标记为GPS信号丢失（创建一个新的特征）\n",
    "df_full['is_GPS_exist']=1\n",
    "df_full.loc[df_full['accuracy'].isnull(),'is_GPS_exist']=0\n",
    "\n",
    "df_full.set_index('time',inplace=True)\n",
    "df_full.interpolate(method='time',inplace=True)\n",
    "df_full.reset_index(inplace=True)\n",
    "df_full.head(5)"
   ]
  },
  {
   "cell_type": "code",
   "execution_count": 8,
   "id": "97e559c3",
   "metadata": {
    "ExecuteTime": {
     "end_time": "2023-05-28T11:25:23.325294Z",
     "start_time": "2023-05-28T11:25:19.977882Z"
    }
   },
   "outputs": [
    {
     "data": {
      "text/plain": [
       "time               0\n",
       "number             0\n",
       "snr_mean           0\n",
       "snr_std            0\n",
       "snr_max            0\n",
       "snr_min            0\n",
       "accuracy        7485\n",
       "latitude        7485\n",
       "longitude       7485\n",
       "altitude        7485\n",
       "is_GPS_exist       0\n",
       "dtype: int64"
      ]
     },
     "execution_count": 8,
     "metadata": {},
     "output_type": "execute_result"
    }
   ],
   "source": [
    "df_full.isnull().sum()"
   ]
  },
  {
   "cell_type": "code",
   "execution_count": 9,
   "id": "03617a5f",
   "metadata": {
    "ExecuteTime": {
     "end_time": "2023-05-28T11:25:25.321100Z",
     "start_time": "2023-05-28T11:25:23.327327Z"
    }
   },
   "outputs": [
    {
     "data": {
      "text/plain": [
       "7485        64.0\n",
       "7486        64.0\n",
       "7487        64.0\n",
       "7488        64.0\n",
       "7489        64.0\n",
       "            ... \n",
       "98052433     8.0\n",
       "98052434     8.0\n",
       "98052435     8.0\n",
       "98052436     8.0\n",
       "98052437     8.0\n",
       "Name: accuracy, Length: 98044953, dtype: float64"
      ]
     },
     "execution_count": 9,
     "metadata": {},
     "output_type": "execute_result"
    }
   ],
   "source": [
    "df_full.loc[df_full['accuracy'].notnull(),'accuracy']"
   ]
  },
  {
   "attachments": {},
   "cell_type": "markdown",
   "id": "56eb78f8",
   "metadata": {},
   "source": [
    "我们注意到0到7484的accuracy等数据是缺失的，这与一开始数据就缺失导致interpolate函数无法插补最前面的值有关.由于缺失值过多，所以考虑使用bag_gps_and_loc.pkl中的gps信息作为填补手段。"
   ]
  },
  {
   "cell_type": "code",
   "execution_count": 10,
   "id": "a290fcab",
   "metadata": {
    "ExecuteTime": {
     "end_time": "2023-05-28T11:26:39.067945Z",
     "start_time": "2023-05-28T11:25:25.322879Z"
    }
   },
   "outputs": [],
   "source": [
    "df3=pd.read_pickle('/home/ossdata/dengjiebi/data_processed/train/bag_gps_and_loc.pkl')"
   ]
  },
  {
   "cell_type": "code",
   "execution_count": 11,
   "id": "b713a7b0",
   "metadata": {
    "ExecuteTime": {
     "end_time": "2023-05-28T11:26:45.597014Z",
     "start_time": "2023-05-28T11:26:39.070163Z"
    }
   },
   "outputs": [
    {
     "data": {
      "text/plain": [
       "time            0\n",
       "number          0\n",
       "snr_mean        0\n",
       "snr_std         0\n",
       "snr_max         0\n",
       "snr_min         0\n",
       "accuracy        0\n",
       "latitude        0\n",
       "longitude       0\n",
       "altitude        0\n",
       "is_GPS_exist    0\n",
       "dtype: int64"
      ]
     },
     "execution_count": 11,
     "metadata": {},
     "output_type": "execute_result"
    }
   ],
   "source": [
    "df_full.loc[0:7484,'accuracy'] = df3.loc[0:7484,'accuracy']\n",
    "df_full.loc[0:7484,'latitude'] = df3.loc[0:7484,'latitude']\n",
    "df_full.loc[0:7484,'longitude'] = df3.loc[0:7484,'longitude']\n",
    "df_full.loc[0:7484,'altitude'] = df3.loc[0:7484,'altitude']\n",
    "df_full.isnull().sum()"
   ]
  },
  {
   "cell_type": "code",
   "execution_count": 12,
   "id": "10898a57",
   "metadata": {
    "ExecuteTime": {
     "end_time": "2023-05-28T11:28:29.506791Z",
     "start_time": "2023-05-28T11:26:45.598822Z"
    }
   },
   "outputs": [],
   "source": [
    "df_full.to_pickle('/home/ossdata/dengjiebi/data_processed/train/hips_gps_and_loc.pkl')"
   ]
  },
  {
   "attachments": {},
   "cell_type": "markdown",
   "id": "d1f46470",
   "metadata": {},
   "source": [
    "### torso"
   ]
  },
  {
   "cell_type": "code",
   "execution_count": 13,
   "id": "823eb244",
   "metadata": {
    "ExecuteTime": {
     "end_time": "2023-05-28T11:28:30.274226Z",
     "start_time": "2023-05-28T11:28:29.509611Z"
    }
   },
   "outputs": [],
   "source": [
    "df1=pd.read_pickle('../SHL2023/data_processed/train/torso_gps.pkl')\n",
    "df2=pd.read_pickle('../SHL2023/data_pkl/torso_loc_full.pkl')\n",
    "datetime1=pd.to_datetime(df1['time'], unit=\"ms\")\n",
    "df1['time']=datetime1\n",
    "datetime2=pd.to_datetime(df2['time'], unit=\"ms\")\n",
    "df2['time']=datetime2"
   ]
  },
  {
   "cell_type": "code",
   "execution_count": 14,
   "id": "9301af7a",
   "metadata": {
    "ExecuteTime": {
     "end_time": "2023-05-28T11:28:31.439894Z",
     "start_time": "2023-05-28T11:28:30.276378Z"
    }
   },
   "outputs": [
    {
     "data": {
      "image/png": "[encoded data removed]",
      "text/plain": [
       "<Figure size 432x360 with 1 Axes>"
      ]
     },
     "metadata": {},
     "output_type": "display_data"
    }
   ],
   "source": [
    "missing_ratio=[]\n",
    "time_delay=['100ms','200ms','500ms','1s','3s','5s','10s']\n",
    "for delay in time_delay:\n",
    "    df=pd.merge_asof(df1,df2,on='time', tolerance=pd.Timedelta(delay),direction='nearest')\n",
    "    missing_ratio.append(df['accuracy'].isnull().sum()/len(df))\n",
    "    \n",
    "sns.set_theme(style=\"whitegrid\")\n",
    "plt.figure(figsize=(6,5))\n",
    "sns.barplot(x=time_delay, y=missing_ratio, palette=\"deep\")\n",
    "plt.xlabel('tolerance')\n",
    "plt.ylabel('missing ratio')\n",
    "plt.title('Proportion of missing values after merging data frames')\n",
    "plt.show()"
   ]
  },
  {
   "cell_type": "code",
   "execution_count": 15,
   "id": "240dce80",
   "metadata": {
    "ExecuteTime": {
     "end_time": "2023-05-28T11:28:41.155450Z",
     "start_time": "2023-05-28T11:28:31.441655Z"
    }
   },
   "outputs": [],
   "source": [
    "#容许公差为1s，方向为'nearest'\n",
    "df=pd.merge_asof(df1,df2,on='time', tolerance=pd.Timedelta(\"1s\"),direction='nearest')\n",
    "df_full=pd.merge_asof(datetime,df,on='time', tolerance=pd.Timedelta(\"1s\"),direction='nearest')"
   ]
  },
  {
   "cell_type": "code",
   "execution_count": 32,
   "id": "bb9bf675",
   "metadata": {
    "ExecuteTime": {
     "end_time": "2023-05-28T11:04:16.693568Z",
     "start_time": "2023-05-28T11:04:16.228719Z"
    }
   },
   "outputs": [
    {
     "name": "stdout",
     "output_type": "stream",
     "text": [
      "accuracy的缺失值占比为:0.2933645872221963\n",
      "\n",
      "number的缺失值占比为:0.08087324661932424\n",
      "\n"
     ]
    }
   ],
   "source": [
    "print('accuracy的缺失值占比为:{}\\n'.format(df_full['accuracy'].isnull().sum()/len(df_full)))\n",
    "print('number的缺失值占比为:{}\\n'.format(df_full['number'].isnull().sum()/len(df_full)))"
   ]
  },
  {
   "cell_type": "code",
   "execution_count": 33,
   "id": "9d806bd3",
   "metadata": {
    "ExecuteTime": {
     "end_time": "2023-05-28T11:04:18.870397Z",
     "start_time": "2023-05-28T11:04:18.849594Z"
    }
   },
   "outputs": [
    {
     "data": {
      "text/html": [
       "<div>\n",
       "<style scoped>\n",
       "    .dataframe tbody tr th:only-of-type {\n",
       "        vertical-align: middle;\n",
       "    }\n",
       "\n",
       "    .dataframe tbody tr th {\n",
       "        vertical-align: top;\n",
       "    }\n",
       "\n",
       "    .dataframe thead th {\n",
       "        text-align: right;\n",
       "    }\n",
       "</style>\n",
       "<table border=\"1\" class=\"dataframe\">\n",
       "  <thead>\n",
       "    <tr style=\"text-align: right;\">\n",
       "      <th></th>\n",
       "      <th>time</th>\n",
       "      <th>number</th>\n",
       "      <th>snr_mean</th>\n",
       "      <th>snr_std</th>\n",
       "      <th>snr_max</th>\n",
       "      <th>snr_min</th>\n",
       "      <th>accuracy</th>\n",
       "      <th>latitude</th>\n",
       "      <th>longitude</th>\n",
       "      <th>altitude</th>\n",
       "    </tr>\n",
       "  </thead>\n",
       "  <tbody>\n",
       "    <tr>\n",
       "      <th>0</th>\n",
       "      <td>2017-03-25 08:46:22.760</td>\n",
       "      <td>0.0</td>\n",
       "      <td>0.000000</td>\n",
       "      <td>0.000000</td>\n",
       "      <td>0.0</td>\n",
       "      <td>0.0</td>\n",
       "      <td>NaN</td>\n",
       "      <td>NaN</td>\n",
       "      <td>NaN</td>\n",
       "      <td>NaN</td>\n",
       "    </tr>\n",
       "    <tr>\n",
       "      <th>1</th>\n",
       "      <td>2017-03-25 08:46:22.770</td>\n",
       "      <td>0.0</td>\n",
       "      <td>0.000000</td>\n",
       "      <td>0.000000</td>\n",
       "      <td>0.0</td>\n",
       "      <td>0.0</td>\n",
       "      <td>NaN</td>\n",
       "      <td>NaN</td>\n",
       "      <td>NaN</td>\n",
       "      <td>NaN</td>\n",
       "    </tr>\n",
       "    <tr>\n",
       "      <th>2</th>\n",
       "      <td>2017-03-25 08:46:22.780</td>\n",
       "      <td>0.0</td>\n",
       "      <td>0.000000</td>\n",
       "      <td>0.000000</td>\n",
       "      <td>0.0</td>\n",
       "      <td>0.0</td>\n",
       "      <td>NaN</td>\n",
       "      <td>NaN</td>\n",
       "      <td>NaN</td>\n",
       "      <td>NaN</td>\n",
       "    </tr>\n",
       "    <tr>\n",
       "      <th>3</th>\n",
       "      <td>2017-03-25 08:46:22.790</td>\n",
       "      <td>0.0</td>\n",
       "      <td>0.000000</td>\n",
       "      <td>0.000000</td>\n",
       "      <td>0.0</td>\n",
       "      <td>0.0</td>\n",
       "      <td>NaN</td>\n",
       "      <td>NaN</td>\n",
       "      <td>NaN</td>\n",
       "      <td>NaN</td>\n",
       "    </tr>\n",
       "    <tr>\n",
       "      <th>4</th>\n",
       "      <td>2017-03-25 08:46:22.800</td>\n",
       "      <td>0.0</td>\n",
       "      <td>0.000000</td>\n",
       "      <td>0.000000</td>\n",
       "      <td>0.0</td>\n",
       "      <td>0.0</td>\n",
       "      <td>NaN</td>\n",
       "      <td>NaN</td>\n",
       "      <td>NaN</td>\n",
       "      <td>NaN</td>\n",
       "    </tr>\n",
       "    <tr>\n",
       "      <th>...</th>\n",
       "      <td>...</td>\n",
       "      <td>...</td>\n",
       "      <td>...</td>\n",
       "      <td>...</td>\n",
       "      <td>...</td>\n",
       "      <td>...</td>\n",
       "      <td>...</td>\n",
       "      <td>...</td>\n",
       "      <td>...</td>\n",
       "      <td>...</td>\n",
       "    </tr>\n",
       "    <tr>\n",
       "      <th>98052433</th>\n",
       "      <td>2017-07-05 15:17:32.410</td>\n",
       "      <td>15.0</td>\n",
       "      <td>24.133333</td>\n",
       "      <td>8.584593</td>\n",
       "      <td>36.0</td>\n",
       "      <td>9.0</td>\n",
       "      <td>4.0</td>\n",
       "      <td>50.845835</td>\n",
       "      <td>-0.13324</td>\n",
       "      <td>122.17823</td>\n",
       "    </tr>\n",
       "    <tr>\n",
       "      <th>98052434</th>\n",
       "      <td>2017-07-05 15:17:32.420</td>\n",
       "      <td>15.0</td>\n",
       "      <td>24.133333</td>\n",
       "      <td>8.584593</td>\n",
       "      <td>36.0</td>\n",
       "      <td>9.0</td>\n",
       "      <td>4.0</td>\n",
       "      <td>50.845835</td>\n",
       "      <td>-0.13324</td>\n",
       "      <td>122.17823</td>\n",
       "    </tr>\n",
       "    <tr>\n",
       "      <th>98052435</th>\n",
       "      <td>2017-07-05 15:17:32.430</td>\n",
       "      <td>15.0</td>\n",
       "      <td>24.133333</td>\n",
       "      <td>8.584593</td>\n",
       "      <td>36.0</td>\n",
       "      <td>9.0</td>\n",
       "      <td>4.0</td>\n",
       "      <td>50.845835</td>\n",
       "      <td>-0.13324</td>\n",
       "      <td>122.17823</td>\n",
       "    </tr>\n",
       "    <tr>\n",
       "      <th>98052436</th>\n",
       "      <td>2017-07-05 15:17:32.440</td>\n",
       "      <td>15.0</td>\n",
       "      <td>24.133333</td>\n",
       "      <td>8.584593</td>\n",
       "      <td>36.0</td>\n",
       "      <td>9.0</td>\n",
       "      <td>4.0</td>\n",
       "      <td>50.845835</td>\n",
       "      <td>-0.13324</td>\n",
       "      <td>122.17823</td>\n",
       "    </tr>\n",
       "    <tr>\n",
       "      <th>98052437</th>\n",
       "      <td>2017-07-05 15:17:32.450</td>\n",
       "      <td>15.0</td>\n",
       "      <td>24.133333</td>\n",
       "      <td>8.584593</td>\n",
       "      <td>36.0</td>\n",
       "      <td>9.0</td>\n",
       "      <td>4.0</td>\n",
       "      <td>50.845835</td>\n",
       "      <td>-0.13324</td>\n",
       "      <td>122.17823</td>\n",
       "    </tr>\n",
       "  </tbody>\n",
       "</table>\n",
       "<p>98052438 rows × 10 columns</p>\n",
       "</div>"
      ],
      "text/plain": [
       "                            time  number   snr_mean   snr_std  snr_max  \\\n",
       "0        2017-03-25 08:46:22.760     0.0   0.000000  0.000000      0.0   \n",
       "1        2017-03-25 08:46:22.770     0.0   0.000000  0.000000      0.0   \n",
       "2        2017-03-25 08:46:22.780     0.0   0.000000  0.000000      0.0   \n",
       "3        2017-03-25 08:46:22.790     0.0   0.000000  0.000000      0.0   \n",
       "4        2017-03-25 08:46:22.800     0.0   0.000000  0.000000      0.0   \n",
       "...                          ...     ...        ...       ...      ...   \n",
       "98052433 2017-07-05 15:17:32.410    15.0  24.133333  8.584593     36.0   \n",
       "98052434 2017-07-05 15:17:32.420    15.0  24.133333  8.584593     36.0   \n",
       "98052435 2017-07-05 15:17:32.430    15.0  24.133333  8.584593     36.0   \n",
       "98052436 2017-07-05 15:17:32.440    15.0  24.133333  8.584593     36.0   \n",
       "98052437 2017-07-05 15:17:32.450    15.0  24.133333  8.584593     36.0   \n",
       "\n",
       "          snr_min  accuracy   latitude  longitude   altitude  \n",
       "0             0.0       NaN        NaN        NaN        NaN  \n",
       "1             0.0       NaN        NaN        NaN        NaN  \n",
       "2             0.0       NaN        NaN        NaN        NaN  \n",
       "3             0.0       NaN        NaN        NaN        NaN  \n",
       "4             0.0       NaN        NaN        NaN        NaN  \n",
       "...           ...       ...        ...        ...        ...  \n",
       "98052433      9.0       4.0  50.845835   -0.13324  122.17823  \n",
       "98052434      9.0       4.0  50.845835   -0.13324  122.17823  \n",
       "98052435      9.0       4.0  50.845835   -0.13324  122.17823  \n",
       "98052436      9.0       4.0  50.845835   -0.13324  122.17823  \n",
       "98052437      9.0       4.0  50.845835   -0.13324  122.17823  \n",
       "\n",
       "[98052438 rows x 10 columns]"
      ]
     },
     "execution_count": 33,
     "metadata": {},
     "output_type": "execute_result"
    }
   ],
   "source": [
    "df_full"
   ]
  },
  {
   "cell_type": "code",
   "execution_count": 16,
   "id": "81164ed2",
   "metadata": {
    "ExecuteTime": {
     "end_time": "2023-05-28T11:32:29.315431Z",
     "start_time": "2023-05-28T11:28:41.157442Z"
    }
   },
   "outputs": [
    {
     "data": {
      "text/html": [
       "<div>\n",
       "<style scoped>\n",
       "    .dataframe tbody tr th:only-of-type {\n",
       "        vertical-align: middle;\n",
       "    }\n",
       "\n",
       "    .dataframe tbody tr th {\n",
       "        vertical-align: top;\n",
       "    }\n",
       "\n",
       "    .dataframe thead th {\n",
       "        text-align: right;\n",
       "    }\n",
       "</style>\n",
       "<table border=\"1\" class=\"dataframe\">\n",
       "  <thead>\n",
       "    <tr style=\"text-align: right;\">\n",
       "      <th></th>\n",
       "      <th>time</th>\n",
       "      <th>number</th>\n",
       "      <th>snr_mean</th>\n",
       "      <th>snr_std</th>\n",
       "      <th>snr_max</th>\n",
       "      <th>snr_min</th>\n",
       "      <th>accuracy</th>\n",
       "      <th>latitude</th>\n",
       "      <th>longitude</th>\n",
       "      <th>altitude</th>\n",
       "      <th>is_GPS_exist</th>\n",
       "    </tr>\n",
       "  </thead>\n",
       "  <tbody>\n",
       "    <tr>\n",
       "      <th>0</th>\n",
       "      <td>2017-03-25 08:46:22.760</td>\n",
       "      <td>0.0</td>\n",
       "      <td>0.0</td>\n",
       "      <td>0.0</td>\n",
       "      <td>0.0</td>\n",
       "      <td>0.0</td>\n",
       "      <td>NaN</td>\n",
       "      <td>NaN</td>\n",
       "      <td>NaN</td>\n",
       "      <td>NaN</td>\n",
       "      <td>0</td>\n",
       "    </tr>\n",
       "    <tr>\n",
       "      <th>1</th>\n",
       "      <td>2017-03-25 08:46:22.770</td>\n",
       "      <td>0.0</td>\n",
       "      <td>0.0</td>\n",
       "      <td>0.0</td>\n",
       "      <td>0.0</td>\n",
       "      <td>0.0</td>\n",
       "      <td>NaN</td>\n",
       "      <td>NaN</td>\n",
       "      <td>NaN</td>\n",
       "      <td>NaN</td>\n",
       "      <td>0</td>\n",
       "    </tr>\n",
       "    <tr>\n",
       "      <th>2</th>\n",
       "      <td>2017-03-25 08:46:22.780</td>\n",
       "      <td>0.0</td>\n",
       "      <td>0.0</td>\n",
       "      <td>0.0</td>\n",
       "      <td>0.0</td>\n",
       "      <td>0.0</td>\n",
       "      <td>NaN</td>\n",
       "      <td>NaN</td>\n",
       "      <td>NaN</td>\n",
       "      <td>NaN</td>\n",
       "      <td>0</td>\n",
       "    </tr>\n",
       "    <tr>\n",
       "      <th>3</th>\n",
       "      <td>2017-03-25 08:46:22.790</td>\n",
       "      <td>0.0</td>\n",
       "      <td>0.0</td>\n",
       "      <td>0.0</td>\n",
       "      <td>0.0</td>\n",
       "      <td>0.0</td>\n",
       "      <td>NaN</td>\n",
       "      <td>NaN</td>\n",
       "      <td>NaN</td>\n",
       "      <td>NaN</td>\n",
       "      <td>0</td>\n",
       "    </tr>\n",
       "    <tr>\n",
       "      <th>4</th>\n",
       "      <td>2017-03-25 08:46:22.800</td>\n",
       "      <td>0.0</td>\n",
       "      <td>0.0</td>\n",
       "      <td>0.0</td>\n",
       "      <td>0.0</td>\n",
       "      <td>0.0</td>\n",
       "      <td>NaN</td>\n",
       "      <td>NaN</td>\n",
       "      <td>NaN</td>\n",
       "      <td>NaN</td>\n",
       "      <td>0</td>\n",
       "    </tr>\n",
       "  </tbody>\n",
       "</table>\n",
       "</div>"
      ],
      "text/plain": [
       "                     time  number  snr_mean  snr_std  snr_max  snr_min  \\\n",
       "0 2017-03-25 08:46:22.760     0.0       0.0      0.0      0.0      0.0   \n",
       "1 2017-03-25 08:46:22.770     0.0       0.0      0.0      0.0      0.0   \n",
       "2 2017-03-25 08:46:22.780     0.0       0.0      0.0      0.0      0.0   \n",
       "3 2017-03-25 08:46:22.790     0.0       0.0      0.0      0.0      0.0   \n",
       "4 2017-03-25 08:46:22.800     0.0       0.0      0.0      0.0      0.0   \n",
       "\n",
       "   accuracy  latitude  longitude  altitude  is_GPS_exist  \n",
       "0       NaN       NaN        NaN       NaN             0  \n",
       "1       NaN       NaN        NaN       NaN             0  \n",
       "2       NaN       NaN        NaN       NaN             0  \n",
       "3       NaN       NaN        NaN       NaN             0  \n",
       "4       NaN       NaN        NaN       NaN             0  "
      ]
     },
     "execution_count": 16,
     "metadata": {},
     "output_type": "execute_result"
    }
   ],
   "source": [
    "#缺失值标记为GPS信号丢失（创建一个新的特征）\n",
    "df_full['is_GPS_exist']=1\n",
    "df_full.loc[df_full['accuracy'].isnull(),'is_GPS_exist']=0\n",
    "df_full.set_index('time',inplace=True)\n",
    "df_full.interpolate(method='time',inplace=True)\n",
    "df_full.reset_index(inplace=True)\n",
    "df_full.head(5)"
   ]
  },
  {
   "cell_type": "code",
   "execution_count": 17,
   "id": "0c75b7fa",
   "metadata": {
    "ExecuteTime": {
     "end_time": "2023-05-28T11:32:32.726866Z",
     "start_time": "2023-05-28T11:32:29.317191Z"
    }
   },
   "outputs": [
    {
     "data": {
      "text/plain": [
       "time                0\n",
       "number              0\n",
       "snr_mean            0\n",
       "snr_std             0\n",
       "snr_max             0\n",
       "snr_min             0\n",
       "accuracy        13936\n",
       "latitude        13936\n",
       "longitude       13936\n",
       "altitude        13936\n",
       "is_GPS_exist        0\n",
       "dtype: int64"
      ]
     },
     "execution_count": 17,
     "metadata": {},
     "output_type": "execute_result"
    }
   ],
   "source": [
    "df_full.isnull().sum()"
   ]
  },
  {
   "cell_type": "code",
   "execution_count": 18,
   "id": "0752edea",
   "metadata": {
    "ExecuteTime": {
     "end_time": "2023-05-28T11:32:34.739400Z",
     "start_time": "2023-05-28T11:32:32.728691Z"
    }
   },
   "outputs": [
    {
     "data": {
      "text/plain": [
       "13936       128.0\n",
       "13937       128.0\n",
       "13938       128.0\n",
       "13939       128.0\n",
       "13940       128.0\n",
       "            ...  \n",
       "98052433      4.0\n",
       "98052434      4.0\n",
       "98052435      4.0\n",
       "98052436      4.0\n",
       "98052437      4.0\n",
       "Name: accuracy, Length: 98038502, dtype: float64"
      ]
     },
     "execution_count": 18,
     "metadata": {},
     "output_type": "execute_result"
    }
   ],
   "source": [
    "df_full.loc[df_full['accuracy'].notnull(),'accuracy']"
   ]
  },
  {
   "attachments": {},
   "cell_type": "markdown",
   "id": "63a0a1f3",
   "metadata": {},
   "source": [
    "和上一个数据集是同一个情况.由于缺失值过多，所以考虑使用bag_gps_and_loc.pkl中的gps信息作为填补手段。"
   ]
  },
  {
   "cell_type": "code",
   "execution_count": 19,
   "id": "d808e636",
   "metadata": {
    "ExecuteTime": {
     "end_time": "2023-05-28T11:32:37.873126Z",
     "start_time": "2023-05-28T11:32:34.741372Z"
    }
   },
   "outputs": [],
   "source": [
    "df_full.loc[0:13935,'accuracy']=df3.loc[0:13935,'accuracy']\n",
    "df_full.loc[0:13935,'latitude']=df3.loc[0:13935,'latitude']\n",
    "df_full.loc[0:13935,'longitude']=df3.loc[0:13935,'longitude']\n",
    "df_full.loc[0:13935,'altitude']=df3.loc[0:13935,'altitude']"
   ]
  },
  {
   "cell_type": "code",
   "execution_count": 20,
   "id": "1077bbc7",
   "metadata": {
    "ExecuteTime": {
     "end_time": "2023-05-28T11:32:41.237180Z",
     "start_time": "2023-05-28T11:32:37.875100Z"
    }
   },
   "outputs": [
    {
     "data": {
      "text/plain": [
       "time            0\n",
       "number          0\n",
       "snr_mean        0\n",
       "snr_std         0\n",
       "snr_max         0\n",
       "snr_min         0\n",
       "accuracy        0\n",
       "latitude        0\n",
       "longitude       0\n",
       "altitude        0\n",
       "is_GPS_exist    0\n",
       "dtype: int64"
      ]
     },
     "execution_count": 20,
     "metadata": {},
     "output_type": "execute_result"
    }
   ],
   "source": [
    "df_full.isnull().sum()"
   ]
  },
  {
   "cell_type": "code",
   "execution_count": 21,
   "id": "5aa4c5d2",
   "metadata": {
    "ExecuteTime": {
     "end_time": "2023-05-28T11:34:29.909466Z",
     "start_time": "2023-05-28T11:32:41.239040Z"
    }
   },
   "outputs": [],
   "source": [
    "df_full.to_pickle('/home/ossdata/dengjiebi/data_processed/train/torso_gps_and_loc.pkl')"
   ]
  },
  {
   "attachments": {},
   "cell_type": "markdown",
   "id": "0f9dd1b8",
   "metadata": {},
   "source": [
    "## 验证集\n",
    "### bag"
   ]
  },
  {
   "cell_type": "code",
   "execution_count": 8,
   "id": "43f4d370",
   "metadata": {
    "ExecuteTime": {
     "end_time": "2023-05-28T11:50:02.398327Z",
     "start_time": "2023-05-28T11:49:58.816420Z"
    }
   },
   "outputs": [],
   "source": [
    "#读取运动传感器的时间戳序列,后续训练集的合并中可以通用。\n",
    "datetime=pd.read_pickle('/home/ossdata/dengjiebi/data_tiny/validate/bag_acc.pkl')\n",
    "datetime=pd.to_datetime(datetime['time'], unit=\"ms\")"
   ]
  },
  {
   "cell_type": "code",
   "execution_count": 9,
   "id": "4456565f",
   "metadata": {},
   "outputs": [
    {
     "data": {
      "text/plain": [
       "0          2017-06-14 08:04:51.760\n",
       "100        2017-06-14 08:04:52.760\n",
       "200        2017-06-14 08:04:53.760\n",
       "300        2017-06-14 08:04:54.760\n",
       "400        2017-06-14 08:04:55.760\n",
       "                     ...          \n",
       "14395500   2017-07-18 15:00:28.760\n",
       "14395600   2017-07-18 15:00:29.760\n",
       "14395700   2017-07-18 15:00:30.760\n",
       "14395800   2017-07-18 15:00:31.760\n",
       "14395900   2017-07-18 15:00:32.760\n",
       "Name: time, Length: 143960, dtype: datetime64[ns]"
      ]
     },
     "execution_count": 9,
     "metadata": {},
     "output_type": "execute_result"
    }
   ],
   "source": [
    "datetime"
   ]
  },
  {
   "cell_type": "code",
   "execution_count": 11,
   "id": "ac8044a7",
   "metadata": {
    "ExecuteTime": {
     "end_time": "2023-05-28T11:46:16.191454Z",
     "start_time": "2023-05-28T11:46:16.172329Z"
    }
   },
   "outputs": [],
   "source": [
    "df1=pd.read_pickle('../SHL2023/data_GPS/validate/bag_gps.pkl')\n",
    "df2=pd.read_pickle('../SHL2023/data_GPS/validate/bag_loc_full.pkl')\n",
    "datetime1=pd.to_datetime(df1['time'], unit=\"ms\")\n",
    "df1['time']=datetime1\n",
    "datetime2=pd.to_datetime(df2['time'], unit=\"ms\")\n",
    "df2['time']=datetime2"
   ]
  },
  {
   "cell_type": "code",
   "execution_count": 12,
   "id": "d8db2248",
   "metadata": {
    "ExecuteTime": {
     "end_time": "2023-05-28T11:46:17.253053Z",
     "start_time": "2023-05-28T11:46:16.933789Z"
    }
   },
   "outputs": [
    {
     "data": {
      "image/png": "[encoded data removed]",
      "text/plain": [
       "<Figure size 432x360 with 1 Axes>"
      ]
     },
     "metadata": {},
     "output_type": "display_data"
    }
   ],
   "source": [
    "missing_ratio=[]\n",
    "time_delay=['100ms','200ms','500ms','1s','3s','5s','10s']\n",
    "for delay in time_delay:\n",
    "    df=pd.merge_asof(df1,df2,on='time', tolerance=pd.Timedelta(delay),direction='nearest')\n",
    "    missing_ratio.append(df['accuracy'].isnull().sum()/len(df))\n",
    "    \n",
    "sns.set_theme(style=\"whitegrid\")\n",
    "plt.figure(figsize=(6,5))\n",
    "sns.barplot(x=time_delay, y=missing_ratio, palette=\"deep\")\n",
    "plt.xlabel('tolerance')\n",
    "plt.ylabel('missing ratio')\n",
    "plt.title('Proportion of missing values after merging data frames')\n",
    "plt.show()"
   ]
  },
  {
   "cell_type": "code",
   "execution_count": 13,
   "id": "e8534cee",
   "metadata": {
    "ExecuteTime": {
     "end_time": "2023-05-28T11:50:10.078397Z",
     "start_time": "2023-05-28T11:50:05.870887Z"
    }
   },
   "outputs": [],
   "source": [
    "#容许公差为1s，方向为'nearest'\n",
    "df=pd.merge_asof(df1,df2,on='time', tolerance=pd.Timedelta(\"1s\"),direction='nearest')\n",
    "df_full=pd.merge_asof(datetime,df,on='time', tolerance=pd.Timedelta(\"1s\"),direction='nearest')"
   ]
  },
  {
   "cell_type": "code",
   "execution_count": 14,
   "id": "7bc0040d",
   "metadata": {
    "ExecuteTime": {
     "end_time": "2023-05-28T11:50:11.496009Z",
     "start_time": "2023-05-28T11:50:11.428592Z"
    }
   },
   "outputs": [
    {
     "name": "stdout",
     "output_type": "stream",
     "text": [
      "accuracy的缺失值占比为:0.3153931647679911\n",
      "\n",
      "number的缺失值占比为:0.09444290080577938\n",
      "\n"
     ]
    }
   ],
   "source": [
    "print('accuracy的缺失值占比为:{}\\n'.format(df_full['accuracy'].isnull().sum()/len(df_full)))\n",
    "print('number的缺失值占比为:{}\\n'.format(df_full['number'].isnull().sum()/len(df_full)))"
   ]
  },
  {
   "cell_type": "code",
   "execution_count": 15,
   "id": "0cda57a2",
   "metadata": {
    "ExecuteTime": {
     "end_time": "2023-05-28T11:50:15.218043Z",
     "start_time": "2023-05-28T11:50:15.202450Z"
    }
   },
   "outputs": [
    {
     "data": {
      "text/html": [
       "<div>\n",
       "<style scoped>\n",
       "    .dataframe tbody tr th:only-of-type {\n",
       "        vertical-align: middle;\n",
       "    }\n",
       "\n",
       "    .dataframe tbody tr th {\n",
       "        vertical-align: top;\n",
       "    }\n",
       "\n",
       "    .dataframe thead th {\n",
       "        text-align: right;\n",
       "    }\n",
       "</style>\n",
       "<table border=\"1\" class=\"dataframe\">\n",
       "  <thead>\n",
       "    <tr style=\"text-align: right;\">\n",
       "      <th></th>\n",
       "      <th>time</th>\n",
       "      <th>number</th>\n",
       "      <th>snr_mean</th>\n",
       "      <th>snr_std</th>\n",
       "      <th>snr_max</th>\n",
       "      <th>snr_min</th>\n",
       "      <th>accuracy</th>\n",
       "      <th>latitude</th>\n",
       "      <th>longitude</th>\n",
       "      <th>altitude</th>\n",
       "    </tr>\n",
       "  </thead>\n",
       "  <tbody>\n",
       "    <tr>\n",
       "      <th>0</th>\n",
       "      <td>2017-06-14 08:04:51.760</td>\n",
       "      <td>18.0</td>\n",
       "      <td>27.111111</td>\n",
       "      <td>7.991826</td>\n",
       "      <td>39.0</td>\n",
       "      <td>12.0</td>\n",
       "      <td>6.0</td>\n",
       "      <td>50.826629</td>\n",
       "      <td>-0.119805</td>\n",
       "      <td>140.742119</td>\n",
       "    </tr>\n",
       "    <tr>\n",
       "      <th>1</th>\n",
       "      <td>2017-06-14 08:04:52.760</td>\n",
       "      <td>18.0</td>\n",
       "      <td>27.055556</td>\n",
       "      <td>8.192337</td>\n",
       "      <td>40.0</td>\n",
       "      <td>11.0</td>\n",
       "      <td>6.0</td>\n",
       "      <td>50.826639</td>\n",
       "      <td>-0.119795</td>\n",
       "      <td>140.815679</td>\n",
       "    </tr>\n",
       "    <tr>\n",
       "      <th>2</th>\n",
       "      <td>2017-06-14 08:04:53.760</td>\n",
       "      <td>18.0</td>\n",
       "      <td>27.222222</td>\n",
       "      <td>8.342348</td>\n",
       "      <td>40.0</td>\n",
       "      <td>11.0</td>\n",
       "      <td>6.0</td>\n",
       "      <td>50.826648</td>\n",
       "      <td>-0.119788</td>\n",
       "      <td>140.937801</td>\n",
       "    </tr>\n",
       "    <tr>\n",
       "      <th>3</th>\n",
       "      <td>2017-06-14 08:04:54.760</td>\n",
       "      <td>18.0</td>\n",
       "      <td>28.500000</td>\n",
       "      <td>8.111357</td>\n",
       "      <td>39.0</td>\n",
       "      <td>11.0</td>\n",
       "      <td>6.0</td>\n",
       "      <td>50.826655</td>\n",
       "      <td>-0.119784</td>\n",
       "      <td>141.042916</td>\n",
       "    </tr>\n",
       "    <tr>\n",
       "      <th>4</th>\n",
       "      <td>2017-06-14 08:04:55.760</td>\n",
       "      <td>18.0</td>\n",
       "      <td>29.777778</td>\n",
       "      <td>8.633420</td>\n",
       "      <td>44.0</td>\n",
       "      <td>11.0</td>\n",
       "      <td>4.0</td>\n",
       "      <td>50.826665</td>\n",
       "      <td>-0.119778</td>\n",
       "      <td>141.114485</td>\n",
       "    </tr>\n",
       "  </tbody>\n",
       "</table>\n",
       "</div>"
      ],
      "text/plain": [
       "                     time  number   snr_mean   snr_std  snr_max  snr_min  \\\n",
       "0 2017-06-14 08:04:51.760    18.0  27.111111  7.991826     39.0     12.0   \n",
       "1 2017-06-14 08:04:52.760    18.0  27.055556  8.192337     40.0     11.0   \n",
       "2 2017-06-14 08:04:53.760    18.0  27.222222  8.342348     40.0     11.0   \n",
       "3 2017-06-14 08:04:54.760    18.0  28.500000  8.111357     39.0     11.0   \n",
       "4 2017-06-14 08:04:55.760    18.0  29.777778  8.633420     44.0     11.0   \n",
       "\n",
       "   accuracy   latitude  longitude    altitude  \n",
       "0       6.0  50.826629  -0.119805  140.742119  \n",
       "1       6.0  50.826639  -0.119795  140.815679  \n",
       "2       6.0  50.826648  -0.119788  140.937801  \n",
       "3       6.0  50.826655  -0.119784  141.042916  \n",
       "4       4.0  50.826665  -0.119778  141.114485  "
      ]
     },
     "execution_count": 15,
     "metadata": {},
     "output_type": "execute_result"
    }
   ],
   "source": [
    "df_full.head(5)"
   ]
  },
  {
   "cell_type": "code",
   "execution_count": 38,
   "id": "9d5cd3d6",
   "metadata": {
    "ExecuteTime": {
     "end_time": "2023-05-28T11:52:43.657813Z",
     "start_time": "2023-05-28T11:50:20.550147Z"
    }
   },
   "outputs": [
    {
     "data": {
      "text/html": [
       "<div>\n",
       "<style scoped>\n",
       "    .dataframe tbody tr th:only-of-type {\n",
       "        vertical-align: middle;\n",
       "    }\n",
       "\n",
       "    .dataframe tbody tr th {\n",
       "        vertical-align: top;\n",
       "    }\n",
       "\n",
       "    .dataframe thead th {\n",
       "        text-align: right;\n",
       "    }\n",
       "</style>\n",
       "<table border=\"1\" class=\"dataframe\">\n",
       "  <thead>\n",
       "    <tr style=\"text-align: right;\">\n",
       "      <th></th>\n",
       "      <th>time</th>\n",
       "      <th>number</th>\n",
       "      <th>snr_mean</th>\n",
       "      <th>snr_std</th>\n",
       "      <th>snr_max</th>\n",
       "      <th>snr_min</th>\n",
       "      <th>accuracy</th>\n",
       "      <th>latitude</th>\n",
       "      <th>longitude</th>\n",
       "      <th>altitude</th>\n",
       "      <th>is_GPS_exist</th>\n",
       "    </tr>\n",
       "  </thead>\n",
       "  <tbody>\n",
       "    <tr>\n",
       "      <th>0</th>\n",
       "      <td>2017-06-14 08:04:51.760</td>\n",
       "      <td>18.0</td>\n",
       "      <td>27.111111</td>\n",
       "      <td>7.991826</td>\n",
       "      <td>39.0</td>\n",
       "      <td>12.0</td>\n",
       "      <td>6.0</td>\n",
       "      <td>50.826629</td>\n",
       "      <td>-0.119805</td>\n",
       "      <td>140.742119</td>\n",
       "      <td>1</td>\n",
       "    </tr>\n",
       "    <tr>\n",
       "      <th>1</th>\n",
       "      <td>2017-06-14 08:04:51.770</td>\n",
       "      <td>18.0</td>\n",
       "      <td>27.111111</td>\n",
       "      <td>7.991826</td>\n",
       "      <td>39.0</td>\n",
       "      <td>12.0</td>\n",
       "      <td>6.0</td>\n",
       "      <td>50.826629</td>\n",
       "      <td>-0.119805</td>\n",
       "      <td>140.742119</td>\n",
       "      <td>1</td>\n",
       "    </tr>\n",
       "    <tr>\n",
       "      <th>2</th>\n",
       "      <td>2017-06-14 08:04:51.780</td>\n",
       "      <td>18.0</td>\n",
       "      <td>27.111111</td>\n",
       "      <td>7.991826</td>\n",
       "      <td>39.0</td>\n",
       "      <td>12.0</td>\n",
       "      <td>6.0</td>\n",
       "      <td>50.826629</td>\n",
       "      <td>-0.119805</td>\n",
       "      <td>140.742119</td>\n",
       "      <td>1</td>\n",
       "    </tr>\n",
       "    <tr>\n",
       "      <th>3</th>\n",
       "      <td>2017-06-14 08:04:51.790</td>\n",
       "      <td>18.0</td>\n",
       "      <td>27.111111</td>\n",
       "      <td>7.991826</td>\n",
       "      <td>39.0</td>\n",
       "      <td>12.0</td>\n",
       "      <td>6.0</td>\n",
       "      <td>50.826629</td>\n",
       "      <td>-0.119805</td>\n",
       "      <td>140.742119</td>\n",
       "      <td>1</td>\n",
       "    </tr>\n",
       "    <tr>\n",
       "      <th>4</th>\n",
       "      <td>2017-06-14 08:04:51.800</td>\n",
       "      <td>18.0</td>\n",
       "      <td>27.111111</td>\n",
       "      <td>7.991826</td>\n",
       "      <td>39.0</td>\n",
       "      <td>12.0</td>\n",
       "      <td>6.0</td>\n",
       "      <td>50.826629</td>\n",
       "      <td>-0.119805</td>\n",
       "      <td>140.742119</td>\n",
       "      <td>1</td>\n",
       "    </tr>\n",
       "  </tbody>\n",
       "</table>\n",
       "</div>"
      ],
      "text/plain": [
       "                     time  number   snr_mean   snr_std  snr_max  snr_min  \\\n",
       "0 2017-06-14 08:04:51.760    18.0  27.111111  7.991826     39.0     12.0   \n",
       "1 2017-06-14 08:04:51.770    18.0  27.111111  7.991826     39.0     12.0   \n",
       "2 2017-06-14 08:04:51.780    18.0  27.111111  7.991826     39.0     12.0   \n",
       "3 2017-06-14 08:04:51.790    18.0  27.111111  7.991826     39.0     12.0   \n",
       "4 2017-06-14 08:04:51.800    18.0  27.111111  7.991826     39.0     12.0   \n",
       "\n",
       "   accuracy   latitude  longitude    altitude  is_GPS_exist  \n",
       "0       6.0  50.826629  -0.119805  140.742119             1  \n",
       "1       6.0  50.826629  -0.119805  140.742119             1  \n",
       "2       6.0  50.826629  -0.119805  140.742119             1  \n",
       "3       6.0  50.826629  -0.119805  140.742119             1  \n",
       "4       6.0  50.826629  -0.119805  140.742119             1  "
      ]
     },
     "execution_count": 38,
     "metadata": {},
     "output_type": "execute_result"
    }
   ],
   "source": [
    "#缺失值标记为GPS信号丢失（创建一个新的特征）\n",
    "df_full['is_GPS_exist']=1\n",
    "df_full.loc[df_full['accuracy'].isnull(),'is_GPS_exist']=0\n",
    "df_full.set_index('time',inplace=True)\n",
    "df_full.interpolate(method='time',inplace=True)\n",
    "df_full.reset_index(inplace=True)\n",
    "df_full.head(5)"
   ]
  },
  {
   "cell_type": "code",
   "execution_count": 39,
   "id": "51ace8b7",
   "metadata": {
    "ExecuteTime": {
     "end_time": "2023-05-28T11:52:51.137110Z",
     "start_time": "2023-05-28T11:52:43.659729Z"
    }
   },
   "outputs": [
    {
     "data": {
      "text/plain": [
       "time            0\n",
       "number          0\n",
       "snr_mean        0\n",
       "snr_std         0\n",
       "snr_max         0\n",
       "snr_min         0\n",
       "accuracy        0\n",
       "latitude        0\n",
       "longitude       0\n",
       "altitude        0\n",
       "is_GPS_exist    0\n",
       "dtype: int64"
      ]
     },
     "execution_count": 39,
     "metadata": {},
     "output_type": "execute_result"
    }
   ],
   "source": [
    "df_full.isnull().sum()"
   ]
  },
  {
   "cell_type": "code",
   "execution_count": 40,
   "id": "bb5b069f",
   "metadata": {
    "ExecuteTime": {
     "end_time": "2023-05-28T11:53:17.787053Z",
     "start_time": "2023-05-28T11:53:01.416838Z"
    }
   },
   "outputs": [],
   "source": [
    "df_full.to_pickle('/home/ossdata/dengjiebi/data_processed/validate/bag_gps_and_loc.pkl')"
   ]
  },
  {
   "attachments": {},
   "cell_type": "markdown",
   "id": "e7a3b1b6",
   "metadata": {},
   "source": [
    "### hand"
   ]
  },
  {
   "cell_type": "code",
   "execution_count": 41,
   "id": "b8ac3a64",
   "metadata": {
    "ExecuteTime": {
     "end_time": "2023-05-28T11:53:29.850453Z",
     "start_time": "2023-05-28T11:53:29.804280Z"
    }
   },
   "outputs": [],
   "source": [
    "df1=pd.read_pickle('../SHL2023/data_processed/validate/hand_gps.pkl')\n",
    "df2=pd.read_pickle('../SHL2023/data_processed/validate/hand_loc_full.pkl')\n",
    "datetime1=pd.to_datetime(df1['time'], unit=\"ms\")\n",
    "df1['time']=datetime1\n",
    "datetime2=pd.to_datetime(df2['time'], unit=\"ms\")\n",
    "df2['time']=datetime2"
   ]
  },
  {
   "cell_type": "code",
   "execution_count": 42,
   "id": "25478e09",
   "metadata": {
    "ExecuteTime": {
     "end_time": "2023-05-28T11:53:32.650464Z",
     "start_time": "2023-05-28T11:53:32.296220Z"
    }
   },
   "outputs": [
    {
     "data": {
      "image/png": "[encoded data removed]",
      "text/plain": [
       "<Figure size 432x360 with 1 Axes>"
      ]
     },
     "metadata": {},
     "output_type": "display_data"
    }
   ],
   "source": [
    "missing_ratio=[]\n",
    "time_delay=['100ms','200ms','500ms','1s','3s','5s','10s']\n",
    "for delay in time_delay:\n",
    "    df=pd.merge_asof(df1,df2,on='time', tolerance=pd.Timedelta(delay),direction='nearest')\n",
    "    missing_ratio.append(df['accuracy'].isnull().sum()/len(df))\n",
    "    \n",
    "sns.set_theme(style=\"whitegrid\")\n",
    "plt.figure(figsize=(6,5))\n",
    "sns.barplot(x=time_delay, y=missing_ratio, palette=\"deep\")\n",
    "plt.xlabel('tolerance')\n",
    "plt.ylabel('missing ratio')\n",
    "plt.title('Proportion of missing values after merging data frames')\n",
    "plt.show()"
   ]
  },
  {
   "cell_type": "code",
   "execution_count": 43,
   "id": "4b4695ee",
   "metadata": {
    "ExecuteTime": {
     "end_time": "2023-05-28T11:54:08.931646Z",
     "start_time": "2023-05-28T11:53:36.862092Z"
    }
   },
   "outputs": [],
   "source": [
    "#容许公差为1s，方向为'nearest'\n",
    "df=pd.merge_asof(df1,df2,on='time', tolerance=pd.Timedelta(\"1s\"),direction='nearest')\n",
    "df_full=pd.merge_asof(datetime,df,on='time', tolerance=pd.Timedelta(\"1s\"),direction='nearest')"
   ]
  },
  {
   "cell_type": "code",
   "execution_count": 44,
   "id": "430b23a4",
   "metadata": {
    "ExecuteTime": {
     "end_time": "2023-05-28T11:54:09.016935Z",
     "start_time": "2023-05-28T11:54:08.934006Z"
    }
   },
   "outputs": [
    {
     "name": "stdout",
     "output_type": "stream",
     "text": [
      "accuracy的缺失值占比为:0.20034598641380927\n",
      "\n",
      "number的缺失值占比为:0.00014219285838973638\n",
      "\n"
     ]
    }
   ],
   "source": [
    "print('accuracy的缺失值占比为:{}\\n'.format(df_full['accuracy'].isnull().sum()/len(df_full)))\n",
    "print('number的缺失值占比为:{}\\n'.format(df_full['number'].isnull().sum()/len(df_full)))"
   ]
  },
  {
   "cell_type": "code",
   "execution_count": 45,
   "id": "4a34b0b9",
   "metadata": {
    "ExecuteTime": {
     "end_time": "2023-05-28T11:55:06.349183Z",
     "start_time": "2023-05-28T11:55:06.333174Z"
    }
   },
   "outputs": [
    {
     "data": {
      "text/html": [
       "<div>\n",
       "<style scoped>\n",
       "    .dataframe tbody tr th:only-of-type {\n",
       "        vertical-align: middle;\n",
       "    }\n",
       "\n",
       "    .dataframe tbody tr th {\n",
       "        vertical-align: top;\n",
       "    }\n",
       "\n",
       "    .dataframe thead th {\n",
       "        text-align: right;\n",
       "    }\n",
       "</style>\n",
       "<table border=\"1\" class=\"dataframe\">\n",
       "  <thead>\n",
       "    <tr style=\"text-align: right;\">\n",
       "      <th></th>\n",
       "      <th>time</th>\n",
       "      <th>number</th>\n",
       "      <th>snr_mean</th>\n",
       "      <th>snr_std</th>\n",
       "      <th>snr_max</th>\n",
       "      <th>snr_min</th>\n",
       "      <th>accuracy</th>\n",
       "      <th>latitude</th>\n",
       "      <th>longitude</th>\n",
       "      <th>altitude</th>\n",
       "    </tr>\n",
       "  </thead>\n",
       "  <tbody>\n",
       "    <tr>\n",
       "      <th>0</th>\n",
       "      <td>2017-06-14 08:04:51.760</td>\n",
       "      <td>18.0</td>\n",
       "      <td>26.166667</td>\n",
       "      <td>7.563457</td>\n",
       "      <td>38.0</td>\n",
       "      <td>9.0</td>\n",
       "      <td>6.0</td>\n",
       "      <td>50.826712</td>\n",
       "      <td>-0.119916</td>\n",
       "      <td>134.701051</td>\n",
       "    </tr>\n",
       "    <tr>\n",
       "      <th>1</th>\n",
       "      <td>2017-06-14 08:04:51.770</td>\n",
       "      <td>18.0</td>\n",
       "      <td>26.166667</td>\n",
       "      <td>7.563457</td>\n",
       "      <td>38.0</td>\n",
       "      <td>9.0</td>\n",
       "      <td>6.0</td>\n",
       "      <td>50.826712</td>\n",
       "      <td>-0.119916</td>\n",
       "      <td>134.701051</td>\n",
       "    </tr>\n",
       "    <tr>\n",
       "      <th>2</th>\n",
       "      <td>2017-06-14 08:04:51.780</td>\n",
       "      <td>18.0</td>\n",
       "      <td>26.166667</td>\n",
       "      <td>7.563457</td>\n",
       "      <td>38.0</td>\n",
       "      <td>9.0</td>\n",
       "      <td>6.0</td>\n",
       "      <td>50.826712</td>\n",
       "      <td>-0.119916</td>\n",
       "      <td>134.701051</td>\n",
       "    </tr>\n",
       "    <tr>\n",
       "      <th>3</th>\n",
       "      <td>2017-06-14 08:04:51.790</td>\n",
       "      <td>18.0</td>\n",
       "      <td>26.166667</td>\n",
       "      <td>7.563457</td>\n",
       "      <td>38.0</td>\n",
       "      <td>9.0</td>\n",
       "      <td>6.0</td>\n",
       "      <td>50.826712</td>\n",
       "      <td>-0.119916</td>\n",
       "      <td>134.701051</td>\n",
       "    </tr>\n",
       "    <tr>\n",
       "      <th>4</th>\n",
       "      <td>2017-06-14 08:04:51.800</td>\n",
       "      <td>18.0</td>\n",
       "      <td>26.166667</td>\n",
       "      <td>7.563457</td>\n",
       "      <td>38.0</td>\n",
       "      <td>9.0</td>\n",
       "      <td>6.0</td>\n",
       "      <td>50.826712</td>\n",
       "      <td>-0.119916</td>\n",
       "      <td>134.701051</td>\n",
       "    </tr>\n",
       "  </tbody>\n",
       "</table>\n",
       "</div>"
      ],
      "text/plain": [
       "                     time  number   snr_mean   snr_std  snr_max  snr_min  \\\n",
       "0 2017-06-14 08:04:51.760    18.0  26.166667  7.563457     38.0      9.0   \n",
       "1 2017-06-14 08:04:51.770    18.0  26.166667  7.563457     38.0      9.0   \n",
       "2 2017-06-14 08:04:51.780    18.0  26.166667  7.563457     38.0      9.0   \n",
       "3 2017-06-14 08:04:51.790    18.0  26.166667  7.563457     38.0      9.0   \n",
       "4 2017-06-14 08:04:51.800    18.0  26.166667  7.563457     38.0      9.0   \n",
       "\n",
       "   accuracy   latitude  longitude    altitude  \n",
       "0       6.0  50.826712  -0.119916  134.701051  \n",
       "1       6.0  50.826712  -0.119916  134.701051  \n",
       "2       6.0  50.826712  -0.119916  134.701051  \n",
       "3       6.0  50.826712  -0.119916  134.701051  \n",
       "4       6.0  50.826712  -0.119916  134.701051  "
      ]
     },
     "execution_count": 45,
     "metadata": {},
     "output_type": "execute_result"
    }
   ],
   "source": [
    "df_full.head(5)"
   ]
  },
  {
   "cell_type": "code",
   "execution_count": 46,
   "id": "ddafbc80",
   "metadata": {
    "ExecuteTime": {
     "end_time": "2023-05-28T11:57:41.087168Z",
     "start_time": "2023-05-28T11:55:09.650751Z"
    }
   },
   "outputs": [
    {
     "data": {
      "text/html": [
       "<div>\n",
       "<style scoped>\n",
       "    .dataframe tbody tr th:only-of-type {\n",
       "        vertical-align: middle;\n",
       "    }\n",
       "\n",
       "    .dataframe tbody tr th {\n",
       "        vertical-align: top;\n",
       "    }\n",
       "\n",
       "    .dataframe thead th {\n",
       "        text-align: right;\n",
       "    }\n",
       "</style>\n",
       "<table border=\"1\" class=\"dataframe\">\n",
       "  <thead>\n",
       "    <tr style=\"text-align: right;\">\n",
       "      <th></th>\n",
       "      <th>time</th>\n",
       "      <th>number</th>\n",
       "      <th>snr_mean</th>\n",
       "      <th>snr_std</th>\n",
       "      <th>snr_max</th>\n",
       "      <th>snr_min</th>\n",
       "      <th>accuracy</th>\n",
       "      <th>latitude</th>\n",
       "      <th>longitude</th>\n",
       "      <th>altitude</th>\n",
       "      <th>is_GPS_exist</th>\n",
       "    </tr>\n",
       "  </thead>\n",
       "  <tbody>\n",
       "    <tr>\n",
       "      <th>0</th>\n",
       "      <td>2017-06-14 08:04:51.760</td>\n",
       "      <td>18.0</td>\n",
       "      <td>26.166667</td>\n",
       "      <td>7.563457</td>\n",
       "      <td>38.0</td>\n",
       "      <td>9.0</td>\n",
       "      <td>6.0</td>\n",
       "      <td>50.826712</td>\n",
       "      <td>-0.119916</td>\n",
       "      <td>134.701051</td>\n",
       "      <td>1</td>\n",
       "    </tr>\n",
       "    <tr>\n",
       "      <th>1</th>\n",
       "      <td>2017-06-14 08:04:51.770</td>\n",
       "      <td>18.0</td>\n",
       "      <td>26.166667</td>\n",
       "      <td>7.563457</td>\n",
       "      <td>38.0</td>\n",
       "      <td>9.0</td>\n",
       "      <td>6.0</td>\n",
       "      <td>50.826712</td>\n",
       "      <td>-0.119916</td>\n",
       "      <td>134.701051</td>\n",
       "      <td>1</td>\n",
       "    </tr>\n",
       "    <tr>\n",
       "      <th>2</th>\n",
       "      <td>2017-06-14 08:04:51.780</td>\n",
       "      <td>18.0</td>\n",
       "      <td>26.166667</td>\n",
       "      <td>7.563457</td>\n",
       "      <td>38.0</td>\n",
       "      <td>9.0</td>\n",
       "      <td>6.0</td>\n",
       "      <td>50.826712</td>\n",
       "      <td>-0.119916</td>\n",
       "      <td>134.701051</td>\n",
       "      <td>1</td>\n",
       "    </tr>\n",
       "    <tr>\n",
       "      <th>3</th>\n",
       "      <td>2017-06-14 08:04:51.790</td>\n",
       "      <td>18.0</td>\n",
       "      <td>26.166667</td>\n",
       "      <td>7.563457</td>\n",
       "      <td>38.0</td>\n",
       "      <td>9.0</td>\n",
       "      <td>6.0</td>\n",
       "      <td>50.826712</td>\n",
       "      <td>-0.119916</td>\n",
       "      <td>134.701051</td>\n",
       "      <td>1</td>\n",
       "    </tr>\n",
       "    <tr>\n",
       "      <th>4</th>\n",
       "      <td>2017-06-14 08:04:51.800</td>\n",
       "      <td>18.0</td>\n",
       "      <td>26.166667</td>\n",
       "      <td>7.563457</td>\n",
       "      <td>38.0</td>\n",
       "      <td>9.0</td>\n",
       "      <td>6.0</td>\n",
       "      <td>50.826712</td>\n",
       "      <td>-0.119916</td>\n",
       "      <td>134.701051</td>\n",
       "      <td>1</td>\n",
       "    </tr>\n",
       "  </tbody>\n",
       "</table>\n",
       "</div>"
      ],
      "text/plain": [
       "                     time  number   snr_mean   snr_std  snr_max  snr_min  \\\n",
       "0 2017-06-14 08:04:51.760    18.0  26.166667  7.563457     38.0      9.0   \n",
       "1 2017-06-14 08:04:51.770    18.0  26.166667  7.563457     38.0      9.0   \n",
       "2 2017-06-14 08:04:51.780    18.0  26.166667  7.563457     38.0      9.0   \n",
       "3 2017-06-14 08:04:51.790    18.0  26.166667  7.563457     38.0      9.0   \n",
       "4 2017-06-14 08:04:51.800    18.0  26.166667  7.563457     38.0      9.0   \n",
       "\n",
       "   accuracy   latitude  longitude    altitude  is_GPS_exist  \n",
       "0       6.0  50.826712  -0.119916  134.701051             1  \n",
       "1       6.0  50.826712  -0.119916  134.701051             1  \n",
       "2       6.0  50.826712  -0.119916  134.701051             1  \n",
       "3       6.0  50.826712  -0.119916  134.701051             1  \n",
       "4       6.0  50.826712  -0.119916  134.701051             1  "
      ]
     },
     "execution_count": 46,
     "metadata": {},
     "output_type": "execute_result"
    }
   ],
   "source": [
    "#缺失值标记为GPS信号丢失（创建一个新的特征）\n",
    "df_full['is_GPS_exist']=1\n",
    "df_full.loc[df_full['accuracy'].isnull(),'is_GPS_exist']=0\n",
    "df_full.set_index('time',inplace=True)\n",
    "df_full.interpolate(method='time',inplace=True)\n",
    "df_full.reset_index(inplace=True)\n",
    "df_full.head(5)"
   ]
  },
  {
   "cell_type": "code",
   "execution_count": 47,
   "id": "af2ace1c",
   "metadata": {
    "ExecuteTime": {
     "end_time": "2023-05-28T11:57:47.101485Z",
     "start_time": "2023-05-28T11:57:41.089316Z"
    }
   },
   "outputs": [
    {
     "data": {
      "text/plain": [
       "time            0\n",
       "number          0\n",
       "snr_mean        0\n",
       "snr_std         0\n",
       "snr_max         0\n",
       "snr_min         0\n",
       "accuracy        0\n",
       "latitude        0\n",
       "longitude       0\n",
       "altitude        0\n",
       "is_GPS_exist    0\n",
       "dtype: int64"
      ]
     },
     "execution_count": 47,
     "metadata": {},
     "output_type": "execute_result"
    }
   ],
   "source": [
    "df_full.isnull().sum()"
   ]
  },
  {
   "cell_type": "code",
   "execution_count": 48,
   "id": "fe3b5637",
   "metadata": {
    "ExecuteTime": {
     "end_time": "2023-05-28T11:58:03.126653Z",
     "start_time": "2023-05-28T11:57:47.103685Z"
    }
   },
   "outputs": [],
   "source": [
    "df_full.to_pickle('/home/ossdata/dengjiebi/data_processed/validate/hand_gps_and_loc.pkl')"
   ]
  },
  {
   "attachments": {},
   "cell_type": "markdown",
   "id": "c15ed4fd",
   "metadata": {},
   "source": [
    "### hips"
   ]
  },
  {
   "cell_type": "code",
   "execution_count": 49,
   "id": "8d0dc38f",
   "metadata": {
    "ExecuteTime": {
     "end_time": "2023-05-28T11:58:37.631907Z",
     "start_time": "2023-05-28T11:58:37.591677Z"
    }
   },
   "outputs": [],
   "source": [
    "df1=pd.read_pickle('../SHL2023/data_processed/validate/hips_gps.pkl')\n",
    "df2=pd.read_pickle('../SHL2023/data_processed/validate/hips_loc_full.pkl')\n",
    "datetime1=pd.to_datetime(df1['time'], unit=\"ms\")\n",
    "df1['time']=datetime1\n",
    "datetime2=pd.to_datetime(df2['time'], unit=\"ms\")\n",
    "df2['time']=datetime2"
   ]
  },
  {
   "cell_type": "code",
   "execution_count": 50,
   "id": "74d2fb8a",
   "metadata": {
    "ExecuteTime": {
     "end_time": "2023-05-28T11:58:38.091087Z",
     "start_time": "2023-05-28T11:58:37.795511Z"
    }
   },
   "outputs": [
    {
     "data": {
      "image/png": "[encoded data removed]",
      "text/plain": [
       "<Figure size 432x360 with 1 Axes>"
      ]
     },
     "metadata": {},
     "output_type": "display_data"
    }
   ],
   "source": [
    "missing_ratio=[]\n",
    "time_delay=['100ms','200ms','500ms','1s','3s','5s','10s']\n",
    "for delay in time_delay:\n",
    "    df=pd.merge_asof(df1,df2,on='time', tolerance=pd.Timedelta(delay),direction='nearest')\n",
    "    missing_ratio.append(df['accuracy'].isnull().sum()/len(df))\n",
    "    \n",
    "sns.set_theme(style=\"whitegrid\")\n",
    "plt.figure(figsize=(6,5))\n",
    "sns.barplot(x=time_delay, y=missing_ratio, palette=\"deep\")\n",
    "plt.xlabel('tolerance')\n",
    "plt.ylabel('missing ratio')\n",
    "plt.title('Proportion of missing values after merging data frames')\n",
    "plt.show()"
   ]
  },
  {
   "cell_type": "code",
   "execution_count": 51,
   "id": "1e1477b8",
   "metadata": {
    "ExecuteTime": {
     "end_time": "2023-05-28T11:59:10.487467Z",
     "start_time": "2023-05-28T11:58:38.093224Z"
    }
   },
   "outputs": [],
   "source": [
    "#容许公差为1s，方向为'nearest'\n",
    "df=pd.merge_asof(df1,df2,on='time', tolerance=pd.Timedelta(\"1s\"),direction='nearest')\n",
    "df_full=pd.merge_asof(datetime,df,on='time', tolerance=pd.Timedelta(\"1s\"),direction='nearest')"
   ]
  },
  {
   "cell_type": "code",
   "execution_count": 52,
   "id": "33398342",
   "metadata": {
    "ExecuteTime": {
     "end_time": "2023-05-28T11:59:10.574894Z",
     "start_time": "2023-05-28T11:59:10.489959Z"
    }
   },
   "outputs": [
    {
     "name": "stdout",
     "output_type": "stream",
     "text": [
      "accuracy的缺失值占比为:0.40655890434671826\n",
      "\n",
      "number的缺失值占比为:0.12731553984557176\n",
      "\n"
     ]
    }
   ],
   "source": [
    "print('accuracy的缺失值占比为:{}\\n'.format(df_full['accuracy'].isnull().sum()/len(df_full)))\n",
    "print('number的缺失值占比为:{}\\n'.format(df_full['number'].isnull().sum()/len(df_full)))"
   ]
  },
  {
   "cell_type": "code",
   "execution_count": 53,
   "id": "37cf3deb",
   "metadata": {
    "ExecuteTime": {
     "end_time": "2023-05-28T11:59:10.592087Z",
     "start_time": "2023-05-28T11:59:10.576960Z"
    }
   },
   "outputs": [
    {
     "data": {
      "text/html": [
       "<div>\n",
       "<style scoped>\n",
       "    .dataframe tbody tr th:only-of-type {\n",
       "        vertical-align: middle;\n",
       "    }\n",
       "\n",
       "    .dataframe tbody tr th {\n",
       "        vertical-align: top;\n",
       "    }\n",
       "\n",
       "    .dataframe thead th {\n",
       "        text-align: right;\n",
       "    }\n",
       "</style>\n",
       "<table border=\"1\" class=\"dataframe\">\n",
       "  <thead>\n",
       "    <tr style=\"text-align: right;\">\n",
       "      <th></th>\n",
       "      <th>time</th>\n",
       "      <th>number</th>\n",
       "      <th>snr_mean</th>\n",
       "      <th>snr_std</th>\n",
       "      <th>snr_max</th>\n",
       "      <th>snr_min</th>\n",
       "      <th>accuracy</th>\n",
       "      <th>latitude</th>\n",
       "      <th>longitude</th>\n",
       "      <th>altitude</th>\n",
       "    </tr>\n",
       "  </thead>\n",
       "  <tbody>\n",
       "    <tr>\n",
       "      <th>0</th>\n",
       "      <td>2017-06-14 08:04:51.760</td>\n",
       "      <td>16.0</td>\n",
       "      <td>26.0625</td>\n",
       "      <td>6.147832</td>\n",
       "      <td>38.0</td>\n",
       "      <td>18.0</td>\n",
       "      <td>8.0</td>\n",
       "      <td>50.826732</td>\n",
       "      <td>-0.119872</td>\n",
       "      <td>133.989176</td>\n",
       "    </tr>\n",
       "    <tr>\n",
       "      <th>1</th>\n",
       "      <td>2017-06-14 08:04:51.770</td>\n",
       "      <td>16.0</td>\n",
       "      <td>26.0625</td>\n",
       "      <td>6.147832</td>\n",
       "      <td>38.0</td>\n",
       "      <td>18.0</td>\n",
       "      <td>8.0</td>\n",
       "      <td>50.826732</td>\n",
       "      <td>-0.119872</td>\n",
       "      <td>133.989176</td>\n",
       "    </tr>\n",
       "    <tr>\n",
       "      <th>2</th>\n",
       "      <td>2017-06-14 08:04:51.780</td>\n",
       "      <td>16.0</td>\n",
       "      <td>26.0625</td>\n",
       "      <td>6.147832</td>\n",
       "      <td>38.0</td>\n",
       "      <td>18.0</td>\n",
       "      <td>8.0</td>\n",
       "      <td>50.826732</td>\n",
       "      <td>-0.119872</td>\n",
       "      <td>133.989176</td>\n",
       "    </tr>\n",
       "    <tr>\n",
       "      <th>3</th>\n",
       "      <td>2017-06-14 08:04:51.790</td>\n",
       "      <td>16.0</td>\n",
       "      <td>26.0625</td>\n",
       "      <td>6.147832</td>\n",
       "      <td>38.0</td>\n",
       "      <td>18.0</td>\n",
       "      <td>8.0</td>\n",
       "      <td>50.826732</td>\n",
       "      <td>-0.119872</td>\n",
       "      <td>133.989176</td>\n",
       "    </tr>\n",
       "    <tr>\n",
       "      <th>4</th>\n",
       "      <td>2017-06-14 08:04:51.800</td>\n",
       "      <td>16.0</td>\n",
       "      <td>26.0625</td>\n",
       "      <td>6.147832</td>\n",
       "      <td>38.0</td>\n",
       "      <td>18.0</td>\n",
       "      <td>8.0</td>\n",
       "      <td>50.826732</td>\n",
       "      <td>-0.119872</td>\n",
       "      <td>133.989176</td>\n",
       "    </tr>\n",
       "  </tbody>\n",
       "</table>\n",
       "</div>"
      ],
      "text/plain": [
       "                     time  number  snr_mean   snr_std  snr_max  snr_min  \\\n",
       "0 2017-06-14 08:04:51.760    16.0   26.0625  6.147832     38.0     18.0   \n",
       "1 2017-06-14 08:04:51.770    16.0   26.0625  6.147832     38.0     18.0   \n",
       "2 2017-06-14 08:04:51.780    16.0   26.0625  6.147832     38.0     18.0   \n",
       "3 2017-06-14 08:04:51.790    16.0   26.0625  6.147832     38.0     18.0   \n",
       "4 2017-06-14 08:04:51.800    16.0   26.0625  6.147832     38.0     18.0   \n",
       "\n",
       "   accuracy   latitude  longitude    altitude  \n",
       "0       8.0  50.826732  -0.119872  133.989176  \n",
       "1       8.0  50.826732  -0.119872  133.989176  \n",
       "2       8.0  50.826732  -0.119872  133.989176  \n",
       "3       8.0  50.826732  -0.119872  133.989176  \n",
       "4       8.0  50.826732  -0.119872  133.989176  "
      ]
     },
     "execution_count": 53,
     "metadata": {},
     "output_type": "execute_result"
    }
   ],
   "source": [
    "df_full.head(5)"
   ]
  },
  {
   "cell_type": "code",
   "execution_count": 54,
   "id": "5e2e3a66",
   "metadata": {
    "ExecuteTime": {
     "end_time": "2023-05-28T12:01:53.291903Z",
     "start_time": "2023-05-28T11:59:10.593775Z"
    }
   },
   "outputs": [
    {
     "data": {
      "text/html": [
       "<div>\n",
       "<style scoped>\n",
       "    .dataframe tbody tr th:only-of-type {\n",
       "        vertical-align: middle;\n",
       "    }\n",
       "\n",
       "    .dataframe tbody tr th {\n",
       "        vertical-align: top;\n",
       "    }\n",
       "\n",
       "    .dataframe thead th {\n",
       "        text-align: right;\n",
       "    }\n",
       "</style>\n",
       "<table border=\"1\" class=\"dataframe\">\n",
       "  <thead>\n",
       "    <tr style=\"text-align: right;\">\n",
       "      <th></th>\n",
       "      <th>time</th>\n",
       "      <th>number</th>\n",
       "      <th>snr_mean</th>\n",
       "      <th>snr_std</th>\n",
       "      <th>snr_max</th>\n",
       "      <th>snr_min</th>\n",
       "      <th>accuracy</th>\n",
       "      <th>latitude</th>\n",
       "      <th>longitude</th>\n",
       "      <th>altitude</th>\n",
       "      <th>is_GPS_exist</th>\n",
       "    </tr>\n",
       "  </thead>\n",
       "  <tbody>\n",
       "    <tr>\n",
       "      <th>0</th>\n",
       "      <td>2017-06-14 08:04:51.760</td>\n",
       "      <td>16.0</td>\n",
       "      <td>26.0625</td>\n",
       "      <td>6.147832</td>\n",
       "      <td>38.0</td>\n",
       "      <td>18.0</td>\n",
       "      <td>8.0</td>\n",
       "      <td>50.826732</td>\n",
       "      <td>-0.119872</td>\n",
       "      <td>133.989176</td>\n",
       "      <td>1</td>\n",
       "    </tr>\n",
       "    <tr>\n",
       "      <th>1</th>\n",
       "      <td>2017-06-14 08:04:51.770</td>\n",
       "      <td>16.0</td>\n",
       "      <td>26.0625</td>\n",
       "      <td>6.147832</td>\n",
       "      <td>38.0</td>\n",
       "      <td>18.0</td>\n",
       "      <td>8.0</td>\n",
       "      <td>50.826732</td>\n",
       "      <td>-0.119872</td>\n",
       "      <td>133.989176</td>\n",
       "      <td>1</td>\n",
       "    </tr>\n",
       "    <tr>\n",
       "      <th>2</th>\n",
       "      <td>2017-06-14 08:04:51.780</td>\n",
       "      <td>16.0</td>\n",
       "      <td>26.0625</td>\n",
       "      <td>6.147832</td>\n",
       "      <td>38.0</td>\n",
       "      <td>18.0</td>\n",
       "      <td>8.0</td>\n",
       "      <td>50.826732</td>\n",
       "      <td>-0.119872</td>\n",
       "      <td>133.989176</td>\n",
       "      <td>1</td>\n",
       "    </tr>\n",
       "    <tr>\n",
       "      <th>3</th>\n",
       "      <td>2017-06-14 08:04:51.790</td>\n",
       "      <td>16.0</td>\n",
       "      <td>26.0625</td>\n",
       "      <td>6.147832</td>\n",
       "      <td>38.0</td>\n",
       "      <td>18.0</td>\n",
       "      <td>8.0</td>\n",
       "      <td>50.826732</td>\n",
       "      <td>-0.119872</td>\n",
       "      <td>133.989176</td>\n",
       "      <td>1</td>\n",
       "    </tr>\n",
       "    <tr>\n",
       "      <th>4</th>\n",
       "      <td>2017-06-14 08:04:51.800</td>\n",
       "      <td>16.0</td>\n",
       "      <td>26.0625</td>\n",
       "      <td>6.147832</td>\n",
       "      <td>38.0</td>\n",
       "      <td>18.0</td>\n",
       "      <td>8.0</td>\n",
       "      <td>50.826732</td>\n",
       "      <td>-0.119872</td>\n",
       "      <td>133.989176</td>\n",
       "      <td>1</td>\n",
       "    </tr>\n",
       "  </tbody>\n",
       "</table>\n",
       "</div>"
      ],
      "text/plain": [
       "                     time  number  snr_mean   snr_std  snr_max  snr_min  \\\n",
       "0 2017-06-14 08:04:51.760    16.0   26.0625  6.147832     38.0     18.0   \n",
       "1 2017-06-14 08:04:51.770    16.0   26.0625  6.147832     38.0     18.0   \n",
       "2 2017-06-14 08:04:51.780    16.0   26.0625  6.147832     38.0     18.0   \n",
       "3 2017-06-14 08:04:51.790    16.0   26.0625  6.147832     38.0     18.0   \n",
       "4 2017-06-14 08:04:51.800    16.0   26.0625  6.147832     38.0     18.0   \n",
       "\n",
       "   accuracy   latitude  longitude    altitude  is_GPS_exist  \n",
       "0       8.0  50.826732  -0.119872  133.989176             1  \n",
       "1       8.0  50.826732  -0.119872  133.989176             1  \n",
       "2       8.0  50.826732  -0.119872  133.989176             1  \n",
       "3       8.0  50.826732  -0.119872  133.989176             1  \n",
       "4       8.0  50.826732  -0.119872  133.989176             1  "
      ]
     },
     "execution_count": 54,
     "metadata": {},
     "output_type": "execute_result"
    }
   ],
   "source": [
    "#缺失值标记为GPS信号丢失（创建一个新的特征）\n",
    "df_full['is_GPS_exist']=1\n",
    "df_full.loc[df_full['accuracy'].isnull(),'is_GPS_exist']=0\n",
    "df_full.set_index('time',inplace=True)\n",
    "df_full.interpolate(method='time',inplace=True)\n",
    "df_full.reset_index(inplace=True)\n",
    "df_full.head(5)"
   ]
  },
  {
   "cell_type": "code",
   "execution_count": 55,
   "id": "d5862444",
   "metadata": {
    "ExecuteTime": {
     "end_time": "2023-05-28T12:01:58.817564Z",
     "start_time": "2023-05-28T12:01:53.293759Z"
    }
   },
   "outputs": [
    {
     "data": {
      "text/plain": [
       "time            0\n",
       "number          0\n",
       "snr_mean        0\n",
       "snr_std         0\n",
       "snr_max         0\n",
       "snr_min         0\n",
       "accuracy        0\n",
       "latitude        0\n",
       "longitude       0\n",
       "altitude        0\n",
       "is_GPS_exist    0\n",
       "dtype: int64"
      ]
     },
     "execution_count": 55,
     "metadata": {},
     "output_type": "execute_result"
    }
   ],
   "source": [
    "df_full.isnull().sum()"
   ]
  },
  {
   "cell_type": "code",
   "execution_count": 57,
   "id": "c72640a5",
   "metadata": {
    "ExecuteTime": {
     "end_time": "2023-05-28T12:02:27.856612Z",
     "start_time": "2023-05-28T12:02:11.732780Z"
    }
   },
   "outputs": [],
   "source": [
    "df_full.to_pickle('/home/ossdata/dengjiebi/data_processed/validate/hips_gps_and_loc.pkl')"
   ]
  },
  {
   "attachments": {},
   "cell_type": "markdown",
   "id": "fe53f763",
   "metadata": {},
   "source": [
    "### torso"
   ]
  },
  {
   "cell_type": "code",
   "execution_count": 58,
   "id": "745a1e6b",
   "metadata": {
    "ExecuteTime": {
     "end_time": "2023-05-28T12:02:27.898438Z",
     "start_time": "2023-05-28T12:02:27.858831Z"
    }
   },
   "outputs": [],
   "source": [
    "df1=pd.read_pickle('../SHL2023/data_processed/validate/torso_gps.pkl')\n",
    "df2=pd.read_pickle('../SHL2023/data_processed/validate/torso_loc_full.pkl')\n",
    "datetime1=pd.to_datetime(df1['time'], unit=\"ms\")\n",
    "df1['time']=datetime1\n",
    "datetime2=pd.to_datetime(df2['time'], unit=\"ms\")\n",
    "df2['time']=datetime2"
   ]
  },
  {
   "cell_type": "code",
   "execution_count": 59,
   "id": "7695ad07",
   "metadata": {
    "ExecuteTime": {
     "end_time": "2023-05-28T12:02:28.208065Z",
     "start_time": "2023-05-28T12:02:27.900770Z"
    }
   },
   "outputs": [
    {
     "data": {
      "image/png": "[encoded data removed]",
      "text/plain": [
       "<Figure size 432x360 with 1 Axes>"
      ]
     },
     "metadata": {},
     "output_type": "display_data"
    }
   ],
   "source": [
    "missing_ratio=[]\n",
    "time_delay=['100ms','200ms','500ms','1s','3s','5s','10s']\n",
    "for delay in time_delay:\n",
    "    df=pd.merge_asof(df1,df2,on='time', tolerance=pd.Timedelta(delay),direction='nearest')\n",
    "    missing_ratio.append(df['accuracy'].isnull().sum()/len(df))\n",
    "    \n",
    "sns.set_theme(style=\"whitegrid\")\n",
    "plt.figure(figsize=(6,5))\n",
    "sns.barplot(x=time_delay, y=missing_ratio, palette=\"deep\")\n",
    "plt.xlabel('tolerance')\n",
    "plt.ylabel('missing ratio')\n",
    "plt.title('Proportion of missing values after merging data frames')\n",
    "plt.show()"
   ]
  },
  {
   "cell_type": "code",
   "execution_count": 60,
   "id": "d1609f5c",
   "metadata": {
    "ExecuteTime": {
     "end_time": "2023-05-28T12:03:02.164959Z",
     "start_time": "2023-05-28T12:02:28.210174Z"
    }
   },
   "outputs": [],
   "source": [
    "#容许公差为1s，方向为'nearest'\n",
    "df=pd.merge_asof(df1,df2,on='time', tolerance=pd.Timedelta(\"1s\"),direction='nearest')\n",
    "df_full=pd.merge_asof(datetime,df,on='time', tolerance=pd.Timedelta(\"1s\"),direction='nearest')"
   ]
  },
  {
   "cell_type": "code",
   "execution_count": 61,
   "id": "794e6bb5",
   "metadata": {
    "ExecuteTime": {
     "end_time": "2023-05-28T12:03:02.262343Z",
     "start_time": "2023-05-28T12:03:02.167568Z"
    }
   },
   "outputs": [
    {
     "name": "stdout",
     "output_type": "stream",
     "text": [
      "accuracy的缺失值占比为:0.37597674233313405\n",
      "\n",
      "number的缺失值占比为:0.11784224456046326\n",
      "\n"
     ]
    }
   ],
   "source": [
    "print('accuracy的缺失值占比为:{}\\n'.format(df_full['accuracy'].isnull().sum()/len(df_full)))\n",
    "print('number的缺失值占比为:{}\\n'.format(df_full['number'].isnull().sum()/len(df_full)))"
   ]
  },
  {
   "cell_type": "code",
   "execution_count": 62,
   "id": "1702ab27",
   "metadata": {
    "ExecuteTime": {
     "end_time": "2023-05-28T12:03:02.279918Z",
     "start_time": "2023-05-28T12:03:02.264324Z"
    }
   },
   "outputs": [
    {
     "data": {
      "text/html": [
       "<div>\n",
       "<style scoped>\n",
       "    .dataframe tbody tr th:only-of-type {\n",
       "        vertical-align: middle;\n",
       "    }\n",
       "\n",
       "    .dataframe tbody tr th {\n",
       "        vertical-align: top;\n",
       "    }\n",
       "\n",
       "    .dataframe thead th {\n",
       "        text-align: right;\n",
       "    }\n",
       "</style>\n",
       "<table border=\"1\" class=\"dataframe\">\n",
       "  <thead>\n",
       "    <tr style=\"text-align: right;\">\n",
       "      <th></th>\n",
       "      <th>time</th>\n",
       "      <th>number</th>\n",
       "      <th>snr_mean</th>\n",
       "      <th>snr_std</th>\n",
       "      <th>snr_max</th>\n",
       "      <th>snr_min</th>\n",
       "      <th>accuracy</th>\n",
       "      <th>latitude</th>\n",
       "      <th>longitude</th>\n",
       "      <th>altitude</th>\n",
       "    </tr>\n",
       "  </thead>\n",
       "  <tbody>\n",
       "    <tr>\n",
       "      <th>0</th>\n",
       "      <td>2017-06-14 08:04:51.760</td>\n",
       "      <td>16.0</td>\n",
       "      <td>25.5625</td>\n",
       "      <td>7.580402</td>\n",
       "      <td>37.0</td>\n",
       "      <td>11.0</td>\n",
       "      <td>6.0</td>\n",
       "      <td>50.826719</td>\n",
       "      <td>-0.119801</td>\n",
       "      <td>133.551925</td>\n",
       "    </tr>\n",
       "    <tr>\n",
       "      <th>1</th>\n",
       "      <td>2017-06-14 08:04:51.770</td>\n",
       "      <td>16.0</td>\n",
       "      <td>25.5625</td>\n",
       "      <td>7.580402</td>\n",
       "      <td>37.0</td>\n",
       "      <td>11.0</td>\n",
       "      <td>6.0</td>\n",
       "      <td>50.826719</td>\n",
       "      <td>-0.119801</td>\n",
       "      <td>133.551925</td>\n",
       "    </tr>\n",
       "    <tr>\n",
       "      <th>2</th>\n",
       "      <td>2017-06-14 08:04:51.780</td>\n",
       "      <td>16.0</td>\n",
       "      <td>25.5625</td>\n",
       "      <td>7.580402</td>\n",
       "      <td>37.0</td>\n",
       "      <td>11.0</td>\n",
       "      <td>6.0</td>\n",
       "      <td>50.826719</td>\n",
       "      <td>-0.119801</td>\n",
       "      <td>133.551925</td>\n",
       "    </tr>\n",
       "    <tr>\n",
       "      <th>3</th>\n",
       "      <td>2017-06-14 08:04:51.790</td>\n",
       "      <td>16.0</td>\n",
       "      <td>25.5625</td>\n",
       "      <td>7.580402</td>\n",
       "      <td>37.0</td>\n",
       "      <td>11.0</td>\n",
       "      <td>6.0</td>\n",
       "      <td>50.826719</td>\n",
       "      <td>-0.119801</td>\n",
       "      <td>133.551925</td>\n",
       "    </tr>\n",
       "    <tr>\n",
       "      <th>4</th>\n",
       "      <td>2017-06-14 08:04:51.800</td>\n",
       "      <td>16.0</td>\n",
       "      <td>25.5625</td>\n",
       "      <td>7.580402</td>\n",
       "      <td>37.0</td>\n",
       "      <td>11.0</td>\n",
       "      <td>6.0</td>\n",
       "      <td>50.826719</td>\n",
       "      <td>-0.119801</td>\n",
       "      <td>133.551925</td>\n",
       "    </tr>\n",
       "  </tbody>\n",
       "</table>\n",
       "</div>"
      ],
      "text/plain": [
       "                     time  number  snr_mean   snr_std  snr_max  snr_min  \\\n",
       "0 2017-06-14 08:04:51.760    16.0   25.5625  7.580402     37.0     11.0   \n",
       "1 2017-06-14 08:04:51.770    16.0   25.5625  7.580402     37.0     11.0   \n",
       "2 2017-06-14 08:04:51.780    16.0   25.5625  7.580402     37.0     11.0   \n",
       "3 2017-06-14 08:04:51.790    16.0   25.5625  7.580402     37.0     11.0   \n",
       "4 2017-06-14 08:04:51.800    16.0   25.5625  7.580402     37.0     11.0   \n",
       "\n",
       "   accuracy   latitude  longitude    altitude  \n",
       "0       6.0  50.826719  -0.119801  133.551925  \n",
       "1       6.0  50.826719  -0.119801  133.551925  \n",
       "2       6.0  50.826719  -0.119801  133.551925  \n",
       "3       6.0  50.826719  -0.119801  133.551925  \n",
       "4       6.0  50.826719  -0.119801  133.551925  "
      ]
     },
     "execution_count": 62,
     "metadata": {},
     "output_type": "execute_result"
    }
   ],
   "source": [
    "df_full.head(5)"
   ]
  },
  {
   "cell_type": "code",
   "execution_count": 63,
   "id": "b4680eef",
   "metadata": {
    "ExecuteTime": {
     "end_time": "2023-05-28T12:05:43.032453Z",
     "start_time": "2023-05-28T12:03:02.281668Z"
    }
   },
   "outputs": [
    {
     "data": {
      "text/html": [
       "<div>\n",
       "<style scoped>\n",
       "    .dataframe tbody tr th:only-of-type {\n",
       "        vertical-align: middle;\n",
       "    }\n",
       "\n",
       "    .dataframe tbody tr th {\n",
       "        vertical-align: top;\n",
       "    }\n",
       "\n",
       "    .dataframe thead th {\n",
       "        text-align: right;\n",
       "    }\n",
       "</style>\n",
       "<table border=\"1\" class=\"dataframe\">\n",
       "  <thead>\n",
       "    <tr style=\"text-align: right;\">\n",
       "      <th></th>\n",
       "      <th>time</th>\n",
       "      <th>number</th>\n",
       "      <th>snr_mean</th>\n",
       "      <th>snr_std</th>\n",
       "      <th>snr_max</th>\n",
       "      <th>snr_min</th>\n",
       "      <th>accuracy</th>\n",
       "      <th>latitude</th>\n",
       "      <th>longitude</th>\n",
       "      <th>altitude</th>\n",
       "      <th>is_GPS_exist</th>\n",
       "    </tr>\n",
       "  </thead>\n",
       "  <tbody>\n",
       "    <tr>\n",
       "      <th>0</th>\n",
       "      <td>2017-06-14 08:04:51.760</td>\n",
       "      <td>16.0</td>\n",
       "      <td>25.5625</td>\n",
       "      <td>7.580402</td>\n",
       "      <td>37.0</td>\n",
       "      <td>11.0</td>\n",
       "      <td>6.0</td>\n",
       "      <td>50.826719</td>\n",
       "      <td>-0.119801</td>\n",
       "      <td>133.551925</td>\n",
       "      <td>1</td>\n",
       "    </tr>\n",
       "    <tr>\n",
       "      <th>1</th>\n",
       "      <td>2017-06-14 08:04:51.770</td>\n",
       "      <td>16.0</td>\n",
       "      <td>25.5625</td>\n",
       "      <td>7.580402</td>\n",
       "      <td>37.0</td>\n",
       "      <td>11.0</td>\n",
       "      <td>6.0</td>\n",
       "      <td>50.826719</td>\n",
       "      <td>-0.119801</td>\n",
       "      <td>133.551925</td>\n",
       "      <td>1</td>\n",
       "    </tr>\n",
       "    <tr>\n",
       "      <th>2</th>\n",
       "      <td>2017-06-14 08:04:51.780</td>\n",
       "      <td>16.0</td>\n",
       "      <td>25.5625</td>\n",
       "      <td>7.580402</td>\n",
       "      <td>37.0</td>\n",
       "      <td>11.0</td>\n",
       "      <td>6.0</td>\n",
       "      <td>50.826719</td>\n",
       "      <td>-0.119801</td>\n",
       "      <td>133.551925</td>\n",
       "      <td>1</td>\n",
       "    </tr>\n",
       "    <tr>\n",
       "      <th>3</th>\n",
       "      <td>2017-06-14 08:04:51.790</td>\n",
       "      <td>16.0</td>\n",
       "      <td>25.5625</td>\n",
       "      <td>7.580402</td>\n",
       "      <td>37.0</td>\n",
       "      <td>11.0</td>\n",
       "      <td>6.0</td>\n",
       "      <td>50.826719</td>\n",
       "      <td>-0.119801</td>\n",
       "      <td>133.551925</td>\n",
       "      <td>1</td>\n",
       "    </tr>\n",
       "    <tr>\n",
       "      <th>4</th>\n",
       "      <td>2017-06-14 08:04:51.800</td>\n",
       "      <td>16.0</td>\n",
       "      <td>25.5625</td>\n",
       "      <td>7.580402</td>\n",
       "      <td>37.0</td>\n",
       "      <td>11.0</td>\n",
       "      <td>6.0</td>\n",
       "      <td>50.826719</td>\n",
       "      <td>-0.119801</td>\n",
       "      <td>133.551925</td>\n",
       "      <td>1</td>\n",
       "    </tr>\n",
       "  </tbody>\n",
       "</table>\n",
       "</div>"
      ],
      "text/plain": [
       "                     time  number  snr_mean   snr_std  snr_max  snr_min  \\\n",
       "0 2017-06-14 08:04:51.760    16.0   25.5625  7.580402     37.0     11.0   \n",
       "1 2017-06-14 08:04:51.770    16.0   25.5625  7.580402     37.0     11.0   \n",
       "2 2017-06-14 08:04:51.780    16.0   25.5625  7.580402     37.0     11.0   \n",
       "3 2017-06-14 08:04:51.790    16.0   25.5625  7.580402     37.0     11.0   \n",
       "4 2017-06-14 08:04:51.800    16.0   25.5625  7.580402     37.0     11.0   \n",
       "\n",
       "   accuracy   latitude  longitude    altitude  is_GPS_exist  \n",
       "0       6.0  50.826719  -0.119801  133.551925             1  \n",
       "1       6.0  50.826719  -0.119801  133.551925             1  \n",
       "2       6.0  50.826719  -0.119801  133.551925             1  \n",
       "3       6.0  50.826719  -0.119801  133.551925             1  \n",
       "4       6.0  50.826719  -0.119801  133.551925             1  "
      ]
     },
     "execution_count": 63,
     "metadata": {},
     "output_type": "execute_result"
    }
   ],
   "source": [
    "#缺失值标记为GPS信号丢失（创建一个新的特征）\n",
    "df_full['is_GPS_exist']=1\n",
    "df_full.loc[df_full['accuracy'].isnull(),'is_GPS_exist']=0\n",
    "df_full.set_index('time',inplace=True)\n",
    "df_full.interpolate(method='time',inplace=True)\n",
    "df_full.reset_index(inplace=True)\n",
    "df_full.head(5)"
   ]
  },
  {
   "cell_type": "code",
   "execution_count": 64,
   "id": "23480ede",
   "metadata": {
    "ExecuteTime": {
     "end_time": "2023-05-28T12:05:50.050013Z",
     "start_time": "2023-05-28T12:05:43.035038Z"
    }
   },
   "outputs": [
    {
     "data": {
      "text/plain": [
       "time            0\n",
       "number          0\n",
       "snr_mean        0\n",
       "snr_std         0\n",
       "snr_max         0\n",
       "snr_min         0\n",
       "accuracy        0\n",
       "latitude        0\n",
       "longitude       0\n",
       "altitude        0\n",
       "is_GPS_exist    0\n",
       "dtype: int64"
      ]
     },
     "execution_count": 64,
     "metadata": {},
     "output_type": "execute_result"
    }
   ],
   "source": [
    "df_full.isnull().sum()"
   ]
  },
  {
   "cell_type": "code",
   "execution_count": 65,
   "id": "72ee18c5",
   "metadata": {
    "ExecuteTime": {
     "end_time": "2023-05-28T12:06:09.088762Z",
     "start_time": "2023-05-28T12:05:53.063164Z"
    }
   },
   "outputs": [],
   "source": [
    "df_full.to_pickle('/home/ossdata/dengjiebi/data_processed/validate/torso_gps_and_loc.pkl')"
   ]
  },
  {
   "attachments": {},
   "cell_type": "markdown",
   "id": "038716a9",
   "metadata": {},
   "source": [
    "## 测试集"
   ]
  },
  {
   "cell_type": "code",
   "execution_count": 42,
   "id": "544eef43",
   "metadata": {},
   "outputs": [
    {
     "data": {
      "text/plain": [
       "0          2049-02-19 12:09:28.580\n",
       "100        2049-02-19 12:09:29.580\n",
       "200        2049-02-19 12:09:30.580\n",
       "300        2049-02-19 12:09:31.580\n",
       "400        2049-02-19 12:09:32.580\n",
       "                     ...          \n",
       "46385400   2080-12-09 11:58:05.470\n",
       "46385500   2080-12-09 11:58:06.470\n",
       "46385600   2080-12-09 11:58:07.470\n",
       "46385700   2080-12-09 11:58:08.470\n",
       "46385800   2080-12-09 11:58:09.470\n",
       "Name: time, Length: 463859, dtype: datetime64[ns]"
      ]
     },
     "execution_count": 42,
     "metadata": {},
     "output_type": "execute_result"
    }
   ],
   "source": [
    "#读取运动传感器的时间戳序列,后续训练集的合并中可以通用。\n",
    "datetime=pd.read_pickle('/home/dengjiebi/SHL2023/data_test/test_label_idx.pkl')\n",
    "datetime['time']=pd.to_datetime(datetime['Time'], unit=\"ms\")\n",
    "datetime=datetime.loc[np.arange(0,len(datetime),100),'time']\n",
    "datetime"
   ]
  },
  {
   "cell_type": "code",
   "execution_count": 32,
   "id": "fd5ba63a",
   "metadata": {},
   "outputs": [],
   "source": [
    "df1=pd.read_pickle('../SHL2023/data_GPS/test_gps.pkl')\n",
    "df2=pd.read_pickle('../SHL2023/data_test/test_loc.pkl')\n",
    "datetime1=pd.to_datetime(df1['time'], unit=\"ms\")\n",
    "df1['time']=datetime1\n",
    "datetime2=pd.to_datetime(df2['time'], unit=\"ms\")\n",
    "df2['time']=datetime2"
   ]
  },
  {
   "cell_type": "code",
   "execution_count": 35,
   "id": "afc7b938",
   "metadata": {},
   "outputs": [],
   "source": [
    "missing_ratio=[]\n",
    "time_delay=['100ms','200ms','500ms','1s','3s','5s','10s']\n",
    "for delay in time_delay:\n",
    "    df=pd.merge_asof(df1,df2,on='time', tolerance=pd.Timedelta(delay),direction='nearest')\n",
    "    missing_ratio.append(df['accuracy'].isnull().sum()/len(df))"
   ]
  },
  {
   "cell_type": "code",
   "execution_count": 36,
   "id": "77e04e8f",
   "metadata": {},
   "outputs": [
    {
     "data": {
      "image/png": "[encoded data removed]",
      "text/plain": [
       "<Figure size 432x360 with 1 Axes>"
      ]
     },
     "metadata": {},
     "output_type": "display_data"
    }
   ],
   "source": [
    "sns.set_theme(style=\"whitegrid\")\n",
    "plt.figure(figsize=(6,5))\n",
    "sns.barplot(x=time_delay, y=missing_ratio, palette=\"deep\")\n",
    "plt.xlabel('tolerance')\n",
    "plt.ylabel('missing ratio')\n",
    "plt.title('Proportion of missing values after merging data frames')\n",
    "plt.show()"
   ]
  },
  {
   "cell_type": "code",
   "execution_count": 38,
   "id": "cc7e6a3e",
   "metadata": {},
   "outputs": [
    {
     "data": {
      "text/html": [
       "<div>\n",
       "<style scoped>\n",
       "    .dataframe tbody tr th:only-of-type {\n",
       "        vertical-align: middle;\n",
       "    }\n",
       "\n",
       "    .dataframe tbody tr th {\n",
       "        vertical-align: top;\n",
       "    }\n",
       "\n",
       "    .dataframe thead th {\n",
       "        text-align: right;\n",
       "    }\n",
       "</style>\n",
       "<table border=\"1\" class=\"dataframe\">\n",
       "  <thead>\n",
       "    <tr style=\"text-align: right;\">\n",
       "      <th></th>\n",
       "      <th>time</th>\n",
       "      <th>number</th>\n",
       "      <th>snr_mean</th>\n",
       "      <th>snr_std</th>\n",
       "      <th>snr_max</th>\n",
       "      <th>snr_min</th>\n",
       "      <th>accuracy</th>\n",
       "      <th>latitude</th>\n",
       "      <th>longitude</th>\n",
       "      <th>altitude</th>\n",
       "    </tr>\n",
       "  </thead>\n",
       "  <tbody>\n",
       "    <tr>\n",
       "      <th>0</th>\n",
       "      <td>2049-02-19 12:06:46.420</td>\n",
       "      <td>0</td>\n",
       "      <td>0.000000</td>\n",
       "      <td>0.000000</td>\n",
       "      <td>0.0</td>\n",
       "      <td>0.0</td>\n",
       "      <td>NaN</td>\n",
       "      <td>NaN</td>\n",
       "      <td>NaN</td>\n",
       "      <td>NaN</td>\n",
       "    </tr>\n",
       "    <tr>\n",
       "      <th>1</th>\n",
       "      <td>2049-02-19 12:06:47.381</td>\n",
       "      <td>0</td>\n",
       "      <td>0.000000</td>\n",
       "      <td>0.000000</td>\n",
       "      <td>0.0</td>\n",
       "      <td>0.0</td>\n",
       "      <td>NaN</td>\n",
       "      <td>NaN</td>\n",
       "      <td>NaN</td>\n",
       "      <td>NaN</td>\n",
       "    </tr>\n",
       "    <tr>\n",
       "      <th>2</th>\n",
       "      <td>2049-02-19 12:06:48.373</td>\n",
       "      <td>0</td>\n",
       "      <td>0.000000</td>\n",
       "      <td>0.000000</td>\n",
       "      <td>0.0</td>\n",
       "      <td>0.0</td>\n",
       "      <td>NaN</td>\n",
       "      <td>NaN</td>\n",
       "      <td>NaN</td>\n",
       "      <td>NaN</td>\n",
       "    </tr>\n",
       "    <tr>\n",
       "      <th>3</th>\n",
       "      <td>2049-02-19 12:06:49.367</td>\n",
       "      <td>0</td>\n",
       "      <td>0.000000</td>\n",
       "      <td>0.000000</td>\n",
       "      <td>0.0</td>\n",
       "      <td>0.0</td>\n",
       "      <td>NaN</td>\n",
       "      <td>NaN</td>\n",
       "      <td>NaN</td>\n",
       "      <td>NaN</td>\n",
       "    </tr>\n",
       "    <tr>\n",
       "      <th>4</th>\n",
       "      <td>2049-02-19 12:06:50.383</td>\n",
       "      <td>0</td>\n",
       "      <td>0.000000</td>\n",
       "      <td>0.000000</td>\n",
       "      <td>0.0</td>\n",
       "      <td>0.0</td>\n",
       "      <td>NaN</td>\n",
       "      <td>NaN</td>\n",
       "      <td>NaN</td>\n",
       "      <td>NaN</td>\n",
       "    </tr>\n",
       "    <tr>\n",
       "      <th>5</th>\n",
       "      <td>2049-02-19 12:06:51.377</td>\n",
       "      <td>1</td>\n",
       "      <td>19.000000</td>\n",
       "      <td>0.000000</td>\n",
       "      <td>19.0</td>\n",
       "      <td>19.0</td>\n",
       "      <td>NaN</td>\n",
       "      <td>NaN</td>\n",
       "      <td>NaN</td>\n",
       "      <td>NaN</td>\n",
       "    </tr>\n",
       "    <tr>\n",
       "      <th>6</th>\n",
       "      <td>2049-02-19 12:06:52.399</td>\n",
       "      <td>1</td>\n",
       "      <td>20.000000</td>\n",
       "      <td>0.000000</td>\n",
       "      <td>20.0</td>\n",
       "      <td>20.0</td>\n",
       "      <td>NaN</td>\n",
       "      <td>NaN</td>\n",
       "      <td>NaN</td>\n",
       "      <td>NaN</td>\n",
       "    </tr>\n",
       "    <tr>\n",
       "      <th>7</th>\n",
       "      <td>2049-02-19 12:06:53.401</td>\n",
       "      <td>2</td>\n",
       "      <td>18.500000</td>\n",
       "      <td>2.121320</td>\n",
       "      <td>20.0</td>\n",
       "      <td>17.0</td>\n",
       "      <td>NaN</td>\n",
       "      <td>NaN</td>\n",
       "      <td>NaN</td>\n",
       "      <td>NaN</td>\n",
       "    </tr>\n",
       "    <tr>\n",
       "      <th>8</th>\n",
       "      <td>2049-02-19 12:06:54.398</td>\n",
       "      <td>2</td>\n",
       "      <td>18.500000</td>\n",
       "      <td>2.121320</td>\n",
       "      <td>20.0</td>\n",
       "      <td>17.0</td>\n",
       "      <td>NaN</td>\n",
       "      <td>NaN</td>\n",
       "      <td>NaN</td>\n",
       "      <td>NaN</td>\n",
       "    </tr>\n",
       "    <tr>\n",
       "      <th>9</th>\n",
       "      <td>2049-02-19 12:06:55.400</td>\n",
       "      <td>2</td>\n",
       "      <td>18.500000</td>\n",
       "      <td>2.121320</td>\n",
       "      <td>20.0</td>\n",
       "      <td>17.0</td>\n",
       "      <td>NaN</td>\n",
       "      <td>NaN</td>\n",
       "      <td>NaN</td>\n",
       "      <td>NaN</td>\n",
       "    </tr>\n",
       "    <tr>\n",
       "      <th>10</th>\n",
       "      <td>2049-02-19 12:06:56.407</td>\n",
       "      <td>4</td>\n",
       "      <td>20.000000</td>\n",
       "      <td>3.559026</td>\n",
       "      <td>25.0</td>\n",
       "      <td>17.0</td>\n",
       "      <td>NaN</td>\n",
       "      <td>NaN</td>\n",
       "      <td>NaN</td>\n",
       "      <td>NaN</td>\n",
       "    </tr>\n",
       "    <tr>\n",
       "      <th>11</th>\n",
       "      <td>2049-02-19 12:06:57.413</td>\n",
       "      <td>5</td>\n",
       "      <td>19.200000</td>\n",
       "      <td>3.563706</td>\n",
       "      <td>25.0</td>\n",
       "      <td>16.0</td>\n",
       "      <td>NaN</td>\n",
       "      <td>NaN</td>\n",
       "      <td>NaN</td>\n",
       "      <td>NaN</td>\n",
       "    </tr>\n",
       "    <tr>\n",
       "      <th>12</th>\n",
       "      <td>2049-02-19 12:06:58.428</td>\n",
       "      <td>5</td>\n",
       "      <td>19.200000</td>\n",
       "      <td>3.563706</td>\n",
       "      <td>25.0</td>\n",
       "      <td>16.0</td>\n",
       "      <td>NaN</td>\n",
       "      <td>NaN</td>\n",
       "      <td>NaN</td>\n",
       "      <td>NaN</td>\n",
       "    </tr>\n",
       "    <tr>\n",
       "      <th>13</th>\n",
       "      <td>2049-02-19 12:06:59.412</td>\n",
       "      <td>5</td>\n",
       "      <td>19.800000</td>\n",
       "      <td>4.207137</td>\n",
       "      <td>27.0</td>\n",
       "      <td>17.0</td>\n",
       "      <td>NaN</td>\n",
       "      <td>NaN</td>\n",
       "      <td>NaN</td>\n",
       "      <td>NaN</td>\n",
       "    </tr>\n",
       "    <tr>\n",
       "      <th>14</th>\n",
       "      <td>2049-02-19 12:07:00.413</td>\n",
       "      <td>5</td>\n",
       "      <td>19.600000</td>\n",
       "      <td>4.393177</td>\n",
       "      <td>27.0</td>\n",
       "      <td>16.0</td>\n",
       "      <td>NaN</td>\n",
       "      <td>NaN</td>\n",
       "      <td>NaN</td>\n",
       "      <td>NaN</td>\n",
       "    </tr>\n",
       "    <tr>\n",
       "      <th>15</th>\n",
       "      <td>2049-02-19 12:07:01.437</td>\n",
       "      <td>6</td>\n",
       "      <td>18.833333</td>\n",
       "      <td>4.622409</td>\n",
       "      <td>27.0</td>\n",
       "      <td>14.0</td>\n",
       "      <td>NaN</td>\n",
       "      <td>NaN</td>\n",
       "      <td>NaN</td>\n",
       "      <td>NaN</td>\n",
       "    </tr>\n",
       "    <tr>\n",
       "      <th>16</th>\n",
       "      <td>2049-02-19 12:07:02.439</td>\n",
       "      <td>8</td>\n",
       "      <td>17.375000</td>\n",
       "      <td>4.688512</td>\n",
       "      <td>27.0</td>\n",
       "      <td>13.0</td>\n",
       "      <td>NaN</td>\n",
       "      <td>NaN</td>\n",
       "      <td>NaN</td>\n",
       "      <td>NaN</td>\n",
       "    </tr>\n",
       "    <tr>\n",
       "      <th>17</th>\n",
       "      <td>2049-02-19 12:07:03.474</td>\n",
       "      <td>8</td>\n",
       "      <td>17.500000</td>\n",
       "      <td>4.309458</td>\n",
       "      <td>26.0</td>\n",
       "      <td>13.0</td>\n",
       "      <td>64.0</td>\n",
       "      <td>50.86670</td>\n",
       "      <td>-0.086043</td>\n",
       "      <td>169.258463</td>\n",
       "    </tr>\n",
       "    <tr>\n",
       "      <th>18</th>\n",
       "      <td>2049-02-19 12:07:03.475</td>\n",
       "      <td>8</td>\n",
       "      <td>17.500000</td>\n",
       "      <td>4.309458</td>\n",
       "      <td>26.0</td>\n",
       "      <td>13.0</td>\n",
       "      <td>64.0</td>\n",
       "      <td>50.86670</td>\n",
       "      <td>-0.086043</td>\n",
       "      <td>169.258463</td>\n",
       "    </tr>\n",
       "    <tr>\n",
       "      <th>19</th>\n",
       "      <td>2049-02-19 12:07:04.458</td>\n",
       "      <td>8</td>\n",
       "      <td>17.375000</td>\n",
       "      <td>4.274091</td>\n",
       "      <td>26.0</td>\n",
       "      <td>13.0</td>\n",
       "      <td>64.0</td>\n",
       "      <td>50.86669</td>\n",
       "      <td>-0.085877</td>\n",
       "      <td>205.596395</td>\n",
       "    </tr>\n",
       "  </tbody>\n",
       "</table>\n",
       "</div>"
      ],
      "text/plain": [
       "                      time  number   snr_mean   snr_std  snr_max  snr_min  \\\n",
       "0  2049-02-19 12:06:46.420       0   0.000000  0.000000      0.0      0.0   \n",
       "1  2049-02-19 12:06:47.381       0   0.000000  0.000000      0.0      0.0   \n",
       "2  2049-02-19 12:06:48.373       0   0.000000  0.000000      0.0      0.0   \n",
       "3  2049-02-19 12:06:49.367       0   0.000000  0.000000      0.0      0.0   \n",
       "4  2049-02-19 12:06:50.383       0   0.000000  0.000000      0.0      0.0   \n",
       "5  2049-02-19 12:06:51.377       1  19.000000  0.000000     19.0     19.0   \n",
       "6  2049-02-19 12:06:52.399       1  20.000000  0.000000     20.0     20.0   \n",
       "7  2049-02-19 12:06:53.401       2  18.500000  2.121320     20.0     17.0   \n",
       "8  2049-02-19 12:06:54.398       2  18.500000  2.121320     20.0     17.0   \n",
       "9  2049-02-19 12:06:55.400       2  18.500000  2.121320     20.0     17.0   \n",
       "10 2049-02-19 12:06:56.407       4  20.000000  3.559026     25.0     17.0   \n",
       "11 2049-02-19 12:06:57.413       5  19.200000  3.563706     25.0     16.0   \n",
       "12 2049-02-19 12:06:58.428       5  19.200000  3.563706     25.0     16.0   \n",
       "13 2049-02-19 12:06:59.412       5  19.800000  4.207137     27.0     17.0   \n",
       "14 2049-02-19 12:07:00.413       5  19.600000  4.393177     27.0     16.0   \n",
       "15 2049-02-19 12:07:01.437       6  18.833333  4.622409     27.0     14.0   \n",
       "16 2049-02-19 12:07:02.439       8  17.375000  4.688512     27.0     13.0   \n",
       "17 2049-02-19 12:07:03.474       8  17.500000  4.309458     26.0     13.0   \n",
       "18 2049-02-19 12:07:03.475       8  17.500000  4.309458     26.0     13.0   \n",
       "19 2049-02-19 12:07:04.458       8  17.375000  4.274091     26.0     13.0   \n",
       "\n",
       "    accuracy  latitude  longitude    altitude  \n",
       "0        NaN       NaN        NaN         NaN  \n",
       "1        NaN       NaN        NaN         NaN  \n",
       "2        NaN       NaN        NaN         NaN  \n",
       "3        NaN       NaN        NaN         NaN  \n",
       "4        NaN       NaN        NaN         NaN  \n",
       "5        NaN       NaN        NaN         NaN  \n",
       "6        NaN       NaN        NaN         NaN  \n",
       "7        NaN       NaN        NaN         NaN  \n",
       "8        NaN       NaN        NaN         NaN  \n",
       "9        NaN       NaN        NaN         NaN  \n",
       "10       NaN       NaN        NaN         NaN  \n",
       "11       NaN       NaN        NaN         NaN  \n",
       "12       NaN       NaN        NaN         NaN  \n",
       "13       NaN       NaN        NaN         NaN  \n",
       "14       NaN       NaN        NaN         NaN  \n",
       "15       NaN       NaN        NaN         NaN  \n",
       "16       NaN       NaN        NaN         NaN  \n",
       "17      64.0  50.86670  -0.086043  169.258463  \n",
       "18      64.0  50.86670  -0.086043  169.258463  \n",
       "19      64.0  50.86669  -0.085877  205.596395  "
      ]
     },
     "execution_count": 38,
     "metadata": {},
     "output_type": "execute_result"
    }
   ],
   "source": [
    "#容许公差为1s，方向为'nearest'\n",
    "df=pd.merge_asof(df1,df2,on='time', tolerance=pd.Timedelta(\"1s\"),direction='nearest')\n",
    "df.head(20)"
   ]
  },
  {
   "cell_type": "code",
   "execution_count": 43,
   "id": "009ac776",
   "metadata": {},
   "outputs": [],
   "source": [
    "df_full=pd.merge_asof(datetime,df,on='time', tolerance=pd.Timedelta(\"1s\"),direction='nearest')"
   ]
  },
  {
   "cell_type": "code",
   "execution_count": 44,
   "id": "4d73332d",
   "metadata": {},
   "outputs": [
    {
     "data": {
      "text/plain": [
       "0.17809291185467999"
      ]
     },
     "execution_count": 44,
     "metadata": {},
     "output_type": "execute_result"
    }
   ],
   "source": [
    "df_full['accuracy'].isnull().sum()/len(df_full)"
   ]
  },
  {
   "cell_type": "code",
   "execution_count": 46,
   "id": "50cfe98b",
   "metadata": {},
   "outputs": [
    {
     "data": {
      "text/plain": [
       "46"
      ]
     },
     "execution_count": 46,
     "metadata": {},
     "output_type": "execute_result"
    }
   ],
   "source": [
    "df_full['number'].isnull().sum()"
   ]
  },
  {
   "cell_type": "code",
   "execution_count": 48,
   "id": "477e5843",
   "metadata": {},
   "outputs": [],
   "source": [
    "#缺失值标记为GPS信号丢失（创建一个新的特征）\n",
    "df_full['is_GPS_exist']=1\n",
    "df_full.loc[df_full['accuracy'].isnull(),'is_GPS_exist']=0"
   ]
  },
  {
   "cell_type": "code",
   "execution_count": 50,
   "id": "8c601e12",
   "metadata": {},
   "outputs": [],
   "source": [
    "df_full.loc[df_full['is_GPS_exist']==0,'accuracy']=400"
   ]
  },
  {
   "cell_type": "code",
   "execution_count": 56,
   "id": "bd16d7c0",
   "metadata": {},
   "outputs": [
    {
     "data": {
      "text/html": [
       "<div>\n",
       "<style scoped>\n",
       "    .dataframe tbody tr th:only-of-type {\n",
       "        vertical-align: middle;\n",
       "    }\n",
       "\n",
       "    .dataframe tbody tr th {\n",
       "        vertical-align: top;\n",
       "    }\n",
       "\n",
       "    .dataframe thead th {\n",
       "        text-align: right;\n",
       "    }\n",
       "</style>\n",
       "<table border=\"1\" class=\"dataframe\">\n",
       "  <thead>\n",
       "    <tr style=\"text-align: right;\">\n",
       "      <th></th>\n",
       "      <th>time</th>\n",
       "      <th>number</th>\n",
       "      <th>snr_mean</th>\n",
       "      <th>snr_std</th>\n",
       "      <th>snr_max</th>\n",
       "      <th>snr_min</th>\n",
       "      <th>accuracy</th>\n",
       "      <th>latitude</th>\n",
       "      <th>longitude</th>\n",
       "      <th>altitude</th>\n",
       "      <th>is_GPS_exist</th>\n",
       "    </tr>\n",
       "  </thead>\n",
       "  <tbody>\n",
       "    <tr>\n",
       "      <th>0</th>\n",
       "      <td>2049-02-19 12:09:28.580</td>\n",
       "      <td>15.0</td>\n",
       "      <td>17.000000</td>\n",
       "      <td>5.976143</td>\n",
       "      <td>26.0</td>\n",
       "      <td>9.0</td>\n",
       "      <td>16.0</td>\n",
       "      <td>50.866628</td>\n",
       "      <td>-0.086259</td>\n",
       "      <td>154.984261</td>\n",
       "      <td>1</td>\n",
       "    </tr>\n",
       "    <tr>\n",
       "      <th>1</th>\n",
       "      <td>2049-02-19 12:09:29.580</td>\n",
       "      <td>15.0</td>\n",
       "      <td>17.400000</td>\n",
       "      <td>5.448460</td>\n",
       "      <td>25.0</td>\n",
       "      <td>9.0</td>\n",
       "      <td>16.0</td>\n",
       "      <td>50.866630</td>\n",
       "      <td>-0.086257</td>\n",
       "      <td>154.919192</td>\n",
       "      <td>1</td>\n",
       "    </tr>\n",
       "    <tr>\n",
       "      <th>2</th>\n",
       "      <td>2049-02-19 12:09:30.580</td>\n",
       "      <td>14.0</td>\n",
       "      <td>17.928571</td>\n",
       "      <td>5.225151</td>\n",
       "      <td>25.0</td>\n",
       "      <td>11.0</td>\n",
       "      <td>16.0</td>\n",
       "      <td>50.866632</td>\n",
       "      <td>-0.086255</td>\n",
       "      <td>154.853341</td>\n",
       "      <td>1</td>\n",
       "    </tr>\n",
       "    <tr>\n",
       "      <th>3</th>\n",
       "      <td>2049-02-19 12:09:31.580</td>\n",
       "      <td>14.0</td>\n",
       "      <td>17.785714</td>\n",
       "      <td>5.086612</td>\n",
       "      <td>25.0</td>\n",
       "      <td>11.0</td>\n",
       "      <td>16.0</td>\n",
       "      <td>50.866633</td>\n",
       "      <td>-0.086254</td>\n",
       "      <td>154.764829</td>\n",
       "      <td>1</td>\n",
       "    </tr>\n",
       "    <tr>\n",
       "      <th>4</th>\n",
       "      <td>2049-02-19 12:09:32.580</td>\n",
       "      <td>14.0</td>\n",
       "      <td>17.571429</td>\n",
       "      <td>4.847113</td>\n",
       "      <td>24.0</td>\n",
       "      <td>11.0</td>\n",
       "      <td>16.0</td>\n",
       "      <td>50.866634</td>\n",
       "      <td>-0.086252</td>\n",
       "      <td>154.670125</td>\n",
       "      <td>1</td>\n",
       "    </tr>\n",
       "  </tbody>\n",
       "</table>\n",
       "</div>"
      ],
      "text/plain": [
       "                     time  number   snr_mean   snr_std  snr_max  snr_min  \\\n",
       "0 2049-02-19 12:09:28.580    15.0  17.000000  5.976143     26.0      9.0   \n",
       "1 2049-02-19 12:09:29.580    15.0  17.400000  5.448460     25.0      9.0   \n",
       "2 2049-02-19 12:09:30.580    14.0  17.928571  5.225151     25.0     11.0   \n",
       "3 2049-02-19 12:09:31.580    14.0  17.785714  5.086612     25.0     11.0   \n",
       "4 2049-02-19 12:09:32.580    14.0  17.571429  4.847113     24.0     11.0   \n",
       "\n",
       "   accuracy   latitude  longitude    altitude  is_GPS_exist  \n",
       "0      16.0  50.866628  -0.086259  154.984261             1  \n",
       "1      16.0  50.866630  -0.086257  154.919192             1  \n",
       "2      16.0  50.866632  -0.086255  154.853341             1  \n",
       "3      16.0  50.866633  -0.086254  154.764829             1  \n",
       "4      16.0  50.866634  -0.086252  154.670125             1  "
      ]
     },
     "execution_count": 56,
     "metadata": {},
     "output_type": "execute_result"
    }
   ],
   "source": [
    "df_full.set_index('time',inplace=True)\n",
    "df_full.interpolate(method='time',inplace=True)\n",
    "df_full['number']=np.round(df_full['number'].values)\n",
    "df_full.reset_index(inplace=True)\n",
    "df_full.head(5)"
   ]
  },
  {
   "cell_type": "code",
   "execution_count": 57,
   "id": "9b4a860a",
   "metadata": {},
   "outputs": [
    {
     "data": {
      "text/plain": [
       "time            0\n",
       "number          0\n",
       "snr_mean        0\n",
       "snr_std         0\n",
       "snr_max         0\n",
       "snr_min         0\n",
       "accuracy        0\n",
       "latitude        0\n",
       "longitude       0\n",
       "altitude        0\n",
       "is_GPS_exist    0\n",
       "dtype: int64"
      ]
     },
     "execution_count": 57,
     "metadata": {},
     "output_type": "execute_result"
    }
   ],
   "source": [
    "df_full.isnull().sum()"
   ]
  },
  {
   "cell_type": "code",
   "execution_count": 64,
   "id": "c18b2379",
   "metadata": {},
   "outputs": [],
   "source": [
    "#df_full=pd.read_pickle('/home/ossdata/dengjiebi/data_tiny/test/test_gps_and_loc.pkl')\n",
    "df_full['time']=df_full.time.values.astype('int') // 10**6"
   ]
  },
  {
   "cell_type": "code",
   "execution_count": 66,
   "id": "bf899e7a",
   "metadata": {},
   "outputs": [],
   "source": [
    "df_full.to_pickle('/home/ossdata/dengjiebi/data_tiny/test/test_gps_and_loc.pkl')"
   ]
  },
  {
   "attachments": {},
   "cell_type": "markdown",
   "id": "d502e55a",
   "metadata": {},
   "source": [
    "# 特征工程：速度"
   ]
  },
  {
   "cell_type": "code",
   "execution_count": 4,
   "id": "e33ca88e",
   "metadata": {},
   "outputs": [],
   "source": [
    "def haversine(lat1, lon1, lat2, lon2):\n",
    "    lat1=np.radians(lat1)\n",
    "    lon1=np.radians(lon1) \n",
    "    lat2=np.radians(lat2) \n",
    "    lon2=np.radians(lon2)\n",
    "    R = 6378137\n",
    "    dlat = lat2 - lat1\n",
    "    dlon = lon2 - lon1\n",
    "    return 2 * np.arcsin(\n",
    "        np.sqrt(\n",
    "            np.sin(dlat / 2)**2 +\n",
    "            np.cos(lat1) * np.cos(lat2) * np.sin(dlon / 2)**2)) * R"
   ]
  },
  {
   "cell_type": "code",
   "execution_count": 5,
   "id": "11bbd957",
   "metadata": {},
   "outputs": [],
   "source": [
    "def get_speed(data):\n",
    "    #计算时间差和距离差（距离差使用haversine公式）\n",
    "    data['time_diff'] = data['time'].diff(1)\n",
    "    data['dist_diff'] = haversine(data['latitude'].values,\n",
    "                                  data['longitude'].values,\n",
    "                                  data['latitude'].shift(1).values,\n",
    "                                  data['longitude'].shift(1).values)\n",
    "\n",
    "    # 计算水平速度（水平距离 / 时间差）\n",
    "    data['horizontal_speed'] = 1000 * data['dist_diff'] / data['time_diff']\n",
    "\n",
    "    # 计算垂直速度（垂直距离 / 时间差）\n",
    "    data['vertical_speed'] = 1000 * data['altitude'].diff() / data['time_diff']\n",
    "    \n",
    "    # 经过差分后，第一个数据的time_diff、dist_diff、horizontal_speed、vertical_speed均为空，由第二个数据填充\n",
    "    data.loc[0,'time_diff':'vertical_speed']=data.loc[1,'time_diff':'vertical_speed']\n",
    "    \n",
    "    #使用中值滤波平滑速度\n",
    "    df['time']=pd.to_datetime(df['time'], unit=\"ms\")#将UNIX时间格式转换为精确时间\n",
    "    df.set_index(keys='time',inplace=True)#设置时间为索引\n",
    "    df['vertical_speed_rolling']=df['vertical_speed'].rolling('5s',center= True ,min_periods=1).median()\n",
    "    df['horizontal_speed_rolling']=df['horizontal_speed'].rolling('5s',center= True ,min_periods=1).median()\n",
    "    \n",
    "    #去除异常值，使用线性插值\n",
    "    df[df['vertical_speed_rolling']>10]= None\n",
    "    df[df['horizontal_speed_rolling']>100]= None\n",
    "    df.interpolate(method='time',inplace=True)\n",
    "    \n",
    "    #取消索引，并将精确时间格式转换为UNIX时间\n",
    "    df.reset_index(inplace=True)\n",
    "    df['time']=df.time.values.astype('int') // 10**6\n",
    "\n",
    "    print('已完成！')"
   ]
  },
  {
   "attachments": {},
   "cell_type": "markdown",
   "id": "baa683f8",
   "metadata": {},
   "source": [
    "## 训练集"
   ]
  },
  {
   "cell_type": "code",
   "execution_count": 63,
   "id": "d7a25587",
   "metadata": {},
   "outputs": [
    {
     "data": {
      "text/html": [
       "<div>\n",
       "<style scoped>\n",
       "    .dataframe tbody tr th:only-of-type {\n",
       "        vertical-align: middle;\n",
       "    }\n",
       "\n",
       "    .dataframe tbody tr th {\n",
       "        vertical-align: top;\n",
       "    }\n",
       "\n",
       "    .dataframe thead th {\n",
       "        text-align: right;\n",
       "    }\n",
       "</style>\n",
       "<table border=\"1\" class=\"dataframe\">\n",
       "  <thead>\n",
       "    <tr style=\"text-align: right;\">\n",
       "      <th></th>\n",
       "      <th>time</th>\n",
       "      <th>number</th>\n",
       "      <th>snr_mean</th>\n",
       "      <th>snr_std</th>\n",
       "      <th>snr_max</th>\n",
       "      <th>snr_min</th>\n",
       "      <th>accuracy</th>\n",
       "      <th>latitude</th>\n",
       "      <th>longitude</th>\n",
       "      <th>altitude</th>\n",
       "      <th>is_GPS_exist</th>\n",
       "    </tr>\n",
       "  </thead>\n",
       "  <tbody>\n",
       "    <tr>\n",
       "      <th>0</th>\n",
       "      <td>1490431582760</td>\n",
       "      <td>12.0</td>\n",
       "      <td>22.750000</td>\n",
       "      <td>7.955844</td>\n",
       "      <td>36.0</td>\n",
       "      <td>12.0</td>\n",
       "      <td>16.0</td>\n",
       "      <td>50.846879</td>\n",
       "      <td>-0.133339</td>\n",
       "      <td>132.073816</td>\n",
       "      <td>1</td>\n",
       "    </tr>\n",
       "    <tr>\n",
       "      <th>1</th>\n",
       "      <td>1490431583760</td>\n",
       "      <td>12.0</td>\n",
       "      <td>22.500000</td>\n",
       "      <td>7.740096</td>\n",
       "      <td>36.0</td>\n",
       "      <td>13.0</td>\n",
       "      <td>16.0</td>\n",
       "      <td>50.846884</td>\n",
       "      <td>-0.133338</td>\n",
       "      <td>131.974344</td>\n",
       "      <td>1</td>\n",
       "    </tr>\n",
       "    <tr>\n",
       "      <th>2</th>\n",
       "      <td>1490431584760</td>\n",
       "      <td>12.0</td>\n",
       "      <td>22.416667</td>\n",
       "      <td>7.982462</td>\n",
       "      <td>37.0</td>\n",
       "      <td>13.0</td>\n",
       "      <td>16.0</td>\n",
       "      <td>50.846888</td>\n",
       "      <td>-0.133338</td>\n",
       "      <td>131.875219</td>\n",
       "      <td>1</td>\n",
       "    </tr>\n",
       "    <tr>\n",
       "      <th>3</th>\n",
       "      <td>1490431585760</td>\n",
       "      <td>12.0</td>\n",
       "      <td>22.541667</td>\n",
       "      <td>8.004467</td>\n",
       "      <td>37.0</td>\n",
       "      <td>13.0</td>\n",
       "      <td>16.0</td>\n",
       "      <td>50.846892</td>\n",
       "      <td>-0.133338</td>\n",
       "      <td>131.778199</td>\n",
       "      <td>1</td>\n",
       "    </tr>\n",
       "    <tr>\n",
       "      <th>4</th>\n",
       "      <td>1490431586760</td>\n",
       "      <td>12.0</td>\n",
       "      <td>22.666667</td>\n",
       "      <td>8.026471</td>\n",
       "      <td>37.0</td>\n",
       "      <td>13.0</td>\n",
       "      <td>16.0</td>\n",
       "      <td>50.846896</td>\n",
       "      <td>-0.133337</td>\n",
       "      <td>131.681179</td>\n",
       "      <td>1</td>\n",
       "    </tr>\n",
       "  </tbody>\n",
       "</table>\n",
       "</div>"
      ],
      "text/plain": [
       "            time  number   snr_mean   snr_std  snr_max  snr_min  accuracy  \\\n",
       "0  1490431582760    12.0  22.750000  7.955844     36.0     12.0      16.0   \n",
       "1  1490431583760    12.0  22.500000  7.740096     36.0     13.0      16.0   \n",
       "2  1490431584760    12.0  22.416667  7.982462     37.0     13.0      16.0   \n",
       "3  1490431585760    12.0  22.541667  8.004467     37.0     13.0      16.0   \n",
       "4  1490431586760    12.0  22.666667  8.026471     37.0     13.0      16.0   \n",
       "\n",
       "    latitude  longitude    altitude  is_GPS_exist  \n",
       "0  50.846879  -0.133339  132.073816             1  \n",
       "1  50.846884  -0.133338  131.974344             1  \n",
       "2  50.846888  -0.133338  131.875219             1  \n",
       "3  50.846892  -0.133338  131.778199             1  \n",
       "4  50.846896  -0.133337  131.681179             1  "
      ]
     },
     "execution_count": 63,
     "metadata": {},
     "output_type": "execute_result"
    }
   ],
   "source": [
    "df=pd.read_pickle('/home/ossdata/dengjiebi/data_tiny/train/bag_gps_and_loc.pkl')\n",
    "df.head(5)"
   ]
  },
  {
   "cell_type": "code",
   "execution_count": 66,
   "id": "8c9a041f",
   "metadata": {},
   "outputs": [
    {
     "name": "stdout",
     "output_type": "stream",
     "text": [
      "已完成！\n"
     ]
    },
    {
     "data": {
      "text/html": [
       "<div>\n",
       "<style scoped>\n",
       "    .dataframe tbody tr th:only-of-type {\n",
       "        vertical-align: middle;\n",
       "    }\n",
       "\n",
       "    .dataframe tbody tr th {\n",
       "        vertical-align: top;\n",
       "    }\n",
       "\n",
       "    .dataframe thead th {\n",
       "        text-align: right;\n",
       "    }\n",
       "</style>\n",
       "<table border=\"1\" class=\"dataframe\">\n",
       "  <thead>\n",
       "    <tr style=\"text-align: right;\">\n",
       "      <th></th>\n",
       "      <th>number</th>\n",
       "      <th>snr_mean</th>\n",
       "      <th>snr_std</th>\n",
       "      <th>snr_max</th>\n",
       "      <th>snr_min</th>\n",
       "      <th>accuracy</th>\n",
       "      <th>latitude</th>\n",
       "      <th>longitude</th>\n",
       "      <th>altitude</th>\n",
       "      <th>is_GPS_exist</th>\n",
       "      <th>time_diff</th>\n",
       "      <th>dist_diff</th>\n",
       "      <th>horizontal_speed</th>\n",
       "      <th>vertical_speed</th>\n",
       "      <th>vertical_speed_rolling</th>\n",
       "      <th>horizontal_speed_rolling</th>\n",
       "    </tr>\n",
       "    <tr>\n",
       "      <th>time</th>\n",
       "      <th></th>\n",
       "      <th></th>\n",
       "      <th></th>\n",
       "      <th></th>\n",
       "      <th></th>\n",
       "      <th></th>\n",
       "      <th></th>\n",
       "      <th></th>\n",
       "      <th></th>\n",
       "      <th></th>\n",
       "      <th></th>\n",
       "      <th></th>\n",
       "      <th></th>\n",
       "      <th></th>\n",
       "      <th></th>\n",
       "      <th></th>\n",
       "    </tr>\n",
       "  </thead>\n",
       "  <tbody>\n",
       "    <tr>\n",
       "      <th>2017-03-25 08:46:22.760</th>\n",
       "      <td>12.0</td>\n",
       "      <td>22.750000</td>\n",
       "      <td>7.955844</td>\n",
       "      <td>36.0</td>\n",
       "      <td>12.0</td>\n",
       "      <td>16.0</td>\n",
       "      <td>50.846879</td>\n",
       "      <td>-0.133339</td>\n",
       "      <td>132.073816</td>\n",
       "      <td>1.0</td>\n",
       "      <td>1000.0</td>\n",
       "      <td>0.513801</td>\n",
       "      <td>0.513801</td>\n",
       "      <td>-0.099472</td>\n",
       "      <td>-0.099472</td>\n",
       "      <td>0.513801</td>\n",
       "    </tr>\n",
       "    <tr>\n",
       "      <th>2017-03-25 08:46:23.760</th>\n",
       "      <td>12.0</td>\n",
       "      <td>22.500000</td>\n",
       "      <td>7.740096</td>\n",
       "      <td>36.0</td>\n",
       "      <td>13.0</td>\n",
       "      <td>16.0</td>\n",
       "      <td>50.846884</td>\n",
       "      <td>-0.133338</td>\n",
       "      <td>131.974344</td>\n",
       "      <td>1.0</td>\n",
       "      <td>1000.0</td>\n",
       "      <td>0.513801</td>\n",
       "      <td>0.513801</td>\n",
       "      <td>-0.099472</td>\n",
       "      <td>-0.099299</td>\n",
       "      <td>0.495850</td>\n",
       "    </tr>\n",
       "    <tr>\n",
       "      <th>2017-03-25 08:46:24.760</th>\n",
       "      <td>12.0</td>\n",
       "      <td>22.416667</td>\n",
       "      <td>7.982462</td>\n",
       "      <td>37.0</td>\n",
       "      <td>13.0</td>\n",
       "      <td>16.0</td>\n",
       "      <td>50.846888</td>\n",
       "      <td>-0.133338</td>\n",
       "      <td>131.875219</td>\n",
       "      <td>1.0</td>\n",
       "      <td>1000.0</td>\n",
       "      <td>0.477899</td>\n",
       "      <td>0.477899</td>\n",
       "      <td>-0.099125</td>\n",
       "      <td>-0.099125</td>\n",
       "      <td>0.477899</td>\n",
       "    </tr>\n",
       "    <tr>\n",
       "      <th>2017-03-25 08:46:25.760</th>\n",
       "      <td>12.0</td>\n",
       "      <td>22.541667</td>\n",
       "      <td>8.004467</td>\n",
       "      <td>37.0</td>\n",
       "      <td>13.0</td>\n",
       "      <td>16.0</td>\n",
       "      <td>50.846892</td>\n",
       "      <td>-0.133338</td>\n",
       "      <td>131.778199</td>\n",
       "      <td>1.0</td>\n",
       "      <td>1000.0</td>\n",
       "      <td>0.420369</td>\n",
       "      <td>0.420369</td>\n",
       "      <td>-0.097020</td>\n",
       "      <td>-0.097020</td>\n",
       "      <td>0.420369</td>\n",
       "    </tr>\n",
       "    <tr>\n",
       "      <th>2017-03-25 08:46:26.760</th>\n",
       "      <td>12.0</td>\n",
       "      <td>22.666667</td>\n",
       "      <td>8.026471</td>\n",
       "      <td>37.0</td>\n",
       "      <td>13.0</td>\n",
       "      <td>16.0</td>\n",
       "      <td>50.846896</td>\n",
       "      <td>-0.133337</td>\n",
       "      <td>131.681179</td>\n",
       "      <td>1.0</td>\n",
       "      <td>1000.0</td>\n",
       "      <td>0.420369</td>\n",
       "      <td>0.420369</td>\n",
       "      <td>-0.097020</td>\n",
       "      <td>-0.097020</td>\n",
       "      <td>0.420369</td>\n",
       "    </tr>\n",
       "  </tbody>\n",
       "</table>\n",
       "</div>"
      ],
      "text/plain": [
       "                         number   snr_mean   snr_std  snr_max  snr_min   \n",
       "time                                                                     \n",
       "2017-03-25 08:46:22.760    12.0  22.750000  7.955844     36.0     12.0  \\\n",
       "2017-03-25 08:46:23.760    12.0  22.500000  7.740096     36.0     13.0   \n",
       "2017-03-25 08:46:24.760    12.0  22.416667  7.982462     37.0     13.0   \n",
       "2017-03-25 08:46:25.760    12.0  22.541667  8.004467     37.0     13.0   \n",
       "2017-03-25 08:46:26.760    12.0  22.666667  8.026471     37.0     13.0   \n",
       "\n",
       "                         accuracy   latitude  longitude    altitude   \n",
       "time                                                                  \n",
       "2017-03-25 08:46:22.760      16.0  50.846879  -0.133339  132.073816  \\\n",
       "2017-03-25 08:46:23.760      16.0  50.846884  -0.133338  131.974344   \n",
       "2017-03-25 08:46:24.760      16.0  50.846888  -0.133338  131.875219   \n",
       "2017-03-25 08:46:25.760      16.0  50.846892  -0.133338  131.778199   \n",
       "2017-03-25 08:46:26.760      16.0  50.846896  -0.133337  131.681179   \n",
       "\n",
       "                         is_GPS_exist  time_diff  dist_diff  horizontal_speed   \n",
       "time                                                                            \n",
       "2017-03-25 08:46:22.760           1.0     1000.0   0.513801          0.513801  \\\n",
       "2017-03-25 08:46:23.760           1.0     1000.0   0.513801          0.513801   \n",
       "2017-03-25 08:46:24.760           1.0     1000.0   0.477899          0.477899   \n",
       "2017-03-25 08:46:25.760           1.0     1000.0   0.420369          0.420369   \n",
       "2017-03-25 08:46:26.760           1.0     1000.0   0.420369          0.420369   \n",
       "\n",
       "                         vertical_speed  vertical_speed_rolling   \n",
       "time                                                              \n",
       "2017-03-25 08:46:22.760       -0.099472               -0.099472  \\\n",
       "2017-03-25 08:46:23.760       -0.099472               -0.099299   \n",
       "2017-03-25 08:46:24.760       -0.099125               -0.099125   \n",
       "2017-03-25 08:46:25.760       -0.097020               -0.097020   \n",
       "2017-03-25 08:46:26.760       -0.097020               -0.097020   \n",
       "\n",
       "                         horizontal_speed_rolling  \n",
       "time                                               \n",
       "2017-03-25 08:46:22.760                  0.513801  \n",
       "2017-03-25 08:46:23.760                  0.495850  \n",
       "2017-03-25 08:46:24.760                  0.477899  \n",
       "2017-03-25 08:46:25.760                  0.420369  \n",
       "2017-03-25 08:46:26.760                  0.420369  "
      ]
     },
     "execution_count": 66,
     "metadata": {},
     "output_type": "execute_result"
    }
   ],
   "source": [
    "get_speed(df)\n",
    "df.head(5)"
   ]
  },
  {
   "cell_type": "code",
   "execution_count": 67,
   "id": "42f0708b",
   "metadata": {},
   "outputs": [
    {
     "data": {
      "text/plain": [
       "<Axes: xlabel='time', ylabel='horizontal_speed'>"
      ]
     },
     "execution_count": 67,
     "metadata": {},
     "output_type": "execute_result"
    },
    {
     "data": {
      "image/png": "[encoded data removed]",
      "text/plain": [
       "<Figure size 800x500 with 1 Axes>"
      ]
     },
     "metadata": {},
     "output_type": "display_data"
    }
   ],
   "source": [
    "sns.set_theme(style=\"darkgrid\")\n",
    "plt.figure(figsize=(8,5))\n",
    "sns.lineplot(df['horizontal_speed'][1:1000])\n",
    "sns.lineplot(df['horizontal_speed_rolling'][1:1000])"
   ]
  },
  {
   "cell_type": "code",
   "execution_count": 68,
   "id": "175ec356",
   "metadata": {},
   "outputs": [
    {
     "data": {
      "text/html": [
       "<div>\n",
       "<style scoped>\n",
       "    .dataframe tbody tr th:only-of-type {\n",
       "        vertical-align: middle;\n",
       "    }\n",
       "\n",
       "    .dataframe tbody tr th {\n",
       "        vertical-align: top;\n",
       "    }\n",
       "\n",
       "    .dataframe thead th {\n",
       "        text-align: right;\n",
       "    }\n",
       "</style>\n",
       "<table border=\"1\" class=\"dataframe\">\n",
       "  <thead>\n",
       "    <tr style=\"text-align: right;\">\n",
       "      <th></th>\n",
       "      <th>horizontal_speed</th>\n",
       "      <th>horizontal_speed_rolling</th>\n",
       "    </tr>\n",
       "  </thead>\n",
       "  <tbody>\n",
       "    <tr>\n",
       "      <th>count</th>\n",
       "      <td>980525.000000</td>\n",
       "      <td>980525.000000</td>\n",
       "    </tr>\n",
       "    <tr>\n",
       "      <th>mean</th>\n",
       "      <td>6.925905</td>\n",
       "      <td>6.804179</td>\n",
       "    </tr>\n",
       "    <tr>\n",
       "      <th>std</th>\n",
       "      <td>24.974212</td>\n",
       "      <td>8.585823</td>\n",
       "    </tr>\n",
       "    <tr>\n",
       "      <th>min</th>\n",
       "      <td>0.000000</td>\n",
       "      <td>0.000000</td>\n",
       "    </tr>\n",
       "    <tr>\n",
       "      <th>25%</th>\n",
       "      <td>0.651163</td>\n",
       "      <td>0.681067</td>\n",
       "    </tr>\n",
       "    <tr>\n",
       "      <th>50%</th>\n",
       "      <td>3.224522</td>\n",
       "      <td>3.247263</td>\n",
       "    </tr>\n",
       "    <tr>\n",
       "      <th>75%</th>\n",
       "      <td>9.418991</td>\n",
       "      <td>9.341337</td>\n",
       "    </tr>\n",
       "    <tr>\n",
       "      <th>max</th>\n",
       "      <td>19116.951122</td>\n",
       "      <td>94.161130</td>\n",
       "    </tr>\n",
       "  </tbody>\n",
       "</table>\n",
       "</div>"
      ],
      "text/plain": [
       "       horizontal_speed  horizontal_speed_rolling\n",
       "count     980525.000000             980525.000000\n",
       "mean           6.925905                  6.804179\n",
       "std           24.974212                  8.585823\n",
       "min            0.000000                  0.000000\n",
       "25%            0.651163                  0.681067\n",
       "50%            3.224522                  3.247263\n",
       "75%            9.418991                  9.341337\n",
       "max        19116.951122                 94.161130"
      ]
     },
     "execution_count": 68,
     "metadata": {},
     "output_type": "execute_result"
    }
   ],
   "source": [
    "df[['horizontal_speed','horizontal_speed_rolling']].describe()"
   ]
  },
  {
   "cell_type": "code",
   "execution_count": 69,
   "id": "3e05b9b2",
   "metadata": {},
   "outputs": [],
   "source": [
    "df.reset_index(inplace=True)\n",
    "df['time']=df.time.values.astype('int') // 10**6"
   ]
  },
  {
   "cell_type": "code",
   "execution_count": 70,
   "id": "57319ed3",
   "metadata": {},
   "outputs": [],
   "source": [
    "df[['time','horizontal_speed_rolling','vertical_speed_rolling']].to_csv('/home/ossdata/dengjiebi/data_tiny/train/bag_speed.csv',index=False)"
   ]
  },
  {
   "attachments": {},
   "cell_type": "markdown",
   "id": "33f4ac60",
   "metadata": {},
   "source": [
    "接下来是其它数据集"
   ]
  },
  {
   "cell_type": "code",
   "execution_count": 74,
   "id": "36d1724b",
   "metadata": {},
   "outputs": [
    {
     "name": "stdout",
     "output_type": "stream",
     "text": [
      "已完成！\n"
     ]
    }
   ],
   "source": [
    "df=pd.read_pickle('/home/ossdata/dengjiebi/data_tiny/train/hand_gps_and_loc.pkl')\n",
    "get_speed(df)\n",
    "df[['time','horizontal_speed_rolling','vertical_speed_rolling']].to_csv('/home/ossdata/dengjiebi/data_tiny/train/hand_speed.csv',index=False)"
   ]
  },
  {
   "cell_type": "code",
   "execution_count": 75,
   "id": "4ba7c764",
   "metadata": {},
   "outputs": [
    {
     "name": "stdout",
     "output_type": "stream",
     "text": [
      "已完成！\n"
     ]
    }
   ],
   "source": [
    "df=pd.read_pickle('/home/ossdata/dengjiebi/data_tiny/train/hips_gps_and_loc.pkl')\n",
    "get_speed(df)\n",
    "df[['time','horizontal_speed_rolling','vertical_speed_rolling']].to_csv('/home/ossdata/dengjiebi/data_tiny/train/hips_speed.csv',index=False)"
   ]
  },
  {
   "cell_type": "code",
   "execution_count": 76,
   "id": "94ac04d9",
   "metadata": {},
   "outputs": [
    {
     "name": "stdout",
     "output_type": "stream",
     "text": [
      "已完成！\n"
     ]
    }
   ],
   "source": [
    "df=pd.read_pickle('/home/ossdata/dengjiebi/data_tiny/train/torso_gps_and_loc.pkl')\n",
    "get_speed(df)\n",
    "df[['time','horizontal_speed_rolling','vertical_speed_rolling']].to_csv('/home/ossdata/dengjiebi/data_tiny/train/torso_speed.csv',index=False)"
   ]
  },
  {
   "attachments": {},
   "cell_type": "markdown",
   "id": "e6bc21f8",
   "metadata": {},
   "source": [
    "## 验证集"
   ]
  },
  {
   "cell_type": "code",
   "execution_count": 77,
   "id": "606b0e60",
   "metadata": {},
   "outputs": [
    {
     "name": "stdout",
     "output_type": "stream",
     "text": [
      "已完成！\n",
      "已完成！\n",
      "已完成！\n",
      "已完成！\n"
     ]
    }
   ],
   "source": [
    "df=pd.read_pickle('/home/ossdata/dengjiebi/data_tiny/validate/bag_gps_and_loc.pkl')\n",
    "get_speed(df)\n",
    "df[['time','horizontal_speed_rolling','vertical_speed_rolling']].to_csv('/home/ossdata/dengjiebi/data_tiny/validate/bag_speed.csv',index=False)\n",
    "\n",
    "df=pd.read_pickle('/home/ossdata/dengjiebi/data_tiny/validate/hand_gps_and_loc.pkl')\n",
    "get_speed(df)\n",
    "df[['time','horizontal_speed_rolling','vertical_speed_rolling']].to_csv('/home/ossdata/dengjiebi/data_tiny/validate/hand_speed.csv',index=False)\n",
    "\n",
    "df=pd.read_pickle('/home/ossdata/dengjiebi/data_tiny/validate/hips_gps_and_loc.pkl')\n",
    "get_speed(df)\n",
    "df[['time','horizontal_speed_rolling','vertical_speed_rolling']].to_csv('/home/ossdata/dengjiebi/data_tiny/validate/hips_speed.csv',index=False)\n",
    "\n",
    "df=pd.read_pickle('/home/ossdata/dengjiebi/data_tiny/validate/torso_gps_and_loc.pkl')\n",
    "get_speed(df)\n",
    "df[['time','horizontal_speed_rolling','vertical_speed_rolling']].to_csv('/home/ossdata/dengjiebi/data_tiny/validate/torso_speed.csv',index=False)"
   ]
  },
  {
   "attachments": {},
   "cell_type": "markdown",
   "id": "e8749793",
   "metadata": {},
   "source": [
    "## 测试集"
   ]
  },
  {
   "cell_type": "code",
   "execution_count": 2,
   "id": "caaed516",
   "metadata": {},
   "outputs": [
    {
     "data": {
      "text/html": [
       "<div>\n",
       "<style scoped>\n",
       "    .dataframe tbody tr th:only-of-type {\n",
       "        vertical-align: middle;\n",
       "    }\n",
       "\n",
       "    .dataframe tbody tr th {\n",
       "        vertical-align: top;\n",
       "    }\n",
       "\n",
       "    .dataframe thead th {\n",
       "        text-align: right;\n",
       "    }\n",
       "</style>\n",
       "<table border=\"1\" class=\"dataframe\">\n",
       "  <thead>\n",
       "    <tr style=\"text-align: right;\">\n",
       "      <th></th>\n",
       "      <th>time</th>\n",
       "      <th>number</th>\n",
       "      <th>snr_mean</th>\n",
       "      <th>snr_std</th>\n",
       "      <th>snr_max</th>\n",
       "      <th>snr_min</th>\n",
       "      <th>accuracy</th>\n",
       "      <th>latitude</th>\n",
       "      <th>longitude</th>\n",
       "      <th>altitude</th>\n",
       "      <th>is_GPS_exist</th>\n",
       "    </tr>\n",
       "  </thead>\n",
       "  <tbody>\n",
       "    <tr>\n",
       "      <th>0</th>\n",
       "      <td>2497349368580</td>\n",
       "      <td>15.0</td>\n",
       "      <td>17.000000</td>\n",
       "      <td>5.976143</td>\n",
       "      <td>26.0</td>\n",
       "      <td>9.0</td>\n",
       "      <td>16.0</td>\n",
       "      <td>50.866628</td>\n",
       "      <td>-0.086259</td>\n",
       "      <td>154.984261</td>\n",
       "      <td>1</td>\n",
       "    </tr>\n",
       "    <tr>\n",
       "      <th>1</th>\n",
       "      <td>2497349369580</td>\n",
       "      <td>15.0</td>\n",
       "      <td>17.400000</td>\n",
       "      <td>5.448460</td>\n",
       "      <td>25.0</td>\n",
       "      <td>9.0</td>\n",
       "      <td>16.0</td>\n",
       "      <td>50.866630</td>\n",
       "      <td>-0.086257</td>\n",
       "      <td>154.919192</td>\n",
       "      <td>1</td>\n",
       "    </tr>\n",
       "    <tr>\n",
       "      <th>2</th>\n",
       "      <td>2497349370580</td>\n",
       "      <td>14.0</td>\n",
       "      <td>17.928571</td>\n",
       "      <td>5.225151</td>\n",
       "      <td>25.0</td>\n",
       "      <td>11.0</td>\n",
       "      <td>16.0</td>\n",
       "      <td>50.866632</td>\n",
       "      <td>-0.086255</td>\n",
       "      <td>154.853341</td>\n",
       "      <td>1</td>\n",
       "    </tr>\n",
       "    <tr>\n",
       "      <th>3</th>\n",
       "      <td>2497349371580</td>\n",
       "      <td>14.0</td>\n",
       "      <td>17.785714</td>\n",
       "      <td>5.086612</td>\n",
       "      <td>25.0</td>\n",
       "      <td>11.0</td>\n",
       "      <td>16.0</td>\n",
       "      <td>50.866633</td>\n",
       "      <td>-0.086254</td>\n",
       "      <td>154.764829</td>\n",
       "      <td>1</td>\n",
       "    </tr>\n",
       "    <tr>\n",
       "      <th>4</th>\n",
       "      <td>2497349372580</td>\n",
       "      <td>14.0</td>\n",
       "      <td>17.571429</td>\n",
       "      <td>4.847113</td>\n",
       "      <td>24.0</td>\n",
       "      <td>11.0</td>\n",
       "      <td>16.0</td>\n",
       "      <td>50.866634</td>\n",
       "      <td>-0.086252</td>\n",
       "      <td>154.670125</td>\n",
       "      <td>1</td>\n",
       "    </tr>\n",
       "    <tr>\n",
       "      <th>...</th>\n",
       "      <td>...</td>\n",
       "      <td>...</td>\n",
       "      <td>...</td>\n",
       "      <td>...</td>\n",
       "      <td>...</td>\n",
       "      <td>...</td>\n",
       "      <td>...</td>\n",
       "      <td>...</td>\n",
       "      <td>...</td>\n",
       "      <td>...</td>\n",
       "      <td>...</td>\n",
       "    </tr>\n",
       "    <tr>\n",
       "      <th>463854</th>\n",
       "      <td>3500971085470</td>\n",
       "      <td>13.0</td>\n",
       "      <td>31.000000</td>\n",
       "      <td>10.519823</td>\n",
       "      <td>43.0</td>\n",
       "      <td>15.0</td>\n",
       "      <td>6.0</td>\n",
       "      <td>50.866383</td>\n",
       "      <td>-0.086713</td>\n",
       "      <td>113.033232</td>\n",
       "      <td>1</td>\n",
       "    </tr>\n",
       "    <tr>\n",
       "      <th>463855</th>\n",
       "      <td>3500971086470</td>\n",
       "      <td>13.0</td>\n",
       "      <td>30.846154</td>\n",
       "      <td>10.722610</td>\n",
       "      <td>43.0</td>\n",
       "      <td>15.0</td>\n",
       "      <td>6.0</td>\n",
       "      <td>50.866390</td>\n",
       "      <td>-0.086716</td>\n",
       "      <td>113.143433</td>\n",
       "      <td>1</td>\n",
       "    </tr>\n",
       "    <tr>\n",
       "      <th>463856</th>\n",
       "      <td>3500971087470</td>\n",
       "      <td>14.0</td>\n",
       "      <td>30.000000</td>\n",
       "      <td>10.355229</td>\n",
       "      <td>43.0</td>\n",
       "      <td>15.0</td>\n",
       "      <td>6.0</td>\n",
       "      <td>50.866398</td>\n",
       "      <td>-0.086722</td>\n",
       "      <td>113.234468</td>\n",
       "      <td>1</td>\n",
       "    </tr>\n",
       "    <tr>\n",
       "      <th>463857</th>\n",
       "      <td>3500971088470</td>\n",
       "      <td>14.0</td>\n",
       "      <td>29.857143</td>\n",
       "      <td>10.302032</td>\n",
       "      <td>43.0</td>\n",
       "      <td>15.0</td>\n",
       "      <td>8.0</td>\n",
       "      <td>50.866407</td>\n",
       "      <td>-0.086730</td>\n",
       "      <td>113.321932</td>\n",
       "      <td>1</td>\n",
       "    </tr>\n",
       "    <tr>\n",
       "      <th>463858</th>\n",
       "      <td>3500971089470</td>\n",
       "      <td>14.0</td>\n",
       "      <td>29.214286</td>\n",
       "      <td>10.093247</td>\n",
       "      <td>42.0</td>\n",
       "      <td>14.0</td>\n",
       "      <td>8.0</td>\n",
       "      <td>50.866415</td>\n",
       "      <td>-0.086734</td>\n",
       "      <td>113.415781</td>\n",
       "      <td>1</td>\n",
       "    </tr>\n",
       "  </tbody>\n",
       "</table>\n",
       "<p>463859 rows × 11 columns</p>\n",
       "</div>"
      ],
      "text/plain": [
       "                 time  number   snr_mean    snr_std  snr_max  snr_min   \n",
       "0       2497349368580    15.0  17.000000   5.976143     26.0      9.0  \\\n",
       "1       2497349369580    15.0  17.400000   5.448460     25.0      9.0   \n",
       "2       2497349370580    14.0  17.928571   5.225151     25.0     11.0   \n",
       "3       2497349371580    14.0  17.785714   5.086612     25.0     11.0   \n",
       "4       2497349372580    14.0  17.571429   4.847113     24.0     11.0   \n",
       "...               ...     ...        ...        ...      ...      ...   \n",
       "463854  3500971085470    13.0  31.000000  10.519823     43.0     15.0   \n",
       "463855  3500971086470    13.0  30.846154  10.722610     43.0     15.0   \n",
       "463856  3500971087470    14.0  30.000000  10.355229     43.0     15.0   \n",
       "463857  3500971088470    14.0  29.857143  10.302032     43.0     15.0   \n",
       "463858  3500971089470    14.0  29.214286  10.093247     42.0     14.0   \n",
       "\n",
       "        accuracy   latitude  longitude    altitude  is_GPS_exist  \n",
       "0           16.0  50.866628  -0.086259  154.984261             1  \n",
       "1           16.0  50.866630  -0.086257  154.919192             1  \n",
       "2           16.0  50.866632  -0.086255  154.853341             1  \n",
       "3           16.0  50.866633  -0.086254  154.764829             1  \n",
       "4           16.0  50.866634  -0.086252  154.670125             1  \n",
       "...          ...        ...        ...         ...           ...  \n",
       "463854       6.0  50.866383  -0.086713  113.033232             1  \n",
       "463855       6.0  50.866390  -0.086716  113.143433             1  \n",
       "463856       6.0  50.866398  -0.086722  113.234468             1  \n",
       "463857       8.0  50.866407  -0.086730  113.321932             1  \n",
       "463858       8.0  50.866415  -0.086734  113.415781             1  \n",
       "\n",
       "[463859 rows x 11 columns]"
      ]
     },
     "execution_count": 2,
     "metadata": {},
     "output_type": "execute_result"
    }
   ],
   "source": [
    "df=pd.read_pickle('/home/ossdata/dengjiebi/data_tiny/test/test_gps_and_loc.pkl')\n",
    "df"
   ]
  },
  {
   "cell_type": "code",
   "execution_count": 6,
   "id": "a4349287",
   "metadata": {},
   "outputs": [
    {
     "name": "stdout",
     "output_type": "stream",
     "text": [
      "已完成！\n"
     ]
    }
   ],
   "source": [
    "get_speed(df)\n",
    "df[['time','horizontal_speed_rolling','vertical_speed_rolling']].to_csv('/home/ossdata/dengjiebi/data_tiny/test/test_speed.csv',index=False)"
   ]
  },
  {
   "attachments": {},
   "cell_type": "markdown",
   "id": "258fa2dd",
   "metadata": {},
   "source": [
    "# 下采样\n",
    "对运动传感器数据进行下采样(以下示例为测试集下采样)"
   ]
  },
  {
   "cell_type": "code",
   "execution_count": 6,
   "id": "5660db72",
   "metadata": {},
   "outputs": [],
   "source": [
    "df=pd.read_pickle('/home/dengjiebi/SHL2023/data_test/test_acc.pkl')\n",
    "df.loc[np.arange(0,len(df),100)].to_pickle(\"/home/ossdata/dengjiebi/data_tiny/test/test_acc.pkl\")"
   ]
  },
  {
   "cell_type": "code",
   "execution_count": 7,
   "id": "cca1a094",
   "metadata": {},
   "outputs": [],
   "source": [
    "df=pd.read_pickle('/home/dengjiebi/SHL2023/data_test/test_gyr.pkl')\n",
    "df.loc[np.arange(0,len(df),100)].to_pickle(\"/home/ossdata/dengjiebi/data_tiny/test/test_gyr.pkl\")"
   ]
  },
  {
   "cell_type": "code",
   "execution_count": 8,
   "id": "f6c74313",
   "metadata": {},
   "outputs": [],
   "source": [
    "df=pd.read_pickle('/home/dengjiebi/SHL2023/data_test/test_mag.pkl')\n",
    "df.loc[np.arange(0,len(df),100)].to_pickle(\"/home/ossdata/dengjiebi/data_tiny/test/test_mag.pkl\")"
   ]
  },
  {
   "cell_type": "code",
   "execution_count": 9,
   "id": "622d74c0",
   "metadata": {},
   "outputs": [
    {
     "data": {
      "text/html": [
       "<div>\n",
       "<style scoped>\n",
       "    .dataframe tbody tr th:only-of-type {\n",
       "        vertical-align: middle;\n",
       "    }\n",
       "\n",
       "    .dataframe tbody tr th {\n",
       "        vertical-align: top;\n",
       "    }\n",
       "\n",
       "    .dataframe thead th {\n",
       "        text-align: right;\n",
       "    }\n",
       "</style>\n",
       "<table border=\"1\" class=\"dataframe\">\n",
       "  <thead>\n",
       "    <tr style=\"text-align: right;\">\n",
       "      <th></th>\n",
       "      <th>time</th>\n",
       "      <th>Mag_x</th>\n",
       "      <th>Mag_y</th>\n",
       "      <th>Mag_z</th>\n",
       "    </tr>\n",
       "  </thead>\n",
       "  <tbody>\n",
       "    <tr>\n",
       "      <th>0</th>\n",
       "      <td>2497349368580</td>\n",
       "      <td>-24.139197</td>\n",
       "      <td>-26.368179</td>\n",
       "      <td>-26.478982</td>\n",
       "    </tr>\n",
       "    <tr>\n",
       "      <th>100</th>\n",
       "      <td>2497349369580</td>\n",
       "      <td>-14.610069</td>\n",
       "      <td>-29.769593</td>\n",
       "      <td>-31.812500</td>\n",
       "    </tr>\n",
       "    <tr>\n",
       "      <th>200</th>\n",
       "      <td>2497349370580</td>\n",
       "      <td>-1.928659</td>\n",
       "      <td>-42.325527</td>\n",
       "      <td>-24.069789</td>\n",
       "    </tr>\n",
       "    <tr>\n",
       "      <th>300</th>\n",
       "      <td>2497349371580</td>\n",
       "      <td>-28.256969</td>\n",
       "      <td>-35.194469</td>\n",
       "      <td>-11.791704</td>\n",
       "    </tr>\n",
       "    <tr>\n",
       "      <th>400</th>\n",
       "      <td>2497349372580</td>\n",
       "      <td>-20.289282</td>\n",
       "      <td>-24.950009</td>\n",
       "      <td>-37.549991</td>\n",
       "    </tr>\n",
       "    <tr>\n",
       "      <th>...</th>\n",
       "      <td>...</td>\n",
       "      <td>...</td>\n",
       "      <td>...</td>\n",
       "      <td>...</td>\n",
       "    </tr>\n",
       "    <tr>\n",
       "      <th>46385400</th>\n",
       "      <td>3500971085470</td>\n",
       "      <td>13.684625</td>\n",
       "      <td>11.838125</td>\n",
       "      <td>-41.775625</td>\n",
       "    </tr>\n",
       "    <tr>\n",
       "      <th>46385500</th>\n",
       "      <td>3500971086470</td>\n",
       "      <td>3.960378</td>\n",
       "      <td>3.312500</td>\n",
       "      <td>-46.391743</td>\n",
       "    </tr>\n",
       "    <tr>\n",
       "      <th>46385600</th>\n",
       "      <td>3500971087470</td>\n",
       "      <td>6.129044</td>\n",
       "      <td>1.925367</td>\n",
       "      <td>-45.812500</td>\n",
       "    </tr>\n",
       "    <tr>\n",
       "      <th>46385700</th>\n",
       "      <td>3500971088470</td>\n",
       "      <td>8.241932</td>\n",
       "      <td>4.952955</td>\n",
       "      <td>-45.343410</td>\n",
       "    </tr>\n",
       "    <tr>\n",
       "      <th>46385800</th>\n",
       "      <td>3500971089470</td>\n",
       "      <td>0.976822</td>\n",
       "      <td>-11.035804</td>\n",
       "      <td>-43.250000</td>\n",
       "    </tr>\n",
       "  </tbody>\n",
       "</table>\n",
       "<p>463859 rows × 4 columns</p>\n",
       "</div>"
      ],
      "text/plain": [
       "                   time      Mag_x      Mag_y      Mag_z\n",
       "0         2497349368580 -24.139197 -26.368179 -26.478982\n",
       "100       2497349369580 -14.610069 -29.769593 -31.812500\n",
       "200       2497349370580  -1.928659 -42.325527 -24.069789\n",
       "300       2497349371580 -28.256969 -35.194469 -11.791704\n",
       "400       2497349372580 -20.289282 -24.950009 -37.549991\n",
       "...                 ...        ...        ...        ...\n",
       "46385400  3500971085470  13.684625  11.838125 -41.775625\n",
       "46385500  3500971086470   3.960378   3.312500 -46.391743\n",
       "46385600  3500971087470   6.129044   1.925367 -45.812500\n",
       "46385700  3500971088470   8.241932   4.952955 -45.343410\n",
       "46385800  3500971089470   0.976822 -11.035804 -43.250000\n",
       "\n",
       "[463859 rows x 4 columns]"
      ]
     },
     "execution_count": 9,
     "metadata": {},
     "output_type": "execute_result"
    }
   ],
   "source": [
    "df.loc[np.arange(0,len(df),100)]"
   ]
  }
 ],
 "metadata": {
  "kernelspec": {
   "display_name": "Python 3",
   "language": "python",
   "name": "python3"
  },
  "language_info": {
   "codemirror_mode": {
    "name": "ipython",
    "version": 3
   },
   "file_extension": ".py",
   "mimetype": "text/x-python",
   "name": "python",
   "nbconvert_exporter": "python",
   "pygments_lexer": "ipython3",
   "version": "3.6.9"
  },
  "toc": {
   "base_numbering": 1,
   "nav_menu": {},
   "number_sections": true,
   "sideBar": true,
   "skip_h1_title": false,
   "title_cell": "Table of Contents",
   "title_sidebar": "Contents",
   "toc_cell": false,
   "toc_position": {
    "height": "calc(100% - 180px)",
    "left": "10px",
    "top": "150px",
    "width": "382.4375px"
   },
   "toc_section_display": true,
   "toc_window_display": true
  }
 },
 "nbformat": 4,
 "nbformat_minor": 5
}
