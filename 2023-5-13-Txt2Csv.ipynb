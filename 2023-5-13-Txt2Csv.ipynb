{
 "cells": [
  {
   "cell_type": "code",
   "execution_count": 1,
   "id": "c7434a95",
   "metadata": {
    "ExecuteTime": {
     "end_time": "2023-05-15T01:33:28.913510Z",
     "start_time": "2023-05-15T01:33:28.551477Z"
    }
   },
   "outputs": [],
   "source": [
    "import pandas as pd\n",
    "import numpy as np\n",
    "import re\n",
    "import time\n",
    "import pickle\n",
    "\n",
    "from utils import DataLoader, TimeKeeper"
   ]
  },
  {
   "cell_type": "code",
   "execution_count": 2,
   "id": "b8daea19",
   "metadata": {
    "ExecuteTime": {
     "end_time": "2023-05-14T16:56:28.487949Z",
     "start_time": "2023-05-14T16:56:28.484929Z"
    }
   },
   "outputs": [],
   "source": [
    "data_bag = DataLoader.SHLDataLoader('../../data/proj1/train/Bag/',ratio=1)"
   ]
  },
  {
   "cell_type": "code",
   "execution_count": 3,
   "id": "c6f6cce9",
   "metadata": {
    "ExecuteTime": {
     "end_time": "2023-05-14T16:57:16.163675Z",
     "start_time": "2023-05-14T16:56:30.824727Z"
    }
   },
   "outputs": [
    {
     "name": "stdout",
     "output_type": "stream",
     "text": [
      "Acc Loading...\n",
      "Acc 读取完成，共 98052438 条数据，占总数据的1，用时 45.34s\n"
     ]
    }
   ],
   "source": [
    "data_bag.load_acc()"
   ]
  },
  {
   "cell_type": "code",
   "execution_count": 7,
   "id": "d0de5777",
   "metadata": {},
   "outputs": [],
   "source": [
    "# # save\n",
    "# file = open('data/data_train_bag_1_nonedetail.pickle', 'wb')\n",
    "# pickle.dump(data_bag, file)\n",
    "# file.close()"
   ]
  },
  {
   "cell_type": "code",
   "execution_count": null,
   "id": "11c211bc",
   "metadata": {},
   "outputs": [],
   "source": [
    "# data_bag = DataLoader.SHLDataLoader('../../data/proj1/train/Bag/')"
   ]
  },
  {
   "cell_type": "code",
   "execution_count": 4,
   "id": "0c84fd68",
   "metadata": {
    "ExecuteTime": {
     "end_time": "2023-05-14T17:05:50.595151Z",
     "start_time": "2023-05-14T16:57:31.983199Z"
    }
   },
   "outputs": [],
   "source": [
    "data_bag.acc.to_csv('data/bag_acc_full.csv')"
   ]
  },
  {
   "cell_type": "code",
   "execution_count": 7,
   "id": "9f4c36a0",
   "metadata": {
    "ExecuteTime": {
     "end_time": "2023-05-14T17:11:46.127810Z",
     "start_time": "2023-05-14T17:11:46.114516Z"
    }
   },
   "outputs": [
    {
     "data": {
      "text/html": [
       "<div>\n",
       "<style scoped>\n",
       "    .dataframe tbody tr th:only-of-type {\n",
       "        vertical-align: middle;\n",
       "    }\n",
       "\n",
       "    .dataframe tbody tr th {\n",
       "        vertical-align: top;\n",
       "    }\n",
       "\n",
       "    .dataframe thead th {\n",
       "        text-align: right;\n",
       "    }\n",
       "</style>\n",
       "<table border=\"1\" class=\"dataframe\">\n",
       "  <thead>\n",
       "    <tr style=\"text-align: right;\">\n",
       "      <th></th>\n",
       "      <th>time</th>\n",
       "      <th>Acc_x</th>\n",
       "      <th>Acc_y</th>\n",
       "      <th>Acc_z</th>\n",
       "    </tr>\n",
       "  </thead>\n",
       "  <tbody>\n",
       "    <tr>\n",
       "      <th>0</th>\n",
       "      <td>1490431582760</td>\n",
       "      <td>9.299079</td>\n",
       "      <td>-0.536301</td>\n",
       "      <td>-3.916914</td>\n",
       "    </tr>\n",
       "    <tr>\n",
       "      <th>1</th>\n",
       "      <td>1490431582770</td>\n",
       "      <td>9.291419</td>\n",
       "      <td>-0.520981</td>\n",
       "      <td>-3.916914</td>\n",
       "    </tr>\n",
       "    <tr>\n",
       "      <th>2</th>\n",
       "      <td>1490431582780</td>\n",
       "      <td>9.304813</td>\n",
       "      <td>-0.540114</td>\n",
       "      <td>-3.901603</td>\n",
       "    </tr>\n",
       "    <tr>\n",
       "      <th>3</th>\n",
       "      <td>1490431582790</td>\n",
       "      <td>9.293340</td>\n",
       "      <td>-0.538220</td>\n",
       "      <td>-3.913076</td>\n",
       "    </tr>\n",
       "    <tr>\n",
       "      <th>4</th>\n",
       "      <td>1490431582800</td>\n",
       "      <td>9.297159</td>\n",
       "      <td>-0.528644</td>\n",
       "      <td>-3.916914</td>\n",
       "    </tr>\n",
       "    <tr>\n",
       "      <th>5</th>\n",
       "      <td>1490431582810</td>\n",
       "      <td>9.299079</td>\n",
       "      <td>-0.534165</td>\n",
       "      <td>-3.924354</td>\n",
       "    </tr>\n",
       "    <tr>\n",
       "      <th>6</th>\n",
       "      <td>1490431582820</td>\n",
       "      <td>9.306677</td>\n",
       "      <td>-0.528703</td>\n",
       "      <td>-3.926491</td>\n",
       "    </tr>\n",
       "    <tr>\n",
       "      <th>7</th>\n",
       "      <td>1490431582830</td>\n",
       "      <td>9.300996</td>\n",
       "      <td>-0.534385</td>\n",
       "      <td>-3.918831</td>\n",
       "    </tr>\n",
       "    <tr>\n",
       "      <th>8</th>\n",
       "      <td>1490431582840</td>\n",
       "      <td>9.291664</td>\n",
       "      <td>-0.536301</td>\n",
       "      <td>-3.916914</td>\n",
       "    </tr>\n",
       "    <tr>\n",
       "      <th>9</th>\n",
       "      <td>1490431582850</td>\n",
       "      <td>9.297095</td>\n",
       "      <td>-0.536301</td>\n",
       "      <td>-3.916914</td>\n",
       "    </tr>\n",
       "  </tbody>\n",
       "</table>\n",
       "</div>"
      ],
      "text/plain": [
       "            time     Acc_x     Acc_y     Acc_z\n",
       "0  1490431582760  9.299079 -0.536301 -3.916914\n",
       "1  1490431582770  9.291419 -0.520981 -3.916914\n",
       "2  1490431582780  9.304813 -0.540114 -3.901603\n",
       "3  1490431582790  9.293340 -0.538220 -3.913076\n",
       "4  1490431582800  9.297159 -0.528644 -3.916914\n",
       "5  1490431582810  9.299079 -0.534165 -3.924354\n",
       "6  1490431582820  9.306677 -0.528703 -3.926491\n",
       "7  1490431582830  9.300996 -0.534385 -3.918831\n",
       "8  1490431582840  9.291664 -0.536301 -3.916914\n",
       "9  1490431582850  9.297095 -0.536301 -3.916914"
      ]
     },
     "execution_count": 7,
     "metadata": {},
     "output_type": "execute_result"
    }
   ],
   "source": [
    "pd.read_csv('data/bag_acc_full.csv', index_col=0, nrows=10)"
   ]
  },
  {
   "cell_type": "code",
   "execution_count": 9,
   "id": "361dcaf8",
   "metadata": {
    "ExecuteTime": {
     "end_time": "2023-05-14T17:21:28.956155Z",
     "start_time": "2023-05-14T17:12:23.008918Z"
    }
   },
   "outputs": [
    {
     "name": "stdout",
     "output_type": "stream",
     "text": [
      "Gyr Loading...\n",
      "Gyr 读取完成，共 98052438 条数据，占总数据的1，用时 43.4s\n"
     ]
    }
   ],
   "source": [
    "data_bag.load_gyr()\n",
    "data_bag.gyr.to_csv('data/bag_gyr_full.csv')"
   ]
  },
  {
   "cell_type": "code",
   "execution_count": 10,
   "id": "169e4d1b",
   "metadata": {
    "ExecuteTime": {
     "end_time": "2023-05-14T17:30:35.973740Z",
     "start_time": "2023-05-14T17:21:28.958370Z"
    }
   },
   "outputs": [
    {
     "name": "stdout",
     "output_type": "stream",
     "text": [
      "Mag Loading...\n",
      "Mag 读取完成，共 98052438 条数据，占总数据的1，用时 47.06s\n"
     ]
    }
   ],
   "source": [
    "data_bag.load_mag()\n",
    "data_bag.mag.to_csv('data/bag_mag_full.csv')"
   ]
  },
  {
   "cell_type": "code",
   "execution_count": null,
   "id": "d7d43f8c",
   "metadata": {
    "ExecuteTime": {
     "end_time": "2023-05-14T17:12:17.373544Z",
     "start_time": "2023-05-14T17:12:11.700Z"
    }
   },
   "outputs": [],
   "source": [
    "data_bag.load_loc()\n",
    "data_bag.loc.to_csv('data/bag_loc_full.csv')"
   ]
  },
  {
   "cell_type": "code",
   "execution_count": 9,
   "id": "f9a2ea95",
   "metadata": {},
   "outputs": [
    {
     "name": "stdout",
     "output_type": "stream",
     "text": [
      "GPS Loading...\n",
      "GPS 读取完成，共 1187537 条数据，占总数据的1，用时 35.07s\n"
     ]
    }
   ],
   "source": [
    "data_bag.load_gps(detail=False)\n",
    "data_bag.gps.to_csv('data/bag_gps_full.csv')"
   ]
  },
  {
   "cell_type": "code",
   "execution_count": 10,
   "id": "941da829",
   "metadata": {
    "scrolled": true
   },
   "outputs": [
    {
     "name": "stdout",
     "output_type": "stream",
     "text": [
      "Label Loading...\n",
      "Label 读取完成，共 98052438 条数据，占总数据的1，用时 31.1s\n"
     ]
    }
   ],
   "source": [
    "data_bag.load_label()\n",
    "data_bag.label.to_csv('data/bag_label_full.csv')"
   ]
  },
  {
   "cell_type": "code",
   "execution_count": null,
   "id": "6d61ed5c",
   "metadata": {},
   "outputs": [],
   "source": [
    "# data_bag.load_gps()\n",
    "# data_bag.gps_detail.to_csv('data/bag_gps_detail_full.csv')"
   ]
  },
  {
   "cell_type": "code",
   "execution_count": 11,
   "id": "98e81efd",
   "metadata": {
    "ExecuteTime": {
     "end_time": "2023-05-14T17:30:35.978648Z",
     "start_time": "2023-05-14T17:30:35.976091Z"
    }
   },
   "outputs": [],
   "source": [
    "data_hips = DataLoader.SHLDataLoader('../../data/proj1/train/Hips/',ratio=1)\n"
   ]
  },
  {
   "cell_type": "code",
   "execution_count": 12,
   "id": "ef035da5",
   "metadata": {
    "ExecuteTime": {
     "end_time": "2023-05-14T17:39:45.185551Z",
     "start_time": "2023-05-14T17:30:35.980458Z"
    }
   },
   "outputs": [
    {
     "name": "stdout",
     "output_type": "stream",
     "text": [
      "Acc Loading...\n",
      "Acc 读取完成，共 98052438 条数据，占总数据的1，用时 45.45s\n"
     ]
    }
   ],
   "source": [
    "data_hips.load_acc()\n",
    "data_hips.acc.to_csv('data/hips_acc_full.csv')"
   ]
  },
  {
   "cell_type": "code",
   "execution_count": null,
   "id": "9e5c0cc0",
   "metadata": {
    "ExecuteTime": {
     "start_time": "2023-05-14T17:12:34.390Z"
    }
   },
   "outputs": [
    {
     "name": "stdout",
     "output_type": "stream",
     "text": [
      "Gyr Loading...\n",
      "Gyr 读取完成，共 98052438 条数据，占总数据的1，用时 45.42s\n"
     ]
    }
   ],
   "source": [
    "data_hips.load_gyr()\n",
    "data_hips.gyr.to_csv('data/hips_gyr_full.csv')"
   ]
  },
  {
   "cell_type": "code",
   "execution_count": null,
   "id": "a163b85b",
   "metadata": {
    "ExecuteTime": {
     "start_time": "2023-05-14T17:12:35.624Z"
    }
   },
   "outputs": [],
   "source": [
    "data_hips.load_mag()\n",
    "data_hips.mag.to_csv('data/hips_mag_full.csv')"
   ]
  },
  {
   "cell_type": "code",
   "execution_count": 5,
   "id": "eacf0405",
   "metadata": {},
   "outputs": [
    {
     "name": "stdout",
     "output_type": "stream",
     "text": [
      "Location Loading...\n",
      "Location 读取完成，共 911109 条数据，占总数据的1，用时 1.65s\n"
     ]
    }
   ],
   "source": [
    "data_hips.load_loc()\n",
    "data_hips.loc.to_csv('data/hips_loc_full.csv')"
   ]
  },
  {
   "cell_type": "code",
   "execution_count": 6,
   "id": "6770959b",
   "metadata": {},
   "outputs": [
    {
     "name": "stdout",
     "output_type": "stream",
     "text": [
      "GPS Loading...\n",
      "GPS 读取完成，共 1322749 条数据，占总数据的1，用时 34.48s\n"
     ]
    }
   ],
   "source": [
    "data_hips.load_gps(detail=False)\n",
    "data_hips.gps.to_csv('data/hips_gps_full.csv')"
   ]
  },
  {
   "cell_type": "code",
   "execution_count": 7,
   "id": "4607d770",
   "metadata": {},
   "outputs": [
    {
     "name": "stdout",
     "output_type": "stream",
     "text": [
      "Label Loading...\n",
      "Label 读取完成，共 98052438 条数据，占总数据的1，用时 17.71s\n"
     ]
    }
   ],
   "source": [
    "data_hips.load_label()\n",
    "data_hips.label.to_csv('data/hips_label_full.csv')"
   ]
  },
  {
   "cell_type": "code",
   "execution_count": 5,
   "id": "c8bfe4df",
   "metadata": {},
   "outputs": [
    {
     "name": "stdout",
     "output_type": "stream",
     "text": [
      "GPS Loading...\n",
      "GPS 读取完成，共 1187537 条数据，占总数据的1，用时 31.67s\n",
      "GPS Detail Loading...\n",
      "\t-- GPS 详细信息提取完成，共 1187537 条数据，占总数据的1，用时 1459.76s\n",
      "GPS Loading...\n",
      "GPS 读取完成，共 1322749 条数据，占总数据的1，用时 39.6s\n",
      "GPS Detail Loading...\n",
      "\t-- GPS 详细信息提取完成，共 1322749 条数据，占总数据的1，用时 1560.98s\n"
     ]
    }
   ],
   "source": [
    "data_bag.load_gps(detail=True)\n",
    "data_bag.gps_detail.to_csv('data/bag_gps_detail_full.csv')\n",
    "data_hips.load_gps(detail=True)\n",
    "data_hips.gps_detail.to_csv('data/hips_gps_detail_full.csv')"
   ]
  },
  {
   "cell_type": "code",
   "execution_count": 2,
   "id": "d9e40b5f",
   "metadata": {
    "ExecuteTime": {
     "end_time": "2023-05-15T01:34:13.699371Z",
     "start_time": "2023-05-15T01:34:13.696406Z"
    }
   },
   "outputs": [],
   "source": [
    "# Torso\n",
    "data_torso = DataLoader.SHLDataLoader('../../data/proj1/train/Torso/',ratio=1)\n",
    "# Hand\n",
    "data_hand = DataLoader.SHLDataLoader('../../data/proj1/train/Hand/',ratio=1)\n"
   ]
  },
  {
   "cell_type": "code",
   "execution_count": 3,
   "id": "50619712",
   "metadata": {
    "ExecuteTime": {
     "end_time": "2023-05-15T02:01:53.035459Z",
     "start_time": "2023-05-15T01:34:13.901170Z"
    }
   },
   "outputs": [
    {
     "name": "stdout",
     "output_type": "stream",
     "text": [
      "Acc Loading...\n",
      "Acc 读取完成，共 98052438 条数据，占总数据的1，用时 44.22s\n",
      "Gyr Loading...\n",
      "Gyr 读取完成，共 98052438 条数据，占总数据的1，用时 55.7s\n",
      "Mag Loading...\n",
      "Mag 读取完成，共 98052438 条数据，占总数据的1，用时 75.33s\n"
     ]
    }
   ],
   "source": [
    "data_torso.load_acc()\n",
    "data_torso.acc.to_csv('data/torso_acc_full.csv')\n",
    "data_torso.load_gyr()\n",
    "data_torso.gyr.to_csv('data/torso_gyr_full.csv')\n",
    "data_torso.load_mag()\n",
    "data_torso.mag.to_csv('data/torso_mag_full.csv')\n",
    "# data_torso.load_loc()\n",
    "# data_torso.loc.to_csv('data/torso_loc_full.csv')\n",
    "# data_torso.load_label()\n",
    "# data_torso.label.to_csv('data/torso_label_full.csv')\n",
    "# data_torso.load_gps(detail=True)\n",
    "# data_torso.gps.to_csv('data/torso_gps_full.csv')\n",
    "# data_torso.gps_detail.to_csv('data/torso_gps_detail_full.csv')"
   ]
  },
  {
   "cell_type": "code",
   "execution_count": 4,
   "id": "9243f673",
   "metadata": {
    "ExecuteTime": {
     "end_time": "2023-05-15T02:30:19.505777Z",
     "start_time": "2023-05-15T02:01:53.037665Z"
    }
   },
   "outputs": [
    {
     "name": "stdout",
     "output_type": "stream",
     "text": [
      "Acc Loading...\n",
      "Acc 读取完成，共 98052438 条数据，占总数据的1，用时 65.47s\n",
      "Gyr Loading...\n",
      "Gyr 读取完成，共 98052438 条数据，占总数据的1，用时 75.67s\n",
      "Mag Loading...\n",
      "Mag 读取完成，共 98052438 条数据，占总数据的1，用时 68.2s\n"
     ]
    }
   ],
   "source": [
    "data_hand.load_acc()\n",
    "data_hand.acc.to_csv('data/hand_acc_full.csv')\n",
    "data_hand.load_gyr()\n",
    "data_hand.gyr.to_csv('data/hand_gyr_full.csv')\n",
    "data_hand.load_mag()\n",
    "data_hand.mag.to_csv('data/hand_mag_full.csv')\n",
    "# data_hand.load_loc()\n",
    "# data_hand.loc.to_csv('data/hand_loc_full.csv')\n",
    "# data_hand.load_label()\n",
    "# data_hand.label.to_csv('data/hand_label_full.csv')\n",
    "# data_hand.load_gps(detail=True)\n",
    "# data_hand.gps.to_csv('data/hand_gps_full.csv')\n",
    "# data_hand.gps_detail.to_csv('data/hand_gps_detail_full.csv')"
   ]
  },
  {
   "cell_type": "code",
   "execution_count": null,
   "id": "1ad880c2",
   "metadata": {},
   "outputs": [],
   "source": []
  }
 ],
 "metadata": {
  "kernelspec": {
   "display_name": "Python 3",
   "language": "python",
   "name": "python3"
  },
  "language_info": {
   "codemirror_mode": {
    "name": "ipython",
    "version": 3
   },
   "file_extension": ".py",
   "mimetype": "text/x-python",
   "name": "python",
   "nbconvert_exporter": "python",
   "pygments_lexer": "ipython3",
   "version": "3.6.9"
  },
  "toc": {
   "base_numbering": 1,
   "nav_menu": {},
   "number_sections": true,
   "sideBar": true,
   "skip_h1_title": false,
   "title_cell": "Table of Contents",
   "title_sidebar": "Contents",
   "toc_cell": false,
   "toc_position": {},
   "toc_section_display": true,
   "toc_window_display": false
  }
 },
 "nbformat": 4,
 "nbformat_minor": 5
}
