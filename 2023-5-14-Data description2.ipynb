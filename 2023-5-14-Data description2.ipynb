{
 "cells": [
  {
   "attachments": {},
   "cell_type": "markdown",
   "id": "951c8aed",
   "metadata": {
    "ExecuteTime": {
     "end_time": "2023-05-15T14:47:01.821320Z",
     "start_time": "2023-05-15T14:47:01.188423Z"
    }
   },
   "source": [
    "# 缺失值占比"
   ]
  },
  {
   "cell_type": "code",
   "execution_count": 3,
   "id": "e917f1fe",
   "metadata": {
    "ExecuteTime": {
     "end_time": "2023-05-18T01:29:36.431800Z",
     "start_time": "2023-05-18T01:29:35.826139Z"
    }
   },
   "outputs": [],
   "source": [
    "import matplotlib.pyplot as plt\n",
    "import pandas as pd\n",
    "import numpy as np"
   ]
  },
  {
   "cell_type": "code",
   "execution_count": 2,
   "id": "18893e9d",
   "metadata": {
    "ExecuteTime": {
     "end_time": "2023-05-18T01:30:51.455086Z",
     "start_time": "2023-05-18T01:30:51.038670Z"
    }
   },
   "outputs": [
    {
     "data": {
      "application/vnd.jupyter.widget-view+json": {
       "model_id": "a8eec3ce90dd41e3a731804ee62c1f9d",
       "version_major": 2,
       "version_minor": 0
      },
      "text/plain": [
       "  0%|          | 0/28 [00:00<?, ?it/s]"
      ]
     },
     "metadata": {},
     "output_type": "display_data"
    }
   ],
   "source": [
    "import os\n",
    "import pandas as pd\n",
    "from tqdm.notebook import tqdm, tnrange\n",
    "import matplotlib.pyplot as plt\n",
    "import seaborn as sns\n",
    "tqdm.pandas()\n",
    "\n",
    "file_dir=\"../SHL2023/data_pkl\"\n",
    "all_file_list=os.listdir(file_dir)\n",
    "all_pkl_list=sorted(all_file_list)[1:]# remove ipynb_checkpoints\n",
    "\n",
    "names=[]\n",
    "for i in tnrange(len(all_pkl_list)):\n",
    "    names.append(all_pkl_list[i][:-4])"
   ]
  },
  {
   "cell_type": "code",
   "execution_count": 4,
   "id": "19bb2d93",
   "metadata": {
    "ExecuteTime": {
     "end_time": "2023-05-18T01:39:40.631597Z",
     "start_time": "2023-05-18T01:38:20.644266Z"
    }
   },
   "outputs": [
    {
     "data": {
      "application/vnd.jupyter.widget-view+json": {
       "model_id": "76dd5b310f714622aeddfbde5af07530",
       "version_major": 2,
       "version_minor": 0
      },
      "text/plain": [
       "  0%|          | 0/28 [00:00<?, ?it/s]"
      ]
     },
     "metadata": {},
     "output_type": "display_data"
    },
    {
     "name": "stdout",
     "output_type": "stream",
     "text": [
      "------------------Loading bag_acc_full.pkl ------------------\n",
      "time     0.000000e+00\n",
      "Acc_x    4.079450e-08\n",
      "Acc_y    4.079450e-08\n",
      "Acc_z    4.079450e-08\n",
      "dtype: float64\n",
      "------------------Loading bag_gps_detail_full.pkl ------------------\n",
      "time         0.0\n",
      "id           0.0\n",
      "snr          0.0\n",
      "azimuth      0.0\n",
      "elevation    0.0\n",
      "dtype: float64\n",
      "------------------Loading bag_gps_full.pkl ------------------\n",
      "time      0.0\n",
      "number    0.0\n",
      "dtype: float64\n",
      "------------------Loading bag_gyr_full.pkl ------------------\n",
      "time     0.000000e+00\n",
      "Gyr_x    1.937739e-07\n",
      "Gyr_y    1.937739e-07\n",
      "Gyr_z    1.937739e-07\n",
      "dtype: float64\n",
      "------------------Loading bag_label_full.pkl ------------------\n",
      "time     0.0\n",
      "label    0.0\n",
      "dtype: float64\n",
      "------------------Loading bag_loc_full.pkl ------------------\n",
      "time         0.0\n",
      "accuracy     0.0\n",
      "latitude     0.0\n",
      "longitude    0.0\n",
      "altitude     0.0\n",
      "dtype: float64\n",
      "------------------Loading bag_mag_full.pkl ------------------\n",
      "time     0.000000e+00\n",
      "Mag_x    2.141711e-07\n",
      "Mag_y    2.141711e-07\n",
      "Mag_z    2.141711e-07\n",
      "dtype: float64\n",
      "------------------Loading hand_acc_full.pkl ------------------\n",
      "time     0.000000e+00\n",
      "Acc_x    3.059587e-08\n",
      "Acc_y    3.059587e-08\n",
      "Acc_z    3.059587e-08\n",
      "dtype: float64\n",
      "------------------Loading hand_gps_detail_full.pkl ------------------\n",
      "time         0.0\n",
      "id           0.0\n",
      "snr          0.0\n",
      "azimuth      0.0\n",
      "elevation    0.0\n",
      "dtype: float64\n",
      "------------------Loading hand_gps_full.pkl ------------------\n",
      "time      0.0\n",
      "number    0.0\n",
      "dtype: float64\n",
      "------------------Loading hand_gyr_full.pkl ------------------\n",
      "time     0.000000e+00\n",
      "Gyr_x    1.835752e-07\n",
      "Gyr_y    1.835752e-07\n",
      "Gyr_z    1.835752e-07\n",
      "dtype: float64\n",
      "------------------Loading hand_label_full.pkl ------------------\n",
      "time     0.0\n",
      "label    0.0\n",
      "dtype: float64\n",
      "------------------Loading hand_loc_full.pkl ------------------\n",
      "time         0.0\n",
      "accuracy     0.0\n",
      "latitude     0.0\n",
      "longitude    0.0\n",
      "altitude     0.0\n",
      "dtype: float64\n",
      "------------------Loading hand_mag_full.pkl ------------------\n",
      "time     0.000000e+00\n",
      "Mag_x    1.937739e-07\n",
      "Mag_y    1.937739e-07\n",
      "Mag_z    1.937739e-07\n",
      "dtype: float64\n",
      "------------------Loading hips_acc_full.pkl ------------------\n",
      "time     0.000000\n",
      "Acc_x    0.000001\n",
      "Acc_y    0.000001\n",
      "Acc_z    0.000001\n",
      "dtype: float64\n",
      "------------------Loading hips_gps_detail_full.pkl ------------------\n",
      "time         0.0\n",
      "id           0.0\n",
      "snr          0.0\n",
      "azimuth      0.0\n",
      "elevation    0.0\n",
      "dtype: float64\n",
      "------------------Loading hips_gps_full.pkl ------------------\n",
      "time      0.0\n",
      "number    0.0\n",
      "dtype: float64\n",
      "------------------Loading hips_gyr_full.pkl ------------------\n",
      "time     0.000000\n",
      "Gyr_x    0.000001\n",
      "Gyr_y    0.000001\n",
      "Gyr_z    0.000001\n",
      "dtype: float64\n",
      "------------------Loading hips_label_full.pkl ------------------\n",
      "time     0.0\n",
      "label    0.0\n",
      "dtype: float64\n",
      "------------------Loading hips_loc_full.pkl ------------------\n",
      "time         0.0\n",
      "accuracy     0.0\n",
      "latitude     0.0\n",
      "longitude    0.0\n",
      "altitude     0.0\n",
      "dtype: float64\n",
      "------------------Loading hips_mag_full.pkl ------------------\n",
      "time     0.000000\n",
      "Mag_x    0.000001\n",
      "Mag_y    0.000001\n",
      "Mag_z    0.000001\n",
      "dtype: float64\n",
      "------------------Loading torso_acc_full.pkl ------------------\n",
      "time     0.0\n",
      "Acc_x    0.0\n",
      "Acc_y    0.0\n",
      "Acc_z    0.0\n",
      "dtype: float64\n",
      "------------------Loading torso_gps_detail_full.pkl ------------------\n",
      "time         0.0\n",
      "id           0.0\n",
      "snr          0.0\n",
      "azimuth      0.0\n",
      "elevation    0.0\n",
      "dtype: float64\n",
      "------------------Loading torso_gps_full.pkl ------------------\n",
      "time      0.0\n",
      "number    0.0\n",
      "dtype: float64\n",
      "------------------Loading torso_gyr_full.pkl ------------------\n",
      "time     0.0\n",
      "Gyr_x    0.0\n",
      "Gyr_y    0.0\n",
      "Gyr_z    0.0\n",
      "dtype: float64\n",
      "------------------Loading torso_label_full.pkl ------------------\n",
      "time     0.0\n",
      "label    0.0\n",
      "dtype: float64\n",
      "------------------Loading torso_loc_full.pkl ------------------\n",
      "time         0.0\n",
      "accuracy     0.0\n",
      "latitude     0.0\n",
      "longitude    0.0\n",
      "altitude     0.0\n",
      "dtype: float64\n",
      "------------------Loading torso_mag_full.pkl ------------------\n",
      "time     0.0\n",
      "Mag_x    0.0\n",
      "Mag_y    0.0\n",
      "Mag_z    0.0\n",
      "dtype: float64\n"
     ]
    }
   ],
   "source": [
    "for name in tqdm(names):\n",
    "    print('------------------Loading {} ------------------'.format(name + '.pkl'))\n",
    "    df = pd.read_pickle(file_dir + '/' + name + '.pkl')\n",
    "    a=df.isnull().sum() / df.shape[0]\n",
    "    print(a)"
   ]
  },
  {
   "cell_type": "code",
   "execution_count": 16,
   "id": "a78f6a51",
   "metadata": {
    "ExecuteTime": {
     "end_time": "2023-05-18T01:48:55.316004Z",
     "start_time": "2023-05-18T01:48:54.967837Z"
    }
   },
   "outputs": [
    {
     "data": {
      "image/png": "[encoded data removed]",
      "text/plain": [
       "<Figure size 720x432 with 1 Axes>"
      ]
     },
     "metadata": {},
     "output_type": "display_data"
    }
   ],
   "source": [
    "x_data=['bag_acc','bag_gyr','bag_mag','hand_acc','hand_gyr','hand_mag','hips_acc','hips_gyr','hips_mag']\n",
    "y_data=[-7.389398,-6.712705,-6.669239,-7.514337,-6.736186,-6.712705,-5.874187,-5.827106,-5.824141]#取对数\n",
    "\n",
    " \n",
    "plt.rcParams[\"font.sans-serif\"]=['SimHei']\n",
    "plt.rcParams[\"axes.unicode_minus\"]=False\n",
    " \n",
    "sns.set_theme(style=\"white\")    \n",
    "plt.figure(figsize=(10,6))    \n",
    "sns.barplot(x=x_data,y=y_data)\n",
    "plt.title(\"NA Rate in Data Sets\")\n",
    "plt.xlabel(\"Data Set \")\n",
    "plt.ylabel(\"log 10 of na rate\")\n",
    "plt.savefig('rate')\n",
    "plt.show()\n",
    "\n",
    "\n",
    "\n",
    "\n"
   ]
  },
  {
   "cell_type": "code",
   "execution_count": 18,
   "id": "8d960dc0",
   "metadata": {
    "ExecuteTime": {
     "end_time": "2023-05-18T01:49:38.719533Z",
     "start_time": "2023-05-18T01:49:38.384102Z"
    }
   },
   "outputs": [
    {
     "data": {
      "image/png": "[encoded data removed]",
      "text/plain": [
       "<Figure size 720x432 with 1 Axes>"
      ]
     },
     "metadata": {},
     "output_type": "display_data"
    }
   ],
   "source": [
    "x_data=['bag_acc','bag_gyr','bag_mag','hand_acc','hand_gyr','hand_mag','hips_acc','hips_gyr','hips_mag']\n",
    "y_data=[4,19,21,3,18,19,131,146,147]\n",
    "\n",
    "import matplotlib.pyplot as plt\n",
    " \n",
    "plt.rcParams[\"font.sans-serif\"]=['SimHei']\n",
    "plt.rcParams[\"axes.unicode_minus\"]=False\n",
    " \n",
    "plt.figure(figsize=(10,6))    \n",
    "sns.barplot(x=x_data,y=y_data)\n",
    "plt.title(\"NA Value's Distribution in Data Sets\")\n",
    "plt.xlabel(\"Data Set \")\n",
    "plt.ylabel(\"Number of NA\")\n",
    "plt.savefig('total NA number')\n",
    "plt.show()\n",
    "\n",
    "\n",
    "\n"
   ]
  },
  {
   "cell_type": "code",
   "execution_count": 29,
   "id": "16acef71",
   "metadata": {
    "ExecuteTime": {
     "end_time": "2023-05-18T02:26:07.286744Z",
     "start_time": "2023-05-18T02:26:04.342682Z"
    }
   },
   "outputs": [],
   "source": [
    "df = pd.read_pickle('/home/dengjiebi/SHL2023/data_pkl/bag_label_full.pkl')\n",
    "df['time1']=df['time']-df['time'][0]#相对时间"
   ]
  },
  {
   "cell_type": "code",
   "execution_count": 30,
   "id": "82865d0c",
   "metadata": {
    "ExecuteTime": {
     "end_time": "2023-05-18T02:26:13.158103Z",
     "start_time": "2023-05-18T02:26:08.324571Z"
    }
   },
   "outputs": [
    {
     "data": {
      "text/html": [
       "<div>\n",
       "<style scoped>\n",
       "    .dataframe tbody tr th:only-of-type {\n",
       "        vertical-align: middle;\n",
       "    }\n",
       "\n",
       "    .dataframe tbody tr th {\n",
       "        vertical-align: top;\n",
       "    }\n",
       "\n",
       "    .dataframe thead th {\n",
       "        text-align: right;\n",
       "    }\n",
       "</style>\n",
       "<table border=\"1\" class=\"dataframe\">\n",
       "  <thead>\n",
       "    <tr style=\"text-align: right;\">\n",
       "      <th></th>\n",
       "      <th>time</th>\n",
       "      <th>time1</th>\n",
       "    </tr>\n",
       "    <tr>\n",
       "      <th>label</th>\n",
       "      <th></th>\n",
       "      <th></th>\n",
       "    </tr>\n",
       "  </thead>\n",
       "  <tbody>\n",
       "    <tr>\n",
       "      <th>1</th>\n",
       "      <td>12229754</td>\n",
       "      <td>12229754</td>\n",
       "    </tr>\n",
       "    <tr>\n",
       "      <th>2</th>\n",
       "      <td>12276890</td>\n",
       "      <td>12276890</td>\n",
       "    </tr>\n",
       "    <tr>\n",
       "      <th>3</th>\n",
       "      <td>4227716</td>\n",
       "      <td>4227716</td>\n",
       "    </tr>\n",
       "    <tr>\n",
       "      <th>4</th>\n",
       "      <td>11740364</td>\n",
       "      <td>11740364</td>\n",
       "    </tr>\n",
       "    <tr>\n",
       "      <th>5</th>\n",
       "      <td>15869847</td>\n",
       "      <td>15869847</td>\n",
       "    </tr>\n",
       "    <tr>\n",
       "      <th>6</th>\n",
       "      <td>14164261</td>\n",
       "      <td>14164261</td>\n",
       "    </tr>\n",
       "    <tr>\n",
       "      <th>7</th>\n",
       "      <td>15625987</td>\n",
       "      <td>15625987</td>\n",
       "    </tr>\n",
       "    <tr>\n",
       "      <th>8</th>\n",
       "      <td>11917619</td>\n",
       "      <td>11917619</td>\n",
       "    </tr>\n",
       "  </tbody>\n",
       "</table>\n",
       "</div>"
      ],
      "text/plain": [
       "           time     time1\n",
       "label                    \n",
       "1      12229754  12229754\n",
       "2      12276890  12276890\n",
       "3       4227716   4227716\n",
       "4      11740364  11740364\n",
       "5      15869847  15869847\n",
       "6      14164261  14164261\n",
       "7      15625987  15625987\n",
       "8      11917619  11917619"
      ]
     },
     "execution_count": 30,
     "metadata": {},
     "output_type": "execute_result"
    }
   ],
   "source": [
    "df.groupby('label').count()"
   ]
  },
  {
   "cell_type": "code",
   "execution_count": 31,
   "id": "b6f4e02a",
   "metadata": {
    "ExecuteTime": {
     "end_time": "2023-05-18T02:26:57.056953Z",
     "start_time": "2023-05-18T02:26:55.562496Z"
    }
   },
   "outputs": [],
   "source": [
    "df['label_change']=df['label'].shift(-1) - df['label']"
   ]
  },
  {
   "cell_type": "code",
   "execution_count": 45,
   "id": "b65357b7",
   "metadata": {
    "ExecuteTime": {
     "end_time": "2023-05-18T02:40:27.970557Z",
     "start_time": "2023-05-18T02:40:27.814996Z"
    }
   },
   "outputs": [],
   "source": [
    "q3 = df.loc[df['label_change']!=0].copy()"
   ]
  },
  {
   "cell_type": "code",
   "execution_count": 46,
   "id": "cab8de69",
   "metadata": {
    "ExecuteTime": {
     "end_time": "2023-05-18T02:40:28.854655Z",
     "start_time": "2023-05-18T02:40:28.842836Z"
    }
   },
   "outputs": [
    {
     "data": {
      "text/html": [
       "<div>\n",
       "<style scoped>\n",
       "    .dataframe tbody tr th:only-of-type {\n",
       "        vertical-align: middle;\n",
       "    }\n",
       "\n",
       "    .dataframe tbody tr th {\n",
       "        vertical-align: top;\n",
       "    }\n",
       "\n",
       "    .dataframe thead th {\n",
       "        text-align: right;\n",
       "    }\n",
       "</style>\n",
       "<table border=\"1\" class=\"dataframe\">\n",
       "  <thead>\n",
       "    <tr style=\"text-align: right;\">\n",
       "      <th></th>\n",
       "      <th>time</th>\n",
       "      <th>label</th>\n",
       "      <th>time1</th>\n",
       "      <th>label_change</th>\n",
       "    </tr>\n",
       "  </thead>\n",
       "  <tbody>\n",
       "    <tr>\n",
       "      <th>48005</th>\n",
       "      <td>1490432062810</td>\n",
       "      <td>4</td>\n",
       "      <td>480050</td>\n",
       "      <td>3.0</td>\n",
       "    </tr>\n",
       "    <tr>\n",
       "      <th>765011</th>\n",
       "      <td>1490440147760</td>\n",
       "      <td>7</td>\n",
       "      <td>8565000</td>\n",
       "      <td>-5.0</td>\n",
       "    </tr>\n",
       "    <tr>\n",
       "      <th>790578</th>\n",
       "      <td>1490440702800</td>\n",
       "      <td>2</td>\n",
       "      <td>9120040</td>\n",
       "      <td>-1.0</td>\n",
       "    </tr>\n",
       "    <tr>\n",
       "      <th>900088</th>\n",
       "      <td>1490442217820</td>\n",
       "      <td>1</td>\n",
       "      <td>10635060</td>\n",
       "      <td>7.0</td>\n",
       "    </tr>\n",
       "    <tr>\n",
       "      <th>972191</th>\n",
       "      <td>1490443537420</td>\n",
       "      <td>8</td>\n",
       "      <td>11954660</td>\n",
       "      <td>-7.0</td>\n",
       "    </tr>\n",
       "    <tr>\n",
       "      <th>...</th>\n",
       "      <td>...</td>\n",
       "      <td>...</td>\n",
       "      <td>...</td>\n",
       "      <td>...</td>\n",
       "    </tr>\n",
       "    <tr>\n",
       "      <th>97013023</th>\n",
       "      <td>1499253182330</td>\n",
       "      <td>5</td>\n",
       "      <td>8821599570</td>\n",
       "      <td>-3.0</td>\n",
       "    </tr>\n",
       "    <tr>\n",
       "      <th>97197563</th>\n",
       "      <td>1499256076950</td>\n",
       "      <td>2</td>\n",
       "      <td>8824494190</td>\n",
       "      <td>-1.0</td>\n",
       "    </tr>\n",
       "    <tr>\n",
       "      <th>97385036</th>\n",
       "      <td>1499258057070</td>\n",
       "      <td>1</td>\n",
       "      <td>8826474310</td>\n",
       "      <td>1.0</td>\n",
       "    </tr>\n",
       "    <tr>\n",
       "      <th>97635463</th>\n",
       "      <td>1499261386980</td>\n",
       "      <td>2</td>\n",
       "      <td>8829804220</td>\n",
       "      <td>3.0</td>\n",
       "    </tr>\n",
       "    <tr>\n",
       "      <th>98052437</th>\n",
       "      <td>1499267852450</td>\n",
       "      <td>5</td>\n",
       "      <td>8836269690</td>\n",
       "      <td>NaN</td>\n",
       "    </tr>\n",
       "  </tbody>\n",
       "</table>\n",
       "<p>628 rows × 4 columns</p>\n",
       "</div>"
      ],
      "text/plain": [
       "                   time  label       time1  label_change\n",
       "48005     1490432062810      4      480050           3.0\n",
       "765011    1490440147760      7     8565000          -5.0\n",
       "790578    1490440702800      2     9120040          -1.0\n",
       "900088    1490442217820      1    10635060           7.0\n",
       "972191    1490443537420      8    11954660          -7.0\n",
       "...                 ...    ...         ...           ...\n",
       "97013023  1499253182330      5  8821599570          -3.0\n",
       "97197563  1499256076950      2  8824494190          -1.0\n",
       "97385036  1499258057070      1  8826474310           1.0\n",
       "97635463  1499261386980      2  8829804220           3.0\n",
       "98052437  1499267852450      5  8836269690           NaN\n",
       "\n",
       "[628 rows x 4 columns]"
      ]
     },
     "execution_count": 46,
     "metadata": {},
     "output_type": "execute_result"
    }
   ],
   "source": [
    "q3"
   ]
  },
  {
   "cell_type": "code",
   "execution_count": 52,
   "id": "b1f6b010",
   "metadata": {
    "ExecuteTime": {
     "end_time": "2023-05-18T02:42:55.434438Z",
     "start_time": "2023-05-18T02:42:55.430406Z"
    }
   },
   "outputs": [],
   "source": [
    "q3.loc[:,'index1']=list(q3.index)"
   ]
  },
  {
   "cell_type": "code",
   "execution_count": 57,
   "id": "d73c78b2",
   "metadata": {
    "ExecuteTime": {
     "end_time": "2023-05-18T02:43:48.853659Z",
     "start_time": "2023-05-18T02:43:48.850336Z"
    }
   },
   "outputs": [],
   "source": [
    "duration=q3['index1'].diff()\n",
    "duration"
   ]
  },
  {
   "cell_type": "code",
   "execution_count": 139,
   "id": "370c270a",
   "metadata": {
    "ExecuteTime": {
     "end_time": "2023-05-18T04:07:30.526996Z",
     "start_time": "2023-05-18T04:07:30.521045Z"
    }
   },
   "outputs": [
    {
     "data": {
      "text/plain": [
       "48005        48005.0\n",
       "765011      717006.0\n",
       "790578       25567.0\n",
       "900088      109510.0\n",
       "972191       72103.0\n",
       "              ...   \n",
       "97013023    347950.0\n",
       "97197563    184540.0\n",
       "97385036    187473.0\n",
       "97635463    250427.0\n",
       "98052437    416974.0\n",
       "Name: index1, Length: 628, dtype: float64"
      ]
     },
     "execution_count": 139,
     "metadata": {},
     "output_type": "execute_result"
    }
   ],
   "source": [
    "duration[48005]=48005\n",
    "duration"
   ]
  },
  {
   "cell_type": "code",
   "execution_count": 140,
   "id": "08e467ef",
   "metadata": {
    "ExecuteTime": {
     "end_time": "2023-05-18T04:07:34.612067Z",
     "start_time": "2023-05-18T04:07:34.602559Z"
    }
   },
   "outputs": [
    {
     "data": {
      "text/plain": [
       "count      628.000000\n",
       "mean      1561.344538\n",
       "std       2044.682020\n",
       "min          0.140000\n",
       "25%        345.022500\n",
       "50%        862.475000\n",
       "75%       1953.670000\n",
       "max      23536.230000\n",
       "Name: duration, dtype: float64"
      ]
     },
     "execution_count": 140,
     "metadata": {},
     "output_type": "execute_result"
    }
   ],
   "source": [
    "q3['duration']=duration/100\n",
    "q3['duration'].describe()"
   ]
  },
  {
   "cell_type": "code",
   "execution_count": 66,
   "id": "e8ff7985",
   "metadata": {
    "ExecuteTime": {
     "end_time": "2023-05-18T02:53:14.193029Z",
     "start_time": "2023-05-18T02:53:14.179181Z"
    }
   },
   "outputs": [
    {
     "data": {
      "text/plain": [
       "count    6.280000e+02\n",
       "mean     1.407049e+04\n",
       "std      8.015802e+04\n",
       "min      7.480000e+01\n",
       "25%      5.391850e+02\n",
       "50%      1.379870e+03\n",
       "75%      3.769160e+03\n",
       "max      1.730980e+06\n",
       "Name: time_diff, dtype: float64"
      ]
     },
     "execution_count": 66,
     "metadata": {},
     "output_type": "execute_result"
    }
   ],
   "source": [
    "q3['time_diff']=q3['time1'].diff()\n",
    "q3.loc[48005,'time_diff']=480050\n",
    "q3['time_diff']=q3['time_diff'].map(lambda x : x/1000)\n",
    "q3['time_diff'].describe()"
   ]
  },
  {
   "cell_type": "code",
   "execution_count": 141,
   "id": "98ad9dab",
   "metadata": {
    "ExecuteTime": {
     "end_time": "2023-05-18T04:07:42.865076Z",
     "start_time": "2023-05-18T04:07:42.853249Z"
    }
   },
   "outputs": [
    {
     "data": {
      "text/html": [
       "<div>\n",
       "<style scoped>\n",
       "    .dataframe tbody tr th:only-of-type {\n",
       "        vertical-align: middle;\n",
       "    }\n",
       "\n",
       "    .dataframe tbody tr th {\n",
       "        vertical-align: top;\n",
       "    }\n",
       "\n",
       "    .dataframe thead th {\n",
       "        text-align: right;\n",
       "    }\n",
       "</style>\n",
       "<table border=\"1\" class=\"dataframe\">\n",
       "  <thead>\n",
       "    <tr style=\"text-align: right;\">\n",
       "      <th></th>\n",
       "      <th>duration</th>\n",
       "      <th>time_diff</th>\n",
       "    </tr>\n",
       "  </thead>\n",
       "  <tbody>\n",
       "    <tr>\n",
       "      <th>48005</th>\n",
       "      <td>480.05</td>\n",
       "      <td>480.05</td>\n",
       "    </tr>\n",
       "    <tr>\n",
       "      <th>765011</th>\n",
       "      <td>7170.06</td>\n",
       "      <td>8084.95</td>\n",
       "    </tr>\n",
       "    <tr>\n",
       "      <th>790578</th>\n",
       "      <td>255.67</td>\n",
       "      <td>555.04</td>\n",
       "    </tr>\n",
       "    <tr>\n",
       "      <th>900088</th>\n",
       "      <td>1095.10</td>\n",
       "      <td>1515.02</td>\n",
       "    </tr>\n",
       "    <tr>\n",
       "      <th>972191</th>\n",
       "      <td>721.03</td>\n",
       "      <td>1319.60</td>\n",
       "    </tr>\n",
       "    <tr>\n",
       "      <th>...</th>\n",
       "      <td>...</td>\n",
       "      <td>...</td>\n",
       "    </tr>\n",
       "    <tr>\n",
       "      <th>97013023</th>\n",
       "      <td>3479.50</td>\n",
       "      <td>7395.52</td>\n",
       "    </tr>\n",
       "    <tr>\n",
       "      <th>97197563</th>\n",
       "      <td>1845.40</td>\n",
       "      <td>2894.62</td>\n",
       "    </tr>\n",
       "    <tr>\n",
       "      <th>97385036</th>\n",
       "      <td>1874.73</td>\n",
       "      <td>1980.12</td>\n",
       "    </tr>\n",
       "    <tr>\n",
       "      <th>97635463</th>\n",
       "      <td>2504.27</td>\n",
       "      <td>3329.91</td>\n",
       "    </tr>\n",
       "    <tr>\n",
       "      <th>98052437</th>\n",
       "      <td>4169.74</td>\n",
       "      <td>6465.47</td>\n",
       "    </tr>\n",
       "  </tbody>\n",
       "</table>\n",
       "<p>628 rows × 2 columns</p>\n",
       "</div>"
      ],
      "text/plain": [
       "          duration  time_diff\n",
       "48005       480.05     480.05\n",
       "765011     7170.06    8084.95\n",
       "790578      255.67     555.04\n",
       "900088     1095.10    1515.02\n",
       "972191      721.03    1319.60\n",
       "...            ...        ...\n",
       "97013023   3479.50    7395.52\n",
       "97197563   1845.40    2894.62\n",
       "97385036   1874.73    1980.12\n",
       "97635463   2504.27    3329.91\n",
       "98052437   4169.74    6465.47\n",
       "\n",
       "[628 rows x 2 columns]"
      ]
     },
     "execution_count": 141,
     "metadata": {},
     "output_type": "execute_result"
    }
   ],
   "source": [
    "q3[['duration','time_diff']]"
   ]
  },
  {
   "cell_type": "code",
   "execution_count": 142,
   "id": "02280087",
   "metadata": {
    "ExecuteTime": {
     "end_time": "2023-05-18T04:08:03.950921Z",
     "start_time": "2023-05-18T04:08:03.637504Z"
    }
   },
   "outputs": [
    {
     "data": {
      "image/png": "[encoded data removed]",
      "text/plain": [
       "<Figure size 432x288 with 1 Axes>"
      ]
     },
     "metadata": {},
     "output_type": "display_data"
    },
    {
     "name": "stdout",
     "output_type": "stream",
     "text": [
      "means of duration: 1561.345 s\n"
     ]
    }
   ],
   "source": [
    "sns.set_theme()\n",
    "sns.histplot(data=q3['duration'], bins=50,kde=True,color='red') \n",
    "plt.title(\"Distribution of duration based on index difference\")\n",
    "plt.xlabel(\"duration/s\")\n",
    "plt.show()\n",
    "print('means of duration: {:.3f} s'.format(q3['duration'].mean()))"
   ]
  },
  {
   "cell_type": "code",
   "execution_count": 135,
   "id": "ce64ffbf",
   "metadata": {
    "ExecuteTime": {
     "end_time": "2023-05-18T03:44:35.242597Z",
     "start_time": "2023-05-18T03:44:34.860545Z"
    }
   },
   "outputs": [
    {
     "data": {
      "image/png": "[encoded data removed]",
      "text/plain": [
       "<Figure size 432x288 with 1 Axes>"
      ]
     },
     "metadata": {},
     "output_type": "display_data"
    },
    {
     "name": "stdout",
     "output_type": "stream",
     "text": [
      "means of duration: 14070.493 s\n"
     ]
    }
   ],
   "source": [
    "sns.set_theme()\n",
    "sns.histplot(data=q3['time_diff'], bins=50,kde=True,color='red') \n",
    "plt.title(\"Distribution of duration based on timestamp difference\")\n",
    "plt.xlabel(\"duration/s\")\n",
    "plt.show()\n",
    "print('means of duration: {:.3f} s'.format(q3['time_diff'].mean()))"
   ]
  },
  {
   "cell_type": "code",
   "execution_count": 153,
   "id": "c6be3788",
   "metadata": {
    "ExecuteTime": {
     "end_time": "2023-05-18T06:29:57.249233Z",
     "start_time": "2023-05-18T06:29:57.016904Z"
    }
   },
   "outputs": [
    {
     "data": {
      "image/png": "[encoded data removed]",
      "text/plain": [
       "<Figure size 432x288 with 1 Axes>"
      ]
     },
     "metadata": {},
     "output_type": "display_data"
    }
   ],
   "source": [
    "sns.set_theme()\n",
    "sns.histplot(data=q3.loc[q3['duration']<100,'duration'], bins=5,color='red') \n",
    "plt.title(\"Distribution of duration(<100 s) based on index difference\")\n",
    "plt.xlabel(\"duration/s\")\n",
    "plt.show()"
   ]
  },
  {
   "cell_type": "code",
   "execution_count": 148,
   "id": "327853d1",
   "metadata": {
    "ExecuteTime": {
     "end_time": "2023-05-18T05:57:33.258161Z",
     "start_time": "2023-05-18T05:57:32.919542Z"
    }
   },
   "outputs": [
    {
     "data": {
      "image/png": "[encoded data removed]",
      "text/plain": [
       "<Figure size 432x288 with 1 Axes>"
      ]
     },
     "metadata": {},
     "output_type": "display_data"
    }
   ],
   "source": [
    "sns.set_theme()\n",
    "sns.histplot(data=q3.loc[q3['duration']<1200,'duration'], bins=60,color='red') \n",
    "plt.title(\"Distribution of duration(<20 mins) based on index difference\")\n",
    "plt.xlabel(\"duration/s\")\n",
    "plt.show()"
   ]
  },
  {
   "cell_type": "code",
   "execution_count": 152,
   "id": "d9a172a0",
   "metadata": {
    "ExecuteTime": {
     "end_time": "2023-05-18T06:19:57.332005Z",
     "start_time": "2023-05-18T06:19:56.251961Z"
    }
   },
   "outputs": [
    {
     "data": {
      "image/png": "[encoded data removed]",
      "text/plain": [
       "<Figure size 1152x864 with 1 Axes>"
      ]
     },
     "metadata": {},
     "output_type": "display_data"
    }
   ],
   "source": [
    "sns.set_theme()\n",
    "plt.figure(figsize=(16, 12))\n",
    "sns.histplot(data=q3.loc[q3['duration']<1200],\n",
    "             x='duration',\n",
    "             hue='label',\n",
    "             multiple=\"stack\",\n",
    "             bins=30,\n",
    "             kde=True,\n",
    "             palette='Dark2')\n",
    "plt.title(\"Distribution of duration(<20 mins) based on index difference\")\n",
    "plt.xlabel(\"duration/s\")\n",
    "plt.show()"
   ]
  },
  {
   "cell_type": "code",
   "execution_count": null,
   "id": "8394e0c7",
   "metadata": {},
   "outputs": [],
   "source": [
    "sns.set_theme()\n",
    "plt.figure(figsize=(16, 12))\n",
    "sns.histplot(q3,\n",
    "             x='duration',\n",
    "             hue='label',\n",
    "             multiple=\"stack\",\n",
    "             bins=50,\n",
    "             kde=True,\n",
    "             palette='Dark2')\n",
    "plt.title(\"Distribution of duration based on index difference\")\n",
    "plt.xlabel(\"duration/s\")\n",
    "plt.show()"
   ]
  },
  {
   "attachments": {},
   "cell_type": "markdown",
   "id": "e08dfb2a",
   "metadata": {},
   "source": [
    "Label: Still=1, Walking=2, Run=3, Bike=4, Car=5, Bus=6, Train=7, Subway=8"
   ]
  }
 ],
 "metadata": {
  "kernelspec": {
   "display_name": "Python 3",
   "language": "python",
   "name": "python3"
  },
  "language_info": {
   "codemirror_mode": {
    "name": "ipython",
    "version": 3
   },
   "file_extension": ".py",
   "mimetype": "text/x-python",
   "name": "python",
   "nbconvert_exporter": "python",
   "pygments_lexer": "ipython3",
   "version": "3.7.12"
  },
  "toc": {
   "base_numbering": 1,
   "nav_menu": {},
   "number_sections": true,
   "sideBar": true,
   "skip_h1_title": false,
   "title_cell": "Table of Contents",
   "title_sidebar": "Contents",
   "toc_cell": false,
   "toc_position": {},
   "toc_section_display": true,
   "toc_window_display": false
  }
 },
 "nbformat": 4,
 "nbformat_minor": 5
}
