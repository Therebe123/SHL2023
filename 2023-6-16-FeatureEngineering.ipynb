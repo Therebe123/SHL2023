{
 "cells": [
  {
   "cell_type": "code",
   "execution_count": 1,
   "metadata": {},
   "outputs": [],
   "source": [
    "import pandas as pd\n",
    "import numpy as np \n",
    "from utils import Feature_Toolsbox as ft\n",
    "%load_ext autoreload\n",
    "%autoreload 2"
   ]
  },
  {
   "cell_type": "code",
   "execution_count": 2,
   "metadata": {},
   "outputs": [],
   "source": [
    "#四个手机位置\n",
    "pos = ['bag','hand','hips','torso']\n",
    "#三个传感器\n",
    "sensor= ['acc','gyr','mag']"
   ]
  },
  {
   "attachments": {},
   "cell_type": "markdown",
   "metadata": {},
   "source": [
    "# 1 训练集"
   ]
  },
  {
   "attachments": {},
   "cell_type": "markdown",
   "metadata": {},
   "source": [
    "## 1.1 传感器数据的特征工程"
   ]
  },
  {
   "cell_type": "code",
   "execution_count": 3,
   "metadata": {},
   "outputs": [],
   "source": [
    "def FeatureEngineering_sensor(data='train',window_size=60):\n",
    "    for name_pos in pos:\n",
    "        for name_sensor in sensor:\n",
    "            name = name_pos + '_' + name_sensor\n",
    "            #读取数据\n",
    "            df=pd.read_pickle('/home/ossdata/dengjiebi/data_tiny/'+data+'/'+ name +'.pkl')\n",
    "            print('数据 {} 读取完毕！\\n'.format(name +'.pkl'))\n",
    "        \n",
    "            #将时间格式转成UNIX时间，并设置为索引\n",
    "            df['time']=pd.to_datetime(df['time'], unit=\"ms\")\n",
    "            df.set_index(keys='time',inplace=True)\n",
    "        \n",
    "            #计算L2范数\n",
    "            df['L2']=np.sqrt(df.iloc[:,0]*df.iloc[:,0]+df.iloc[:,1]*df.iloc[:,1]+df.iloc[:,2]*df.iloc[:,2])\n",
    "        \n",
    "            #重命名列\n",
    "            df.rename(columns=lambda x: name+'_'+x, inplace=True)\n",
    "            \n",
    "            #进行特征工程\n",
    "            cols=df.columns.values\n",
    "            df=ft.Mean_dataset(df,cols,60)\n",
    "            df=ft.Var_dataset(df,cols,60)\n",
    "            df=ft.Max_dataset(df,cols,60)\n",
    "            df=ft.Min_dataset(df,cols,60)\n",
    "            df=ft.Quantile_dataset(df,cols,60,0.25)\n",
    "            df=ft.Quantile_dataset(df,cols,60,0.50)\n",
    "            df=ft.Quantile_dataset(df,cols,60,0.75)\n",
    "\n",
    "            df.reset_index(inplace=True)#重设索引\n",
    "            df.drop(labels=['time'],axis=1,inplace=True)\n",
    "            print('数据已进行特征工程，数据集的特征数为:{}\\n'.format(len(df.columns.values)))\n",
    "            df.to_pickle('/home/ossdata/dengjiebi/data_full/'+data+'/'+name+'.pkl')\n",
    "            print('处理后数据已经保存！\\n')"
   ]
  },
  {
   "cell_type": "code",
   "execution_count": 4,
   "metadata": {},
   "outputs": [
    {
     "name": "stdout",
     "output_type": "stream",
     "text": [
      "数据 bag_acc.pkl 读取完毕！\n",
      "\n",
      "数据已进行特征工程，数据集的特征数为:32\n",
      "\n",
      "处理后数据已经保存！\n",
      "\n",
      "数据 bag_gyr.pkl 读取完毕！\n",
      "\n",
      "数据已进行特征工程，数据集的特征数为:32\n",
      "\n",
      "处理后数据已经保存！\n",
      "\n",
      "数据 bag_mag.pkl 读取完毕！\n",
      "\n",
      "数据已进行特征工程，数据集的特征数为:32\n",
      "\n",
      "处理后数据已经保存！\n",
      "\n",
      "数据 hand_acc.pkl 读取完毕！\n",
      "\n",
      "数据已进行特征工程，数据集的特征数为:32\n",
      "\n",
      "处理后数据已经保存！\n",
      "\n",
      "数据 hand_gyr.pkl 读取完毕！\n",
      "\n",
      "数据已进行特征工程，数据集的特征数为:32\n",
      "\n",
      "处理后数据已经保存！\n",
      "\n",
      "数据 hand_mag.pkl 读取完毕！\n",
      "\n",
      "数据已进行特征工程，数据集的特征数为:32\n",
      "\n",
      "处理后数据已经保存！\n",
      "\n",
      "数据 hips_acc.pkl 读取完毕！\n",
      "\n",
      "数据已进行特征工程，数据集的特征数为:32\n",
      "\n",
      "处理后数据已经保存！\n",
      "\n",
      "数据 hips_gyr.pkl 读取完毕！\n",
      "\n",
      "数据已进行特征工程，数据集的特征数为:32\n",
      "\n",
      "处理后数据已经保存！\n",
      "\n",
      "数据 hips_mag.pkl 读取完毕！\n",
      "\n",
      "数据已进行特征工程，数据集的特征数为:32\n",
      "\n",
      "处理后数据已经保存！\n",
      "\n",
      "数据 torso_acc.pkl 读取完毕！\n",
      "\n",
      "数据已进行特征工程，数据集的特征数为:32\n",
      "\n",
      "处理后数据已经保存！\n",
      "\n",
      "数据 torso_gyr.pkl 读取完毕！\n",
      "\n",
      "数据已进行特征工程，数据集的特征数为:32\n",
      "\n",
      "处理后数据已经保存！\n",
      "\n",
      "数据 torso_mag.pkl 读取完毕！\n",
      "\n",
      "数据已进行特征工程，数据集的特征数为:32\n",
      "\n",
      "处理后数据已经保存！\n",
      "\n"
     ]
    }
   ],
   "source": [
    "FeatureEngineering_sensor(data='train',window_size='60s')"
   ]
  },
  {
   "attachments": {},
   "cell_type": "markdown",
   "metadata": {},
   "source": [
    "## 1.2 GPS数据的特征工程"
   ]
  },
  {
   "cell_type": "code",
   "execution_count": 4,
   "metadata": {},
   "outputs": [],
   "source": [
    "def FeatureEngineering_GPS(data='train',window_size=60):\n",
    "    for name_pos in pos:\n",
    "        #读取数据\n",
    "        df=pd.read_pickle('/home/ossdata/dengjiebi/data_tiny/'+data+'/'+ name_pos +'_gps_and_loc.pkl')\n",
    "        print('数据 {} 读取完毕！\\n'.format(name_pos +'_gps_and_loc.pkl'))\n",
    "\n",
    "        #将时间格式转成UNIX时间，并设置为索引\n",
    "        df['time']=pd.to_datetime(df['time'], unit=\"ms\")\n",
    "        df.set_index(keys='time',inplace=True)\n",
    "        df.drop(labels=['latitude', 'longitude', 'altitude'],axis=1,inplace=True)#删除不需要的列\n",
    "\n",
    "        #重命名列\n",
    "        df.rename(columns=lambda x: name_pos+'_'+x, inplace=True)\n",
    "\n",
    "        #进行特征工程\n",
    "        cols = [\n",
    "            name_pos + '_' + 'number', name_pos + '_' + 'snr_mean',\n",
    "            name_pos + '_' + 'snr_std', name_pos + '_' + 'snr_max',\n",
    "            name_pos + '_' + 'snr_min', name_pos + '_' + 'accuracy'\n",
    "        ]\n",
    "        df=ft.Mean_dataset(df,cols,60)\n",
    "        df=ft.Var_dataset(df,cols,60)\n",
    "        df=ft.Max_dataset(df,cols,60)\n",
    "        df=ft.Min_dataset(df,cols,60)\n",
    "        df=ft.Quantile_dataset(df,cols,60,0.25)\n",
    "        df=ft.Quantile_dataset(df,cols,60,0.50)\n",
    "        df=ft.Quantile_dataset(df,cols,60,0.75)\n",
    "\n",
    "        df.reset_index(inplace=True)#重设索引\n",
    "        df.drop(labels=['time'],axis=1,inplace=True)\n",
    "        print('数据已进行特征工程，数据集的特征数为:{}\\n'.format(len(df.columns.values)))\n",
    "        df.to_pickle('/home/ossdata/dengjiebi/data_full/'+data+'/'+name_pos+'_gps_and_loc.pkl')\n",
    "        print('处理后数据已经保存！\\n')"
   ]
  },
  {
   "cell_type": "code",
   "execution_count": 5,
   "metadata": {},
   "outputs": [
    {
     "name": "stdout",
     "output_type": "stream",
     "text": [
      "数据 bag_gps_and_loc.pkl 读取完毕！\n",
      "\n",
      "数据已进行特征工程，数据集的特征数为:49\n",
      "\n",
      "处理后数据已经保存！\n",
      "\n",
      "数据 hand_gps_and_loc.pkl 读取完毕！\n",
      "\n",
      "数据已进行特征工程，数据集的特征数为:49\n",
      "\n",
      "处理后数据已经保存！\n",
      "\n",
      "数据 hips_gps_and_loc.pkl 读取完毕！\n",
      "\n",
      "数据已进行特征工程，数据集的特征数为:49\n",
      "\n",
      "处理后数据已经保存！\n",
      "\n",
      "数据 torso_gps_and_loc.pkl 读取完毕！\n",
      "\n",
      "数据已进行特征工程，数据集的特征数为:49\n",
      "\n",
      "处理后数据已经保存！\n",
      "\n"
     ]
    }
   ],
   "source": [
    "FeatureEngineering_GPS(data='train',window_size='60s')"
   ]
  },
  {
   "attachments": {},
   "cell_type": "markdown",
   "metadata": {},
   "source": [
    "## 1.3 速度数据的特征工程"
   ]
  },
  {
   "cell_type": "code",
   "execution_count": 9,
   "metadata": {},
   "outputs": [],
   "source": [
    "def FeatureEngineering_speed(data='train',window_size=60):\n",
    "    for name_pos in pos:\n",
    "        #读取数据\n",
    "        df=pd.read_csv('/home/ossdata/dengjiebi/data_tiny/'+data+'/'+ name_pos +'_speed.csv')\n",
    "        print('数据 {} 读取完毕！\\n'.format(name_pos +'_gps_and_loc.pkl'))\n",
    "\n",
    "        #将时间格式转成UNIX时间，并设置为索引\n",
    "        df['time']=pd.to_datetime(df['time'], unit=\"ms\")\n",
    "        df.set_index(keys='time',inplace=True)\n",
    "\n",
    "        #重命名列\n",
    "        df.rename(columns=lambda x: name_pos+'_'+x[:-8], inplace=True)\n",
    "\n",
    "        #进行特征工程\n",
    "        cols=df.columns.values\n",
    "        df=ft.Mean_dataset(df,cols,60)\n",
    "        df=ft.Var_dataset(df,cols,60)\n",
    "        df=ft.Max_dataset(df,cols,60)\n",
    "        df=ft.Min_dataset(df,cols,60)\n",
    "        df=ft.Quantile_dataset(df,cols,60,0.25)\n",
    "        df=ft.Quantile_dataset(df,cols,60,0.50)\n",
    "        df=ft.Quantile_dataset(df,cols,60,0.75)\n",
    "\n",
    "        df.reset_index(inplace=True)#重设索引\n",
    "        df.drop(labels=['time'],axis=1,inplace=True)\n",
    "        print('数据已进行特征工程，数据集的特征数为:{}\\n'.format(len(df.columns.values)))\n",
    "        df.to_pickle('/home/ossdata/dengjiebi/data_full/'+data+'/'+name_pos+'_speed.pkl')\n",
    "        print('处理后数据已经保存！\\n')"
   ]
  },
  {
   "cell_type": "code",
   "execution_count": 8,
   "metadata": {},
   "outputs": [
    {
     "name": "stdout",
     "output_type": "stream",
     "text": [
      "数据 bag_gps_and_loc.pkl 读取完毕！\n",
      "\n",
      "数据已进行特征工程，数据集的特征数为:16\n",
      "\n",
      "处理后数据已经保存！\n",
      "\n",
      "数据 hand_gps_and_loc.pkl 读取完毕！\n",
      "\n",
      "数据已进行特征工程，数据集的特征数为:16\n",
      "\n",
      "处理后数据已经保存！\n",
      "\n",
      "数据 hips_gps_and_loc.pkl 读取完毕！\n",
      "\n",
      "数据已进行特征工程，数据集的特征数为:16\n",
      "\n",
      "处理后数据已经保存！\n",
      "\n",
      "数据 torso_gps_and_loc.pkl 读取完毕！\n",
      "\n",
      "数据已进行特征工程，数据集的特征数为:16\n",
      "\n",
      "处理后数据已经保存！\n",
      "\n"
     ]
    }
   ],
   "source": [
    "FeatureEngineering_speed(data='train',window_size='60s')"
   ]
  },
  {
   "attachments": {},
   "cell_type": "markdown",
   "metadata": {},
   "source": [
    "# 2 验证集\n",
    "## 2.1 传感器数据的特征工程"
   ]
  },
  {
   "cell_type": "code",
   "execution_count": 9,
   "metadata": {},
   "outputs": [
    {
     "name": "stdout",
     "output_type": "stream",
     "text": [
      "数据 bag_acc.pkl 读取完毕！\n",
      "\n",
      "数据已进行特征工程，数据集的特征数为:32\n",
      "\n",
      "处理后数据已经保存！\n",
      "\n",
      "数据 bag_gyr.pkl 读取完毕！\n",
      "\n",
      "数据已进行特征工程，数据集的特征数为:32\n",
      "\n",
      "处理后数据已经保存！\n",
      "\n",
      "数据 bag_mag.pkl 读取完毕！\n",
      "\n",
      "数据已进行特征工程，数据集的特征数为:32\n",
      "\n",
      "处理后数据已经保存！\n",
      "\n",
      "数据 hand_acc.pkl 读取完毕！\n",
      "\n",
      "数据已进行特征工程，数据集的特征数为:32\n",
      "\n",
      "处理后数据已经保存！\n",
      "\n",
      "数据 hand_gyr.pkl 读取完毕！\n",
      "\n",
      "数据已进行特征工程，数据集的特征数为:32\n",
      "\n",
      "处理后数据已经保存！\n",
      "\n",
      "数据 hand_mag.pkl 读取完毕！\n",
      "\n",
      "数据已进行特征工程，数据集的特征数为:32\n",
      "\n",
      "处理后数据已经保存！\n",
      "\n",
      "数据 hips_acc.pkl 读取完毕！\n",
      "\n",
      "数据已进行特征工程，数据集的特征数为:32\n",
      "\n",
      "处理后数据已经保存！\n",
      "\n",
      "数据 hips_gyr.pkl 读取完毕！\n",
      "\n",
      "数据已进行特征工程，数据集的特征数为:32\n",
      "\n",
      "处理后数据已经保存！\n",
      "\n",
      "数据 hips_mag.pkl 读取完毕！\n",
      "\n",
      "数据已进行特征工程，数据集的特征数为:32\n",
      "\n",
      "处理后数据已经保存！\n",
      "\n",
      "数据 torso_acc.pkl 读取完毕！\n",
      "\n",
      "数据已进行特征工程，数据集的特征数为:32\n",
      "\n",
      "处理后数据已经保存！\n",
      "\n",
      "数据 torso_gyr.pkl 读取完毕！\n",
      "\n",
      "数据已进行特征工程，数据集的特征数为:32\n",
      "\n",
      "处理后数据已经保存！\n",
      "\n",
      "数据 torso_mag.pkl 读取完毕！\n",
      "\n",
      "数据已进行特征工程，数据集的特征数为:32\n",
      "\n",
      "处理后数据已经保存！\n",
      "\n"
     ]
    }
   ],
   "source": [
    "FeatureEngineering_sensor(data='validate',window_size='60s')"
   ]
  },
  {
   "attachments": {},
   "cell_type": "markdown",
   "metadata": {},
   "source": [
    "## 2.2 GPS数据的特征工程"
   ]
  },
  {
   "cell_type": "code",
   "execution_count": 10,
   "metadata": {},
   "outputs": [
    {
     "name": "stdout",
     "output_type": "stream",
     "text": [
      "数据 bag_gps_and_loc.pkl 读取完毕！\n",
      "\n",
      "数据已进行特征工程，数据集的特征数为:49\n",
      "\n",
      "处理后数据已经保存！\n",
      "\n",
      "数据 hand_gps_and_loc.pkl 读取完毕！\n",
      "\n",
      "数据已进行特征工程，数据集的特征数为:49\n",
      "\n",
      "处理后数据已经保存！\n",
      "\n",
      "数据 hips_gps_and_loc.pkl 读取完毕！\n",
      "\n",
      "数据已进行特征工程，数据集的特征数为:49\n",
      "\n",
      "处理后数据已经保存！\n",
      "\n",
      "数据 torso_gps_and_loc.pkl 读取完毕！\n",
      "\n",
      "数据已进行特征工程，数据集的特征数为:49\n",
      "\n",
      "处理后数据已经保存！\n",
      "\n"
     ]
    }
   ],
   "source": [
    "FeatureEngineering_GPS(data='validate',window_size='60s')"
   ]
  },
  {
   "attachments": {},
   "cell_type": "markdown",
   "metadata": {},
   "source": [
    "## 2.3 速度数据的特征工程"
   ]
  },
  {
   "cell_type": "code",
   "execution_count": 11,
   "metadata": {},
   "outputs": [
    {
     "name": "stdout",
     "output_type": "stream",
     "text": [
      "数据 bag_gps_and_loc.pkl 读取完毕！\n",
      "\n",
      "数据已进行特征工程，数据集的特征数为:16\n",
      "\n",
      "处理后数据已经保存！\n",
      "\n",
      "数据 hand_gps_and_loc.pkl 读取完毕！\n",
      "\n",
      "数据已进行特征工程，数据集的特征数为:16\n",
      "\n",
      "处理后数据已经保存！\n",
      "\n",
      "数据 hips_gps_and_loc.pkl 读取完毕！\n",
      "\n",
      "数据已进行特征工程，数据集的特征数为:16\n",
      "\n",
      "处理后数据已经保存！\n",
      "\n",
      "数据 torso_gps_and_loc.pkl 读取完毕！\n",
      "\n",
      "数据已进行特征工程，数据集的特征数为:16\n",
      "\n",
      "处理后数据已经保存！\n",
      "\n"
     ]
    }
   ],
   "source": [
    "FeatureEngineering_speed(data='validate',window_size='60s')"
   ]
  },
  {
   "attachments": {},
   "cell_type": "markdown",
   "metadata": {},
   "source": [
    "# 3 测试集"
   ]
  },
  {
   "cell_type": "code",
   "execution_count": 7,
   "metadata": {},
   "outputs": [],
   "source": [
    "#测试集只有一个位置\n",
    "pos = ['test']\n",
    "#三个传感器\n",
    "sensor= ['acc','gyr','mag']"
   ]
  },
  {
   "attachments": {},
   "cell_type": "markdown",
   "metadata": {},
   "source": [
    "## 3.1 传感器数据的特征工程"
   ]
  },
  {
   "cell_type": "code",
   "execution_count": 12,
   "metadata": {},
   "outputs": [
    {
     "name": "stdout",
     "output_type": "stream",
     "text": [
      "数据 test_acc.pkl 读取完毕！\n",
      "\n",
      "数据已进行特征工程，数据集的特征数为:32\n",
      "\n",
      "处理后数据已经保存！\n",
      "\n",
      "数据 test_gyr.pkl 读取完毕！\n",
      "\n",
      "数据已进行特征工程，数据集的特征数为:32\n",
      "\n",
      "处理后数据已经保存！\n",
      "\n",
      "数据 test_mag.pkl 读取完毕！\n",
      "\n",
      "数据已进行特征工程，数据集的特征数为:32\n",
      "\n",
      "处理后数据已经保存！\n",
      "\n"
     ]
    }
   ],
   "source": [
    "FeatureEngineering_sensor(data='test',window_size='60s')"
   ]
  },
  {
   "attachments": {},
   "cell_type": "markdown",
   "metadata": {},
   "source": [
    "## 3.2 GPS数据的特征工程"
   ]
  },
  {
   "cell_type": "code",
   "execution_count": 13,
   "metadata": {},
   "outputs": [
    {
     "name": "stdout",
     "output_type": "stream",
     "text": [
      "数据 test_gps_and_loc.pkl 读取完毕！\n",
      "\n",
      "数据已进行特征工程，数据集的特征数为:49\n",
      "\n",
      "处理后数据已经保存！\n",
      "\n"
     ]
    }
   ],
   "source": [
    "FeatureEngineering_GPS(data='test',window_size='60s')"
   ]
  },
  {
   "attachments": {},
   "cell_type": "markdown",
   "metadata": {},
   "source": [
    "## 3.3 速度数据的特征工程"
   ]
  },
  {
   "cell_type": "code",
   "execution_count": 14,
   "metadata": {},
   "outputs": [
    {
     "name": "stdout",
     "output_type": "stream",
     "text": [
      "数据 test_gps_and_loc.pkl 读取完毕！\n",
      "\n",
      "数据已进行特征工程，数据集的特征数为:16\n",
      "\n",
      "处理后数据已经保存！\n",
      "\n"
     ]
    }
   ],
   "source": [
    "FeatureEngineering_speed(data='test',window_size='60s')"
   ]
  }
 ],
 "metadata": {
  "kernelspec": {
   "display_name": "Python 3",
   "language": "python",
   "name": "python3"
  },
  "language_info": {
   "codemirror_mode": {
    "name": "ipython",
    "version": 3
   },
   "file_extension": ".py",
   "mimetype": "text/x-python",
   "name": "python",
   "nbconvert_exporter": "python",
   "pygments_lexer": "ipython3",
   "version": "3.11.3"
  },
  "toc": {
   "base_numbering": 1,
   "nav_menu": {},
   "number_sections": true,
   "sideBar": true,
   "skip_h1_title": false,
   "title_cell": "Table of Contents",
   "title_sidebar": "Contents",
   "toc_cell": false,
   "toc_position": {},
   "toc_section_display": true,
   "toc_window_display": false
  }
 },
 "nbformat": 4,
 "nbformat_minor": 2
}
